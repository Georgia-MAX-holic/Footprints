{
  "nbformat": 4,
  "nbformat_minor": 0,
  "metadata": {
    "colab": {
      "provenance": [],
      "authorship_tag": "ABX9TyPVFXxuNbKNnkS+g2D16Pj/",
      "include_colab_link": true
    },
    "kernelspec": {
      "name": "python3",
      "display_name": "Python 3"
    },
    "language_info": {
      "name": "python"
    }
  },
  "cells": [
    {
      "cell_type": "markdown",
      "metadata": {
        "id": "view-in-github",
        "colab_type": "text"
      },
      "source": [
        "<a href=\"https://colab.research.google.com/github/Georgia-MAX-holic/Footprints/blob/main/%EB%8D%B0%EC%9D%B4%ED%84%B0%EB%B2%A0%EC%9D%B4%EC%8A%A4_%EA%B0%9C%EB%A1%A0/%EA%B4%80%EA%B3%84%EB%8D%B0%EC%9D%B4%ED%84%B0_%EC%97%B0%EC%82%B0.ipynb\" target=\"_parent\"><img src=\"https://colab.research.google.com/assets/colab-badge.svg\" alt=\"Open In Colab\"/></a>"
      ]
    },
    {
      "cell_type": "markdown",
      "source": [
        "### 관계 데이터 연산의 개념 \n",
        "- 관계 데이터 연산(Relational data operation)\n",
        "  - 관계 데이터 모델의 연산\n",
        "  - 원하는 데이터를 얻기 위해 릴레이션에 필요한\n",
        "처리 요구를 수행하는 것\n",
        "  - 관계 대수와 관계 해석이 있음 \n",
        "    - 기능과 표현력 측면에서 능력이 동등함\n",
        "\n",
        "---\n",
        "\n",
        "### 관계 대수 \n",
        "- 일반 집합 연산자 (Set Operation)\n",
        "  - 릴레이션이 투플의 집합이라는 개념을 이용하는 연산\n",
        "---\n",
        "- 일반 집합 연산자의 특성\n",
        "  - 피연산자가 2개 필요함\n",
        "    - 2개의 릴레이션을 대상으로 연산을 수행\n",
        "---\n",
        "- 합집합, 교집합, 차집합은 피연산자인\n",
        "두 릴레이션이 합병 가능해야 함\n",
        "   - 합병 가능( Union-comatible) 조건 \n",
        "      - 두 릴레이션의 차수가 같아야 함 \n",
        "      - 두 릴레이션에서 서로 대응되는 속성의 도메인이 같아야 함\n",
        "---         \n",
        "- 반 집합 연산자 – 합집합(union)\n",
        "\n",
        "   - 합병 가능한 두 릴레이션 R과 S의 합집합 : R∪S\n",
        "\n",
        "      - 릴레이션 R에 속하거나 릴레이션 S에 속하는\n",
        "모든 투플로 결과 릴레이션 구성\n",
        "   \n",
        "   - 결과 릴레이션의 특성\n",
        "      - 차수는 릴레이션 R과 S의 차수와 같음\n",
        "      - 카디널리티는 릴레이션 R과 S의 카디널리티를\n",
        "더한 것과 같거나 적어짐\n",
        "---\n",
        "- 일반 집합 연산자 – 합집합(union)\n",
        "   - 교환적 특징이 있음 \n",
        "      - R∪S = S∪R\n",
        "\n",
        "   - 결합적 특징이 있음\n",
        "      - (R∪S)∪T = R∪(S∪T)\n",
        "---\n",
        "- 일반 집합 연산자 – 교집합(intersection) \n",
        "  - 합병 가능한 두 릴레이션 R과 S의 교집합 : R∩S\n",
        "     - 릴레이션 R과 S에 공통으로 속하는 투플로 결과 릴레이션 구성\n",
        "\n",
        "  - 결과 릴레이션의 특성\n",
        "     - 차수는 릴레이션 R과 S의 차수와 같음\n",
        "     - 카디널리티는 릴레이션 R과 S의 어떤 카디널리티보다 크지 않음\n",
        "  - 교환적 특징이 있음\n",
        "     - R∩S = S∩R\n",
        "\n",
        "  - 결합적 특징이 있음\n",
        "     - (R∩S)∩T = R∩(S∩T)\n",
        "---\n",
        "- 일반 집합 연산자 – 차집합(difference)\n",
        "  - 합병 가능한 두 릴레이션 R과 S의 차집합 : R–S\n",
        "     - 릴레이션 R에는 존재하지만 릴레이션 S에는 존재하지 않는\n",
        "튜플로 결과 릴레이션 구튜\n",
        "  - 결과 릴레이션의 특성\n",
        "    - 차수는 릴레이션 R과 S의 차수와 같음 \n",
        "    - R–S의 카디널리티는 릴레이션 R의 카디널리티와 같거나 적음\n",
        "    - S–R의 카디널리티는 릴레이션 S의 카디널리티와 같거나 적음\n",
        "    - 교환적 특징이 있음\n",
        "      - R*S = S*R \n",
        "\n",
        "    - 결합적 특징이 있음 \n",
        "       - (R*S)*T = R*(S*T)\n",
        "\n",
        "\n",
        "\n",
        "\n",
        "\n",
        "\n",
        "\n",
        "\n",
        "\n",
        "\n",
        "\n",
        "      \n"
      ],
      "metadata": {
        "id": "Q30aMMxX8oa1"
      }
    },
    {
      "cell_type": "markdown",
      "source": [
        "---\n",
        "- 순수 관계 연산자(relational operation)\n",
        "  - 릴레이션의 구조와 특성을 이용하는 연산자 \n",
        "---\n",
        "- 순수 관계 연산자 - 셀렉트 ( Select) \n",
        "\n",
        " - 릴레이션에서 조건을 만족하는 튜플만 선택하여\n",
        "결과 릴레이션을 구성\n",
        " - 하나의 릴레이션을 대상으로 연산을 수행\n",
        " - 수학적 표현법 : σ조건식(릴레이션)\n",
        " - 데이터 언어적 표현법 : 릴레이션 where 조건식\n",
        "---\n",
        "- 순수 관계 연산자 – 프로젝트(project)\n",
        "  - 릴레이션에서 선택한 속성의 값으로 결과 릴레이션을 구성\n",
        "  - 하나의 릴레이션을 대상으로 연산을 수행\n",
        "  - 수학적 표현법 : 𝜋속성리스트(릴레이션)\n",
        "  - 데이터 언어적 표현법 : 릴레이션[속성리스트]"
      ],
      "metadata": {
        "id": "OqCgj_6adyns"
      }
    },
    {
      "cell_type": "markdown",
      "source": [
        "---\n",
        "\n",
        "- 세타조인 (Theta join)\n",
        "   - 자연 조인에 비해 더 일반화된 조인\n",
        "   - 주어진 조인 조건을 만족하는 두 릴레이션의 모든 투플을\n",
        "연결하여 생성된 새로운 투플로 결과 릴레이션을 구성\n",
        "\n",
        "   - 𝜽는 비교 연산자(>, ≥, <, ≤, =, ≠)를 의미\n",
        "\n",
        "   - 결과 릴레이션의 차수는 두 릴레이션의 차수를 더한 것과 같음\n",
        "\n",
        "   -  표현법 : 릴레이션1 ⋈A𝜽𝜽B 릴레이션2\n",
        "---\n",
        "- 동일 조인(equi-join)\n",
        "  - 𝜽 연산자가 “=”인 세타 조인을 의미"
      ],
      "metadata": {
        "id": "yBvoBM8Zzt14"
      }
    },
    {
      "cell_type": "markdown",
      "source": [
        "---\n",
        "- 순수 관계 연산자 – 디비전(division)\n",
        "  - 표현법 : 릴레이션1 ÷ 릴레이션2\n",
        "  - 릴레이션2의 모든 튜플과 관련이 있는\n",
        "/ 릴레이션1의 튜플로 결과 릴레이션을 구성\n",
        "    - 단, 릴레이션1이 릴레이션2의 모든 속성을 포함하고 있어야\n",
        "연산이 가능함"
      ],
      "metadata": {
        "id": "jm1Dx_QD1G__"
      }
    },
    {
      "cell_type": "markdown",
      "source": [
        "---\n",
        "- 확장된 관계 대수 연산자 -  세미 조인(Semi-join) \n",
        "  - 조인 속성으로 프로젝트 연산을 수행한 릴레이션을\n",
        "이용하는 조인\n",
        "  - 표현법 : 릴레이션1 ⋉ 릴레이션2\n",
        "\n",
        "  - 릴레이션2를 조인 속성으로 프로젝트 연산한 후,\n",
        "  - 릴레이션1에 자연 조인하여 결과 릴레이션을 구성\n",
        "\n"
      ],
      "metadata": {
        "id": "ZRgFmexD2jg7"
      }
    },
    {
      "cell_type": "markdown",
      "source": [
        "---\n",
        "- 확장된 관계 대수 연산자 – 외부 조인(outer-join)\n",
        "   - 자연 조인 연산에서 제외되는 투플도 결과 릴레이션에\n",
        "포함시키는 조인\n",
        "     - 두 릴레이션에 있는 모든 투플을 결과 릴레이션에 포함시킴\n",
        "   - 표현법 : 릴레이션1 ⋈+ 릴레이션2\n",
        "---\n",
        "- 관계 해석(relational calculus)\n",
        "  - 처리를 원하는 데이터가 무엇인지만 기술하는 언어\n",
        "     - 비절차 언어(nonprocedural language)\n",
        "  - 수학의 프레디킷 해석(predicate calculus)에 기반을 두고 있음\n",
        "  - 분류\n",
        "    - 튜플 관계 해석(tuple relational calculus)\n",
        "    - 도메인 관계 해석(domain relational calculus)\n",
        "   "
      ],
      "metadata": {
        "id": "6oHXLzXt3q5i"
      }
    },
    {
      "cell_type": "code",
      "execution_count": null,
      "metadata": {
        "id": "VCyvy_NR8bSw"
      },
      "outputs": [],
      "source": [
        " "
      ]
    },
    {
      "cell_type": "code",
      "source": [],
      "metadata": {
        "id": "1fzAY9Kp2Jv8"
      },
      "execution_count": null,
      "outputs": []
    },
    {
      "cell_type": "code",
      "source": [],
      "metadata": {
        "id": "JXrEHBYo1Ee3"
      },
      "execution_count": null,
      "outputs": []
    }
  ]
}