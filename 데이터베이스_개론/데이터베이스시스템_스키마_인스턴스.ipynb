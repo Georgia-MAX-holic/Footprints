{
  "nbformat": 4,
  "nbformat_minor": 0,
  "metadata": {
    "colab": {
      "provenance": [],
      "authorship_tag": "ABX9TyPN5cnIWGlVfgiDSOi+0ig+",
      "include_colab_link": true
    },
    "kernelspec": {
      "name": "python3",
      "display_name": "Python 3"
    },
    "language_info": {
      "name": "python"
    }
  },
  "cells": [
    {
      "cell_type": "markdown",
      "metadata": {
        "id": "view-in-github",
        "colab_type": "text"
      },
      "source": [
        "<a href=\"https://colab.research.google.com/github/Georgia-MAX-holic/footprints/blob/main/%EB%8D%B0%EC%9D%B4%ED%84%B0%EB%B2%A0%EC%9D%B4%EC%8A%A4_%EA%B0%9C%EB%A1%A0/%EB%8D%B0%EC%9D%B4%ED%84%B0%EB%B2%A0%EC%9D%B4%EC%8A%A4%EC%8B%9C%EC%8A%A4%ED%85%9C_%EC%8A%A4%ED%82%A4%EB%A7%88_%EC%9D%B8%EC%8A%A4%ED%84%B4%EC%8A%A4.ipynb\" target=\"_parent\"><img src=\"https://colab.research.google.com/assets/colab-badge.svg\" alt=\"Open In Colab\"/></a>"
      ]
    },
    {
      "cell_type": "markdown",
      "source": [
        "### 데이터베이스 시스템의 정의 \n",
        "\n",
        "- 데이터베이스 시스템( DBS; DataBase System)\n",
        "   - 데이터베이스 데이터를 저장하고 이를 관리하고 조직에 필요한 정보를 생성해주는 시스템 \n",
        "\n",
        "---\n",
        "\n",
        "### 스키마와 인스턴스 \n",
        "\n",
        "   - 스키마(Schema)\n",
        "      - 데이터베이스에 저장되는 데이터 구조와 제약조건을 정의한 것 \n",
        "\n",
        "   - 인스턴스(Instance)\n",
        "      -스키마에 따라 데이터베이스에 실제로 저장된 값 \n",
        "\n",
        "\n",
        "---\n",
        "\n",
        "### 3단계 데이터베이스 구조 \n",
        "   - 미국 표준화 기관인 ANSI/SPARC 에서 제안 \n",
        "\n",
        "   - 데이터베이스를 쉽게 이해하고 이요할 수 있도록 \n",
        "   하나의 데이터베이스를 관점에 따라 세 단계로 나눈 것 \n",
        "\n",
        "      - 외부 단계(External level) : 개별 사용자 관점 \n",
        "\n",
        "      - 개념 단계(Conceptual level) : 조직 전체의 관점 \n",
        "\n",
        "      - 내부 단계(Internal level) : 물리적인 저장 장치의 관점 \n",
        "\n",
        "   - 각 단계별로 다른 추상화(Abstraction) 제공 \n",
        "\n",
        "   - 내부 단계에서 외부 단계로 갈수록 추상화 레벨이 높아짐 \n",
        "\n",
        "---\n",
        "\n",
        "### 3단계 데이터베이스 구조: 외부 단계 \n",
        "\n",
        "   - 데이터베이스를 개별 사용자 관점에서 이해하고 표현하는 단계\n",
        "\n",
        "   - 데이터베이스 하나에 외부 스키마가 여러개 존재할 수 있음 \n",
        "\n",
        "   - 외부 스키마(External Schema)\n",
        "      -외부 단계에서 사용자에게 필요한 데이터베이스를 정의한 것 \n",
        "\n",
        "      - 각 사용자가 생각하는 데이터베이스의 모습 , 즉 논리적 구조로 사용자마다 다름 \n",
        "\n",
        "      - 서브 스키마(Sub Schema)라고도 함 \n",
        "\n",
        "---\n",
        "\n",
        "### 3단계 데이터베이스 구조: 개념 단계\n",
        "\n",
        " - 데이터 베이스를 조직 전체의 관점에서 이해하고 표현하는 단계\n",
        "\n",
        " - 데이터베이스 하나에 개념 스키마가 하나만 존재함 \n",
        "\n",
        " - 개념 스키마(Conceptual Schema) \n",
        "    - 개념 단계에서 데이터베이스 전체의 논리적 구조를 정의한 것 \n",
        "\n",
        "    - 조직 전체의 관점에서 생각하는 데이터베이스의 모습 \n",
        "\n",
        "    - 전체 데이터베이스에 어떤 데이터가 저장되는지,\n",
        "     데이터들 간에는 어떤 관계가 존재하고\n",
        "     어떤 제약조건이 있는지에 대한 정의뿐만 아니라 \n",
        "     데이터에 대한 보안 정책이나 접근 권한에 대한 정의도 포함 \n",
        "\n",
        "---\n",
        "\n",
        "### 3단계 데이터베이스 구조: 내부 단계 \n",
        "\n",
        "- 데이터베이스를 저장 장치의 관점에서 이해하고 표현하는 단계 \n",
        "  - 전체 데이터베이스가 저장 장치에 실제로 저장되는 방법을 정의한 것 \n",
        "\n",
        "  - 레코드 구조, 필드 크기, 레코드 접근 경로 등 물리적 저장 구조를 정의 \n",
        "\n",
        "---\n",
        "\n",
        "### 3단핑 데이터베이스 구조의 사상 또는 매핑\n",
        "\n",
        "- 스키마 사이의 대응 관계 \n",
        "   - 외부/개념 사상: 외부 스키마와 개념 스키마의 대응 관계 \n",
        "      - 응용 인터페이스(Application Interface)라고도 함\n",
        "   - 개념/내부 사상: 개념 스키마와 내부 스키마의 대응 관계 \n",
        "      - 저장 인터페이스 (Storage interface)라고도 함"
      ],
      "metadata": {
        "id": "hxygOTp6t302"
      }
    },
    {
      "cell_type": "markdown",
      "source": [
        "- 미리 정의된 사상 정보를 이용하여 사용자가 원하는 데이터에 접근 \n",
        "\n",
        "- 데이터 베이스를 3단계 구조로 나누고 단계별로 스키마를 유지하며 스키마를 유지하며 스키마 사이의 대응 관계를 정의하는 궁극적인 목적 \n",
        "\n",
        "=> 데이터 독립성의 실현 "
      ],
      "metadata": {
        "id": "BtwMo0Pi1Rwy"
      }
    },
    {
      "cell_type": "markdown",
      "source": [
        "---\n",
        "\n",
        "### 데이터 독립성 ( Data Independency)\n",
        "   \n",
        "   - 하위 스키마를 변경하더라도 상위 스키마가 영향을 받지 않는 특성 \n",
        "\n",
        "   - 논리적 데이터 독립성 \n",
        "      - 개념 스키마가 변경되어도 외부 스키마는 영향을 받지 않음 \n",
        "\n",
        "      - 개념 스키마가 변경되면 관련된 외부/개념 사상만 정확하게 수정해 주면 됨 \n",
        "\n",
        "   - 물리적 데이터 독립성 \n",
        "      - 내부 스키마가 변경되어도 개념 스키마는 영향을 받지 않음 \n",
        "\n",
        "      - 내부 스키마가 변경되면 관련된 개념/ 내부 사상만 정확하게 수정해주면 됨 "
      ],
      "metadata": {
        "id": "CrEcbcvW1vwM"
      }
    },
    {
      "cell_type": "markdown",
      "source": [
        "3-1"
      ],
      "metadata": {
        "id": "j6YUpk3i1ujY"
      }
    },
    {
      "cell_type": "code",
      "execution_count": null,
      "metadata": {
        "id": "5OXGpByjqXmy"
      },
      "outputs": [],
      "source": []
    },
    {
      "cell_type": "markdown",
      "source": [],
      "metadata": {
        "id": "vRkzikhA1LNp"
      }
    }
  ]
}