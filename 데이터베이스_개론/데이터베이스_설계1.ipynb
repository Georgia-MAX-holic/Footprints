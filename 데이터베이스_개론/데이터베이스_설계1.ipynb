{
  "nbformat": 4,
  "nbformat_minor": 0,
  "metadata": {
    "colab": {
      "provenance": [],
      "authorship_tag": "ABX9TyPjbhz28g5RQn0WBaJA1K7A",
      "include_colab_link": true
    },
    "kernelspec": {
      "name": "python3",
      "display_name": "Python 3"
    },
    "language_info": {
      "name": "python"
    }
  },
  "cells": [
    {
      "cell_type": "markdown",
      "metadata": {
        "id": "view-in-github",
        "colab_type": "text"
      },
      "source": [
        "<a href=\"https://colab.research.google.com/github/Georgia-MAX-holic/footprints/blob/main/%EB%8D%B0%EC%9D%B4%ED%84%B0%EB%B2%A0%EC%9D%B4%EC%8A%A4_%EA%B0%9C%EB%A1%A0/%EB%8D%B0%EC%9D%B4%ED%84%B0%EB%B2%A0%EC%9D%B4%EC%8A%A4_%EC%84%A4%EA%B3%841.ipynb\" target=\"_parent\"><img src=\"https://colab.research.google.com/assets/colab-badge.svg\" alt=\"Open In Colab\"/></a>"
      ]
    },
    {
      "cell_type": "markdown",
      "source": [
        "- 데이터베이스 설계 단계 \n",
        "   - 데이터베이스 설계\n",
        "      - 사용자의 다양한 요구 사항을 고려하여 데이터베이스를\n",
        "생성하는 과정\n",
        "\n",
        "   - 관계 데이터베이스의 대표적인 설계 방법\n",
        "      - E-R 모델과 릴레이션 변환 규칙을 이용한 설계\n",
        "      - 정규화를 이용한 설계 : 9장\n",
        "\n",
        "### 요구 사항 분석 \n",
        "\n",
        "- 설계 1 단계 : 요구 사항 분석\n",
        "   - 목적\n",
        "     - 사용자의 요구 사항을 수집하고 분석하여 개발할\n",
        "데이터베이스의 용도를 파악\n",
        "\n",
        "         - 업무에 필요한 데이터가 무엇인지,\n",
        "그 데이터에 어떤 처리가 필요한지 등을 고려\n",
        "   - 결과물\n",
        "\n",
        "      - 요구 사항 명세서\n",
        "\n",
        "- 설계 2 단계 : 개념적 설계\n",
        "   - 목적\n",
        "      - DBMS에 독립적인 개념적 스키마 설계\n",
        "\n",
        "      - 요구 사항 분석 결과물을 개념적 데이터 모델을 이용해 개념적\n",
        "구조로 표현 =>  개념적 모델링\n",
        "\n",
        "      - 일반적으로 E-R 모델을 많이 이용\n",
        "   - 결과물\n",
        "      - 개념적 스키마 : E-R 다이어그램\n",
        "   - 주요 작업\n",
        "      - 요구 사항 분석 결과를 기반으로 중요한 개체를 추출하고\n",
        "개체 간의 관계를 결정하여 E-R 다이어그램으로 표현 \n",
        "   - 작업과정 \n",
        "     - step 1 ) 개체 추출, 각 개체의 주요 속성과 키 속성 선별 \n",
        "\n",
        "     - step 2 ) 개체 간의 관계 결정 \n",
        "\n",
        "     - step 3 ) E-R 다이어그램으로 표현 \n",
        "\n",
        "- 개념적 설계 – (STEP 1) 개체와 속성 추출\n",
        "  - 개체 : 저장할 만한 가치가 있는 중요 데이터를 가진\n",
        "사람이나 사물 등\n",
        "\n",
        "   - 예) 병원 데이터베이스 개발에 필요한 개체\n",
        "      - 병원 운영에 필요한 사람 : 환자, 의사, 간호사 등\n",
        "      - 병원 운영에 필요한 사물 : 병실, 수술실, 의료 장비 등\n",
        "\n",
        "  - 개체 추출 방법\n",
        "     - 요구 사항 문장에서 업무와 관련이 깊은 의미 있는 명사를 찾을것\n",
        "        - 업무와 관련이 적은 일반적이고 광범위한 의미의 명사는 제외\n",
        "        - 의미가 같은 명사가 여러 개일 경우는 대표 명사 하나만 선택\n",
        "     - 찾아낸 명사를 개체와 속성으로 분류"
      ],
      "metadata": {
        "id": "TAyIThZ5EAo-"
      }
    },
    {
      "cell_type": "code",
      "execution_count": null,
      "metadata": {
        "id": "edf5QtM1D4s_"
      },
      "outputs": [],
      "source": []
    }
  ]
}