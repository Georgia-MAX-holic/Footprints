{
  "nbformat": 4,
  "nbformat_minor": 0,
  "metadata": {
    "colab": {
      "provenance": [],
      "authorship_tag": "ABX9TyOJxvOVSoPjNquqE2CCB+As",
      "include_colab_link": true
    },
    "kernelspec": {
      "name": "python3",
      "display_name": "Python 3"
    },
    "language_info": {
      "name": "python"
    }
  },
  "cells": [
    {
      "cell_type": "markdown",
      "metadata": {
        "id": "view-in-github",
        "colab_type": "text"
      },
      "source": [
        "<a href=\"https://colab.research.google.com/github/Georgia-MAX-holic/theory/blob/main/%EB%8D%B0%EC%9D%B4%ED%84%B0%EB%B2%A0%EC%9D%B4%EC%8A%A4_%EA%B0%9C%EB%A1%A0/%EA%B8%B0%EB%B3%B8%2C%20%EA%B4%80%EB%A6%AC%EC%8B%9C%EC%8A%A4%ED%85%9C.ipynb\" target=\"_parent\"><img src=\"https://colab.research.google.com/assets/colab-badge.svg\" alt=\"Open In Colab\"/></a>"
      ]
    },
    {
      "cell_type": "markdown",
      "source": [
        "### 데이터와 정보 \n",
        "\n",
        "- 데이터 (Data ) \n",
        "  1. 현실 세계에서 단순히 관찰하거나 측정하여 수집한 사실이나 값 \n",
        "\n",
        "  2. 의사 결정에 유용하게 활용할 수 있도록 데이터를 처리한 결과물 \n",
        "---\n",
        "\n",
        "\n",
        "### 정보 처리 (Information Processing) \n",
        "\n",
        "  - 데이터에서 정보를 추출하는 과정 또는 방법 \n",
        "\n",
        "\n",
        "---\n",
        "\n",
        "\n",
        "### 정보 시스템과 데이터 베이스 \n",
        "\n",
        "  - 정보시스템(Information System)\n",
        "    1. 조직 운영에 필요한 데이터를 수집하여 저장해 두었다가 필요할 때 유용한 정보를 만들어 주는 수단 \n",
        "\n",
        "  - 데이터베이스 \n",
        "    1. 정보 시스템 안에서 데이터를 저장하고 있다가 필요할 때 제공하는 역할을 담당 \n",
        "\n",
        "\n",
        "\n",
        "---\n",
        "\n",
        "### 데이터베이스의 정의 \n",
        "   - 특정 조직의 여러 사용자가 공유하여 사용할 수 있도록 통합해서 자장한 운영 데이터의 집합 \n",
        "\n",
        "   \n"
      ],
      "metadata": {
        "id": "B1deGSFPAeIM"
      }
    },
    {
      "cell_type": "markdown",
      "source": [
        "### 데이터베이스의 정의 \n",
        "\n",
        "  - 공유 데이터 \n",
        "    1. 특정 조직의 여러 사용자가 함께 소유하고 이용할 수 있는 공용 데이터 \n",
        "\n",
        "  - 통합 데이터 \n",
        "\n",
        "    1. 최소의 중복과 통제 가능한 중복만 허용하는 데이터 \n",
        "\n",
        "  - 저장 데이터 \n",
        "    1. 컴퓨터가 접근할 수 있는 매체에 저장된 데이터 \n",
        "\n",
        "  - 운영 데이터 \n",
        "    1. 조직의 주요 기능을 수행하기 위해 지속적으로 꼭 필요한 데이터 \n",
        "\n",
        "    "
      ],
      "metadata": {
        "id": "NArXQO-CAd-C"
      }
    },
    {
      "cell_type": "markdown",
      "source": [
        "\n",
        "\n",
        "---\n",
        "\n",
        "\n",
        "\n",
        "# **데이터베이스의 정의**\n",
        "\n",
        "# - **특정 조직의 여러 사용자가 공유하여 사용할 수 있도록 통합하여 저장한 운영 데이터들의 집합**"
      ],
      "metadata": {
        "id": "89hCWDR3Ad1m"
      }
    },
    {
      "cell_type": "markdown",
      "source": [
        "\n",
        "\n",
        "---\n",
        "\n",
        "\n",
        "\n",
        "### 데이터베이스 기본 개념 \n",
        "\n",
        "> 데이터베이스의 특징 \n",
        "\n",
        "- 실시간 접근성 ( Real-time accessibility)\n",
        "\n",
        "     1. 사용자의 데이터 요구에 실시간으로 응답\n",
        "\n",
        "- 계속 변화     (Continuous evolution)\n",
        "    1. 데이터의 계속적인 삽입, 삭제 , 수정을 통해 현재의 정확한 데이터를 유지 \n",
        "\n",
        "- 내용 기반 참조 (content reference)\n",
        "   1. 데이터가 저장된 주소나 위치가 아닌 내용으로 참조 \n",
        "   2. 예) 재고량이 1000개 이상인 제품의 이름을 검색하시오 \n",
        "\n",
        "- 동시 공유      (concurrent sharing}\n",
        "\n",
        "  1. 서로 다른 데이터의 동시 사용뿐만 아니라 같은 데이터의 동시 사용도 지원 "
      ],
      "metadata": {
        "id": "eFDhqMZm748k"
      }
    },
    {
      "cell_type": "markdown",
      "source": [
        "---\n",
        "### 데이터의 분류 \n",
        "\n",
        "\n",
        "\n",
        "\n",
        "\n",
        " 1. 정형 데이터 \n",
        "   - 구조화된 제이터, 즉 미리 정해진 구조에 따라 저장된 데이터 \n",
        "   - 예) 엑셀의 스프레드시트, 관계 데이터베이스의 테이블 \n",
        " 2. 반정형 데이터 \n",
        "   - 구조에 따라 저장된 데이터이지만, 데이터 내용 안에 구조에 대한 설명이 함께 존재 \n",
        "   - 구조를 파악하는 파싱(Parsing)과정이 필요 \n",
        "\n",
        "   - 보통 파일 형태로 저장\n",
        "\n",
        "   - 예) 웹에서 데이터를 교환하기 위해 작성하는 HTML, XML, JSON 문서나 웹로그, 센서 데이터 등 \n",
        "\n",
        " 3. 비정형 데이터 \n",
        "   - 정해진 구조가 없이 저장된 데이터 \n",
        "\n",
        "   - 예) 소셜 데이터의 텍스트, 영상, 이미지, 워드나 PDF 문서와 같은 멀티미디어 데이터\n",
        "\n",
        "\n"
      ],
      "metadata": {
        "id": "XeImqj2u9FEg"
      }
    },
    {
      "cell_type": "code",
      "execution_count": null,
      "metadata": {
        "id": "Aqv_EOAx7Rj0"
      },
      "outputs": [],
      "source": []
    },
    {
      "cell_type": "markdown",
      "source": [
        "### 데이터베이스 관리 시스템의 등장 배경 \n",
        "\n",
        "   - 파일 시스템(File System) \n",
        "      1. 데이터를 파일로 관리하기 위해 파일을 생성/ 삭제/ 수정/ 검색하는 기능을 제공하는 소프트웨어 \n",
        "\n",
        "   - 응용 프로그램마다 필요한 데이터를 별도의 파일로 관리함 "
      ],
      "metadata": {
        "id": "G6Rnhkq0Fbrx"
      }
    },
    {
      "cell_type": "markdown",
      "source": [
        "### 파일 시스템의 문제점 \n",
        "\n",
        "   - 같은 내용의 데이터가 여러 파일에 중복 저장됨 \n",
        "      1. 저장 공간의 낭비는 물론 데이터 일관성과 데이터 무결성을 유지하기 어려움 \n",
        "\n",
        "   - 응용 프로그램이 데이터 파일에 종속적임 \n",
        "      1. 데이터 종속성 \n",
        "      2. 사용하는 파일의 구조를 변경하면 응용 프로그램도 함께 변경해야 함 \n",
        "\n",
        "   - 데이터 파일에 대한 동시 공유, 보안, 회복 기능이 부족함 "
      ],
      "metadata": {
        "id": "dcAittnnGIRp"
      }
    },
    {
      "cell_type": "markdown",
      "source": [
        "### 데이터베이스 관리 시스템의 정의 \n",
        "\n",
        "- 데이터 베이스 관리 시스템 \n",
        "\n",
        "   1. DBMS( DataBase  Management System) \n",
        "   2. 파일 시스템의 문제를 해결하기 위해 제시된 소프트웨어 \n",
        "   3. 조직에 필요한 데이터를 데이터베이스에 통합하여 저장하고 관리함 "
      ],
      "metadata": {
        "id": "_UsQyprdGnOo"
      }
    },
    {
      "cell_type": "markdown",
      "source": [
        "\n",
        "\n",
        "---\n",
        "\n",
        "\n",
        "### 데이터베이스 관리 시스템의 주요 기능 \n",
        "\n",
        "  -  정의 기능 : 데이터베이스 구조를 정의하거나 수정 가능 \n",
        "\n",
        "  - 조작 기능 : 데이터를 삽입/수정/검색 하는 연산을 수행 가능 \n",
        "\n",
        "  - 제어 기능 : 데이터를 항상 정확하고 안전하게 유지가능 \n",
        "\n",
        "  "
      ],
      "metadata": {
        "id": "GVUbS-FGXPkG"
      }
    },
    {
      "cell_type": "markdown",
      "source": [
        "\n",
        "\n",
        "---\n",
        "\n",
        "#데이터베이스 관리 시스템의 장단점 \n",
        "\n",
        "- 장점 \n",
        "   1. 데이터 중복을 통제 가능 \n",
        "   2. 데이터 독립성 확보 \n",
        "   3. 데이터 동시 공유 가능 \n",
        "   4. 데이터 보안 향상 \n",
        "   5. 데이터 무결성 유지 가능 \n",
        "   6. 표준화 가능 \n",
        "   7. 장애 발생 시 회복 가능 \n",
        "   8. 응용 프로그램 개발 비용이 줄어듬 \n",
        "\n",
        "\n",
        "- 단점 \n",
        "  1. 비용이 많이 든다\n",
        "  2. 백업과 회복 방법이 복잡하다.\n",
        "  3. 중앙 집중 관리로 인한 취약점이 존재 "
      ],
      "metadata": {
        "id": "OOiFXLzTYpz_"
      }
    },
    {
      "cell_type": "markdown",
      "source": [
        "\n",
        "\n",
        "---\n",
        "\n",
        "\n",
        "### 데이터베이스 관리 시스템의 발전 과정 \n",
        "  - 1세대 : 네트워크 DBMS , 계층 DBMS \n",
        "      1. 네트워크 DBMS : 데이터베이스를 그래프 형태로8 구성 \n",
        "         ex) IDS ( Integrated Data Store) \n",
        "\n",
        "      2. 계층 DBMS : 데이터베이스를 트리 형태로 구성 \n",
        "         ex) IMS(Information Management System)\n",
        "\n",
        "\n",
        "  - 2세대 : 관계 DBMS :\n",
        "       1. 관계 DBMS : 데이터베이스를 테이브 형태로 구성 \n",
        "         ex) 오라클(Oracle) , MS SQL 서버 , 액세스(Access), \n",
        "         인포믹스(Informix), MySQL \n",
        "\n",
        "\n",
        "  - 3세대 : 객체지향 DBMS , 객체관계 DMBS \n",
        "       1. 객체지향 DBMS : 객체를 이용해 데이터베이스를 구성 \n",
        "           ex) 오투(O2) , 온투스(ONTOS), 젬스톤(GemStone)\n",
        "\n",
        "       2. 객체관계 DBMS : 객체 DBMS + 관계 DBMS \n",
        "\n",
        "\n",
        "  - 4세대 : NoSQL / NewSQL DBMS \n",
        "       1. NoSQL DBMS : 비정형 데이터를 처리하는데 적합하고 확정성이 뛰어남 \n",
        "       2. 안정성과 일관성 유지를 위한 복잡한 기능을 포기 \n",
        "\n",
        "       3. 확장성이 뛰어나 여러 대의 서버 컴퓨터에 데이터를 분산하여 저장하고 처리하는 환경에서 주로 이용 \n",
        "\n",
        "       4. ex) MongoDB , HBase , Cassandra , Redis, Neo4j, OrientDB \n",
        "\n",
        "       5. NewSQL DBMS : 관계 DBMS의 장점 + NoSQL의 확장성 및 유연성 \n",
        "\n",
        "       ex) 구글 스패너(Spanner), 볼트DB(VoltDB), 누오(NuoDB)\n",
        "  \n",
        "  "
      ],
      "metadata": {
        "id": "V-LiXJxBZBgT"
      }
    },
    {
      "cell_type": "markdown",
      "source": [
        "\n",
        "\n",
        "---\n",
        "\n"
      ],
      "metadata": {
        "id": "EPoTY-yQGFTC"
      }
    }
  ]
}