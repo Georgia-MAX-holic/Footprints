{
  "nbformat": 4,
  "nbformat_minor": 0,
  "metadata": {
    "colab": {
      "provenance": [],
      "authorship_tag": "ABX9TyNyAeOK9wO1l0/ZUGenhWBt",
      "include_colab_link": true
    },
    "kernelspec": {
      "name": "python3",
      "display_name": "Python 3"
    },
    "language_info": {
      "name": "python"
    }
  },
  "cells": [
    {
      "cell_type": "markdown",
      "metadata": {
        "id": "view-in-github",
        "colab_type": "text"
      },
      "source": [
        "<a href=\"https://colab.research.google.com/github/Georgia-MAX-holic/theory/blob/main/Untitled26.ipynb\" target=\"_parent\"><img src=\"https://colab.research.google.com/assets/colab-badge.svg\" alt=\"Open In Colab\"/></a>"
      ]
    },
    {
      "cell_type": "markdown",
      "source": [
        "귀무 가설 (null hypothesis) 또는 영 가설은 통계학에서 처음부터 버릴 것을 예상하는 가설.\n",
        "\n",
        "차이가 없거나 의미있는 차이가 없는 경우의 가설이며 이것이 맞거나 맞지 않다는 통계학적 증거를 통해 증명하려는 가설 "
      ],
      "metadata": {
        "id": "9jfL4c-y1kKS"
      }
    },
    {
      "cell_type": "markdown",
      "source": [
        "기술 통계치의 시각화 \n",
        "\n",
        "    boxplot\n",
        "    bagplot\n",
        "    violin plot으로 시각화 가능 "
      ],
      "metadata": {
        "id": "BrYQwe6V1lpx"
      }
    },
    {
      "cell_type": "markdown",
      "source": [
        "Effective Sampling \n",
        "\n",
        "1. simple Random Sampling \n",
        "    모집단에서 Sampling을 무작위로 하는 방법 \n",
        "\n",
        "2. Systematic Sampling \n",
        "\n",
        "    모집단에서 Sampling을 할 때 규칙을 가지고 추출하는 방법 \n",
        "\n",
        "3. Stratified Random Sampling \n",
        "\n",
        "    모집단을 미리 여러 그룹으로 나누고, 그 그룹별로 \n",
        "    무작위 추출을 수행하는 방법\n",
        "\n",
        "    ex) 여론 조사를 위해 사람을 나이대 별로 나누고, 해당 \n",
        "    그룹 안에서 무작위 추출 \n",
        "\n",
        "    \n",
        "\n"
      ],
      "metadata": {
        "id": "mdsZAlxflytc"
      }
    },
    {
      "cell_type": "markdown",
      "source": [
        "가설 검정 \n",
        "\n",
        "    1.주어진 상황에 대해서, 하고자 하는 주장이 맞는지\n",
        "    아닌지를 판정하는 과정 \n",
        "\n",
        "    2.모집단의 실제 값에 대한 Sample의 통계치를 사용해서 \n",
        "    통계적으로 유의한지 아닌지 여부를 판정함 \n",
        "\n",
        "---\n",
        "\n",
        "샘플의 사이즈가 결과에 미치는 영향 \n",
        "\n",
        "    더 많은 정보 ===> 무작위성을 고려하더라도 더 높은 신뢰성 \n",
        "\n",
        "\n",
        "\n",
        " "
      ],
      "metadata": {
        "id": "vEGpMpZdnE8F"
      }
    },
    {
      "cell_type": "markdown",
      "source": [
        "표본 평균의 표준 오차 \n",
        "\n",
        "\n"
      ],
      "metadata": {
        "id": "buV34WhnnE55"
      }
    },
    {
      "cell_type": "markdown",
      "source": [
        "![다운로드.jpg](data:image/jpeg;base64,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)"
      ],
      "metadata": {
        "id": "DowQ7aDTnrgC"
      }
    },
    {
      "cell_type": "markdown",
      "source": [
        "  1. s(우측) = 표본의 표준편차 \n",
        "  \n",
        "  2. n = 표본의 수 \n",
        "\n",
        "= 표본의 수가 많아질수록, 추측은 더 정확해지고(평균)\n",
        "높은 신뢰도를 바탕으로 모집단에 대해 예측 할 수 있도록 함 \n",
        "\n",
        "\n",
        "\n"
      ],
      "metadata": {
        "id": "LQZdGEZunymW"
      }
    },
    {
      "cell_type": "markdown",
      "source": [
        "One Sample t-test \n",
        "\n",
        "1. 1개의 Sample값들의 평균이 특정값 동일한지 비교 \n",
        "ex) 동전이 공정한지 확인하려 할 때: p(x=H) = 0.5\n",
        "\n",
        "2. 평균을 빼고 표준편차로 나누었는데 이 과정을 표준화 \n",
        "\n",
        "3. 이 과정을 실행하면 주어진 데이터가 평균은 0 \n",
        "표준편차가 1인 데이터로 Scaling됨 \n",
        "\n",
        "\n",
        "![화면 캡처 2022-09-22 002159.jpg](data:image/jpeg;base64,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)"
      ],
      "metadata": {
        "id": "vs_f49DIoTIh"
      }
    },
    {
      "cell_type": "markdown",
      "source": [
        "T- test Process \n",
        "\n",
        "1. 귀무가설을 설정( fair coin, p = 0.5)\n",
        "\n",
        "2. 대안 가설을 설정 ( not fair coin, p !=0.5)\n",
        "\n",
        "3. 신뢰도를 설정 : 모수가 신뢰구간 안에 포함될 확률용\n",
        "    ( 보통 95% 99% 등을 사용)\n",
        "\n",
        "    신뢰도 95%의 의미 \n",
        "     =모수가 신뢰 구간 안에 포함될 확률이 95% \n",
        "     =귀무가설이 틀렸지만 우연히 성립할 확률이 5% \n",
        "\n",
        "\n",
        "4. P-value를 확인 \n",
        "\n",
        "    P-value는 주어진 가설에 대해서 \" 얼마나 근거가 있는지\"에 대한 값을 0과 1 사이의 값으로 Scale한 지표 \n",
        "\n",
        "    P-value가 낮다는 것은, 귀무가설이 틀렸을 확률이 높음 \n",
        "\n",
        "    ex) p-value = 0.05 -> 결론이 귀무가설이 ( 틀렸지만 맞을 확률) 확률이 0.05 -> 귀무가설은 틀림 "
      ],
      "metadata": {
        "id": "a2COkc6rpauO"
      }
    },
    {
      "cell_type": "markdown",
      "source": [
        "P - value의 기준 \n",
        "\n",
        "1. p-value < 0.01: 귀무가설이 옳을 확률이 1%이하 -> 틀림 \n",
        "\n",
        "2. p-value < 0.05: 귀무가설이 옳을 확률이 5% 이하 -> 틀림 (일반적인 기준) \n",
        "\n",
        "    0.05 ~ p-value ~0.1 사이인 경우 (애매함)\n",
        "       # 실험을 다시함 \n",
        "       # 데이터를 다시 뽑음 \n",
        "       # 샘프링을 다시한다. \n",
        "       # 기존의 경험/인사이트를 바탕으로 가설에 대한 결론을 내린다. \n",
        "\n",
        "\n",
        "3. p-value >0.1(10%): 귀무가설이 옳을 확률이 10%이상 \n",
        "   \n",
        "   -> 귀무가설 맞다~ 틀리지 않았을 것 \n",
        "\n",
        "\n",
        "One-side test / Two-side test \n",
        "\n",
        "Two side(tail/direction) test : 샘플 데이터의 평균이 X보다 크다 혹은 작다를 검정하는 내용"
      ],
      "metadata": {
        "id": "uvf9W8Rcr8RI"
      }
    },
    {
      "cell_type": "markdown",
      "source": [
        "T -test  사용하기 위한 조건 \n",
        "   \n",
        "    독립성  X -> 서로 짝지어진 자료   ->  대응표본 T 검정\n",
        "       \n",
        "       O\n",
        "\n",
        "    정규성  X -> 정규 분포가 아니다   -> man whitney test \n",
        "\n",
        "      O\n",
        "\n",
        "    등분산성  X -> 분산이 서로 다르다   -> 독립표본 T 검정 \n",
        "\n",
        "      O\n",
        "\n",
        "    독립표본 T 검정 \n"
      ],
      "metadata": {
        "id": "HCcVSXVmu77X"
      }
    },
    {
      "cell_type": "markdown",
      "source": [
        "1. 독립성 : 그 그룹이 연결되어 있는 쌍인지 \n",
        "\n",
        "2. 등분산성 : 두 그룹이 얼마나 유사한 수준의 분산값을 가지는  지\n",
        "\n",
        "3. 정규성 : 데이터가 정규성을 나타내는 지 \n",
        "\n",
        "    즉 T-test는 특정한 조건에서 평균을 비교하기 위한 \n",
        "    가설검정 방법 \n",
        "\n"
      ],
      "metadata": {
        "id": "LUInMFcLKUtH"
      }
    },
    {
      "cell_type": "code",
      "source": [
        "# 데이터가 정규분포와는 다를대 scipy.stats의 normaltest 사용 가능 \n",
        "\n",
        "from scipy.stats \n",
        "import normaltest\n",
        "import numpy as np \n",
        "\n",
        "sample = np.random.poisson(5, 1000) # normal 분포가 아님 normaltest(sample)\n",
        "\n",
        "normaltest(sample) "
      ],
      "metadata": {
        "id": "1KRR8H4siXIj"
      },
      "execution_count": null,
      "outputs": []
    },
    {
      "cell_type": "code",
      "source": [
        "NormaltestResult(statistic=20.30705116357633, pvalue=3.89385583211646e-05)"
      ],
      "metadata": {
        "id": "ptfwbEjKmGSP"
      },
      "execution_count": null,
      "outputs": []
    },
    {
      "cell_type": "code",
      "source": [
        "sample2 = np.random.normal(size = 1000) # normal 분포\n",
        "normaltest(sample2)"
      ],
      "metadata": {
        "id": "qnmfiYFZK9yw"
      },
      "execution_count": null,
      "outputs": []
    },
    {
      "cell_type": "code",
      "source": [
        "NormaltestResult(statistic=1.1197351139362957, pvalue=0.5712847215191075)"
      ],
      "metadata": {
        "id": "vil1jCzPLBGS"
      },
      "execution_count": null,
      "outputs": []
    },
    {
      "cell_type": "markdown",
      "source": [
        " Type of Error \n",
        " \n",
        " \n",
        " \n",
        "              True                  False \n",
        "\n",
        "Dont reject    correct inference    Type 2 error \n",
        "                (True negative)\n",
        "\n",
        "Reject          Type 1 error        correct inference \n",
        "                                      (True positive)\n",
        "\n"
      ],
      "metadata": {
        "id": "A6fEdl9iLGa3"
      }
    },
    {
      "cell_type": "markdown",
      "source": [
        "자유도 ( Degrees of Freedom)\n",
        "\n",
        "일주일 내 내 바에서 위스키를 종류별로 한잔 씩 마시는 경우 \n",
        "전체 메뉴는 7개만 이라고 가정 \n",
        "\n",
        "- 월요일 - 7개의 선택 ( 조니워커 )\n",
        "- 화요일 - 6개의 선택 ( 글렌피딕 )\n",
        "- 수요일 - 5개의 선택 ( 와일드 터키 )\n",
        "- 목요일 ...\n",
        "- 일요일 / 선택지가 없음 ( 자유도 X )\n",
        "\n",
        "따라서 이 문제에 대한 자유도는 n -1 =6\n",
        "\n",
        "자유도란 \n",
        "\n",
        "해당 parameter를 결정짓기 위한 독립적으로 정해질 수 있는\n",
        " 값의 수 "
      ],
      "metadata": {
        "id": "Ns7Fl3s5LpGs"
      }
    }
  ]
}