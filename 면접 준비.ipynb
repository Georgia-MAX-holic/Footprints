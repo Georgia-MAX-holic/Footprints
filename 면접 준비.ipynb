{
  "nbformat": 4,
  "nbformat_minor": 0,
  "metadata": {
    "colab": {
      "provenance": [],
      "authorship_tag": "ABX9TyMT1kG/dbXxsSmrQHdGJRGs",
      "include_colab_link": true
    },
    "kernelspec": {
      "name": "python3",
      "display_name": "Python 3"
    },
    "language_info": {
      "name": "python"
    }
  },
  "cells": [
    {
      "cell_type": "markdown",
      "metadata": {
        "id": "view-in-github",
        "colab_type": "text"
      },
      "source": [
        "<a href=\"https://colab.research.google.com/github/Georgia-MAX-holic/Footprints/blob/main/%EB%A9%B4%EC%A0%91%20%EC%A4%80%EB%B9%84.ipynb\" target=\"_parent\"><img src=\"https://colab.research.google.com/assets/colab-badge.svg\" alt=\"Open In Colab\"/></a>"
      ]
    },
    {
      "cell_type": "markdown",
      "source": [
        "### 지도 학습, 비지도학습, 반지도학습 , 강화학습 \n",
        "\n",
        "  - 지도학습, 비지도학습, 반지도학습, 강화학습 \n",
        "\n",
        "  - 온라인 학습과 배치 학습 \n",
        "\n",
        "  - 사례 기반 학습과 모델 기반 학습 "
      ],
      "metadata": {
        "id": "OJuL82iMY_UP"
      }
    },
    {
      "cell_type": "markdown",
      "source": [],
      "metadata": {
        "id": "9nhtXEZDUp2H"
      }
    },
    {
      "cell_type": "markdown",
      "source": [
        "지도학습 ( Supervised Learning)\n",
        "\n",
        "- 지도학습: 알고리즘에 학습시키는 데이터와 그 데이터의 답이라고 할 수 있는 레이블(label)값이 포함되어야 한다. \n",
        "\n",
        "- 지도학습방법 : 회귀(Regression)은 예측변수(Predictor Variable)이라는 특성(Feature)를 사용하여 최종적인 결과를 예측하는 것인데 특정한 값을 예측한다면 분류(Classification)은 어떤 집단으로 분류할 수 있을지를 예측한다고 볼 수 있음 . \n",
        "\n",
        "분류에 널리 쓰이는 회귀로는 로지스틱이 있으며 클래스에 속할 확률 구할 수 있음 \n",
        "\n",
        "\n",
        "  - k-Nearest Neighbors\n",
        "  - Linear Regression\n",
        "  - Logistic Regression\n",
        "  - SVM(Support Vector Machine)\n",
        "  - Decision Tree\n",
        "  - Random Forest\n",
        "  - Nerual Network\n"
      ],
      "metadata": {
        "id": "UVmUBjovUpz1"
      }
    },
    {
      "cell_type": "markdown",
      "source": [
        "비지도학습 ( Unsupervised Learning)\n",
        "\n",
        "- 비지도학습은 지도학습에서 필요한 레이블이 필요하지 않은 학습방법이다.\n",
        "\n",
        "- 대표적인 비지도학습에는 계층군집(클러스터링, Clustering), 시각화(Visualization)와 차원축소(Demension Reduction), 연관 규칙 학습(Association Rule Learning)이 있다.\n",
        "\n",
        "\n",
        "- Clustering : 작은 그룹으로 세분화\n",
        "\n",
        "  - K-means\n",
        "\n",
        "  - 계층 군집 분석 (HCA, Hierachical Cluster Analysis)\n",
        "\n",
        "  - 기댓값 최대화(Expectation Maximization)\n",
        "\n",
        "- Visualization & Demension Reduction : 시각화는 레이블이 없는 고차원의 데이터를 넣으면 이차원이나 삼차원의 표현으로 만든다는 뜻, 차원축소는 정보손실을 최소화하면서 데이터를 간소화하는 특성추출과 관련.\n",
        "\n",
        "  - 주성분 분석(PCA, Principal Component Analysis)\n",
        "\n",
        "  - Kernel PCA\n",
        "\n",
        "  - 지역적 선형 임베딩(LLE, Locally-Linear Embedding)\n",
        "\n",
        "  - t-SNE (t-distributed Stochastic Neighbor Embedding)\n",
        "\n",
        "- Association Rule Learning : 대량의 데이터에서 특성 간의 유의미한 관계를 찾음.\n",
        "\n",
        "    - Apriori\n",
        "    - Eclat\n",
        "\n",
        "- 반 지도학습 ( Semisupervised Learning) \n",
        "\n",
        "   - 반지도학습 혹은 준지도학습이라고 불리는 이 학습법은 레이블이 일부만 있어도 데이터를 다룰 수 있다.대부분의 반지도학습 알고리듬은 지도 학습과 비지도 학습의 조합으로 이루어져있다.\n",
        "\n",
        "   - 구글 포토 호스팅 서비스나 아이폰의 인물 사진처럼 여러 명의 인물 사진을 올리면 자동으로 사람을 인식하여 학습시킨다. 이 사람들이 누구인가하는 정보로 사람의 레이블이 주어지면 편리하게 해당 사람이 들어간 사진을 찾을 수 있다.\n",
        "\n",
        "\n",
        "- 강화학습(Reinforcement Learning) \n",
        "\n",
        " - 학습하는 시스템을 에이전트(Agent)라고 부르며 환경(Environment)을 관찰하여 행동(Action)을 실행하고 보상(Reward)을 받는다. 시간이 지나면서 가장 큰 보상을 얻기 위해 정책(Policy)이라고 부르는 최상의 전략을 스스로 학습하게 된다. 정책은 주어진 상황에서 에이전트가 어떻게 행동해야하는지를 판단한다. "
      ],
      "metadata": {
        "id": "yxDz1HPkW9Dn"
      }
    },
    {
      "cell_type": "markdown",
      "source": [
        "### 회귀와 분류 \n",
        "- 회귀 : 회귀(regression) 는 예측하고자 하는 타겟값이 실수, 즉 숫자인 경우 이다. 그리고 회귀는 예측 결과가 연속성을 지닌다.\n",
        "\n",
        "- 분류 : 분류(classification) 는 예측하고자 하는 타겟값이 범주형 변수인 경우 이다. 회귀와는 다르게 분류는 예측 결과가 연속성을 지니지 않는다. 연속성을 지니는 연속값이 아닌 이산값을 가지고 있다.  "
      ],
      "metadata": {
        "id": "uryaPK0HYoMh"
      }
    },
    {
      "cell_type": "markdown",
      "source": [
        "### Hold-Out Cross Validation과 K-Fold Cross Validation의 차이\n",
        "\n",
        "- hold-out은 데이터셋을 훈련셋과 테스트셋으로 분리합니다. 예를들어, 데이터셋의 80%를 훈련셋으로 삼아 모델을 훈련시키고, 나머지 20%를 테스트셋으로 이용해서 성능을 평가하는 것이죠. 그런데 훈련셋과 테스트셋으로만 나눠서 모델의 성능을 평가하다보면, 테스트셋이 모델의 파라미터 설정에 큰 영향을 미치게 됩니다. 모델이 테스트셋에 오버피팅될 가능성이 있게 되는 것이죠.\n",
        "\n",
        "\n",
        "- k-fold 교차검증은 데이터셋을 k개의 서브셋으로 분리합니다. 5-fold면 5개의 서브셋으로 분리해주는 것이죠. 그 다음에 하나의 서브셋만 테스트에 사용하고 나머지 k-1개의 서브셋은 훈련에 사용합니다. 이것을 k번 반복합니다. 이렇게 k번 측정한 성능지표를 평균냄으로 최종적으로 모델의 성능을 평가합니다. "
      ],
      "metadata": {
        "id": "IVNmdNdQZELp"
      }
    },
    {
      "cell_type": "markdown",
      "source": [
        "### 랜덤 포레스트와 Decision tree차이 \n",
        "\n",
        "- 결정 트리는 학습 데이터에 오버피팅 하는 경향이 있음, 랜덤 포레스트는 훈련을 통해 구성해놓은 다수의 나무로부터 분류 결과를 취합해서 결론을 얻는것 \n",
        "\n",
        "- 오버피팅을 피하기 위해 임의의 숲을 구성하는것, 다수의 나무로부터 구성하는것, 다수의 나무들로부터 분류를 집계하기 때문에 오버피팅이 나타나는 나무의 영향력을 줄일 수 있음 \n",
        "\n",
        "- 중복을 허용하기 때문에 단일 데이터가 여러번 선택될 수도 있음, 이를 배깅 이라고 함 \n",
        "\n",
        "- 나무를 만들 때는 모든 속성(feature)들에서 임의로 일부를 선택하고 그 중 정보 획득량이 가장 높은 것을 기준으로 데이터를 분할한다. 만약 데이터 세트에 n개의 속성이 있는 경우 n제곱근 개수만큼 무작위로 선택하는 것이 일반적이다"
      ],
      "metadata": {
        "id": "YbADmMtGTcGh"
      }
    },
    {
      "cell_type": "markdown",
      "source": [
        "### 모델의 accuracy score가 99%가 나왔다면 바로 배포해서 사용할 수 있을까요?\n",
        "\n",
        "- NO 99% 가 나왔기에 단순히 좋다고 단언할 수 는 없음 . \n",
        "\n",
        "- Domain의 편중(Bias) 되어있기 떄문인데 , \n",
        "예를 들어 부산에 눈이 1M 가까이 오는것을 예측하는 분류기를 만든다면, 정확도 99.9% 를 만들어질겁니다. 눈 거의 않오니까요 . 이경우는 True Positive 보다는 True Negative 만 전부 맞추게될겁니다. True Positive는 하나도 못맞추고요 . 이런 상황을 정확도의 역설이라고 하는데 이를 위해서 재현율이나 정밀도 F1스코어 이런 것들이 더 필요할것입니다. \n"
      ],
      "metadata": {
        "id": "_18W_Hi7UpAe"
      }
    },
    {
      "cell_type": "markdown",
      "source": [
        "### Data Leakage가 무엇인가요? 예시와 어떻게 해결할 수 있는지를 설명해주세요\n",
        "\n",
        "우리가 모른다고 가정된 정보가 누설된 경우를 의미 \n",
        "예를들어 시간단위로 기록된 날씨 데이터가 있고 1~2시간 뒤를 예측해야 하는 상황입니다.\n",
        "그런데 이 데이터를 예측하고자, 일 평균,즉 하루 평균 날씨의 Feature를 만들어서 모델에 학습시켰습니다. 이러면 Data leakage 가 발생합니다. 당장 1시간 뒤의 날씨도 모르는데 하루치 시간을 통합해버린 , 우리가 알수없는 데이터를 학습시키게 되면 성능에 이상이 생길것이기 떄문  \n",
        "\n",
        "\n",
        "### 딥러닝과 머신러닝에 대한 분류\n",
        "\n",
        "- 머신러닝: 주어진 데이터를 인간이 먼저 처리함, 사람이 먼저 컴퓨터에 특정 패턴을 추출하는 방법을 지시하고, 그 이후 컴퓨터가 스스로 데이터의 특징을 분석하고 축적함,\n",
        "\n",
        "- 딥러닝 : 머신러닝에서 사람이 하던 패턴 추출 작업이 생략이 됨, 컴퓨터가 스스로 데이터를 기반으로 학습할 수 있도록 정해진 신경망을 컴퓨터에게 주고 어린아이가 학습하는 것처럼 경험 중심으로 학습을 수행함 .\n",
        "\n",
        "### 데이터 구축 프로세스\n",
        "1. 설계\n",
        "  - 요구사항을 분석하여 전체 시스템의 개념부터 설계까지 밑그림을 그리는 작업 \n",
        "2. 구축 \n",
        "  - 실제 데이터의 수집과 통합 및 분석을 통해 결과를 배포 하는 과정 \n",
        "3. 시험\n",
        "  - 목표와 맞는 외부 분석 시스템 업체를 선정하고 연계를 위한 서비스를 설계하고 구현한다로 알고 있음 \n",
        "\n",
        "4. 연계\n",
        "\n",
        "### CLI와 GUI의 특징\n",
        "- CLI\n",
        "  - 글자의 입출력을 통해 사용자와 컴퓨터 간 소통하는 방식\n",
        "\n",
        "  - 대표적인 CLI로는 윈도우의 cmd, 맥의 terminal, 리눅스의 terminal\n",
        "\n",
        "  - 키보드 + 명령어 사용 가능\n",
        "\n",
        "- GUI(Graphic User Interface)란?\n",
        "\n",
        "  - 사용자가 그래픽을 통해 사용자와 소통하는 방식\n",
        "\n",
        "  - 그래픽으로 전달되는 그림이나, 아이콘을 통해서 소통\n",
        "\n",
        "  - 키보드 + 마우스 모두 사용 가능\n",
        "\n",
        "### API란 무엇인가?\n",
        "\n",
        "  - API : API는 응용 프로그램에서 사용할 수 있도록, 운영 체제나 프로그래밍 언어가 제공하는 기능을 제어할 수 있게 만든 인터페이스를 뜻한다\n",
        "\n",
        "  - 인터페이스: 인터페이스(interface)는 컴퓨터 시스템끼리 정보를 교한하는 공유 경계를 의미한다\n",
        "  ex) 리모콘 - TV \n"
      ],
      "metadata": {
        "id": "m83jJ6R2Z-fV"
      }
    },
    {
      "cell_type": "code",
      "execution_count": null,
      "metadata": {
        "id": "_3myrEQXUkJJ"
      },
      "outputs": [],
      "source": []
    }
  ]
}