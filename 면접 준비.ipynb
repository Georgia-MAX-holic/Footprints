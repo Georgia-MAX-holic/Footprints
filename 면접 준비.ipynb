{
  "nbformat": 4,
  "nbformat_minor": 0,
  "metadata": {
    "colab": {
      "provenance": [],
      "authorship_tag": "ABX9TyOrVaxOrPozceoewP6qF41t",
      "include_colab_link": true
    },
    "kernelspec": {
      "name": "python3",
      "display_name": "Python 3"
    },
    "language_info": {
      "name": "python"
    }
  },
  "cells": [
    {
      "cell_type": "markdown",
      "metadata": {
        "id": "view-in-github",
        "colab_type": "text"
      },
      "source": [
        "<a href=\"https://colab.research.google.com/github/Georgia-MAX-holic/Footprints/blob/main/%EB%A9%B4%EC%A0%91%20%EC%A4%80%EB%B9%84.ipynb\" target=\"_parent\"><img src=\"https://colab.research.google.com/assets/colab-badge.svg\" alt=\"Open In Colab\"/></a>"
      ]
    },
    {
      "cell_type": "markdown",
      "source": [
        "### 지도 학습, 비지도학습, 반지도학습 , 강화학습 \n",
        "\n",
        "  - 지도학습, 비지도학습, 반지도학습, 강화학습 \n",
        "\n",
        "  - 온라인 학습과 배치 학습 \n",
        "\n",
        "  - 사례 기반 학습과 모델 기반 학습 "
      ],
      "metadata": {
        "id": "OJuL82iMY_UP"
      }
    },
    {
      "cell_type": "markdown",
      "source": [],
      "metadata": {
        "id": "9nhtXEZDUp2H"
      }
    },
    {
      "cell_type": "markdown",
      "source": [
        "지도학습 ( Supervised Learning)\n",
        "\n",
        "- 지도학습: 알고리즘에 학습시키는 데이터와 그 데이터의 답이라고 할 수 있는 레이블(label)값이 포함되어야 한다. \n",
        "\n",
        "- 지도학습방법 : 회귀(Regression)은 예측변수(Predictor Variable)이라는 특성(Feature)를 사용하여 최종적인 결과를 예측하는 것인데 특정한 값을 예측한다면 분류(Classification)은 어떤 집단으로 분류할 수 있을지를 예측한다고 볼 수 있음 . \n",
        "\n",
        "분류에 널리 쓰이는 회귀로는 로지스틱이 있으며 클래스에 속할 확률 구할 수 있음 \n",
        "\n",
        "\n",
        "  - k-Nearest Neighbors\n",
        "  - Linear Regression\n",
        "  - Logistic Regression\n",
        "  - SVM(Support Vector Machine)\n",
        "  - Decision Tree\n",
        "  - Random Forest\n",
        "  - Nerual Network\n"
      ],
      "metadata": {
        "id": "UVmUBjovUpz1"
      }
    },
    {
      "cell_type": "markdown",
      "source": [
        "비지도학습 ( Unsupervised Learning)\n",
        "\n",
        "- 비지도학습은 지도학습에서 필요한 레이블이 필요하지 않은 학습방법이다.\n",
        "\n",
        "- 대표적인 비지도학습에는 계층군집(클러스터링, Clustering), 시각화(Visualization)와 차원축소(Demension Reduction), 연관 규칙 학습(Association Rule Learning)이 있다.\n",
        "\n",
        "\n",
        "- Clustering : 작은 그룹으로 세분화\n",
        "\n",
        "  - K-means\n",
        "\n",
        "  - 계층 군집 분석 (HCA, Hierachical Cluster Analysis)\n",
        "\n",
        "  - 기댓값 최대화(Expectation Maximization)\n",
        "\n",
        "- Visualization & Demension Reduction : 시각화는 레이블이 없는 고차원의 데이터를 넣으면 이차원이나 삼차원의 표현으로 만든다는 뜻, 차원축소는 정보손실을 최소화하면서 데이터를 간소화하는 특성추출과 관련.\n",
        "\n",
        "  - 주성분 분석(PCA, Principal Component Analysis)\n",
        "\n",
        "  - Kernel PCA\n",
        "\n",
        "  - 지역적 선형 임베딩(LLE, Locally-Linear Embedding)\n",
        "\n",
        "  - t-SNE (t-distributed Stochastic Neighbor Embedding)\n",
        "\n",
        "- Association Rule Learning : 대량의 데이터에서 특성 간의 유의미한 관계를 찾음.\n",
        "\n",
        "    - Apriori\n",
        "    - Eclat\n",
        "\n",
        "- 반 지도학습 ( Semisupervised Learning) \n",
        "\n",
        "   - 반지도학습 혹은 준지도학습이라고 불리는 이 학습법은 레이블이 일부만 있어도 데이터를 다룰 수 있다.대부분의 반지도학습 알고리듬은 지도 학습과 비지도 학습의 조합으로 이루어져있다.\n",
        "\n",
        "   - 구글 포토 호스팅 서비스나 아이폰의 인물 사진처럼 여러 명의 인물 사진을 올리면 자동으로 사람을 인식하여 학습시킨다. 이 사람들이 누구인가하는 정보로 사람의 레이블이 주어지면 편리하게 해당 사람이 들어간 사진을 찾을 수 있다.\n",
        "\n",
        "\n",
        "- 강화학습(Reinforcement Learning) \n",
        "\n",
        " - 학습하는 시스템을 에이전트(Agent)라고 부르며 환경(Environment)을 관찰하여 행동(Action)을 실행하고 보상(Reward)을 받는다. 시간이 지나면서 가장 큰 보상을 얻기 위해 정책(Policy)이라고 부르는 최상의 전략을 스스로 학습하게 된다. 정책은 주어진 상황에서 에이전트가 어떻게 행동해야하는지를 판단한다. "
      ],
      "metadata": {
        "id": "yxDz1HPkW9Dn"
      }
    },
    {
      "cell_type": "markdown",
      "source": [
        "### 회귀와 분류 \n",
        "- 회귀 : 회귀(regression) 는 예측하고자 하는 타겟값이 실수, 즉 숫자인 경우 이다. 그리고 회귀는 예측 결과가 연속성을 지닌다.\n",
        "\n",
        "- 분류 : 분류(classification) 는 예측하고자 하는 타겟값이 범주형 변수인 경우 이다. 회귀와는 다르게 분류는 예측 결과가 연속성을 지니지 않는다. 연속성을 지니는 연속값이 아닌 이산값을 가지고 있다.  "
      ],
      "metadata": {
        "id": "uryaPK0HYoMh"
      }
    },
    {
      "cell_type": "markdown",
      "source": [
        "### Hold-Out Cross Validation과 K-Fold Cross Validation의 차이\n",
        "\n",
        "- hold-out은 데이터셋을 훈련셋과 테스트셋으로 분리합니다. 예를들어, 데이터셋의 80%를 훈련셋으로 삼아 모델을 훈련시키고, 나머지 20%를 테스트셋으로 이용해서 성능을 평가하는 것이죠. 그런데 훈련셋과 테스트셋으로만 나눠서 모델의 성능을 평가하다보면, 테스트셋이 모델의 파라미터 설정에 큰 영향을 미치게 됩니다. 모델이 테스트셋에 오버피팅될 가능성이 있게 되는 것이죠.\n",
        "\n",
        "\n",
        "- k-fold 교차검증은 데이터셋을 k개의 서브셋으로 분리합니다. 5-fold면 5개의 서브셋으로 분리해주는 것이죠. 그 다음에 하나의 서브셋만 테스트에 사용하고 나머지 k-1개의 서브셋은 훈련에 사용합니다. 이것을 k번 반복합니다. 이렇게 k번 측정한 성능지표를 평균냄으로 최종적으로 모델의 성능을 평가합니다. "
      ],
      "metadata": {
        "id": "IVNmdNdQZELp"
      }
    },
    {
      "cell_type": "code",
      "execution_count": null,
      "metadata": {
        "id": "_3myrEQXUkJJ"
      },
      "outputs": [],
      "source": []
    }
  ]
}