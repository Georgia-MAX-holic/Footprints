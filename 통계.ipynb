{
  "nbformat": 4,
  "nbformat_minor": 0,
  "metadata": {
    "colab": {
      "provenance": [],
      "authorship_tag": "ABX9TyOtJJN2lhiBEPaFTRmjltmE",
      "include_colab_link": true
    },
    "kernelspec": {
      "name": "python3",
      "display_name": "Python 3"
    },
    "language_info": {
      "name": "python"
    }
  },
  "cells": [
    {
      "cell_type": "markdown",
      "metadata": {
        "id": "view-in-github",
        "colab_type": "text"
      },
      "source": [
        "<a href=\"https://colab.research.google.com/github/Georgia-MAX-holic/theory/blob/main/%ED%86%B5%EA%B3%84.ipynb\" target=\"_parent\"><img src=\"https://colab.research.google.com/assets/colab-badge.svg\" alt=\"Open In Colab\"/></a>"
      ]
    },
    {
      "cell_type": "markdown",
      "source": [
        "귀무 가설 (null hypothesis) 또는 영 가설은 통계학에서 처음부터 버릴 것을 예상하는 가설.\n",
        "\n",
        "차이가 없거나 의미있는 차이가 없는 경우의 가설이며 이것이 맞거나 맞지 않다는 통계학적 증거를 통해 증명하려는 가설 "
      ],
      "metadata": {
        "id": "9jfL4c-y1kKS"
      }
    },
    {
      "cell_type": "markdown",
      "source": [
        "기술 통계치의 시각화 \n",
        "\n",
        "    boxplot\n",
        "    bagplot\n",
        "    violin plot으로 시각화 가능 "
      ],
      "metadata": {
        "id": "BrYQwe6V1lpx"
      }
    },
    {
      "cell_type": "markdown",
      "source": [
        "Effective Sampling \n",
        "\n",
        "1. simple Random Sampling \n",
        "    모집단에서 Sampling을 무작위로 하는 방법 \n",
        "\n",
        "2. Systematic Sampling \n",
        "\n",
        "    모집단에서 Sampling을 할 때 규칙을 가지고 추출하는 방법 \n",
        "\n",
        "3. Stratified Random Sampling \n",
        "\n",
        "    모집단을 미리 여러 그룹으로 나누고, 그 그룹별로 \n",
        "    무작위 추출을 수행하는 방법\n",
        "\n",
        "    ex) 여론 조사를 위해 사람을 나이대 별로 나누고, 해당 \n",
        "    그룹 안에서 무작위 추출 \n",
        "\n",
        "    \n",
        "\n"
      ],
      "metadata": {
        "id": "mdsZAlxflytc"
      }
    },
    {
      "cell_type": "markdown",
      "source": [
        "가설 검정 \n",
        "\n",
        "    1.주어진 상황에 대해서, 하고자 하는 주장이 맞는지\n",
        "    아닌지를 판정하는 과정 \n",
        "\n",
        "    2.모집단의 실제 값에 대한 Sample의 통계치를 사용해서 \n",
        "    통계적으로 유의한지 아닌지 여부를 판정함 \n",
        "\n",
        "---\n",
        "\n",
        "샘플의 사이즈가 결과에 미치는 영향 \n",
        "\n",
        "    더 많은 정보 ===> 무작위성을 고려하더라도 더 높은 신뢰성 \n",
        "\n",
        "\n",
        "\n",
        " "
      ],
      "metadata": {
        "id": "vEGpMpZdnE8F"
      }
    },
    {
      "cell_type": "markdown",
      "source": [
        "표본 평균의 표준 오차 \n",
        "\n",
        "\n"
      ],
      "metadata": {
        "id": "buV34WhnnE55"
      }
    },
    {
      "cell_type": "markdown",
      "source": [
        "![다운로드.jpg](data:image/jpeg;base64,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)"
      ],
      "metadata": {
        "id": "DowQ7aDTnrgC"
      }
    },
    {
      "cell_type": "markdown",
      "source": [
        "  1. s(우측) = 표본의 표준편차 \n",
        "  \n",
        "  2. n = 표본의 수 \n",
        "\n",
        "= 표본의 수가 많아질수록, 추측은 더 정확해지고(평균)\n",
        "높은 신뢰도를 바탕으로 모집단에 대해 예측 할 수 있도록 함 \n",
        "\n",
        "\n",
        "\n"
      ],
      "metadata": {
        "id": "LQZdGEZunymW"
      }
    },
    {
      "cell_type": "markdown",
      "source": [
        "One Sample t-test \n",
        "\n",
        "1. 1개의 Sample값들의 평균이 특정값 동일한지 비교 \n",
        "ex) 동전이 공정한지 확인하려 할 때: p(x=H) = 0.5\n",
        "\n",
        "2. 평균을 빼고 표준편차로 나누었는데 이 과정을 표준화 \n",
        "\n",
        "3. 이 과정을 실행하면 주어진 데이터가 평균은 0 \n",
        "표준편차가 1인 데이터로 Scaling됨 \n",
        "\n",
        "\n",
        "![화면 캡처 2022-09-22 002159.jpg](data:image/jpeg;base64,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)"
      ],
      "metadata": {
        "id": "vs_f49DIoTIh"
      }
    },
    {
      "cell_type": "markdown",
      "source": [
        "T- test Process \n",
        "\n",
        "1. 귀무가설을 설정( fair coin, p = 0.5)\n",
        "\n",
        "2. 대안 가설을 설정 ( not fair coin, p !=0.5)\n",
        "\n",
        "3. 신뢰도를 설정 : 모수가 신뢰구간 안에 포함될 확률용\n",
        "    ( 보통 95% 99% 등을 사용)\n",
        "\n",
        "    신뢰도 95%의 의미 \n",
        "     =모수가 신뢰 구간 안에 포함될 확률이 95% \n",
        "     =귀무가설이 틀렸지만 우연히 성립할 확률이 5% \n",
        "\n",
        "\n",
        "4. P-value를 확인 \n",
        "\n",
        "    P-value는 주어진 가설에 대해서 \" 얼마나 근거가 있는지\"에 대한 값을 0과 1 사이의 값으로 Scale한 지표 \n",
        "\n",
        "    P-value가 낮다는 것은, 귀무가설이 틀렸을 확률이 높음 \n",
        "\n",
        "    ex) p-value = 0.05 -> 결론이 귀무가설이 ( 틀렸지만 맞을 확률) 확률이 0.05 -> 귀무가설은 틀림 "
      ],
      "metadata": {
        "id": "a2COkc6rpauO"
      }
    },
    {
      "cell_type": "markdown",
      "source": [
        "P - value의 기준 \n",
        "\n",
        "1. p-value < 0.01: 귀무가설이 옳을 확률이 1%이하 -> 틀림 \n",
        "\n",
        "2. p-value < 0.05: 귀무가설이 옳을 확률이 5% 이하 -> 틀림 (일반적인 기준) \n",
        "\n",
        "    0.05 ~ p-value ~0.1 사이인 경우 (애매함)\n",
        "       # 실험을 다시함 \n",
        "       # 데이터를 다시 뽑음 \n",
        "       # 샘프링을 다시한다. \n",
        "       # 기존의 경험/인사이트를 바탕으로 가설에 대한 결론을 내린다. \n",
        "\n",
        "\n",
        "3. p-value >0.1(10%): 귀무가설이 옳을 확률이 10%이상 \n",
        "   \n",
        "   -> 귀무가설 맞다~ 틀리지 않았을 것 \n",
        "\n",
        "\n",
        "One-side test / Two-side test \n",
        "\n",
        "Two side(tail/direction) test : 샘플 데이터의 평균이 X보다 크다 혹은 작다를 검정하는 내용"
      ],
      "metadata": {
        "id": "uvf9W8Rcr8RI"
      }
    },
    {
      "cell_type": "markdown",
      "source": [
        "T -test  사용하기 위한 조건 \n",
        "   \n",
        "    독립성  X -> 서로 짝지어진 자료   ->  대응표본 T 검정\n",
        "       \n",
        "       O\n",
        "\n",
        "    정규성  X -> 정규 분포가 아니다   -> man whitney test \n",
        "\n",
        "      O\n",
        "\n",
        "    등분산성  X -> 분산이 서로 다르다   -> 독립표본 T 검정 \n",
        "\n",
        "      O\n",
        "\n",
        "    독립표본 T 검정 \n"
      ],
      "metadata": {
        "id": "HCcVSXVmu77X"
      }
    },
    {
      "cell_type": "markdown",
      "source": [
        "1. 독립성 : 그 그룹이 연결되어 있는 쌍인지 \n",
        "\n",
        "2. 등분산성 : 두 그룹이 얼마나 유사한 수준의 분산값을 가지는  지\n",
        "\n",
        "3. 정규성 : 데이터가 정규성을 나타내는 지 \n",
        "\n",
        "    즉 T-test는 특정한 조건에서 평균을 비교하기 위한 \n",
        "    가설검정 방법 \n",
        "\n"
      ],
      "metadata": {
        "id": "LUInMFcLKUtH"
      }
    },
    {
      "cell_type": "code",
      "source": [
        "# 데이터가 정규분포와는 다를대 scipy.stats의 normaltest 사용 가능 \n",
        "\n",
        "from scipy.stats \n",
        "import normaltest\n",
        "import numpy as np \n",
        "\n",
        "sample = np.random.poisson(5, 1000) # normal 분포가 아님 normaltest(sample)\n",
        "\n",
        "normaltest(sample) "
      ],
      "metadata": {
        "id": "1KRR8H4siXIj"
      },
      "execution_count": null,
      "outputs": []
    },
    {
      "cell_type": "code",
      "source": [
        "NormaltestResult(statistic=20.30705116357633, pvalue=3.89385583211646e-05)"
      ],
      "metadata": {
        "id": "ptfwbEjKmGSP"
      },
      "execution_count": null,
      "outputs": []
    },
    {
      "cell_type": "code",
      "source": [
        "sample2 = np.random.normal(size = 1000) # normal 분포\n",
        "normaltest(sample2)"
      ],
      "metadata": {
        "id": "qnmfiYFZK9yw"
      },
      "execution_count": null,
      "outputs": []
    },
    {
      "cell_type": "code",
      "source": [
        "NormaltestResult(statistic=1.1197351139362957, pvalue=0.5712847215191075)"
      ],
      "metadata": {
        "id": "vil1jCzPLBGS"
      },
      "execution_count": null,
      "outputs": []
    },
    {
      "cell_type": "markdown",
      "source": [
        " Type of Error \n",
        " \n",
        " \n",
        " \n",
        "              True                  False \n",
        "\n",
        "Dont reject    correct inference    Type 2 error \n",
        "                (True negative)\n",
        "\n",
        "Reject          Type 1 error        correct inference \n",
        "                                      (True positive)\n",
        "\n"
      ],
      "metadata": {
        "id": "A6fEdl9iLGa3"
      }
    },
    {
      "cell_type": "markdown",
      "source": [
        "자유도 ( Degrees of Freedom)\n",
        "\n",
        "일주일 내 내 바에서 위스키를 종류별로 한잔 씩 마시는 경우 \n",
        "전체 메뉴는 7개만 이라고 가정 \n",
        "\n",
        "- 월요일 - 7개의 선택 ( 조니워커 )\n",
        "- 화요일 - 6개의 선택 ( 글렌피딕 )\n",
        "- 수요일 - 5개의 선택 ( 와일드 터키 )\n",
        "- 목요일 ...\n",
        "- 일요일 / 선택지가 없음 ( 자유도 X )\n",
        "\n",
        "따라서 이 문제에 대한 자유도는 n -1 =6\n",
        "\n",
        "자유도란 \n",
        "\n",
        "해당 parameter를 결정짓기 위한 독립적으로 정해질 수 있는\n",
        " 값의 수 "
      ],
      "metadata": {
        "id": "Ns7Fl3s5LpGs"
      }
    },
    {
      "cell_type": "markdown",
      "source": [
        "ANOVA \n",
        "\n",
        "- 2개 이상의 그룹의 평균에 차이가 있는지를 검정하는 방법 \n",
        "\n",
        "2개 이상의 여러 그룹을 비교하기 위해 (1) vs (2) , (1) vs (3) , (2) vs (3)을 각각 T-test로 검정할수도 있음 \n",
        "\n",
        "하지만 각각 통계적으로 에러가 날 확률은 a \n",
        "\n",
        "즉 3개의 가설 검정중 하나에서 에러가 날 확률은 \n",
        "\n",
        "    1-(1-a)^3= 0.05    기준으로 15%\n",
        "\n",
        "\n",
        "즉 여러개를 개별로 비교하는것  = 그룹수가 늘어날수록 에러도 커짐 \n",
        "\n",
        "그러므로 한번에 비교할 필요가 있음 \n",
        "\n"
      ],
      "metadata": {
        "id": "dRN45KQ4sAwM"
      }
    },
    {
      "cell_type": "markdown",
      "source": [
        "Variation \n",
        "\n",
        "여러 그룹간의 차이가 있는지를 확인하기 위해서 여러 그룹들이 하나의 분포에서 왔다는 가정이 나옴 \n",
        "\n",
        "이를 위한 지표는 F-statistic \n",
        "\n",
        "![다운로드.png](data:image/png;base64,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)"
      ],
      "metadata": {
        "id": "BR6C4Iitsu4t"
      }
    },
    {
      "cell_type": "markdown",
      "source": [
        "큰수의 법칙 (Las of large numbers)\n",
        "\n",
        "- sample 데이터의 수가 커질수록 , Sample의 통계치는 점점 모집단의 모수와 같아짐 \n",
        "\n",
        "![다운로드 (1).png](data:image/png;base64,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)"
      ],
      "metadata": {
        "id": "lS7Qz1gaxwFy"
      }
    },
    {
      "cell_type": "markdown",
      "source": [
        "중심극한 정리 (} Central Limit Theorem, CLT )\n",
        "\n",
        "- Sample 데이터의 수가 많아질 수록 sample의 평균은 정규분포에 근사한 형태로 나타남 \n",
        "![다운로드 (2).png](data:image/png;base64,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)\n"
      ],
      "metadata": {
        "id": "v3HpVsIHyQAt"
      }
    },
    {
      "cell_type": "markdown",
      "source": [
        "신뢰도 \n",
        "\n",
        "- 신뢰도가 95%라는 의미는 표본을 100번 뽑았을 때 95번은 신뢰구간 내에 모집단의 평균이 포함됨 .\n",
        "\n",
        "- 예측하는 구간이 넓어질 수록 맞을 확률(신뢰도)는 올라감 \n",
        "\n"
      ],
      "metadata": {
        "id": "tAF21iJSyfLP"
      }
    },
    {
      "cell_type": "code",
      "source": [],
      "metadata": {
        "id": "Tf3j5gVwyOxN"
      },
      "execution_count": null,
      "outputs": []
    }
  ]
}