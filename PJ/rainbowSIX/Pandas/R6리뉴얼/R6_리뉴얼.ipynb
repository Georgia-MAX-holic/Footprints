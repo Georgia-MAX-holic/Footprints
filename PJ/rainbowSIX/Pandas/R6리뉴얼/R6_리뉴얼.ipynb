{
  "cells": [
    {
      "cell_type": "markdown",
      "metadata": {
        "id": "view-in-github",
        "colab_type": "text"
      },
      "source": [
        "<a href=\"https://colab.research.google.com/github/Georgia-MAX-holic/footprints/blob/main/PJ/rainbowSIX/Pandas/R6%EB%A6%AC%EB%89%B4%EC%96%BC/R6_%EB%A6%AC%EB%89%B4%EC%96%BC.ipynb\" target=\"_parent\"><img src=\"https://colab.research.google.com/assets/colab-badge.svg\" alt=\"Open In Colab\"/></a>"
      ]
    },
    {
      "cell_type": "code",
      "execution_count": 314,
      "metadata": {
        "id": "3yiqW3kplvfC",
        "colab": {
          "base_uri": "https://localhost:8080/"
        },
        "outputId": "398ff468-8370-4558-bd1c-c1723bcbc043"
      },
      "outputs": [
        {
          "output_type": "stream",
          "name": "stdout",
          "text": [
            "Looking in indexes: https://pypi.org/simple, https://us-python.pkg.dev/colab-wheels/public/simple/\n",
            "Requirement already satisfied: category_encoders in /usr/local/lib/python3.8/dist-packages (2.6.0)\n",
            "Requirement already satisfied: numpy>=1.14.0 in /usr/local/lib/python3.8/dist-packages (from category_encoders) (1.21.6)\n",
            "Requirement already satisfied: pandas>=1.0.5 in /usr/local/lib/python3.8/dist-packages (from category_encoders) (1.3.5)\n",
            "Requirement already satisfied: patsy>=0.5.1 in /usr/local/lib/python3.8/dist-packages (from category_encoders) (0.5.3)\n",
            "Requirement already satisfied: scikit-learn>=0.20.0 in /usr/local/lib/python3.8/dist-packages (from category_encoders) (1.0.2)\n",
            "Requirement already satisfied: scipy>=1.0.0 in /usr/local/lib/python3.8/dist-packages (from category_encoders) (1.7.3)\n",
            "Requirement already satisfied: statsmodels>=0.9.0 in /usr/local/lib/python3.8/dist-packages (from category_encoders) (0.12.2)\n",
            "Requirement already satisfied: pytz>=2017.3 in /usr/local/lib/python3.8/dist-packages (from pandas>=1.0.5->category_encoders) (2022.7)\n",
            "Requirement already satisfied: python-dateutil>=2.7.3 in /usr/local/lib/python3.8/dist-packages (from pandas>=1.0.5->category_encoders) (2.8.2)\n",
            "Requirement already satisfied: six in /usr/local/lib/python3.8/dist-packages (from patsy>=0.5.1->category_encoders) (1.15.0)\n",
            "Requirement already satisfied: joblib>=0.11 in /usr/local/lib/python3.8/dist-packages (from scikit-learn>=0.20.0->category_encoders) (1.2.0)\n",
            "Requirement already satisfied: threadpoolctl>=2.0.0 in /usr/local/lib/python3.8/dist-packages (from scikit-learn>=0.20.0->category_encoders) (3.1.0)\n",
            "Looking in indexes: https://pypi.org/simple, https://us-python.pkg.dev/colab-wheels/public/simple/\n",
            "Requirement already satisfied: matplotlib in /usr/local/lib/python3.8/dist-packages (3.2.2)\n",
            "Requirement already satisfied: pyparsing!=2.0.4,!=2.1.2,!=2.1.6,>=2.0.1 in /usr/local/lib/python3.8/dist-packages (from matplotlib) (3.0.9)\n",
            "Requirement already satisfied: cycler>=0.10 in /usr/local/lib/python3.8/dist-packages (from matplotlib) (0.11.0)\n",
            "Requirement already satisfied: numpy>=1.11 in /usr/local/lib/python3.8/dist-packages (from matplotlib) (1.21.6)\n",
            "Requirement already satisfied: python-dateutil>=2.1 in /usr/local/lib/python3.8/dist-packages (from matplotlib) (2.8.2)\n",
            "Requirement already satisfied: kiwisolver>=1.0.1 in /usr/local/lib/python3.8/dist-packages (from matplotlib) (1.4.4)\n",
            "Requirement already satisfied: six>=1.5 in /usr/local/lib/python3.8/dist-packages (from python-dateutil>=2.1->matplotlib) (1.15.0)\n"
          ]
        }
      ],
      "source": [
        "!pip install category_encoders\n",
        "!pip install matplotlib"
      ]
    },
    {
      "cell_type": "code",
      "source": [],
      "metadata": {
        "id": "TjPjxFNuX-uk"
      },
      "execution_count": 314,
      "outputs": []
    },
    {
      "cell_type": "code",
      "execution_count": 315,
      "metadata": {
        "id": "nLVhgPPu0eeV",
        "colab": {
          "base_uri": "https://localhost:8080/"
        },
        "outputId": "454b8619-fa37-4997-dd23-10ce5a2da09b"
      },
      "outputs": [
        {
          "output_type": "stream",
          "name": "stdout",
          "text": [
            "Mounted at /content/gdrive\n"
          ]
        }
      ],
      "source": [
        "from google.colab import drive\n",
        "drive.mount('/content/gdrive', force_remount=True)"
      ]
    },
    {
      "cell_type": "code",
      "execution_count": 316,
      "metadata": {
        "id": "pa8ckMcb0tRv"
      },
      "outputs": [],
      "source": [
        "pathA = '/content/gdrive/MyDrive/cpding/S5_operators.csv'\n",
        "pathB = '/content/gdrive/MyDrive/cpding/S5_objectives.csv'"
      ]
    },
    {
      "cell_type": "code",
      "execution_count": 317,
      "metadata": {
        "id": "3pNZZZlj1Hh0"
      },
      "outputs": [],
      "source": [
        "import pandas as pd \n",
        "import numpy as np\n",
        "import matplotlib.pyplot as plt\n",
        "import seaborn as sns"
      ]
    },
    {
      "cell_type": "code",
      "execution_count": 318,
      "metadata": {
        "id": "fdxu9oKG2PY0"
      },
      "outputs": [],
      "source": [
        "df_operators = pd.read_csv(pathA , sep=\";\")\n",
        "df_objectives = pd.read_csv(pathB , sep=\";\")"
      ]
    },
    {
      "cell_type": "code",
      "execution_count": 319,
      "metadata": {
        "id": "-BEOxn1j2guk",
        "colab": {
          "base_uri": "https://localhost:8080/",
          "height": 206
        },
        "outputId": "f9da5963-d35c-491b-fe14-b21e812eea5b"
      },
      "outputs": [
        {
          "output_type": "execute_result",
          "data": {
            "text/plain": [
              "  platform    dateid skillrank      role       operator primaryweapon  \\\n",
              "0       PC  20170210    Bronze  Attacker   BOPE-CAPITAO          M249   \n",
              "1       PC  20170210    Bronze  Attacker   BOPE-CAPITAO          M249   \n",
              "2       PC  20170210    Bronze  Attacker   BOPE-CAPITAO      PARA-308   \n",
              "3       PC  20170210    Bronze  Attacker   BOPE-CAPITAO      PARA-308   \n",
              "4       PC  20170210    Bronze  Attacker  G.E.O.-JACKAL           C7E   \n",
              "\n",
              "  secondaryweapon secondarygadget  nbwins  nbkills  nbdeaths  nbpicks  \n",
              "0           PRB92        CLAYMORE       6        6         6        8  \n",
              "1           PRB92    STUN GRENADE       4        2         6        8  \n",
              "2           PRB92        CLAYMORE      37       40        49       70  \n",
              "3           PRB92    STUN GRENADE      17       24        31       41  \n",
              "4          ITA12S   BREACH CHARGE      74      123       127      174  "
            ],
            "text/html": [
              "\n",
              "  <div id=\"df-b7c8f19e-9edc-4f1d-a71b-9aacdc991bd4\">\n",
              "    <div class=\"colab-df-container\">\n",
              "      <div>\n",
              "<style scoped>\n",
              "    .dataframe tbody tr th:only-of-type {\n",
              "        vertical-align: middle;\n",
              "    }\n",
              "\n",
              "    .dataframe tbody tr th {\n",
              "        vertical-align: top;\n",
              "    }\n",
              "\n",
              "    .dataframe thead th {\n",
              "        text-align: right;\n",
              "    }\n",
              "</style>\n",
              "<table border=\"1\" class=\"dataframe\">\n",
              "  <thead>\n",
              "    <tr style=\"text-align: right;\">\n",
              "      <th></th>\n",
              "      <th>platform</th>\n",
              "      <th>dateid</th>\n",
              "      <th>skillrank</th>\n",
              "      <th>role</th>\n",
              "      <th>operator</th>\n",
              "      <th>primaryweapon</th>\n",
              "      <th>secondaryweapon</th>\n",
              "      <th>secondarygadget</th>\n",
              "      <th>nbwins</th>\n",
              "      <th>nbkills</th>\n",
              "      <th>nbdeaths</th>\n",
              "      <th>nbpicks</th>\n",
              "    </tr>\n",
              "  </thead>\n",
              "  <tbody>\n",
              "    <tr>\n",
              "      <th>0</th>\n",
              "      <td>PC</td>\n",
              "      <td>20170210</td>\n",
              "      <td>Bronze</td>\n",
              "      <td>Attacker</td>\n",
              "      <td>BOPE-CAPITAO</td>\n",
              "      <td>M249</td>\n",
              "      <td>PRB92</td>\n",
              "      <td>CLAYMORE</td>\n",
              "      <td>6</td>\n",
              "      <td>6</td>\n",
              "      <td>6</td>\n",
              "      <td>8</td>\n",
              "    </tr>\n",
              "    <tr>\n",
              "      <th>1</th>\n",
              "      <td>PC</td>\n",
              "      <td>20170210</td>\n",
              "      <td>Bronze</td>\n",
              "      <td>Attacker</td>\n",
              "      <td>BOPE-CAPITAO</td>\n",
              "      <td>M249</td>\n",
              "      <td>PRB92</td>\n",
              "      <td>STUN GRENADE</td>\n",
              "      <td>4</td>\n",
              "      <td>2</td>\n",
              "      <td>6</td>\n",
              "      <td>8</td>\n",
              "    </tr>\n",
              "    <tr>\n",
              "      <th>2</th>\n",
              "      <td>PC</td>\n",
              "      <td>20170210</td>\n",
              "      <td>Bronze</td>\n",
              "      <td>Attacker</td>\n",
              "      <td>BOPE-CAPITAO</td>\n",
              "      <td>PARA-308</td>\n",
              "      <td>PRB92</td>\n",
              "      <td>CLAYMORE</td>\n",
              "      <td>37</td>\n",
              "      <td>40</td>\n",
              "      <td>49</td>\n",
              "      <td>70</td>\n",
              "    </tr>\n",
              "    <tr>\n",
              "      <th>3</th>\n",
              "      <td>PC</td>\n",
              "      <td>20170210</td>\n",
              "      <td>Bronze</td>\n",
              "      <td>Attacker</td>\n",
              "      <td>BOPE-CAPITAO</td>\n",
              "      <td>PARA-308</td>\n",
              "      <td>PRB92</td>\n",
              "      <td>STUN GRENADE</td>\n",
              "      <td>17</td>\n",
              "      <td>24</td>\n",
              "      <td>31</td>\n",
              "      <td>41</td>\n",
              "    </tr>\n",
              "    <tr>\n",
              "      <th>4</th>\n",
              "      <td>PC</td>\n",
              "      <td>20170210</td>\n",
              "      <td>Bronze</td>\n",
              "      <td>Attacker</td>\n",
              "      <td>G.E.O.-JACKAL</td>\n",
              "      <td>C7E</td>\n",
              "      <td>ITA12S</td>\n",
              "      <td>BREACH CHARGE</td>\n",
              "      <td>74</td>\n",
              "      <td>123</td>\n",
              "      <td>127</td>\n",
              "      <td>174</td>\n",
              "    </tr>\n",
              "  </tbody>\n",
              "</table>\n",
              "</div>\n",
              "      <button class=\"colab-df-convert\" onclick=\"convertToInteractive('df-b7c8f19e-9edc-4f1d-a71b-9aacdc991bd4')\"\n",
              "              title=\"Convert this dataframe to an interactive table.\"\n",
              "              style=\"display:none;\">\n",
              "        \n",
              "  <svg xmlns=\"http://www.w3.org/2000/svg\" height=\"24px\"viewBox=\"0 0 24 24\"\n",
              "       width=\"24px\">\n",
              "    <path d=\"M0 0h24v24H0V0z\" fill=\"none\"/>\n",
              "    <path d=\"M18.56 5.44l.94 2.06.94-2.06 2.06-.94-2.06-.94-.94-2.06-.94 2.06-2.06.94zm-11 1L8.5 8.5l.94-2.06 2.06-.94-2.06-.94L8.5 2.5l-.94 2.06-2.06.94zm10 10l.94 2.06.94-2.06 2.06-.94-2.06-.94-.94-2.06-.94 2.06-2.06.94z\"/><path d=\"M17.41 7.96l-1.37-1.37c-.4-.4-.92-.59-1.43-.59-.52 0-1.04.2-1.43.59L10.3 9.45l-7.72 7.72c-.78.78-.78 2.05 0 2.83L4 21.41c.39.39.9.59 1.41.59.51 0 1.02-.2 1.41-.59l7.78-7.78 2.81-2.81c.8-.78.8-2.07 0-2.86zM5.41 20L4 18.59l7.72-7.72 1.47 1.35L5.41 20z\"/>\n",
              "  </svg>\n",
              "      </button>\n",
              "      \n",
              "  <style>\n",
              "    .colab-df-container {\n",
              "      display:flex;\n",
              "      flex-wrap:wrap;\n",
              "      gap: 12px;\n",
              "    }\n",
              "\n",
              "    .colab-df-convert {\n",
              "      background-color: #E8F0FE;\n",
              "      border: none;\n",
              "      border-radius: 50%;\n",
              "      cursor: pointer;\n",
              "      display: none;\n",
              "      fill: #1967D2;\n",
              "      height: 32px;\n",
              "      padding: 0 0 0 0;\n",
              "      width: 32px;\n",
              "    }\n",
              "\n",
              "    .colab-df-convert:hover {\n",
              "      background-color: #E2EBFA;\n",
              "      box-shadow: 0px 1px 2px rgba(60, 64, 67, 0.3), 0px 1px 3px 1px rgba(60, 64, 67, 0.15);\n",
              "      fill: #174EA6;\n",
              "    }\n",
              "\n",
              "    [theme=dark] .colab-df-convert {\n",
              "      background-color: #3B4455;\n",
              "      fill: #D2E3FC;\n",
              "    }\n",
              "\n",
              "    [theme=dark] .colab-df-convert:hover {\n",
              "      background-color: #434B5C;\n",
              "      box-shadow: 0px 1px 3px 1px rgba(0, 0, 0, 0.15);\n",
              "      filter: drop-shadow(0px 1px 2px rgba(0, 0, 0, 0.3));\n",
              "      fill: #FFFFFF;\n",
              "    }\n",
              "  </style>\n",
              "\n",
              "      <script>\n",
              "        const buttonEl =\n",
              "          document.querySelector('#df-b7c8f19e-9edc-4f1d-a71b-9aacdc991bd4 button.colab-df-convert');\n",
              "        buttonEl.style.display =\n",
              "          google.colab.kernel.accessAllowed ? 'block' : 'none';\n",
              "\n",
              "        async function convertToInteractive(key) {\n",
              "          const element = document.querySelector('#df-b7c8f19e-9edc-4f1d-a71b-9aacdc991bd4');\n",
              "          const dataTable =\n",
              "            await google.colab.kernel.invokeFunction('convertToInteractive',\n",
              "                                                     [key], {});\n",
              "          if (!dataTable) return;\n",
              "\n",
              "          const docLinkHtml = 'Like what you see? Visit the ' +\n",
              "            '<a target=\"_blank\" href=https://colab.research.google.com/notebooks/data_table.ipynb>data table notebook</a>'\n",
              "            + ' to learn more about interactive tables.';\n",
              "          element.innerHTML = '';\n",
              "          dataTable['output_type'] = 'display_data';\n",
              "          await google.colab.output.renderOutput(dataTable, element);\n",
              "          const docLink = document.createElement('div');\n",
              "          docLink.innerHTML = docLinkHtml;\n",
              "          element.appendChild(docLink);\n",
              "        }\n",
              "      </script>\n",
              "    </div>\n",
              "  </div>\n",
              "  "
            ]
          },
          "metadata": {},
          "execution_count": 319
        }
      ],
      "source": [
        "df_operators.head()"
      ]
    },
    {
      "cell_type": "code",
      "execution_count": 320,
      "metadata": {
        "id": "BqiGmtyt3kc1",
        "colab": {
          "base_uri": "https://localhost:8080/",
          "height": 206
        },
        "outputId": "f1f6bf68-c38d-4a1b-d99a-e9897099c55a"
      },
      "outputs": [
        {
          "output_type": "execute_result",
          "data": {
            "text/plain": [
              "  platform    dateid    gamemode mapname              objectivelocation  \\\n",
              "0       PC  20170210  PvP . BOMB    BANK  EXECUTIVE LOUNGE / CEO OFFICE   \n",
              "1       PC  20170210  PvP . BOMB    BANK  EXECUTIVE LOUNGE / CEO OFFICE   \n",
              "2       PC  20170210  PvP . BOMB    BANK  EXECUTIVE LOUNGE / CEO OFFICE   \n",
              "3       PC  20170210  PvP . BOMB    BANK  EXECUTIVE LOUNGE / CEO OFFICE   \n",
              "4       PC  20170210  PvP . BOMB    BANK  EXECUTIVE LOUNGE / CEO OFFICE   \n",
              "\n",
              "  skillrank      role       operator  nbwins  nbkills  nbdeaths  nbpicks  \n",
              "0    Bronze  Attacker  G.E.O.-JACKAL       0        0         1        1  \n",
              "1    Bronze  Attacker  GIGN-MONTAGNE       1        0         2        3  \n",
              "2    Bronze  Attacker        GSG9-IQ       0        0         1        1  \n",
              "3    Bronze  Attacker      JTF2-BUCK       0        0         1        1  \n",
              "4    Bronze  Attacker   SAS-THATCHER       0        0         1        1  "
            ],
            "text/html": [
              "\n",
              "  <div id=\"df-a84d0cc7-6416-4a21-bd20-3bc14898b71e\">\n",
              "    <div class=\"colab-df-container\">\n",
              "      <div>\n",
              "<style scoped>\n",
              "    .dataframe tbody tr th:only-of-type {\n",
              "        vertical-align: middle;\n",
              "    }\n",
              "\n",
              "    .dataframe tbody tr th {\n",
              "        vertical-align: top;\n",
              "    }\n",
              "\n",
              "    .dataframe thead th {\n",
              "        text-align: right;\n",
              "    }\n",
              "</style>\n",
              "<table border=\"1\" class=\"dataframe\">\n",
              "  <thead>\n",
              "    <tr style=\"text-align: right;\">\n",
              "      <th></th>\n",
              "      <th>platform</th>\n",
              "      <th>dateid</th>\n",
              "      <th>gamemode</th>\n",
              "      <th>mapname</th>\n",
              "      <th>objectivelocation</th>\n",
              "      <th>skillrank</th>\n",
              "      <th>role</th>\n",
              "      <th>operator</th>\n",
              "      <th>nbwins</th>\n",
              "      <th>nbkills</th>\n",
              "      <th>nbdeaths</th>\n",
              "      <th>nbpicks</th>\n",
              "    </tr>\n",
              "  </thead>\n",
              "  <tbody>\n",
              "    <tr>\n",
              "      <th>0</th>\n",
              "      <td>PC</td>\n",
              "      <td>20170210</td>\n",
              "      <td>PvP . BOMB</td>\n",
              "      <td>BANK</td>\n",
              "      <td>EXECUTIVE LOUNGE / CEO OFFICE</td>\n",
              "      <td>Bronze</td>\n",
              "      <td>Attacker</td>\n",
              "      <td>G.E.O.-JACKAL</td>\n",
              "      <td>0</td>\n",
              "      <td>0</td>\n",
              "      <td>1</td>\n",
              "      <td>1</td>\n",
              "    </tr>\n",
              "    <tr>\n",
              "      <th>1</th>\n",
              "      <td>PC</td>\n",
              "      <td>20170210</td>\n",
              "      <td>PvP . BOMB</td>\n",
              "      <td>BANK</td>\n",
              "      <td>EXECUTIVE LOUNGE / CEO OFFICE</td>\n",
              "      <td>Bronze</td>\n",
              "      <td>Attacker</td>\n",
              "      <td>GIGN-MONTAGNE</td>\n",
              "      <td>1</td>\n",
              "      <td>0</td>\n",
              "      <td>2</td>\n",
              "      <td>3</td>\n",
              "    </tr>\n",
              "    <tr>\n",
              "      <th>2</th>\n",
              "      <td>PC</td>\n",
              "      <td>20170210</td>\n",
              "      <td>PvP . BOMB</td>\n",
              "      <td>BANK</td>\n",
              "      <td>EXECUTIVE LOUNGE / CEO OFFICE</td>\n",
              "      <td>Bronze</td>\n",
              "      <td>Attacker</td>\n",
              "      <td>GSG9-IQ</td>\n",
              "      <td>0</td>\n",
              "      <td>0</td>\n",
              "      <td>1</td>\n",
              "      <td>1</td>\n",
              "    </tr>\n",
              "    <tr>\n",
              "      <th>3</th>\n",
              "      <td>PC</td>\n",
              "      <td>20170210</td>\n",
              "      <td>PvP . BOMB</td>\n",
              "      <td>BANK</td>\n",
              "      <td>EXECUTIVE LOUNGE / CEO OFFICE</td>\n",
              "      <td>Bronze</td>\n",
              "      <td>Attacker</td>\n",
              "      <td>JTF2-BUCK</td>\n",
              "      <td>0</td>\n",
              "      <td>0</td>\n",
              "      <td>1</td>\n",
              "      <td>1</td>\n",
              "    </tr>\n",
              "    <tr>\n",
              "      <th>4</th>\n",
              "      <td>PC</td>\n",
              "      <td>20170210</td>\n",
              "      <td>PvP . BOMB</td>\n",
              "      <td>BANK</td>\n",
              "      <td>EXECUTIVE LOUNGE / CEO OFFICE</td>\n",
              "      <td>Bronze</td>\n",
              "      <td>Attacker</td>\n",
              "      <td>SAS-THATCHER</td>\n",
              "      <td>0</td>\n",
              "      <td>0</td>\n",
              "      <td>1</td>\n",
              "      <td>1</td>\n",
              "    </tr>\n",
              "  </tbody>\n",
              "</table>\n",
              "</div>\n",
              "      <button class=\"colab-df-convert\" onclick=\"convertToInteractive('df-a84d0cc7-6416-4a21-bd20-3bc14898b71e')\"\n",
              "              title=\"Convert this dataframe to an interactive table.\"\n",
              "              style=\"display:none;\">\n",
              "        \n",
              "  <svg xmlns=\"http://www.w3.org/2000/svg\" height=\"24px\"viewBox=\"0 0 24 24\"\n",
              "       width=\"24px\">\n",
              "    <path d=\"M0 0h24v24H0V0z\" fill=\"none\"/>\n",
              "    <path d=\"M18.56 5.44l.94 2.06.94-2.06 2.06-.94-2.06-.94-.94-2.06-.94 2.06-2.06.94zm-11 1L8.5 8.5l.94-2.06 2.06-.94-2.06-.94L8.5 2.5l-.94 2.06-2.06.94zm10 10l.94 2.06.94-2.06 2.06-.94-2.06-.94-.94-2.06-.94 2.06-2.06.94z\"/><path d=\"M17.41 7.96l-1.37-1.37c-.4-.4-.92-.59-1.43-.59-.52 0-1.04.2-1.43.59L10.3 9.45l-7.72 7.72c-.78.78-.78 2.05 0 2.83L4 21.41c.39.39.9.59 1.41.59.51 0 1.02-.2 1.41-.59l7.78-7.78 2.81-2.81c.8-.78.8-2.07 0-2.86zM5.41 20L4 18.59l7.72-7.72 1.47 1.35L5.41 20z\"/>\n",
              "  </svg>\n",
              "      </button>\n",
              "      \n",
              "  <style>\n",
              "    .colab-df-container {\n",
              "      display:flex;\n",
              "      flex-wrap:wrap;\n",
              "      gap: 12px;\n",
              "    }\n",
              "\n",
              "    .colab-df-convert {\n",
              "      background-color: #E8F0FE;\n",
              "      border: none;\n",
              "      border-radius: 50%;\n",
              "      cursor: pointer;\n",
              "      display: none;\n",
              "      fill: #1967D2;\n",
              "      height: 32px;\n",
              "      padding: 0 0 0 0;\n",
              "      width: 32px;\n",
              "    }\n",
              "\n",
              "    .colab-df-convert:hover {\n",
              "      background-color: #E2EBFA;\n",
              "      box-shadow: 0px 1px 2px rgba(60, 64, 67, 0.3), 0px 1px 3px 1px rgba(60, 64, 67, 0.15);\n",
              "      fill: #174EA6;\n",
              "    }\n",
              "\n",
              "    [theme=dark] .colab-df-convert {\n",
              "      background-color: #3B4455;\n",
              "      fill: #D2E3FC;\n",
              "    }\n",
              "\n",
              "    [theme=dark] .colab-df-convert:hover {\n",
              "      background-color: #434B5C;\n",
              "      box-shadow: 0px 1px 3px 1px rgba(0, 0, 0, 0.15);\n",
              "      filter: drop-shadow(0px 1px 2px rgba(0, 0, 0, 0.3));\n",
              "      fill: #FFFFFF;\n",
              "    }\n",
              "  </style>\n",
              "\n",
              "      <script>\n",
              "        const buttonEl =\n",
              "          document.querySelector('#df-a84d0cc7-6416-4a21-bd20-3bc14898b71e button.colab-df-convert');\n",
              "        buttonEl.style.display =\n",
              "          google.colab.kernel.accessAllowed ? 'block' : 'none';\n",
              "\n",
              "        async function convertToInteractive(key) {\n",
              "          const element = document.querySelector('#df-a84d0cc7-6416-4a21-bd20-3bc14898b71e');\n",
              "          const dataTable =\n",
              "            await google.colab.kernel.invokeFunction('convertToInteractive',\n",
              "                                                     [key], {});\n",
              "          if (!dataTable) return;\n",
              "\n",
              "          const docLinkHtml = 'Like what you see? Visit the ' +\n",
              "            '<a target=\"_blank\" href=https://colab.research.google.com/notebooks/data_table.ipynb>data table notebook</a>'\n",
              "            + ' to learn more about interactive tables.';\n",
              "          element.innerHTML = '';\n",
              "          dataTable['output_type'] = 'display_data';\n",
              "          await google.colab.output.renderOutput(dataTable, element);\n",
              "          const docLink = document.createElement('div');\n",
              "          docLink.innerHTML = docLinkHtml;\n",
              "          element.appendChild(docLink);\n",
              "        }\n",
              "      </script>\n",
              "    </div>\n",
              "  </div>\n",
              "  "
            ]
          },
          "metadata": {},
          "execution_count": 320
        }
      ],
      "source": [
        "df_objectives.head()"
      ]
    },
    {
      "cell_type": "markdown",
      "metadata": {
        "id": "C5-EwB8t55PP"
      },
      "source": [
        "진행할 EDA와 분석을 위하여 전처리와 셋팅을 진행 "
      ]
    },
    {
      "cell_type": "markdown",
      "metadata": {
        "id": "2OdR-iwN5Tro"
      },
      "source": [
        "앞으로 있을 분석들을 위하여 KDA와 승률을 계산한다 "
      ]
    },
    {
      "cell_type": "code",
      "execution_count": 321,
      "metadata": {
        "id": "szCdO1NL4LhY"
      },
      "outputs": [],
      "source": [
        "df_operators[\"k/d_ratio\"]= df_operators[\"nbkills\"]/df_operators[\"nbdeaths\"]\n",
        "df_operators[\"win_ratio\"]= df_operators[\"nbwins\"]/df_operators[\"nbpicks\"]\n",
        "\n",
        "df_objectives[\"k/d_ratio\"]= df_objectives[\"nbkills\"]/df_objectives[\"nbdeaths\"]\n",
        "df_objectives[\"win_ratio\"]= df_objectives[\"nbwins\"]/df_objectives[\"nbpicks\"]\n",
        "\n",
        "df_operators = df_operators.dropna()\n",
        "df_objectives=df_objectives.dropna()"
      ]
    },
    {
      "cell_type": "markdown",
      "source": [
        "0데스 , 매치중 한번도 안죽은 플레이어는 KDA가 집계되지 않아 데이터로 이용할 수 없다. 그렇기에 제거 "
      ],
      "metadata": {
        "id": "8QfbfJMgC-Zl"
      }
    },
    {
      "cell_type": "code",
      "execution_count": 322,
      "metadata": {
        "id": "KvySjFDG4nHd"
      },
      "outputs": [],
      "source": [
        "INDEX_oper   = df_operators[df_operators[\"nbdeaths\"]==0].index\n",
        "df_operators = df_operators.drop(INDEX_oper)\n",
        "\n",
        "#df_operators.head()"
      ]
    },
    {
      "cell_type": "code",
      "execution_count": 323,
      "metadata": {
        "id": "WJjZ0WAl5n1k"
      },
      "outputs": [],
      "source": [
        "\n",
        "#df_objectives.head()"
      ]
    },
    {
      "cell_type": "markdown",
      "metadata": {
        "id": "ebpA2oV66r3V"
      },
      "source": [
        "우선 이상치 검색부터 진행, 데이터셋은 밸뱃쉘 시즌의 랭크 데이터고 실제 플레이한 데이터이다. 즉 여기서 이상치가 발견된다면 , 불법프로그램 유저 혹은 스머프 (양학러)일 가능성이 높다 .\n",
        "\n",
        "- 이상치: 일반적인 값보다 상대적으로 큰 데이터 = 전체 데이터 패턴에서 동떨어져 있는 관측치 , 평균에 영향을 많이 끼치기에 처리해야 하는 데이터"
      ]
    },
    {
      "cell_type": "markdown",
      "metadata": {
        "id": "XPCyDvcYWX3-"
      },
      "source": [
        "- 우선 나온 데이터들을 픽률, 승률 기준으로 시각화를 시켜보자, 값이 높을수록 현재 쓰기 좋은 오퍼레이터라고 볼 수 있다 .\n",
        "- 이를 위해서는 필요한 데이터 ( operator , win_ratio, nbpicks ,)만 남기고 전부 잘라내야하고  operator 를 기준으로 승률과 픽률을 평균해서 정렬해야한다 .\n",
        "\n",
        "\n"
      ]
    },
    {
      "cell_type": "code",
      "execution_count": 324,
      "metadata": {
        "id": "_eU8w7sNYNPp"
      },
      "outputs": [],
      "source": [
        "df_ATK = df_operators[df_operators[\"role\"]==\"Attacker\"][[\"operator\",\"win_ratio\",\"k/d_ratio\",\"nbpicks\"]]\n",
        "df_DEF = df_operators[df_operators[\"role\"]==\"Defender\"][[\"operator\",\"win_ratio\",\"k/d_ratio\",\"nbpicks\"]]"
      ]
    },
    {
      "cell_type": "code",
      "source": [
        "sns.relplot(x=\"nbpicks\", y=\"win_ratio\", hue=\"operator\", style= \"operator\" , data=df_ATK)\n",
        "sns.relplot(x=\"nbpicks\", y=\"win_ratio\", hue=\"operator\", style= \"operator\" , data=df_DEF)\n",
        "plt.show()"
      ],
      "metadata": {
        "id": "3NHFpPAo8c_0",
        "colab": {
          "base_uri": "https://localhost:8080/",
          "height": 721
        },
        "outputId": "e56803ce-2a72-48aa-8ac4-de1f72bdae72"
      },
      "execution_count": 325,
      "outputs": [
        {
          "output_type": "display_data",
          "data": {
            "text/plain": [
              "<Figure size 518x360 with 1 Axes>"
            ],
            "image/png": "[encoded data removed]"
          },
          "metadata": {
            "needs_background": "light"
          }
        },
        {
          "output_type": "display_data",
          "data": {
            "text/plain": [
              "<Figure size 504.625x360 with 1 Axes>"
            ],
            "image/png": "[encoded data removed]"
          },
          "metadata": {
            "needs_background": "light"
          }
        }
      ]
    },
    {
      "cell_type": "markdown",
      "metadata": {
        "id": "-L2YmEPTYxgz"
      },
      "source": [
        "- 전체 데이터로 시각화를 한번 해봤는데 오퍼레이터 숫자가 너무 많아 보기가 힘들었다.\n",
        "\n",
        "- 공격 , 수비 오퍼레이터로 분리해서 시각화 "
      ]
    },
    {
      "cell_type": "code",
      "execution_count": 326,
      "metadata": {
        "id": "jGDzEJMOWklx"
      },
      "outputs": [],
      "source": [
        "df_graph_ATK=df_ATK.groupby(['operator'], as_index=False).mean()\n",
        "df_graph_DEF=df_DEF.groupby(['operator'], as_index=False).mean()"
      ]
    },
    {
      "cell_type": "markdown",
      "metadata": {
        "id": "f7l3oio6EENb"
      },
      "source": [
        "날것의 데이터 그대로 픽률과 승률을 시각화 한것 \n",
        "\n",
        "- 가장 승률이 높은것은 ASH \n",
        "\n",
        "- 픽률이 많은것은 Fuze \n"
      ]
    },
    {
      "cell_type": "code",
      "source": [
        "sns.relplot(x=\"nbpicks\", y=\"win_ratio\", hue=\"operator\", style= \"operator\" , data=df_graph_ATK)\n",
        "sns.relplot(x=\"nbpicks\", y=\"win_ratio\", hue=\"operator\", style= \"operator\" , data=df_graph_DEF)\n",
        "plt.show()"
      ],
      "metadata": {
        "id": "YIibIZ5eEytK",
        "colab": {
          "base_uri": "https://localhost:8080/",
          "height": 721
        },
        "outputId": "77ec58f5-28d0-4933-9dfa-183eb82bff07"
      },
      "execution_count": 327,
      "outputs": [
        {
          "output_type": "display_data",
          "data": {
            "text/plain": [
              "<Figure size 518x360 with 1 Axes>"
            ],
            "image/png": "[encoded data removed]"
          },
          "metadata": {
            "needs_background": "light"
          }
        },
        {
          "output_type": "display_data",
          "data": {
            "text/plain": [
              "<Figure size 504.625x360 with 1 Axes>"
            ],
            "image/png": "[encoded data removed]"
          },
          "metadata": {
            "needs_background": "light"
          }
        }
      ]
    },
    {
      "cell_type": "markdown",
      "metadata": {
        "id": "8and9xcD7Hct"
      },
      "source": [
        "pandas IQR 사용 \n",
        "\n",
        "- 말하자면 불법프로그램과 스머프 유저들의 데이터일 확률이 높음 \n",
        "\n",
        "- 가장 승률이 높은것은 RESERVE ( 예비군 )들 , 기본캐릭터이기 떄문에 핵 실컷 즐기다가 정지당한것으로 보인다. \n"
      ]
    },
    {
      "cell_type": "code",
      "execution_count": 328,
      "metadata": {
        "id": "d9H_N04O6nZ5"
      },
      "outputs": [],
      "source": [
        "def outlier_ATK(target):\n",
        "   q1=df_ATK[target].quantile(0.25)\n",
        "   q2=df_ATK[target].quantile(0.5)\n",
        "   q3=df_ATK[target].quantile(0.75)\n",
        "   iqr=q3-q1\n",
        "   condition=df_ATK[target]>q3+1.5*iqr\n",
        "   df_outlier_ATK=df_ATK[condition].dropna()\n",
        "   return df_outlier_ATK\n",
        "   \n",
        "def outlier_DEF(target):\n",
        "   q1=df_DEF[target].quantile(0.25)\n",
        "   q2=df_DEF[target].quantile(0.5)\n",
        "   q3=df_DEF[target].quantile(0.75)\n",
        "   iqr=q3-q1\n",
        "   condition=df_DEF[target]>q3+1.5*iqr\n",
        "   df_outlier_DEF=df_DEF[condition].dropna()\n",
        "   return df_outlier_DEF\n",
        "\n",
        "def graph_ATK(target):\n",
        "   df_graph_ATK=(df_outlier_ATK[[\"operator\",target,\"nbpicks\"]]\n",
        "       .sort_values(by=target ,ascending=False)\n",
        "       .groupby(['operator'], as_index=False).mean())\n",
        "   return df_graph_ATK\n",
        "\n",
        "def graph_DEF(target):\n",
        "   df_graph_DEF=(df_outlier_ATK[[\"operator\",target,\"nbpicks\"]]\n",
        "       .sort_values(by=target ,ascending=False)\n",
        "       .groupby(['operator'], as_index=False).mean())\n",
        "   return df_graph_DEF\n",
        "\n",
        "# df_outlier 는 이상치 데이터 = 불법프로그램, 스머프 의심 데이터 "
      ]
    },
    {
      "cell_type": "code",
      "source": [
        "df_outlier_ATK = outlier_ATK(\"win_ratio\")\n",
        "df_outlier_DEF = outlier_DEF(\"win_ratio\")\n",
        "\n",
        "df_outlier_ATK_kda = outlier_ATK(\"k/d_ratio\")\n",
        "df_outlier_DEF_kda = outlier_DEF(\"k/d_ratio\")"
      ],
      "metadata": {
        "id": "4pBCgH0U0fpx"
      },
      "execution_count": 329,
      "outputs": []
    },
    {
      "cell_type": "code",
      "source": [
        "df_outlier_DEF.head()"
      ],
      "metadata": {
        "id": "pmXhmsOrFpgt",
        "colab": {
          "base_uri": "https://localhost:8080/",
          "height": 206
        },
        "outputId": "8e4652ce-55a6-417e-bd12-93365691635f"
      },
      "execution_count": 330,
      "outputs": [
        {
          "output_type": "execute_result",
          "data": {
            "text/plain": [
              "            operator  win_ratio  k/d_ratio  nbpicks\n",
              "135         GIGN-DOC        1.0        1.0        1\n",
              "166     GSG9-RESERVE        1.0        1.0        1\n",
              "179      SAS-RESERVE        1.0        1.0        1\n",
              "180      SAS-RESERVE        1.0        0.0        2\n",
              "205  SPETSNAZ-KAPKAN        1.0        0.5        3"
            ],
            "text/html": [
              "\n",
              "  <div id=\"df-c81ce25c-3ffe-42f7-bf68-e67a97a89696\">\n",
              "    <div class=\"colab-df-container\">\n",
              "      <div>\n",
              "<style scoped>\n",
              "    .dataframe tbody tr th:only-of-type {\n",
              "        vertical-align: middle;\n",
              "    }\n",
              "\n",
              "    .dataframe tbody tr th {\n",
              "        vertical-align: top;\n",
              "    }\n",
              "\n",
              "    .dataframe thead th {\n",
              "        text-align: right;\n",
              "    }\n",
              "</style>\n",
              "<table border=\"1\" class=\"dataframe\">\n",
              "  <thead>\n",
              "    <tr style=\"text-align: right;\">\n",
              "      <th></th>\n",
              "      <th>operator</th>\n",
              "      <th>win_ratio</th>\n",
              "      <th>k/d_ratio</th>\n",
              "      <th>nbpicks</th>\n",
              "    </tr>\n",
              "  </thead>\n",
              "  <tbody>\n",
              "    <tr>\n",
              "      <th>135</th>\n",
              "      <td>GIGN-DOC</td>\n",
              "      <td>1.0</td>\n",
              "      <td>1.0</td>\n",
              "      <td>1</td>\n",
              "    </tr>\n",
              "    <tr>\n",
              "      <th>166</th>\n",
              "      <td>GSG9-RESERVE</td>\n",
              "      <td>1.0</td>\n",
              "      <td>1.0</td>\n",
              "      <td>1</td>\n",
              "    </tr>\n",
              "    <tr>\n",
              "      <th>179</th>\n",
              "      <td>SAS-RESERVE</td>\n",
              "      <td>1.0</td>\n",
              "      <td>1.0</td>\n",
              "      <td>1</td>\n",
              "    </tr>\n",
              "    <tr>\n",
              "      <th>180</th>\n",
              "      <td>SAS-RESERVE</td>\n",
              "      <td>1.0</td>\n",
              "      <td>0.0</td>\n",
              "      <td>2</td>\n",
              "    </tr>\n",
              "    <tr>\n",
              "      <th>205</th>\n",
              "      <td>SPETSNAZ-KAPKAN</td>\n",
              "      <td>1.0</td>\n",
              "      <td>0.5</td>\n",
              "      <td>3</td>\n",
              "    </tr>\n",
              "  </tbody>\n",
              "</table>\n",
              "</div>\n",
              "      <button class=\"colab-df-convert\" onclick=\"convertToInteractive('df-c81ce25c-3ffe-42f7-bf68-e67a97a89696')\"\n",
              "              title=\"Convert this dataframe to an interactive table.\"\n",
              "              style=\"display:none;\">\n",
              "        \n",
              "  <svg xmlns=\"http://www.w3.org/2000/svg\" height=\"24px\"viewBox=\"0 0 24 24\"\n",
              "       width=\"24px\">\n",
              "    <path d=\"M0 0h24v24H0V0z\" fill=\"none\"/>\n",
              "    <path d=\"M18.56 5.44l.94 2.06.94-2.06 2.06-.94-2.06-.94-.94-2.06-.94 2.06-2.06.94zm-11 1L8.5 8.5l.94-2.06 2.06-.94-2.06-.94L8.5 2.5l-.94 2.06-2.06.94zm10 10l.94 2.06.94-2.06 2.06-.94-2.06-.94-.94-2.06-.94 2.06-2.06.94z\"/><path d=\"M17.41 7.96l-1.37-1.37c-.4-.4-.92-.59-1.43-.59-.52 0-1.04.2-1.43.59L10.3 9.45l-7.72 7.72c-.78.78-.78 2.05 0 2.83L4 21.41c.39.39.9.59 1.41.59.51 0 1.02-.2 1.41-.59l7.78-7.78 2.81-2.81c.8-.78.8-2.07 0-2.86zM5.41 20L4 18.59l7.72-7.72 1.47 1.35L5.41 20z\"/>\n",
              "  </svg>\n",
              "      </button>\n",
              "      \n",
              "  <style>\n",
              "    .colab-df-container {\n",
              "      display:flex;\n",
              "      flex-wrap:wrap;\n",
              "      gap: 12px;\n",
              "    }\n",
              "\n",
              "    .colab-df-convert {\n",
              "      background-color: #E8F0FE;\n",
              "      border: none;\n",
              "      border-radius: 50%;\n",
              "      cursor: pointer;\n",
              "      display: none;\n",
              "      fill: #1967D2;\n",
              "      height: 32px;\n",
              "      padding: 0 0 0 0;\n",
              "      width: 32px;\n",
              "    }\n",
              "\n",
              "    .colab-df-convert:hover {\n",
              "      background-color: #E2EBFA;\n",
              "      box-shadow: 0px 1px 2px rgba(60, 64, 67, 0.3), 0px 1px 3px 1px rgba(60, 64, 67, 0.15);\n",
              "      fill: #174EA6;\n",
              "    }\n",
              "\n",
              "    [theme=dark] .colab-df-convert {\n",
              "      background-color: #3B4455;\n",
              "      fill: #D2E3FC;\n",
              "    }\n",
              "\n",
              "    [theme=dark] .colab-df-convert:hover {\n",
              "      background-color: #434B5C;\n",
              "      box-shadow: 0px 1px 3px 1px rgba(0, 0, 0, 0.15);\n",
              "      filter: drop-shadow(0px 1px 2px rgba(0, 0, 0, 0.3));\n",
              "      fill: #FFFFFF;\n",
              "    }\n",
              "  </style>\n",
              "\n",
              "      <script>\n",
              "        const buttonEl =\n",
              "          document.querySelector('#df-c81ce25c-3ffe-42f7-bf68-e67a97a89696 button.colab-df-convert');\n",
              "        buttonEl.style.display =\n",
              "          google.colab.kernel.accessAllowed ? 'block' : 'none';\n",
              "\n",
              "        async function convertToInteractive(key) {\n",
              "          const element = document.querySelector('#df-c81ce25c-3ffe-42f7-bf68-e67a97a89696');\n",
              "          const dataTable =\n",
              "            await google.colab.kernel.invokeFunction('convertToInteractive',\n",
              "                                                     [key], {});\n",
              "          if (!dataTable) return;\n",
              "\n",
              "          const docLinkHtml = 'Like what you see? Visit the ' +\n",
              "            '<a target=\"_blank\" href=https://colab.research.google.com/notebooks/data_table.ipynb>data table notebook</a>'\n",
              "            + ' to learn more about interactive tables.';\n",
              "          element.innerHTML = '';\n",
              "          dataTable['output_type'] = 'display_data';\n",
              "          await google.colab.output.renderOutput(dataTable, element);\n",
              "          const docLink = document.createElement('div');\n",
              "          docLink.innerHTML = docLinkHtml;\n",
              "          element.appendChild(docLink);\n",
              "        }\n",
              "      </script>\n",
              "    </div>\n",
              "  </div>\n",
              "  "
            ]
          },
          "metadata": {},
          "execution_count": 330
        }
      ]
    },
    {
      "cell_type": "code",
      "execution_count": 331,
      "metadata": {
        "id": "e4uGNjlXNjFJ",
        "colab": {
          "base_uri": "https://localhost:8080/",
          "height": 721
        },
        "outputId": "2b39289f-63d1-461c-ffcb-0d5e764a32db"
      },
      "outputs": [
        {
          "output_type": "display_data",
          "data": {
            "text/plain": [
              "<Figure size 518x360 with 1 Axes>"
            ],
            "image/png": "[encoded data removed]"
          },
          "metadata": {
            "needs_background": "light"
          }
        },
        {
          "output_type": "display_data",
          "data": {
            "text/plain": [
              "<Figure size 518x360 with 1 Axes>"
            ],
            "image/png": "[encoded data removed]"
          },
          "metadata": {
            "needs_background": "light"
          }
        }
      ],
      "source": [
        "sns.relplot(x=\"nbpicks\", y=\"win_ratio\", hue=\"operator\", style= \"operator\" , data=graph_ATK(\"win_ratio\"))\n",
        "sns.relplot(x=\"nbpicks\", y=\"win_ratio\", hue=\"operator\", style= \"operator\" , data=graph_DEF(\"win_ratio\"))\n",
        "plt.show()"
      ]
    },
    {
      "cell_type": "code",
      "execution_count": 332,
      "metadata": {
        "id": "wDxAED8AJonY"
      },
      "outputs": [],
      "source": [
        "df_ATK = df_ATK.drop(df_outlier_ATK.index, axis=0)\n",
        "df_DEF = df_DEF.drop(df_outlier_DEF.index, axis=0)"
      ]
    },
    {
      "cell_type": "code",
      "source": [],
      "metadata": {
        "id": "l5xR9YJANNh1"
      },
      "execution_count": 332,
      "outputs": []
    },
    {
      "cell_type": "markdown",
      "metadata": {
        "id": "_uOcV8iBE8Zv"
      },
      "source": [
        "- 결측값을 제외한 데이터\n",
        "\n",
        "- 예비군들은 아무도 안하는것을 볼 수 있다. \n",
        "\n",
        "- 이상치가 있고 없고의 차이가 꽤 큰편 "
      ]
    },
    {
      "cell_type": "code",
      "execution_count": 333,
      "metadata": {
        "id": "21Sa6m7eKutj",
        "colab": {
          "base_uri": "https://localhost:8080/",
          "height": 721
        },
        "outputId": "9aeaba64-0e30-4889-aa14-74c088bb7fe3"
      },
      "outputs": [
        {
          "output_type": "display_data",
          "data": {
            "text/plain": [
              "<Figure size 518x360 with 1 Axes>"
            ],
            "image/png": "[encoded data removed]"
          },
          "metadata": {
            "needs_background": "light"
          }
        },
        {
          "output_type": "display_data",
          "data": {
            "text/plain": [
              "<Figure size 504.625x360 with 1 Axes>"
            ],
            "image/png": "[encoded data removed]"
          },
          "metadata": {
            "needs_background": "light"
          }
        }
      ],
      "source": [
        "sns.relplot(x=\"nbpicks\", y=\"win_ratio\", hue=\"operator\", style= \"operator\" , data=df_graph_ATK)\n",
        "sns.relplot(x=\"nbpicks\", y=\"win_ratio\", hue=\"operator\", style= \"operator\" , data=df_graph_DEF)\n",
        "plt.show()"
      ]
    },
    {
      "cell_type": "code",
      "source": [
        "df_ATK"
      ],
      "metadata": {
        "id": "duj2c_oSFhVk",
        "colab": {
          "base_uri": "https://localhost:8080/",
          "height": 424
        },
        "outputId": "a78c9e54-ca60-41c9-a3cc-773f5c3bac95"
      },
      "execution_count": 334,
      "outputs": [
        {
          "output_type": "execute_result",
          "data": {
            "text/plain": [
              "             operator  win_ratio  k/d_ratio  nbpicks\n",
              "0        BOPE-CAPITAO   0.750000   1.000000        8\n",
              "1        BOPE-CAPITAO   0.500000   0.333333        8\n",
              "2        BOPE-CAPITAO   0.528571   0.816327       70\n",
              "3        BOPE-CAPITAO   0.414634   0.774194       41\n",
              "4       G.E.O.-JACKAL   0.425287   0.968504      174\n",
              "...               ...        ...        ...      ...\n",
              "509549  SWAT-THERMITE   0.471631   0.737864      282\n",
              "509550  SWAT-THERMITE   0.393939   0.532468       99\n",
              "509551  SWAT-THERMITE   0.500000   0.000000        4\n",
              "509552  SWAT-THERMITE   0.500000   0.666667        6\n",
              "509553  SWAT-THERMITE   0.000000   0.500000        2\n",
              "\n",
              "[234897 rows x 4 columns]"
            ],
            "text/html": [
              "\n",
              "  <div id=\"df-0b530584-5cae-4201-8d74-28106e80094d\">\n",
              "    <div class=\"colab-df-container\">\n",
              "      <div>\n",
              "<style scoped>\n",
              "    .dataframe tbody tr th:only-of-type {\n",
              "        vertical-align: middle;\n",
              "    }\n",
              "\n",
              "    .dataframe tbody tr th {\n",
              "        vertical-align: top;\n",
              "    }\n",
              "\n",
              "    .dataframe thead th {\n",
              "        text-align: right;\n",
              "    }\n",
              "</style>\n",
              "<table border=\"1\" class=\"dataframe\">\n",
              "  <thead>\n",
              "    <tr style=\"text-align: right;\">\n",
              "      <th></th>\n",
              "      <th>operator</th>\n",
              "      <th>win_ratio</th>\n",
              "      <th>k/d_ratio</th>\n",
              "      <th>nbpicks</th>\n",
              "    </tr>\n",
              "  </thead>\n",
              "  <tbody>\n",
              "    <tr>\n",
              "      <th>0</th>\n",
              "      <td>BOPE-CAPITAO</td>\n",
              "      <td>0.750000</td>\n",
              "      <td>1.000000</td>\n",
              "      <td>8</td>\n",
              "    </tr>\n",
              "    <tr>\n",
              "      <th>1</th>\n",
              "      <td>BOPE-CAPITAO</td>\n",
              "      <td>0.500000</td>\n",
              "      <td>0.333333</td>\n",
              "      <td>8</td>\n",
              "    </tr>\n",
              "    <tr>\n",
              "      <th>2</th>\n",
              "      <td>BOPE-CAPITAO</td>\n",
              "      <td>0.528571</td>\n",
              "      <td>0.816327</td>\n",
              "      <td>70</td>\n",
              "    </tr>\n",
              "    <tr>\n",
              "      <th>3</th>\n",
              "      <td>BOPE-CAPITAO</td>\n",
              "      <td>0.414634</td>\n",
              "      <td>0.774194</td>\n",
              "      <td>41</td>\n",
              "    </tr>\n",
              "    <tr>\n",
              "      <th>4</th>\n",
              "      <td>G.E.O.-JACKAL</td>\n",
              "      <td>0.425287</td>\n",
              "      <td>0.968504</td>\n",
              "      <td>174</td>\n",
              "    </tr>\n",
              "    <tr>\n",
              "      <th>...</th>\n",
              "      <td>...</td>\n",
              "      <td>...</td>\n",
              "      <td>...</td>\n",
              "      <td>...</td>\n",
              "    </tr>\n",
              "    <tr>\n",
              "      <th>509549</th>\n",
              "      <td>SWAT-THERMITE</td>\n",
              "      <td>0.471631</td>\n",
              "      <td>0.737864</td>\n",
              "      <td>282</td>\n",
              "    </tr>\n",
              "    <tr>\n",
              "      <th>509550</th>\n",
              "      <td>SWAT-THERMITE</td>\n",
              "      <td>0.393939</td>\n",
              "      <td>0.532468</td>\n",
              "      <td>99</td>\n",
              "    </tr>\n",
              "    <tr>\n",
              "      <th>509551</th>\n",
              "      <td>SWAT-THERMITE</td>\n",
              "      <td>0.500000</td>\n",
              "      <td>0.000000</td>\n",
              "      <td>4</td>\n",
              "    </tr>\n",
              "    <tr>\n",
              "      <th>509552</th>\n",
              "      <td>SWAT-THERMITE</td>\n",
              "      <td>0.500000</td>\n",
              "      <td>0.666667</td>\n",
              "      <td>6</td>\n",
              "    </tr>\n",
              "    <tr>\n",
              "      <th>509553</th>\n",
              "      <td>SWAT-THERMITE</td>\n",
              "      <td>0.000000</td>\n",
              "      <td>0.500000</td>\n",
              "      <td>2</td>\n",
              "    </tr>\n",
              "  </tbody>\n",
              "</table>\n",
              "<p>234897 rows × 4 columns</p>\n",
              "</div>\n",
              "      <button class=\"colab-df-convert\" onclick=\"convertToInteractive('df-0b530584-5cae-4201-8d74-28106e80094d')\"\n",
              "              title=\"Convert this dataframe to an interactive table.\"\n",
              "              style=\"display:none;\">\n",
              "        \n",
              "  <svg xmlns=\"http://www.w3.org/2000/svg\" height=\"24px\"viewBox=\"0 0 24 24\"\n",
              "       width=\"24px\">\n",
              "    <path d=\"M0 0h24v24H0V0z\" fill=\"none\"/>\n",
              "    <path d=\"M18.56 5.44l.94 2.06.94-2.06 2.06-.94-2.06-.94-.94-2.06-.94 2.06-2.06.94zm-11 1L8.5 8.5l.94-2.06 2.06-.94-2.06-.94L8.5 2.5l-.94 2.06-2.06.94zm10 10l.94 2.06.94-2.06 2.06-.94-2.06-.94-.94-2.06-.94 2.06-2.06.94z\"/><path d=\"M17.41 7.96l-1.37-1.37c-.4-.4-.92-.59-1.43-.59-.52 0-1.04.2-1.43.59L10.3 9.45l-7.72 7.72c-.78.78-.78 2.05 0 2.83L4 21.41c.39.39.9.59 1.41.59.51 0 1.02-.2 1.41-.59l7.78-7.78 2.81-2.81c.8-.78.8-2.07 0-2.86zM5.41 20L4 18.59l7.72-7.72 1.47 1.35L5.41 20z\"/>\n",
              "  </svg>\n",
              "      </button>\n",
              "      \n",
              "  <style>\n",
              "    .colab-df-container {\n",
              "      display:flex;\n",
              "      flex-wrap:wrap;\n",
              "      gap: 12px;\n",
              "    }\n",
              "\n",
              "    .colab-df-convert {\n",
              "      background-color: #E8F0FE;\n",
              "      border: none;\n",
              "      border-radius: 50%;\n",
              "      cursor: pointer;\n",
              "      display: none;\n",
              "      fill: #1967D2;\n",
              "      height: 32px;\n",
              "      padding: 0 0 0 0;\n",
              "      width: 32px;\n",
              "    }\n",
              "\n",
              "    .colab-df-convert:hover {\n",
              "      background-color: #E2EBFA;\n",
              "      box-shadow: 0px 1px 2px rgba(60, 64, 67, 0.3), 0px 1px 3px 1px rgba(60, 64, 67, 0.15);\n",
              "      fill: #174EA6;\n",
              "    }\n",
              "\n",
              "    [theme=dark] .colab-df-convert {\n",
              "      background-color: #3B4455;\n",
              "      fill: #D2E3FC;\n",
              "    }\n",
              "\n",
              "    [theme=dark] .colab-df-convert:hover {\n",
              "      background-color: #434B5C;\n",
              "      box-shadow: 0px 1px 3px 1px rgba(0, 0, 0, 0.15);\n",
              "      filter: drop-shadow(0px 1px 2px rgba(0, 0, 0, 0.3));\n",
              "      fill: #FFFFFF;\n",
              "    }\n",
              "  </style>\n",
              "\n",
              "      <script>\n",
              "        const buttonEl =\n",
              "          document.querySelector('#df-0b530584-5cae-4201-8d74-28106e80094d button.colab-df-convert');\n",
              "        buttonEl.style.display =\n",
              "          google.colab.kernel.accessAllowed ? 'block' : 'none';\n",
              "\n",
              "        async function convertToInteractive(key) {\n",
              "          const element = document.querySelector('#df-0b530584-5cae-4201-8d74-28106e80094d');\n",
              "          const dataTable =\n",
              "            await google.colab.kernel.invokeFunction('convertToInteractive',\n",
              "                                                     [key], {});\n",
              "          if (!dataTable) return;\n",
              "\n",
              "          const docLinkHtml = 'Like what you see? Visit the ' +\n",
              "            '<a target=\"_blank\" href=https://colab.research.google.com/notebooks/data_table.ipynb>data table notebook</a>'\n",
              "            + ' to learn more about interactive tables.';\n",
              "          element.innerHTML = '';\n",
              "          dataTable['output_type'] = 'display_data';\n",
              "          await google.colab.output.renderOutput(dataTable, element);\n",
              "          const docLink = document.createElement('div');\n",
              "          docLink.innerHTML = docLinkHtml;\n",
              "          element.appendChild(docLink);\n",
              "        }\n",
              "      </script>\n",
              "    </div>\n",
              "  </div>\n",
              "  "
            ]
          },
          "metadata": {},
          "execution_count": 334
        }
      ]
    },
    {
      "cell_type": "code",
      "execution_count": 335,
      "metadata": {
        "id": "05qnXKu3R_7X"
      },
      "outputs": [],
      "source": [
        "df_operators_drop_ATK = df_operators[df_operators[\"role\"]==\"Attacker\"].drop(df_outlier_ATK.index, axis=0)\n",
        "df_operators_drop_DEF = df_operators[df_operators[\"role\"]==\"Defender\"].drop(df_outlier_DEF.index, axis=0)\n",
        "\n",
        "weapone_ATK = df_operators_drop_ATK\n",
        "weapone_DEF = df_operators_drop_DEF"
      ]
    },
    {
      "cell_type": "code",
      "source": [
        "weapone_ATK.head()"
      ],
      "metadata": {
        "colab": {
          "base_uri": "https://localhost:8080/",
          "height": 206
        },
        "id": "BbLixygQwUER",
        "outputId": "1b7a1d20-af9f-4dd6-a423-c22ecf478722"
      },
      "execution_count": 336,
      "outputs": [
        {
          "output_type": "execute_result",
          "data": {
            "text/plain": [
              "  platform    dateid skillrank      role       operator primaryweapon  \\\n",
              "0       PC  20170210    Bronze  Attacker   BOPE-CAPITAO          M249   \n",
              "1       PC  20170210    Bronze  Attacker   BOPE-CAPITAO          M249   \n",
              "2       PC  20170210    Bronze  Attacker   BOPE-CAPITAO      PARA-308   \n",
              "3       PC  20170210    Bronze  Attacker   BOPE-CAPITAO      PARA-308   \n",
              "4       PC  20170210    Bronze  Attacker  G.E.O.-JACKAL           C7E   \n",
              "\n",
              "  secondaryweapon secondarygadget  nbwins  nbkills  nbdeaths  nbpicks  \\\n",
              "0           PRB92        CLAYMORE       6        6         6        8   \n",
              "1           PRB92    STUN GRENADE       4        2         6        8   \n",
              "2           PRB92        CLAYMORE      37       40        49       70   \n",
              "3           PRB92    STUN GRENADE      17       24        31       41   \n",
              "4          ITA12S   BREACH CHARGE      74      123       127      174   \n",
              "\n",
              "   k/d_ratio  win_ratio  \n",
              "0   1.000000   0.750000  \n",
              "1   0.333333   0.500000  \n",
              "2   0.816327   0.528571  \n",
              "3   0.774194   0.414634  \n",
              "4   0.968504   0.425287  "
            ],
            "text/html": [
              "\n",
              "  <div id=\"df-b2db3de9-a51f-4451-883c-83434ebf72b8\">\n",
              "    <div class=\"colab-df-container\">\n",
              "      <div>\n",
              "<style scoped>\n",
              "    .dataframe tbody tr th:only-of-type {\n",
              "        vertical-align: middle;\n",
              "    }\n",
              "\n",
              "    .dataframe tbody tr th {\n",
              "        vertical-align: top;\n",
              "    }\n",
              "\n",
              "    .dataframe thead th {\n",
              "        text-align: right;\n",
              "    }\n",
              "</style>\n",
              "<table border=\"1\" class=\"dataframe\">\n",
              "  <thead>\n",
              "    <tr style=\"text-align: right;\">\n",
              "      <th></th>\n",
              "      <th>platform</th>\n",
              "      <th>dateid</th>\n",
              "      <th>skillrank</th>\n",
              "      <th>role</th>\n",
              "      <th>operator</th>\n",
              "      <th>primaryweapon</th>\n",
              "      <th>secondaryweapon</th>\n",
              "      <th>secondarygadget</th>\n",
              "      <th>nbwins</th>\n",
              "      <th>nbkills</th>\n",
              "      <th>nbdeaths</th>\n",
              "      <th>nbpicks</th>\n",
              "      <th>k/d_ratio</th>\n",
              "      <th>win_ratio</th>\n",
              "    </tr>\n",
              "  </thead>\n",
              "  <tbody>\n",
              "    <tr>\n",
              "      <th>0</th>\n",
              "      <td>PC</td>\n",
              "      <td>20170210</td>\n",
              "      <td>Bronze</td>\n",
              "      <td>Attacker</td>\n",
              "      <td>BOPE-CAPITAO</td>\n",
              "      <td>M249</td>\n",
              "      <td>PRB92</td>\n",
              "      <td>CLAYMORE</td>\n",
              "      <td>6</td>\n",
              "      <td>6</td>\n",
              "      <td>6</td>\n",
              "      <td>8</td>\n",
              "      <td>1.000000</td>\n",
              "      <td>0.750000</td>\n",
              "    </tr>\n",
              "    <tr>\n",
              "      <th>1</th>\n",
              "      <td>PC</td>\n",
              "      <td>20170210</td>\n",
              "      <td>Bronze</td>\n",
              "      <td>Attacker</td>\n",
              "      <td>BOPE-CAPITAO</td>\n",
              "      <td>M249</td>\n",
              "      <td>PRB92</td>\n",
              "      <td>STUN GRENADE</td>\n",
              "      <td>4</td>\n",
              "      <td>2</td>\n",
              "      <td>6</td>\n",
              "      <td>8</td>\n",
              "      <td>0.333333</td>\n",
              "      <td>0.500000</td>\n",
              "    </tr>\n",
              "    <tr>\n",
              "      <th>2</th>\n",
              "      <td>PC</td>\n",
              "      <td>20170210</td>\n",
              "      <td>Bronze</td>\n",
              "      <td>Attacker</td>\n",
              "      <td>BOPE-CAPITAO</td>\n",
              "      <td>PARA-308</td>\n",
              "      <td>PRB92</td>\n",
              "      <td>CLAYMORE</td>\n",
              "      <td>37</td>\n",
              "      <td>40</td>\n",
              "      <td>49</td>\n",
              "      <td>70</td>\n",
              "      <td>0.816327</td>\n",
              "      <td>0.528571</td>\n",
              "    </tr>\n",
              "    <tr>\n",
              "      <th>3</th>\n",
              "      <td>PC</td>\n",
              "      <td>20170210</td>\n",
              "      <td>Bronze</td>\n",
              "      <td>Attacker</td>\n",
              "      <td>BOPE-CAPITAO</td>\n",
              "      <td>PARA-308</td>\n",
              "      <td>PRB92</td>\n",
              "      <td>STUN GRENADE</td>\n",
              "      <td>17</td>\n",
              "      <td>24</td>\n",
              "      <td>31</td>\n",
              "      <td>41</td>\n",
              "      <td>0.774194</td>\n",
              "      <td>0.414634</td>\n",
              "    </tr>\n",
              "    <tr>\n",
              "      <th>4</th>\n",
              "      <td>PC</td>\n",
              "      <td>20170210</td>\n",
              "      <td>Bronze</td>\n",
              "      <td>Attacker</td>\n",
              "      <td>G.E.O.-JACKAL</td>\n",
              "      <td>C7E</td>\n",
              "      <td>ITA12S</td>\n",
              "      <td>BREACH CHARGE</td>\n",
              "      <td>74</td>\n",
              "      <td>123</td>\n",
              "      <td>127</td>\n",
              "      <td>174</td>\n",
              "      <td>0.968504</td>\n",
              "      <td>0.425287</td>\n",
              "    </tr>\n",
              "  </tbody>\n",
              "</table>\n",
              "</div>\n",
              "      <button class=\"colab-df-convert\" onclick=\"convertToInteractive('df-b2db3de9-a51f-4451-883c-83434ebf72b8')\"\n",
              "              title=\"Convert this dataframe to an interactive table.\"\n",
              "              style=\"display:none;\">\n",
              "        \n",
              "  <svg xmlns=\"http://www.w3.org/2000/svg\" height=\"24px\"viewBox=\"0 0 24 24\"\n",
              "       width=\"24px\">\n",
              "    <path d=\"M0 0h24v24H0V0z\" fill=\"none\"/>\n",
              "    <path d=\"M18.56 5.44l.94 2.06.94-2.06 2.06-.94-2.06-.94-.94-2.06-.94 2.06-2.06.94zm-11 1L8.5 8.5l.94-2.06 2.06-.94-2.06-.94L8.5 2.5l-.94 2.06-2.06.94zm10 10l.94 2.06.94-2.06 2.06-.94-2.06-.94-.94-2.06-.94 2.06-2.06.94z\"/><path d=\"M17.41 7.96l-1.37-1.37c-.4-.4-.92-.59-1.43-.59-.52 0-1.04.2-1.43.59L10.3 9.45l-7.72 7.72c-.78.78-.78 2.05 0 2.83L4 21.41c.39.39.9.59 1.41.59.51 0 1.02-.2 1.41-.59l7.78-7.78 2.81-2.81c.8-.78.8-2.07 0-2.86zM5.41 20L4 18.59l7.72-7.72 1.47 1.35L5.41 20z\"/>\n",
              "  </svg>\n",
              "      </button>\n",
              "      \n",
              "  <style>\n",
              "    .colab-df-container {\n",
              "      display:flex;\n",
              "      flex-wrap:wrap;\n",
              "      gap: 12px;\n",
              "    }\n",
              "\n",
              "    .colab-df-convert {\n",
              "      background-color: #E8F0FE;\n",
              "      border: none;\n",
              "      border-radius: 50%;\n",
              "      cursor: pointer;\n",
              "      display: none;\n",
              "      fill: #1967D2;\n",
              "      height: 32px;\n",
              "      padding: 0 0 0 0;\n",
              "      width: 32px;\n",
              "    }\n",
              "\n",
              "    .colab-df-convert:hover {\n",
              "      background-color: #E2EBFA;\n",
              "      box-shadow: 0px 1px 2px rgba(60, 64, 67, 0.3), 0px 1px 3px 1px rgba(60, 64, 67, 0.15);\n",
              "      fill: #174EA6;\n",
              "    }\n",
              "\n",
              "    [theme=dark] .colab-df-convert {\n",
              "      background-color: #3B4455;\n",
              "      fill: #D2E3FC;\n",
              "    }\n",
              "\n",
              "    [theme=dark] .colab-df-convert:hover {\n",
              "      background-color: #434B5C;\n",
              "      box-shadow: 0px 1px 3px 1px rgba(0, 0, 0, 0.15);\n",
              "      filter: drop-shadow(0px 1px 2px rgba(0, 0, 0, 0.3));\n",
              "      fill: #FFFFFF;\n",
              "    }\n",
              "  </style>\n",
              "\n",
              "      <script>\n",
              "        const buttonEl =\n",
              "          document.querySelector('#df-b2db3de9-a51f-4451-883c-83434ebf72b8 button.colab-df-convert');\n",
              "        buttonEl.style.display =\n",
              "          google.colab.kernel.accessAllowed ? 'block' : 'none';\n",
              "\n",
              "        async function convertToInteractive(key) {\n",
              "          const element = document.querySelector('#df-b2db3de9-a51f-4451-883c-83434ebf72b8');\n",
              "          const dataTable =\n",
              "            await google.colab.kernel.invokeFunction('convertToInteractive',\n",
              "                                                     [key], {});\n",
              "          if (!dataTable) return;\n",
              "\n",
              "          const docLinkHtml = 'Like what you see? Visit the ' +\n",
              "            '<a target=\"_blank\" href=https://colab.research.google.com/notebooks/data_table.ipynb>data table notebook</a>'\n",
              "            + ' to learn more about interactive tables.';\n",
              "          element.innerHTML = '';\n",
              "          dataTable['output_type'] = 'display_data';\n",
              "          await google.colab.output.renderOutput(dataTable, element);\n",
              "          const docLink = document.createElement('div');\n",
              "          docLink.innerHTML = docLinkHtml;\n",
              "          element.appendChild(docLink);\n",
              "        }\n",
              "      </script>\n",
              "    </div>\n",
              "  </div>\n",
              "  "
            ]
          },
          "metadata": {},
          "execution_count": 336
        }
      ]
    },
    {
      "cell_type": "markdown",
      "metadata": {
        "id": "vDaald1mTmAK"
      },
      "source": [
        "- 전체 유저의 무기 선호도 그리고 KDA를 트리구조로 표현해볼생각이다.\n",
        "\n",
        "- 수비팀은 SG의 성능이 제법 괜찮고 , 왠만해선 한팀에 하나는 챙겨가는 편이다, \n",
        "\n",
        "- 그러니 공격팀보다는 수비팀의 샷건 KDA가 좀더 높을것이다( 물론 다른 총기 대비 낮겠지만 ) "
      ]
    },
    {
      "cell_type": "code",
      "execution_count": 337,
      "metadata": {
        "id": "vJSzXthATjfh"
      },
      "outputs": [],
      "source": [
        "AR = [\"PARA-308\" , \"C7E\" , \"416-C CARBINE\" , \"F2\" ,\"C8-SFW\", \"AUG A2\", \"552 COMMANDO\",\"AR33\" , \"L85A2\" , \"G36C\" , \"AK-12\" , \"R4-C\" , \"556XI\" ,\"TYPE-89\", \"MK17 CQB\"] \n",
        "SMG = [\"PDW9\" , \"UMP45\",\"MP5\" ,\"P90\" , \"9mm C1\",\"VECTOR .45 ACP\",\"9x19VSN\" ,\"FMG-9\", \"MP5SD\" , \"MPX\", \"MP7\" , \"M12\",\"MP5K\"]  \n",
        "SG = [\"SG-CQB\",\"M1014\" , \"SASG-12\" , \"SuperNova\" , \"SPAS-12\" , \"M590A1\",\"M870\",\"ITA12L\",\"SUPER 90\",\"SPAS-15\",\"\"]\n",
        "SR = [\"HK417\" , \"C8-SFW\"  , \"CAMRS\" ,\"OTs-03\",\"SR-25\"]\n",
        "LMG = [\"M249\", \"G8A1\" , \"6P41\"]\n",
        "\n",
        "for ar  in AR :\n",
        "  df_operators_drop_ATK = df_operators_drop_ATK.replace(ar , \"AR\")\n",
        "  df_operators_drop_DEF = df_operators_drop_DEF.replace(ar , \"AR\")\n",
        "for smg in SMG:\n",
        "  df_operators_drop_ATK = df_operators_drop_ATK.replace(smg , \"SMG\")\n",
        "  df_operators_drop_DEF = df_operators_drop_DEF.replace(smg , \"SMG\")\n",
        "for sg in SG:\n",
        "  df_operators_drop_ATK = df_operators_drop_ATK.replace(sg , \"SG\")\n",
        "  df_operators_drop_DEF = df_operators_drop_DEF.replace(sg , \"SG\")\n",
        "for sr in SR:\n",
        "  df_operators_drop_ATK = df_operators_drop_ATK.replace(sr , \"SR\")\n",
        "  df_operators_drop_DEF = df_operators_drop_DEF.replace(sr , \"SR\")\n",
        "for lmg in LMG:\n",
        "  df_operators_drop_ATK = df_operators_drop_ATK.replace(lmg , \"LMG\")\n",
        "  df_operators_drop_DEF = df_operators_drop_DEF.replace(lmg , \"LMG\")\n",
        "\n",
        "\n",
        "# 우선 공/수 를 나눈다, 공격팀과 수비팀이 사용가능한 무기가 다르고, 팀원중 하나가 왠만하면 들어야 하는 무기가 존재한다 (ex : 샷건류 for 공사)\n"
      ]
    },
    {
      "cell_type": "code",
      "execution_count": 338,
      "metadata": {
        "id": "09uBbm78kcB_"
      },
      "outputs": [],
      "source": [
        "ATK_encoder_KD = df_operators_drop_ATK#[[\"primaryweapon\",\"k/d_ratio\"]]\n",
        "ATK_encoder_WIN = df_operators_drop_ATK#[[\"primaryweapon\",\"win_ratio\"]]\n",
        "\n",
        "DEF_encoder_KD = df_operators_drop_DEF#[[\"primaryweapon\",\"k/d_ratio\"]]\n",
        "DEF_encoder_WIN = df_operators_drop_DEF#[[\"primaryweapon\",\"win_ratio\"]]"
      ]
    },
    {
      "cell_type": "code",
      "execution_count": 339,
      "metadata": {
        "id": "FHw30VbmvJMs"
      },
      "outputs": [],
      "source": [
        "#ATK_encoder_KD"
      ]
    },
    {
      "cell_type": "code",
      "source": [
        "#DEF_encoder_KD"
      ],
      "metadata": {
        "id": "FpT6MxK1DYZw"
      },
      "execution_count": 340,
      "outputs": []
    },
    {
      "cell_type": "code",
      "execution_count": 341,
      "metadata": {
        "id": "1-vI8-Hwgiei"
      },
      "outputs": [],
      "source": [
        "from category_encoders import OneHotEncoder\n",
        "from sklearn.tree import DecisionTreeRegressor\n",
        "\n",
        "encoder_ATK = OneHotEncoder(use_cat_names= True)\n",
        "encoder_DEF = OneHotEncoder(use_cat_names= True)\n",
        "\n",
        "ATK_encoder_KD = encoder_ATK.fit_transform(ATK_encoder_KD)\n",
        "DEF_encoder_KD = encoder_DEF.fit_transform(DEF_encoder_KD)\n"
      ]
    },
    {
      "cell_type": "markdown",
      "metadata": {
        "id": "Q2oj-9P1Li_V"
      },
      "source": [
        "결정트리로 각 무기별 KDA를 시각화 하여 한눈에 보고싶다. 하지만 K/D ratio가 float이기에 결정 트리 써먹기가 쉽지 않음 \n",
        "\n",
        "- 그렇기에 전체값에 *100을 하고 뒷자리 전부 잘라내는 방식으로 진행 "
      ]
    },
    {
      "cell_type": "code",
      "execution_count": 342,
      "metadata": {
        "id": "ZFsF5x-xvm9j"
      },
      "outputs": [],
      "source": [
        "import graphviz\n",
        "from sklearn.model_selection import train_test_split\n",
        "from sklearn.tree import DecisionTreeRegressor,export_graphviz\n",
        "from sklearn.metrics import accuracy_score\n",
        "weapon_list_ATK = [\"primaryweapon_LMG\", \"primaryweapon_AR\" ,\"primaryweapon_SMG\",\"primaryweapon_Shield\",\"primaryweapon_SR\",\"primaryweapon_SG\"]\n",
        "weapon_list_DEF = [ \"primaryweapon_AR\" ,\"primaryweapon_SMG\",\"primaryweapon_SG\"]"
      ]
    },
    {
      "cell_type": "code",
      "execution_count": 343,
      "metadata": {
        "id": "0fgxc0EAvY7x"
      },
      "outputs": [],
      "source": [
        "def DTR_ATK(target):\n",
        "  tree_reg_ATK = DecisionTreeRegressor()\n",
        "\n",
        "  col_ATK = ATK_encoder_KD[weapon_list_ATK]\n",
        "\n",
        "  target = ATK_encoder_KD[[target]]\n",
        "\n",
        "  X_train , X_test , y_train, y_test = train_test_split(col_ATK , target , test_size = 0.2 , random_state=11)\n",
        "  tree_reg_ATK.fit(X_train, y_train)\n",
        "  y_pred=tree_reg_ATK.predict(X_test)\n",
        "  accur=tree_reg_ATK.score(X_test,y_pred)\n",
        "\n",
        "  return print(accur)\n",
        "\n",
        "\n",
        "def DTR_DEF(target):\n",
        "  tree_reg_DEF = DecisionTreeRegressor()\n",
        "\n",
        "  col_DEF = DEF_encoder_KD[weapon_list_DEF]\n",
        "\n",
        "  target = DEF_encoder_KD[[target]]\n",
        "\n",
        "  X_train , X_test , y_train, y_test = train_test_split(col_DEF , target , test_size = 0.2 , random_state=11)\n",
        "  tree_reg_DEF.fit(X_train, y_train)\n",
        "\n",
        "  y_pred=tree_reg_DEF.predict(X_test)\n",
        "  accur=tree_reg_DEF.score(X_test,y_pred)\n",
        "  return print(accur)\n",
        "\n",
        "def show_tree(tree, colnames):\n",
        "    dot = export_graphviz(tree, feature_names=colnames, filled=True, rounded=True)   \n",
        "    return graphviz.Source(dot)\n",
        "#print('R2', tree.score(col, target))\n",
        "#show_tree(tree, colnames=col.columns)\n",
        "#X_col , y_test = pd.DataFrame(data=cols) , "
      ]
    },
    {
      "cell_type": "code",
      "source": [
        "DTR_ATK(\"k/d_ratio\")\n",
        "DTR_DEF(\"k/d_ratio\")\n",
        "DTR_ATK(\"win_ratio\")\n",
        "DTR_DEF(\"win_ratio\")"
      ],
      "metadata": {
        "colab": {
          "base_uri": "https://localhost:8080/"
        },
        "id": "-m1Q00sKFu2w",
        "outputId": "f43f6602-fde7-4ba3-bace-2a8a484cc42a"
      },
      "execution_count": 344,
      "outputs": [
        {
          "output_type": "stream",
          "name": "stdout",
          "text": [
            "1.0\n",
            "1.0\n",
            "1.0\n",
            "1.0\n"
          ]
        }
      ]
    },
    {
      "cell_type": "code",
      "execution_count": 345,
      "metadata": {
        "id": "h4uNVnHaiIl1"
      },
      "outputs": [],
      "source": [
        "def TREE_ATK(target):\n",
        "  col_ATK = ATK_encoder_KD[ATK_encoder_KD.columns]\n",
        "  target_ATK = ATK_encoder_KD[target]\n",
        "  tree_ATK = DecisionTreeRegressor()\n",
        "  tree_ATK.fit(col_ATK[weapon_list_ATK], target_ATK)\n",
        "\n",
        "  return tree_ATK\n",
        "\n",
        "def TREE_DEF(target):\n",
        "  col_DEF = DEF_encoder_KD[DEF_encoder_KD.columns]\n",
        "  target_DEF = DEF_encoder_KD[[\"k/d_ratio\"]]\n",
        "  tree_DEF = DecisionTreeRegressor()\n",
        "  tree_DEF.fit(col_DEF[weapon_list_DEF], target_DEF)\n",
        "\n",
        "  return tree_DEF\n",
        "\n",
        "#show_tree(DTR_ATK(\"k/d_ratio\"), colnames=ATK_encoder_KD.columns)\n"
      ]
    },
    {
      "cell_type": "code",
      "source": [
        "show_tree(TREE_ATK(\"k/d_ratio\"), colnames=weapon_list_ATK)\n"
      ],
      "metadata": {
        "colab": {
          "base_uri": "https://localhost:8080/",
          "height": 794
        },
        "id": "4SKg684k9S8H",
        "outputId": "45df4bed-0713-42bc-d1f5-7a5b8b28631b"
      },
      "execution_count": 346,
      "outputs": [
        {
          "output_type": "execute_result",
          "data": {
            "text/plain": [
              "<graphviz.files.Source at 0x7f609aff3340>"
            ],
            "image/svg+xml": "<?xml version=\"1.0\" encoding=\"UTF-8\" standalone=\"no\"?>\n<!DOCTYPE svg PUBLIC \"-//W3C//DTD SVG 1.1//EN\"\n \"http://www.w3.org/Graphics/SVG/1.1/DTD/svg11.dtd\">\n<!-- Generated by graphviz version 2.43.0 (0)\n -->\n<!-- Title: Tree Pages: 1 -->\n<svg width=\"715pt\" height=\"581pt\"\n viewBox=\"0.00 0.00 715.00 581.00\" xmlns=\"http://www.w3.org/2000/svg\" xmlns:xlink=\"http://www.w3.org/1999/xlink\">\n<g id=\"graph0\" class=\"graph\" transform=\"scale(1 1) rotate(0) translate(4 577)\">\n<title>Tree</title>\n<polygon fill=\"white\" stroke=\"transparent\" points=\"-4,4 -4,-577 711,-577 711,4 -4,4\"/>\n<!-- 0 -->\n<g id=\"node1\" class=\"node\">\n<title>0</title>\n<path fill=\"#eeae80\" stroke=\"black\" d=\"M613.5,-573C613.5,-573 457.5,-573 457.5,-573 451.5,-573 445.5,-567 445.5,-561 445.5,-561 445.5,-517 445.5,-517 445.5,-511 451.5,-505 457.5,-505 457.5,-505 613.5,-505 613.5,-505 619.5,-505 625.5,-511 625.5,-517 625.5,-517 625.5,-561 625.5,-561 625.5,-567 619.5,-573 613.5,-573\"/>\n<text text-anchor=\"middle\" x=\"535.5\" y=\"-557.8\" font-family=\"Helvetica,sans-Serif\" font-size=\"14.00\">primaryweapon_SG &lt;= 0.5</text>\n<text text-anchor=\"middle\" x=\"535.5\" y=\"-542.8\" font-family=\"Helvetica,sans-Serif\" font-size=\"14.00\">squared_error = 0.322</text>\n<text text-anchor=\"middle\" x=\"535.5\" y=\"-527.8\" font-family=\"Helvetica,sans-Serif\" font-size=\"14.00\">samples = 234897</text>\n<text text-anchor=\"middle\" x=\"535.5\" y=\"-512.8\" font-family=\"Helvetica,sans-Serif\" font-size=\"14.00\">value = 0.89</text>\n</g>\n<!-- 1 -->\n<g id=\"node2\" class=\"node\">\n<title>1</title>\n<path fill=\"#eb9c63\" stroke=\"black\" d=\"M526,-469C526,-469 353,-469 353,-469 347,-469 341,-463 341,-457 341,-457 341,-413 341,-413 341,-407 347,-401 353,-401 353,-401 526,-401 526,-401 532,-401 538,-407 538,-413 538,-413 538,-457 538,-457 538,-463 532,-469 526,-469\"/>\n<text text-anchor=\"middle\" x=\"439.5\" y=\"-453.8\" font-family=\"Helvetica,sans-Serif\" font-size=\"14.00\">primaryweapon_Shield &lt;= 0.5</text>\n<text text-anchor=\"middle\" x=\"439.5\" y=\"-438.8\" font-family=\"Helvetica,sans-Serif\" font-size=\"14.00\">squared_error = 0.284</text>\n<text text-anchor=\"middle\" x=\"439.5\" y=\"-423.8\" font-family=\"Helvetica,sans-Serif\" font-size=\"14.00\">samples = 191031</text>\n<text text-anchor=\"middle\" x=\"439.5\" y=\"-408.8\" font-family=\"Helvetica,sans-Serif\" font-size=\"14.00\">value = 0.937</text>\n</g>\n<!-- 0&#45;&gt;1 -->\n<g id=\"edge1\" class=\"edge\">\n<title>0&#45;&gt;1</title>\n<path fill=\"none\" stroke=\"black\" d=\"M504.33,-504.88C495.86,-495.89 486.6,-486.04 477.79,-476.68\"/>\n<polygon fill=\"black\" stroke=\"black\" points=\"480.24,-474.18 470.84,-469.3 475.15,-478.98 480.24,-474.18\"/>\n<text text-anchor=\"middle\" x=\"470.08\" y=\"-490.59\" font-family=\"Helvetica,sans-Serif\" font-size=\"14.00\">True</text>\n</g>\n<!-- 10 -->\n<g id=\"node11\" class=\"node\">\n<title>10</title>\n<path fill=\"#ffffff\" stroke=\"black\" d=\"M695,-461.5C695,-461.5 568,-461.5 568,-461.5 562,-461.5 556,-455.5 556,-449.5 556,-449.5 556,-420.5 556,-420.5 556,-414.5 562,-408.5 568,-408.5 568,-408.5 695,-408.5 695,-408.5 701,-408.5 707,-414.5 707,-420.5 707,-420.5 707,-449.5 707,-449.5 707,-455.5 701,-461.5 695,-461.5\"/>\n<text text-anchor=\"middle\" x=\"631.5\" y=\"-446.3\" font-family=\"Helvetica,sans-Serif\" font-size=\"14.00\">squared_error = 0.437</text>\n<text text-anchor=\"middle\" x=\"631.5\" y=\"-431.3\" font-family=\"Helvetica,sans-Serif\" font-size=\"14.00\">samples = 43866</text>\n<text text-anchor=\"middle\" x=\"631.5\" y=\"-416.3\" font-family=\"Helvetica,sans-Serif\" font-size=\"14.00\">value = 0.684</text>\n</g>\n<!-- 0&#45;&gt;10 -->\n<g id=\"edge10\" class=\"edge\">\n<title>0&#45;&gt;10</title>\n<path fill=\"none\" stroke=\"black\" d=\"M566.67,-504.88C577.54,-493.34 589.72,-480.39 600.57,-468.86\"/>\n<polygon fill=\"black\" stroke=\"black\" points=\"603.18,-471.2 607.48,-461.52 598.08,-466.4 603.18,-471.2\"/>\n<text text-anchor=\"middle\" x=\"608.24\" y=\"-482.81\" font-family=\"Helvetica,sans-Serif\" font-size=\"14.00\">False</text>\n</g>\n<!-- 2 -->\n<g id=\"node3\" class=\"node\">\n<title>2</title>\n<path fill=\"#e99254\" stroke=\"black\" d=\"M426,-365C426,-365 271,-365 271,-365 265,-365 259,-359 259,-353 259,-353 259,-309 259,-309 259,-303 265,-297 271,-297 271,-297 426,-297 426,-297 432,-297 438,-303 438,-309 438,-309 438,-353 438,-353 438,-359 432,-365 426,-365\"/>\n<text text-anchor=\"middle\" x=\"348.5\" y=\"-349.8\" font-family=\"Helvetica,sans-Serif\" font-size=\"14.00\">primaryweapon_AR &lt;= 0.5</text>\n<text text-anchor=\"middle\" x=\"348.5\" y=\"-334.8\" font-family=\"Helvetica,sans-Serif\" font-size=\"14.00\">squared_error = 0.288</text>\n<text text-anchor=\"middle\" x=\"348.5\" y=\"-319.8\" font-family=\"Helvetica,sans-Serif\" font-size=\"14.00\">samples = 173171</text>\n<text text-anchor=\"middle\" x=\"348.5\" y=\"-304.8\" font-family=\"Helvetica,sans-Serif\" font-size=\"14.00\">value = 0.962</text>\n</g>\n<!-- 1&#45;&gt;2 -->\n<g id=\"edge2\" class=\"edge\">\n<title>1&#45;&gt;2</title>\n<path fill=\"none\" stroke=\"black\" d=\"M409.95,-400.88C402.01,-391.98 393.32,-382.24 385.04,-372.96\"/>\n<polygon fill=\"black\" stroke=\"black\" points=\"387.48,-370.43 378.21,-365.3 382.25,-375.09 387.48,-370.43\"/>\n</g>\n<!-- 9 -->\n<g id=\"node10\" class=\"node\">\n<title>9</title>\n<path fill=\"#fef8f4\" stroke=\"black\" d=\"M595,-357.5C595,-357.5 468,-357.5 468,-357.5 462,-357.5 456,-351.5 456,-345.5 456,-345.5 456,-316.5 456,-316.5 456,-310.5 462,-304.5 468,-304.5 468,-304.5 595,-304.5 595,-304.5 601,-304.5 607,-310.5 607,-316.5 607,-316.5 607,-345.5 607,-345.5 607,-351.5 601,-357.5 595,-357.5\"/>\n<text text-anchor=\"middle\" x=\"531.5\" y=\"-342.3\" font-family=\"Helvetica,sans-Serif\" font-size=\"14.00\">squared_error = 0.184</text>\n<text text-anchor=\"middle\" x=\"531.5\" y=\"-327.3\" font-family=\"Helvetica,sans-Serif\" font-size=\"14.00\">samples = 17860</text>\n<text text-anchor=\"middle\" x=\"531.5\" y=\"-312.3\" font-family=\"Helvetica,sans-Serif\" font-size=\"14.00\">value = 0.702</text>\n</g>\n<!-- 1&#45;&gt;9 -->\n<g id=\"edge9\" class=\"edge\">\n<title>1&#45;&gt;9</title>\n<path fill=\"none\" stroke=\"black\" d=\"M469.37,-400.88C479.69,-389.45 491.24,-376.63 501.56,-365.19\"/>\n<polygon fill=\"black\" stroke=\"black\" points=\"504.38,-367.29 508.48,-357.52 499.19,-362.6 504.38,-367.29\"/>\n</g>\n<!-- 3 -->\n<g id=\"node4\" class=\"node\">\n<title>3</title>\n<path fill=\"#eca471\" stroke=\"black\" d=\"M337.5,-261C337.5,-261 169.5,-261 169.5,-261 163.5,-261 157.5,-255 157.5,-249 157.5,-249 157.5,-205 157.5,-205 157.5,-199 163.5,-193 169.5,-193 169.5,-193 337.5,-193 337.5,-193 343.5,-193 349.5,-199 349.5,-205 349.5,-205 349.5,-249 349.5,-249 349.5,-255 343.5,-261 337.5,-261\"/>\n<text text-anchor=\"middle\" x=\"253.5\" y=\"-245.8\" font-family=\"Helvetica,sans-Serif\" font-size=\"14.00\">primaryweapon_SMG &lt;= 0.5</text>\n<text text-anchor=\"middle\" x=\"253.5\" y=\"-230.8\" font-family=\"Helvetica,sans-Serif\" font-size=\"14.00\">squared_error = 0.324</text>\n<text text-anchor=\"middle\" x=\"253.5\" y=\"-215.8\" font-family=\"Helvetica,sans-Serif\" font-size=\"14.00\">samples = 52134</text>\n<text text-anchor=\"middle\" x=\"253.5\" y=\"-200.8\" font-family=\"Helvetica,sans-Serif\" font-size=\"14.00\">value = 0.915</text>\n</g>\n<!-- 2&#45;&gt;3 -->\n<g id=\"edge3\" class=\"edge\">\n<title>2&#45;&gt;3</title>\n<path fill=\"none\" stroke=\"black\" d=\"M317.66,-296.88C309.28,-287.89 300.11,-278.04 291.39,-268.68\"/>\n<polygon fill=\"black\" stroke=\"black\" points=\"293.89,-266.23 284.51,-261.3 288.77,-271 293.89,-266.23\"/>\n</g>\n<!-- 8 -->\n<g id=\"node9\" class=\"node\">\n<title>8</title>\n<path fill=\"#e78b48\" stroke=\"black\" d=\"M507,-253.5C507,-253.5 380,-253.5 380,-253.5 374,-253.5 368,-247.5 368,-241.5 368,-241.5 368,-212.5 368,-212.5 368,-206.5 374,-200.5 380,-200.5 380,-200.5 507,-200.5 507,-200.5 513,-200.5 519,-206.5 519,-212.5 519,-212.5 519,-241.5 519,-241.5 519,-247.5 513,-253.5 507,-253.5\"/>\n<text text-anchor=\"middle\" x=\"443.5\" y=\"-238.3\" font-family=\"Helvetica,sans-Serif\" font-size=\"14.00\">squared_error = 0.271</text>\n<text text-anchor=\"middle\" x=\"443.5\" y=\"-223.3\" font-family=\"Helvetica,sans-Serif\" font-size=\"14.00\">samples = 121037</text>\n<text text-anchor=\"middle\" x=\"443.5\" y=\"-208.3\" font-family=\"Helvetica,sans-Serif\" font-size=\"14.00\">value = 0.982</text>\n</g>\n<!-- 2&#45;&gt;8 -->\n<g id=\"edge8\" class=\"edge\">\n<title>2&#45;&gt;8</title>\n<path fill=\"none\" stroke=\"black\" d=\"M379.34,-296.88C390.1,-285.34 402.16,-272.39 412.89,-260.86\"/>\n<polygon fill=\"black\" stroke=\"black\" points=\"415.48,-263.22 419.73,-253.52 410.35,-258.45 415.48,-263.22\"/>\n</g>\n<!-- 4 -->\n<g id=\"node5\" class=\"node\">\n<title>4</title>\n<path fill=\"#eeaa7a\" stroke=\"black\" d=\"M243,-157C243,-157 76,-157 76,-157 70,-157 64,-151 64,-145 64,-145 64,-101 64,-101 64,-95 70,-89 76,-89 76,-89 243,-89 243,-89 249,-89 255,-95 255,-101 255,-101 255,-145 255,-145 255,-151 249,-157 243,-157\"/>\n<text text-anchor=\"middle\" x=\"159.5\" y=\"-141.8\" font-family=\"Helvetica,sans-Serif\" font-size=\"14.00\">primaryweapon_LMG &lt;= 0.5</text>\n<text text-anchor=\"middle\" x=\"159.5\" y=\"-126.8\" font-family=\"Helvetica,sans-Serif\" font-size=\"14.00\">squared_error = 0.333</text>\n<text text-anchor=\"middle\" x=\"159.5\" y=\"-111.8\" font-family=\"Helvetica,sans-Serif\" font-size=\"14.00\">samples = 44769</text>\n<text text-anchor=\"middle\" x=\"159.5\" y=\"-96.8\" font-family=\"Helvetica,sans-Serif\" font-size=\"14.00\">value = 0.901</text>\n</g>\n<!-- 3&#45;&gt;4 -->\n<g id=\"edge4\" class=\"edge\">\n<title>3&#45;&gt;4</title>\n<path fill=\"none\" stroke=\"black\" d=\"M222.98,-192.88C214.69,-183.89 205.62,-174.04 196.99,-164.68\"/>\n<polygon fill=\"black\" stroke=\"black\" points=\"199.54,-162.28 190.19,-157.3 194.39,-167.02 199.54,-162.28\"/>\n</g>\n<!-- 7 -->\n<g id=\"node8\" class=\"node\">\n<title>7</title>\n<path fill=\"#e58139\" stroke=\"black\" d=\"M412,-149.5C412,-149.5 285,-149.5 285,-149.5 279,-149.5 273,-143.5 273,-137.5 273,-137.5 273,-108.5 273,-108.5 273,-102.5 279,-96.5 285,-96.5 285,-96.5 412,-96.5 412,-96.5 418,-96.5 424,-102.5 424,-108.5 424,-108.5 424,-137.5 424,-137.5 424,-143.5 418,-149.5 412,-149.5\"/>\n<text text-anchor=\"middle\" x=\"348.5\" y=\"-134.3\" font-family=\"Helvetica,sans-Serif\" font-size=\"14.00\">squared_error = 0.259</text>\n<text text-anchor=\"middle\" x=\"348.5\" y=\"-119.3\" font-family=\"Helvetica,sans-Serif\" font-size=\"14.00\">samples = 7365</text>\n<text text-anchor=\"middle\" x=\"348.5\" y=\"-104.3\" font-family=\"Helvetica,sans-Serif\" font-size=\"14.00\">value = 1.006</text>\n</g>\n<!-- 3&#45;&gt;7 -->\n<g id=\"edge7\" class=\"edge\">\n<title>3&#45;&gt;7</title>\n<path fill=\"none\" stroke=\"black\" d=\"M284.34,-192.88C295.1,-181.34 307.16,-168.39 317.89,-156.86\"/>\n<polygon fill=\"black\" stroke=\"black\" points=\"320.48,-159.22 324.73,-149.52 315.35,-154.45 320.48,-159.22\"/>\n</g>\n<!-- 5 -->\n<g id=\"node6\" class=\"node\">\n<title>5</title>\n<path fill=\"#eca470\" stroke=\"black\" d=\"M139,-53C139,-53 12,-53 12,-53 6,-53 0,-47 0,-41 0,-41 0,-12 0,-12 0,-6 6,0 12,0 12,0 139,0 139,0 145,0 151,-6 151,-12 151,-12 151,-41 151,-41 151,-47 145,-53 139,-53\"/>\n<text text-anchor=\"middle\" x=\"75.5\" y=\"-37.8\" font-family=\"Helvetica,sans-Serif\" font-size=\"14.00\">squared_error = 0.283</text>\n<text text-anchor=\"middle\" x=\"75.5\" y=\"-22.8\" font-family=\"Helvetica,sans-Serif\" font-size=\"14.00\">samples = 25154</text>\n<text text-anchor=\"middle\" x=\"75.5\" y=\"-7.8\" font-family=\"Helvetica,sans-Serif\" font-size=\"14.00\">value = 0.916</text>\n</g>\n<!-- 4&#45;&gt;5 -->\n<g id=\"edge5\" class=\"edge\">\n<title>4&#45;&gt;5</title>\n<path fill=\"none\" stroke=\"black\" d=\"M130.12,-88.95C121.99,-79.8 113.16,-69.87 105.02,-60.71\"/>\n<polygon fill=\"black\" stroke=\"black\" points=\"107.64,-58.39 98.38,-53.24 102.4,-63.04 107.64,-58.39\"/>\n</g>\n<!-- 6 -->\n<g id=\"node7\" class=\"node\">\n<title>6</title>\n<path fill=\"#efb286\" stroke=\"black\" d=\"M308,-53C308,-53 181,-53 181,-53 175,-53 169,-47 169,-41 169,-41 169,-12 169,-12 169,-6 175,0 181,0 181,0 308,0 308,0 314,0 320,-6 320,-12 320,-12 320,-41 320,-41 320,-47 314,-53 308,-53\"/>\n<text text-anchor=\"middle\" x=\"244.5\" y=\"-37.8\" font-family=\"Helvetica,sans-Serif\" font-size=\"14.00\">squared_error = 0.396</text>\n<text text-anchor=\"middle\" x=\"244.5\" y=\"-22.8\" font-family=\"Helvetica,sans-Serif\" font-size=\"14.00\">samples = 19615</text>\n<text text-anchor=\"middle\" x=\"244.5\" y=\"-7.8\" font-family=\"Helvetica,sans-Serif\" font-size=\"14.00\">value = 0.881</text>\n</g>\n<!-- 4&#45;&gt;6 -->\n<g id=\"edge6\" class=\"edge\">\n<title>4&#45;&gt;6</title>\n<path fill=\"none\" stroke=\"black\" d=\"M189.23,-88.95C197.46,-79.8 206.39,-69.87 214.63,-60.71\"/>\n<polygon fill=\"black\" stroke=\"black\" points=\"217.27,-63.01 221.35,-53.24 212.06,-58.33 217.27,-63.01\"/>\n</g>\n</g>\n</svg>\n"
          },
          "metadata": {},
          "execution_count": 346
        }
      ]
    },
    {
      "cell_type": "code",
      "source": [
        "show_tree(TREE_DEF(\"k/d_ratio\"), colnames=weapon_list_DEF)"
      ],
      "metadata": {
        "colab": {
          "base_uri": "https://localhost:8080/",
          "height": 378
        },
        "id": "mnPIEiJIj3HD",
        "outputId": "d80ed5d3-4241-4454-9d2b-f8987ca917ce"
      },
      "execution_count": 347,
      "outputs": [
        {
          "output_type": "execute_result",
          "data": {
            "text/plain": [
              "<graphviz.files.Source at 0x7f609e68eaf0>"
            ],
            "image/svg+xml": "<?xml version=\"1.0\" encoding=\"UTF-8\" standalone=\"no\"?>\n<!DOCTYPE svg PUBLIC \"-//W3C//DTD SVG 1.1//EN\"\n \"http://www.w3.org/Graphics/SVG/1.1/DTD/svg11.dtd\">\n<!-- Generated by graphviz version 2.43.0 (0)\n -->\n<!-- Title: Tree Pages: 1 -->\n<svg width=\"418pt\" height=\"269pt\"\n viewBox=\"0.00 0.00 418.00 269.00\" xmlns=\"http://www.w3.org/2000/svg\" xmlns:xlink=\"http://www.w3.org/1999/xlink\">\n<g id=\"graph0\" class=\"graph\" transform=\"scale(1 1) rotate(0) translate(4 265)\">\n<title>Tree</title>\n<polygon fill=\"white\" stroke=\"transparent\" points=\"-4,4 -4,-265 414,-265 414,4 -4,4\"/>\n<!-- 0 -->\n<g id=\"node1\" class=\"node\">\n<title>0</title>\n<path fill=\"#f7d8c2\" stroke=\"black\" d=\"M326.5,-261C326.5,-261 170.5,-261 170.5,-261 164.5,-261 158.5,-255 158.5,-249 158.5,-249 158.5,-205 158.5,-205 158.5,-199 164.5,-193 170.5,-193 170.5,-193 326.5,-193 326.5,-193 332.5,-193 338.5,-199 338.5,-205 338.5,-205 338.5,-249 338.5,-249 338.5,-255 332.5,-261 326.5,-261\"/>\n<text text-anchor=\"middle\" x=\"248.5\" y=\"-245.8\" font-family=\"Helvetica,sans-Serif\" font-size=\"14.00\">primaryweapon_SG &lt;= 0.5</text>\n<text text-anchor=\"middle\" x=\"248.5\" y=\"-230.8\" font-family=\"Helvetica,sans-Serif\" font-size=\"14.00\">squared_error = 0.281</text>\n<text text-anchor=\"middle\" x=\"248.5\" y=\"-215.8\" font-family=\"Helvetica,sans-Serif\" font-size=\"14.00\">samples = 235193</text>\n<text text-anchor=\"middle\" x=\"248.5\" y=\"-200.8\" font-family=\"Helvetica,sans-Serif\" font-size=\"14.00\">value = 0.81</text>\n</g>\n<!-- 1 -->\n<g id=\"node2\" class=\"node\">\n<title>1</title>\n<path fill=\"#f1bd98\" stroke=\"black\" d=\"M237,-157C237,-157 82,-157 82,-157 76,-157 70,-151 70,-145 70,-145 70,-101 70,-101 70,-95 76,-89 82,-89 82,-89 237,-89 237,-89 243,-89 249,-95 249,-101 249,-101 249,-145 249,-145 249,-151 243,-157 237,-157\"/>\n<text text-anchor=\"middle\" x=\"159.5\" y=\"-141.8\" font-family=\"Helvetica,sans-Serif\" font-size=\"14.00\">primaryweapon_AR &lt;= 0.5</text>\n<text text-anchor=\"middle\" x=\"159.5\" y=\"-126.8\" font-family=\"Helvetica,sans-Serif\" font-size=\"14.00\">squared_error = 0.253</text>\n<text text-anchor=\"middle\" x=\"159.5\" y=\"-111.8\" font-family=\"Helvetica,sans-Serif\" font-size=\"14.00\">samples = 138665</text>\n<text text-anchor=\"middle\" x=\"159.5\" y=\"-96.8\" font-family=\"Helvetica,sans-Serif\" font-size=\"14.00\">value = 0.862</text>\n</g>\n<!-- 0&#45;&gt;1 -->\n<g id=\"edge1\" class=\"edge\">\n<title>0&#45;&gt;1</title>\n<path fill=\"none\" stroke=\"black\" d=\"M219.6,-192.88C211.83,-183.98 203.33,-174.24 195.24,-164.96\"/>\n<polygon fill=\"black\" stroke=\"black\" points=\"197.77,-162.53 188.56,-157.3 192.49,-167.14 197.77,-162.53\"/>\n<text text-anchor=\"middle\" x=\"186.86\" y=\"-178.54\" font-family=\"Helvetica,sans-Serif\" font-size=\"14.00\">True</text>\n</g>\n<!-- 4 -->\n<g id=\"node5\" class=\"node\">\n<title>4</title>\n<path fill=\"#ffffff\" stroke=\"black\" d=\"M398,-149.5C398,-149.5 279,-149.5 279,-149.5 273,-149.5 267,-143.5 267,-137.5 267,-137.5 267,-108.5 267,-108.5 267,-102.5 273,-96.5 279,-96.5 279,-96.5 398,-96.5 398,-96.5 404,-96.5 410,-102.5 410,-108.5 410,-108.5 410,-137.5 410,-137.5 410,-143.5 404,-149.5 398,-149.5\"/>\n<text text-anchor=\"middle\" x=\"338.5\" y=\"-134.3\" font-family=\"Helvetica,sans-Serif\" font-size=\"14.00\">squared_error = 0.31</text>\n<text text-anchor=\"middle\" x=\"338.5\" y=\"-119.3\" font-family=\"Helvetica,sans-Serif\" font-size=\"14.00\">samples = 96528</text>\n<text text-anchor=\"middle\" x=\"338.5\" y=\"-104.3\" font-family=\"Helvetica,sans-Serif\" font-size=\"14.00\">value = 0.736</text>\n</g>\n<!-- 0&#45;&gt;4 -->\n<g id=\"edge4\" class=\"edge\">\n<title>0&#45;&gt;4</title>\n<path fill=\"none\" stroke=\"black\" d=\"M277.72,-192.88C287.81,-181.45 299.12,-168.63 309.21,-157.19\"/>\n<polygon fill=\"black\" stroke=\"black\" points=\"311.99,-159.33 315.98,-149.52 306.74,-154.7 311.99,-159.33\"/>\n<text text-anchor=\"middle\" x=\"317.54\" y=\"-170.77\" font-family=\"Helvetica,sans-Serif\" font-size=\"14.00\">False</text>\n</g>\n<!-- 2 -->\n<g id=\"node3\" class=\"node\">\n<title>2</title>\n<path fill=\"#f2c19d\" stroke=\"black\" d=\"M139,-53C139,-53 12,-53 12,-53 6,-53 0,-47 0,-41 0,-41 0,-12 0,-12 0,-6 6,0 12,0 12,0 139,0 139,0 145,0 151,-6 151,-12 151,-12 151,-41 151,-41 151,-47 145,-53 139,-53\"/>\n<text text-anchor=\"middle\" x=\"75.5\" y=\"-37.8\" font-family=\"Helvetica,sans-Serif\" font-size=\"14.00\">squared_error = 0.254</text>\n<text text-anchor=\"middle\" x=\"75.5\" y=\"-22.8\" font-family=\"Helvetica,sans-Serif\" font-size=\"14.00\">samples = 131424</text>\n<text text-anchor=\"middle\" x=\"75.5\" y=\"-7.8\" font-family=\"Helvetica,sans-Serif\" font-size=\"14.00\">value = 0.856</text>\n</g>\n<!-- 1&#45;&gt;2 -->\n<g id=\"edge2\" class=\"edge\">\n<title>1&#45;&gt;2</title>\n<path fill=\"none\" stroke=\"black\" d=\"M130.12,-88.95C121.99,-79.8 113.16,-69.87 105.02,-60.71\"/>\n<polygon fill=\"black\" stroke=\"black\" points=\"107.64,-58.39 98.38,-53.24 102.4,-63.04 107.64,-58.39\"/>\n</g>\n<!-- 3 -->\n<g id=\"node4\" class=\"node\">\n<title>3</title>\n<path fill=\"#e58139\" stroke=\"black\" d=\"M308,-53C308,-53 181,-53 181,-53 175,-53 169,-47 169,-41 169,-41 169,-12 169,-12 169,-6 175,0 181,0 181,0 308,0 308,0 314,0 320,-6 320,-12 320,-12 320,-41 320,-41 320,-47 314,-53 308,-53\"/>\n<text text-anchor=\"middle\" x=\"244.5\" y=\"-37.8\" font-family=\"Helvetica,sans-Serif\" font-size=\"14.00\">squared_error = 0.219</text>\n<text text-anchor=\"middle\" x=\"244.5\" y=\"-22.8\" font-family=\"Helvetica,sans-Serif\" font-size=\"14.00\">samples = 7241</text>\n<text text-anchor=\"middle\" x=\"244.5\" y=\"-7.8\" font-family=\"Helvetica,sans-Serif\" font-size=\"14.00\">value = 0.977</text>\n</g>\n<!-- 1&#45;&gt;3 -->\n<g id=\"edge3\" class=\"edge\">\n<title>1&#45;&gt;3</title>\n<path fill=\"none\" stroke=\"black\" d=\"M189.23,-88.95C197.46,-79.8 206.39,-69.87 214.63,-60.71\"/>\n<polygon fill=\"black\" stroke=\"black\" points=\"217.27,-63.01 221.35,-53.24 212.06,-58.33 217.27,-63.01\"/>\n</g>\n</g>\n</svg>\n"
          },
          "metadata": {},
          "execution_count": 347
        }
      ]
    },
    {
      "cell_type": "markdown",
      "source": [
        "- 이 트리를 사용한 이유는\n",
        "   - 트리 그래프로 한눈에 보고 싶었다. \n",
        "\n",
        "   - 단순히 해당 무기를 들고 갔을때 실전에서 어느정도의 KDA를 뽑아내는지를 보고싶었다. "
      ],
      "metadata": {
        "id": "MtLw00KYkyzL"
      }
    },
    {
      "cell_type": "code",
      "source": [
        "show_tree(TREE_ATK(\"win_ratio\"), colnames=weapon_list_ATK)\n"
      ],
      "metadata": {
        "colab": {
          "base_uri": "https://localhost:8080/",
          "height": 794
        },
        "id": "XJZetBXdlPM3",
        "outputId": "e20472e6-7e21-4ad2-88da-25215251493b"
      },
      "execution_count": 348,
      "outputs": [
        {
          "output_type": "execute_result",
          "data": {
            "text/plain": [
              "<graphviz.files.Source at 0x7f60a45a9430>"
            ],
            "image/svg+xml": "<?xml version=\"1.0\" encoding=\"UTF-8\" standalone=\"no\"?>\n<!DOCTYPE svg PUBLIC \"-//W3C//DTD SVG 1.1//EN\"\n \"http://www.w3.org/Graphics/SVG/1.1/DTD/svg11.dtd\">\n<!-- Generated by graphviz version 2.43.0 (0)\n -->\n<!-- Title: Tree Pages: 1 -->\n<svg width=\"709pt\" height=\"581pt\"\n viewBox=\"0.00 0.00 709.00 581.00\" xmlns=\"http://www.w3.org/2000/svg\" xmlns:xlink=\"http://www.w3.org/1999/xlink\">\n<g id=\"graph0\" class=\"graph\" transform=\"scale(1 1) rotate(0) translate(4 577)\">\n<title>Tree</title>\n<polygon fill=\"white\" stroke=\"transparent\" points=\"-4,4 -4,-577 705,-577 705,4 -4,4\"/>\n<!-- 0 -->\n<g id=\"node1\" class=\"node\">\n<title>0</title>\n<path fill=\"#eda877\" stroke=\"black\" d=\"M608.5,-573C608.5,-573 452.5,-573 452.5,-573 446.5,-573 440.5,-567 440.5,-561 440.5,-561 440.5,-517 440.5,-517 440.5,-511 446.5,-505 452.5,-505 452.5,-505 608.5,-505 608.5,-505 614.5,-505 620.5,-511 620.5,-517 620.5,-517 620.5,-561 620.5,-561 620.5,-567 614.5,-573 608.5,-573\"/>\n<text text-anchor=\"middle\" x=\"530.5\" y=\"-557.8\" font-family=\"Helvetica,sans-Serif\" font-size=\"14.00\">primaryweapon_SG &lt;= 0.5</text>\n<text text-anchor=\"middle\" x=\"530.5\" y=\"-542.8\" font-family=\"Helvetica,sans-Serif\" font-size=\"14.00\">squared_error = 0.03</text>\n<text text-anchor=\"middle\" x=\"530.5\" y=\"-527.8\" font-family=\"Helvetica,sans-Serif\" font-size=\"14.00\">samples = 234897</text>\n<text text-anchor=\"middle\" x=\"530.5\" y=\"-512.8\" font-family=\"Helvetica,sans-Serif\" font-size=\"14.00\">value = 0.441</text>\n</g>\n<!-- 1 -->\n<g id=\"node2\" class=\"node\">\n<title>1</title>\n<path fill=\"#e99457\" stroke=\"black\" d=\"M520,-469C520,-469 353,-469 353,-469 347,-469 341,-463 341,-457 341,-457 341,-413 341,-413 341,-407 347,-401 353,-401 353,-401 520,-401 520,-401 526,-401 532,-407 532,-413 532,-413 532,-457 532,-457 532,-463 526,-469 520,-469\"/>\n<text text-anchor=\"middle\" x=\"436.5\" y=\"-453.8\" font-family=\"Helvetica,sans-Serif\" font-size=\"14.00\">primaryweapon_LMG &lt;= 0.5</text>\n<text text-anchor=\"middle\" x=\"436.5\" y=\"-438.8\" font-family=\"Helvetica,sans-Serif\" font-size=\"14.00\">squared_error = 0.023</text>\n<text text-anchor=\"middle\" x=\"436.5\" y=\"-423.8\" font-family=\"Helvetica,sans-Serif\" font-size=\"14.00\">samples = 191031</text>\n<text text-anchor=\"middle\" x=\"436.5\" y=\"-408.8\" font-family=\"Helvetica,sans-Serif\" font-size=\"14.00\">value = 0.457</text>\n</g>\n<!-- 0&#45;&gt;1 -->\n<g id=\"edge1\" class=\"edge\">\n<title>0&#45;&gt;1</title>\n<path fill=\"none\" stroke=\"black\" d=\"M499.98,-504.88C491.69,-495.89 482.62,-486.04 473.99,-476.68\"/>\n<polygon fill=\"black\" stroke=\"black\" points=\"476.54,-474.28 467.19,-469.3 471.39,-479.02 476.54,-474.28\"/>\n<text text-anchor=\"middle\" x=\"466.17\" y=\"-490.58\" font-family=\"Helvetica,sans-Serif\" font-size=\"14.00\">True</text>\n</g>\n<!-- 10 -->\n<g id=\"node11\" class=\"node\">\n<title>10</title>\n<path fill=\"#ffffff\" stroke=\"black\" d=\"M689,-461.5C689,-461.5 562,-461.5 562,-461.5 556,-461.5 550,-455.5 550,-449.5 550,-449.5 550,-420.5 550,-420.5 550,-414.5 556,-408.5 562,-408.5 562,-408.5 689,-408.5 689,-408.5 695,-408.5 701,-414.5 701,-420.5 701,-420.5 701,-449.5 701,-449.5 701,-455.5 695,-461.5 689,-461.5\"/>\n<text text-anchor=\"middle\" x=\"625.5\" y=\"-446.3\" font-family=\"Helvetica,sans-Serif\" font-size=\"14.00\">squared_error = 0.054</text>\n<text text-anchor=\"middle\" x=\"625.5\" y=\"-431.3\" font-family=\"Helvetica,sans-Serif\" font-size=\"14.00\">samples = 43866</text>\n<text text-anchor=\"middle\" x=\"625.5\" y=\"-416.3\" font-family=\"Helvetica,sans-Serif\" font-size=\"14.00\">value = 0.371</text>\n</g>\n<!-- 0&#45;&gt;10 -->\n<g id=\"edge10\" class=\"edge\">\n<title>0&#45;&gt;10</title>\n<path fill=\"none\" stroke=\"black\" d=\"M561.34,-504.88C572.1,-493.34 584.16,-480.39 594.89,-468.86\"/>\n<polygon fill=\"black\" stroke=\"black\" points=\"597.48,-471.22 601.73,-461.52 592.35,-466.45 597.48,-471.22\"/>\n<text text-anchor=\"middle\" x=\"602.62\" y=\"-482.8\" font-family=\"Helvetica,sans-Serif\" font-size=\"14.00\">False</text>\n</g>\n<!-- 2 -->\n<g id=\"node3\" class=\"node\">\n<title>2</title>\n<path fill=\"#e88f50\" stroke=\"black\" d=\"M423,-365C423,-365 268,-365 268,-365 262,-365 256,-359 256,-353 256,-353 256,-309 256,-309 256,-303 262,-297 268,-297 268,-297 423,-297 423,-297 429,-297 435,-303 435,-309 435,-309 435,-353 435,-353 435,-359 429,-365 423,-365\"/>\n<text text-anchor=\"middle\" x=\"345.5\" y=\"-349.8\" font-family=\"Helvetica,sans-Serif\" font-size=\"14.00\">primaryweapon_SR &lt;= 0.5</text>\n<text text-anchor=\"middle\" x=\"345.5\" y=\"-334.8\" font-family=\"Helvetica,sans-Serif\" font-size=\"14.00\">squared_error = 0.022</text>\n<text text-anchor=\"middle\" x=\"345.5\" y=\"-319.8\" font-family=\"Helvetica,sans-Serif\" font-size=\"14.00\">samples = 171416</text>\n<text text-anchor=\"middle\" x=\"345.5\" y=\"-304.8\" font-family=\"Helvetica,sans-Serif\" font-size=\"14.00\">value = 0.461</text>\n</g>\n<!-- 1&#45;&gt;2 -->\n<g id=\"edge2\" class=\"edge\">\n<title>1&#45;&gt;2</title>\n<path fill=\"none\" stroke=\"black\" d=\"M406.95,-400.88C399.01,-391.98 390.32,-382.24 382.04,-372.96\"/>\n<polygon fill=\"black\" stroke=\"black\" points=\"384.48,-370.43 375.21,-365.3 379.25,-375.09 384.48,-370.43\"/>\n</g>\n<!-- 9 -->\n<g id=\"node10\" class=\"node\">\n<title>9</title>\n<path fill=\"#f2c09c\" stroke=\"black\" d=\"M592,-357.5C592,-357.5 465,-357.5 465,-357.5 459,-357.5 453,-351.5 453,-345.5 453,-345.5 453,-316.5 453,-316.5 453,-310.5 459,-304.5 465,-304.5 465,-304.5 592,-304.5 592,-304.5 598,-304.5 604,-310.5 604,-316.5 604,-316.5 604,-345.5 604,-345.5 604,-351.5 598,-357.5 592,-357.5\"/>\n<text text-anchor=\"middle\" x=\"528.5\" y=\"-342.3\" font-family=\"Helvetica,sans-Serif\" font-size=\"14.00\">squared_error = 0.036</text>\n<text text-anchor=\"middle\" x=\"528.5\" y=\"-327.3\" font-family=\"Helvetica,sans-Serif\" font-size=\"14.00\">samples = 19615</text>\n<text text-anchor=\"middle\" x=\"528.5\" y=\"-312.3\" font-family=\"Helvetica,sans-Serif\" font-size=\"14.00\">value = 0.422</text>\n</g>\n<!-- 1&#45;&gt;9 -->\n<g id=\"edge9\" class=\"edge\">\n<title>1&#45;&gt;9</title>\n<path fill=\"none\" stroke=\"black\" d=\"M466.37,-400.88C476.69,-389.45 488.24,-376.63 498.56,-365.19\"/>\n<polygon fill=\"black\" stroke=\"black\" points=\"501.38,-367.29 505.48,-357.52 496.19,-362.6 501.38,-367.29\"/>\n</g>\n<!-- 3 -->\n<g id=\"node4\" class=\"node\">\n<title>3</title>\n<path fill=\"#e78c4b\" stroke=\"black\" d=\"M334.5,-261C334.5,-261 166.5,-261 166.5,-261 160.5,-261 154.5,-255 154.5,-249 154.5,-249 154.5,-205 154.5,-205 154.5,-199 160.5,-193 166.5,-193 166.5,-193 334.5,-193 334.5,-193 340.5,-193 346.5,-199 346.5,-205 346.5,-205 346.5,-249 346.5,-249 346.5,-255 340.5,-261 334.5,-261\"/>\n<text text-anchor=\"middle\" x=\"250.5\" y=\"-245.8\" font-family=\"Helvetica,sans-Serif\" font-size=\"14.00\">primaryweapon_SMG &lt;= 0.5</text>\n<text text-anchor=\"middle\" x=\"250.5\" y=\"-230.8\" font-family=\"Helvetica,sans-Serif\" font-size=\"14.00\">squared_error = 0.021</text>\n<text text-anchor=\"middle\" x=\"250.5\" y=\"-215.8\" font-family=\"Helvetica,sans-Serif\" font-size=\"14.00\">samples = 146262</text>\n<text text-anchor=\"middle\" x=\"250.5\" y=\"-200.8\" font-family=\"Helvetica,sans-Serif\" font-size=\"14.00\">value = 0.463</text>\n</g>\n<!-- 2&#45;&gt;3 -->\n<g id=\"edge3\" class=\"edge\">\n<title>2&#45;&gt;3</title>\n<path fill=\"none\" stroke=\"black\" d=\"M314.66,-296.88C306.28,-287.89 297.11,-278.04 288.39,-268.68\"/>\n<polygon fill=\"black\" stroke=\"black\" points=\"290.89,-266.23 281.51,-261.3 285.77,-271 290.89,-266.23\"/>\n</g>\n<!-- 8 -->\n<g id=\"node9\" class=\"node\">\n<title>8</title>\n<path fill=\"#eba06a\" stroke=\"black\" d=\"M504,-253.5C504,-253.5 377,-253.5 377,-253.5 371,-253.5 365,-247.5 365,-241.5 365,-241.5 365,-212.5 365,-212.5 365,-206.5 371,-200.5 377,-200.5 377,-200.5 504,-200.5 504,-200.5 510,-200.5 516,-206.5 516,-212.5 516,-212.5 516,-241.5 516,-241.5 516,-247.5 510,-253.5 504,-253.5\"/>\n<text text-anchor=\"middle\" x=\"440.5\" y=\"-238.3\" font-family=\"Helvetica,sans-Serif\" font-size=\"14.00\">squared_error = 0.024</text>\n<text text-anchor=\"middle\" x=\"440.5\" y=\"-223.3\" font-family=\"Helvetica,sans-Serif\" font-size=\"14.00\">samples = 25154</text>\n<text text-anchor=\"middle\" x=\"440.5\" y=\"-208.3\" font-family=\"Helvetica,sans-Serif\" font-size=\"14.00\">value = 0.447</text>\n</g>\n<!-- 2&#45;&gt;8 -->\n<g id=\"edge8\" class=\"edge\">\n<title>2&#45;&gt;8</title>\n<path fill=\"none\" stroke=\"black\" d=\"M376.34,-296.88C387.1,-285.34 399.16,-272.39 409.89,-260.86\"/>\n<polygon fill=\"black\" stroke=\"black\" points=\"412.48,-263.22 416.73,-253.52 407.35,-258.45 412.48,-263.22\"/>\n</g>\n<!-- 4 -->\n<g id=\"node5\" class=\"node\">\n<title>4</title>\n<path fill=\"#e78d4c\" stroke=\"black\" d=\"M237,-157C237,-157 82,-157 82,-157 76,-157 70,-151 70,-145 70,-145 70,-101 70,-101 70,-95 76,-89 82,-89 82,-89 237,-89 237,-89 243,-89 249,-95 249,-101 249,-101 249,-145 249,-145 249,-151 243,-157 237,-157\"/>\n<text text-anchor=\"middle\" x=\"159.5\" y=\"-141.8\" font-family=\"Helvetica,sans-Serif\" font-size=\"14.00\">primaryweapon_AR &lt;= 0.5</text>\n<text text-anchor=\"middle\" x=\"159.5\" y=\"-126.8\" font-family=\"Helvetica,sans-Serif\" font-size=\"14.00\">squared_error = 0.022</text>\n<text text-anchor=\"middle\" x=\"159.5\" y=\"-111.8\" font-family=\"Helvetica,sans-Serif\" font-size=\"14.00\">samples = 138897</text>\n<text text-anchor=\"middle\" x=\"159.5\" y=\"-96.8\" font-family=\"Helvetica,sans-Serif\" font-size=\"14.00\">value = 0.462</text>\n</g>\n<!-- 3&#45;&gt;4 -->\n<g id=\"edge4\" class=\"edge\">\n<title>3&#45;&gt;4</title>\n<path fill=\"none\" stroke=\"black\" d=\"M220.95,-192.88C213.01,-183.98 204.32,-174.24 196.04,-164.96\"/>\n<polygon fill=\"black\" stroke=\"black\" points=\"198.48,-162.43 189.21,-157.3 193.25,-167.09 198.48,-162.43\"/>\n</g>\n<!-- 7 -->\n<g id=\"node8\" class=\"node\">\n<title>7</title>\n<path fill=\"#e58139\" stroke=\"black\" d=\"M406,-149.5C406,-149.5 279,-149.5 279,-149.5 273,-149.5 267,-143.5 267,-137.5 267,-137.5 267,-108.5 267,-108.5 267,-102.5 273,-96.5 279,-96.5 279,-96.5 406,-96.5 406,-96.5 412,-96.5 418,-102.5 418,-108.5 418,-108.5 418,-137.5 418,-137.5 418,-143.5 412,-149.5 406,-149.5\"/>\n<text text-anchor=\"middle\" x=\"342.5\" y=\"-134.3\" font-family=\"Helvetica,sans-Serif\" font-size=\"14.00\">squared_error = 0.018</text>\n<text text-anchor=\"middle\" x=\"342.5\" y=\"-119.3\" font-family=\"Helvetica,sans-Serif\" font-size=\"14.00\">samples = 7365</text>\n<text text-anchor=\"middle\" x=\"342.5\" y=\"-104.3\" font-family=\"Helvetica,sans-Serif\" font-size=\"14.00\">value = 0.472</text>\n</g>\n<!-- 3&#45;&gt;7 -->\n<g id=\"edge7\" class=\"edge\">\n<title>3&#45;&gt;7</title>\n<path fill=\"none\" stroke=\"black\" d=\"M280.37,-192.88C290.69,-181.45 302.24,-168.63 312.56,-157.19\"/>\n<polygon fill=\"black\" stroke=\"black\" points=\"315.38,-159.29 319.48,-149.52 310.19,-154.6 315.38,-159.29\"/>\n</g>\n<!-- 5 -->\n<g id=\"node6\" class=\"node\">\n<title>5</title>\n<path fill=\"#e99254\" stroke=\"black\" d=\"M139,-53C139,-53 12,-53 12,-53 6,-53 0,-47 0,-41 0,-41 0,-12 0,-12 0,-6 6,0 12,0 12,0 139,0 139,0 145,0 151,-6 151,-12 151,-12 151,-41 151,-41 151,-47 145,-53 139,-53\"/>\n<text text-anchor=\"middle\" x=\"75.5\" y=\"-37.8\" font-family=\"Helvetica,sans-Serif\" font-size=\"14.00\">squared_error = 0.016</text>\n<text text-anchor=\"middle\" x=\"75.5\" y=\"-22.8\" font-family=\"Helvetica,sans-Serif\" font-size=\"14.00\">samples = 17860</text>\n<text text-anchor=\"middle\" x=\"75.5\" y=\"-7.8\" font-family=\"Helvetica,sans-Serif\" font-size=\"14.00\">value = 0.459</text>\n</g>\n<!-- 4&#45;&gt;5 -->\n<g id=\"edge5\" class=\"edge\">\n<title>4&#45;&gt;5</title>\n<path fill=\"none\" stroke=\"black\" d=\"M130.12,-88.95C121.99,-79.8 113.16,-69.87 105.02,-60.71\"/>\n<polygon fill=\"black\" stroke=\"black\" points=\"107.64,-58.39 98.38,-53.24 102.4,-63.04 107.64,-58.39\"/>\n</g>\n<!-- 6 -->\n<g id=\"node7\" class=\"node\">\n<title>6</title>\n<path fill=\"#e78c4b\" stroke=\"black\" d=\"M308,-53C308,-53 181,-53 181,-53 175,-53 169,-47 169,-41 169,-41 169,-12 169,-12 169,-6 175,0 181,0 181,0 308,0 308,0 314,0 320,-6 320,-12 320,-12 320,-41 320,-41 320,-47 314,-53 308,-53\"/>\n<text text-anchor=\"middle\" x=\"244.5\" y=\"-37.8\" font-family=\"Helvetica,sans-Serif\" font-size=\"14.00\">squared_error = 0.022</text>\n<text text-anchor=\"middle\" x=\"244.5\" y=\"-22.8\" font-family=\"Helvetica,sans-Serif\" font-size=\"14.00\">samples = 121037</text>\n<text text-anchor=\"middle\" x=\"244.5\" y=\"-7.8\" font-family=\"Helvetica,sans-Serif\" font-size=\"14.00\">value = 0.463</text>\n</g>\n<!-- 4&#45;&gt;6 -->\n<g id=\"edge6\" class=\"edge\">\n<title>4&#45;&gt;6</title>\n<path fill=\"none\" stroke=\"black\" d=\"M189.23,-88.95C197.46,-79.8 206.39,-69.87 214.63,-60.71\"/>\n<polygon fill=\"black\" stroke=\"black\" points=\"217.27,-63.01 221.35,-53.24 212.06,-58.33 217.27,-63.01\"/>\n</g>\n</g>\n</svg>\n"
          },
          "metadata": {},
          "execution_count": 348
        }
      ]
    },
    {
      "cell_type": "code",
      "source": [
        "show_tree(TREE_DEF(\"win_ratio\"), colnames=weapon_list_DEF)"
      ],
      "metadata": {
        "colab": {
          "base_uri": "https://localhost:8080/",
          "height": 378
        },
        "id": "95jT1HmWj5JT",
        "outputId": "e23023a4-1472-491b-e262-e8ad24eb08d3"
      },
      "execution_count": 349,
      "outputs": [
        {
          "output_type": "execute_result",
          "data": {
            "text/plain": [
              "<graphviz.files.Source at 0x7f60a4009490>"
            ],
            "image/svg+xml": "<?xml version=\"1.0\" encoding=\"UTF-8\" standalone=\"no\"?>\n<!DOCTYPE svg PUBLIC \"-//W3C//DTD SVG 1.1//EN\"\n \"http://www.w3.org/Graphics/SVG/1.1/DTD/svg11.dtd\">\n<!-- Generated by graphviz version 2.43.0 (0)\n -->\n<!-- Title: Tree Pages: 1 -->\n<svg width=\"418pt\" height=\"269pt\"\n viewBox=\"0.00 0.00 418.00 269.00\" xmlns=\"http://www.w3.org/2000/svg\" xmlns:xlink=\"http://www.w3.org/1999/xlink\">\n<g id=\"graph0\" class=\"graph\" transform=\"scale(1 1) rotate(0) translate(4 265)\">\n<title>Tree</title>\n<polygon fill=\"white\" stroke=\"transparent\" points=\"-4,4 -4,-265 414,-265 414,4 -4,4\"/>\n<!-- 0 -->\n<g id=\"node1\" class=\"node\">\n<title>0</title>\n<path fill=\"#f7d8c2\" stroke=\"black\" d=\"M326.5,-261C326.5,-261 170.5,-261 170.5,-261 164.5,-261 158.5,-255 158.5,-249 158.5,-249 158.5,-205 158.5,-205 158.5,-199 164.5,-193 170.5,-193 170.5,-193 326.5,-193 326.5,-193 332.5,-193 338.5,-199 338.5,-205 338.5,-205 338.5,-249 338.5,-249 338.5,-255 332.5,-261 326.5,-261\"/>\n<text text-anchor=\"middle\" x=\"248.5\" y=\"-245.8\" font-family=\"Helvetica,sans-Serif\" font-size=\"14.00\">primaryweapon_SG &lt;= 0.5</text>\n<text text-anchor=\"middle\" x=\"248.5\" y=\"-230.8\" font-family=\"Helvetica,sans-Serif\" font-size=\"14.00\">squared_error = 0.281</text>\n<text text-anchor=\"middle\" x=\"248.5\" y=\"-215.8\" font-family=\"Helvetica,sans-Serif\" font-size=\"14.00\">samples = 235193</text>\n<text text-anchor=\"middle\" x=\"248.5\" y=\"-200.8\" font-family=\"Helvetica,sans-Serif\" font-size=\"14.00\">value = 0.81</text>\n</g>\n<!-- 1 -->\n<g id=\"node2\" class=\"node\">\n<title>1</title>\n<path fill=\"#f1bd98\" stroke=\"black\" d=\"M237,-157C237,-157 82,-157 82,-157 76,-157 70,-151 70,-145 70,-145 70,-101 70,-101 70,-95 76,-89 82,-89 82,-89 237,-89 237,-89 243,-89 249,-95 249,-101 249,-101 249,-145 249,-145 249,-151 243,-157 237,-157\"/>\n<text text-anchor=\"middle\" x=\"159.5\" y=\"-141.8\" font-family=\"Helvetica,sans-Serif\" font-size=\"14.00\">primaryweapon_AR &lt;= 0.5</text>\n<text text-anchor=\"middle\" x=\"159.5\" y=\"-126.8\" font-family=\"Helvetica,sans-Serif\" font-size=\"14.00\">squared_error = 0.253</text>\n<text text-anchor=\"middle\" x=\"159.5\" y=\"-111.8\" font-family=\"Helvetica,sans-Serif\" font-size=\"14.00\">samples = 138665</text>\n<text text-anchor=\"middle\" x=\"159.5\" y=\"-96.8\" font-family=\"Helvetica,sans-Serif\" font-size=\"14.00\">value = 0.862</text>\n</g>\n<!-- 0&#45;&gt;1 -->\n<g id=\"edge1\" class=\"edge\">\n<title>0&#45;&gt;1</title>\n<path fill=\"none\" stroke=\"black\" d=\"M219.6,-192.88C211.83,-183.98 203.33,-174.24 195.24,-164.96\"/>\n<polygon fill=\"black\" stroke=\"black\" points=\"197.77,-162.53 188.56,-157.3 192.49,-167.14 197.77,-162.53\"/>\n<text text-anchor=\"middle\" x=\"186.86\" y=\"-178.54\" font-family=\"Helvetica,sans-Serif\" font-size=\"14.00\">True</text>\n</g>\n<!-- 4 -->\n<g id=\"node5\" class=\"node\">\n<title>4</title>\n<path fill=\"#ffffff\" stroke=\"black\" d=\"M398,-149.5C398,-149.5 279,-149.5 279,-149.5 273,-149.5 267,-143.5 267,-137.5 267,-137.5 267,-108.5 267,-108.5 267,-102.5 273,-96.5 279,-96.5 279,-96.5 398,-96.5 398,-96.5 404,-96.5 410,-102.5 410,-108.5 410,-108.5 410,-137.5 410,-137.5 410,-143.5 404,-149.5 398,-149.5\"/>\n<text text-anchor=\"middle\" x=\"338.5\" y=\"-134.3\" font-family=\"Helvetica,sans-Serif\" font-size=\"14.00\">squared_error = 0.31</text>\n<text text-anchor=\"middle\" x=\"338.5\" y=\"-119.3\" font-family=\"Helvetica,sans-Serif\" font-size=\"14.00\">samples = 96528</text>\n<text text-anchor=\"middle\" x=\"338.5\" y=\"-104.3\" font-family=\"Helvetica,sans-Serif\" font-size=\"14.00\">value = 0.736</text>\n</g>\n<!-- 0&#45;&gt;4 -->\n<g id=\"edge4\" class=\"edge\">\n<title>0&#45;&gt;4</title>\n<path fill=\"none\" stroke=\"black\" d=\"M277.72,-192.88C287.81,-181.45 299.12,-168.63 309.21,-157.19\"/>\n<polygon fill=\"black\" stroke=\"black\" points=\"311.99,-159.33 315.98,-149.52 306.74,-154.7 311.99,-159.33\"/>\n<text text-anchor=\"middle\" x=\"317.54\" y=\"-170.77\" font-family=\"Helvetica,sans-Serif\" font-size=\"14.00\">False</text>\n</g>\n<!-- 2 -->\n<g id=\"node3\" class=\"node\">\n<title>2</title>\n<path fill=\"#f2c19d\" stroke=\"black\" d=\"M139,-53C139,-53 12,-53 12,-53 6,-53 0,-47 0,-41 0,-41 0,-12 0,-12 0,-6 6,0 12,0 12,0 139,0 139,0 145,0 151,-6 151,-12 151,-12 151,-41 151,-41 151,-47 145,-53 139,-53\"/>\n<text text-anchor=\"middle\" x=\"75.5\" y=\"-37.8\" font-family=\"Helvetica,sans-Serif\" font-size=\"14.00\">squared_error = 0.254</text>\n<text text-anchor=\"middle\" x=\"75.5\" y=\"-22.8\" font-family=\"Helvetica,sans-Serif\" font-size=\"14.00\">samples = 131424</text>\n<text text-anchor=\"middle\" x=\"75.5\" y=\"-7.8\" font-family=\"Helvetica,sans-Serif\" font-size=\"14.00\">value = 0.856</text>\n</g>\n<!-- 1&#45;&gt;2 -->\n<g id=\"edge2\" class=\"edge\">\n<title>1&#45;&gt;2</title>\n<path fill=\"none\" stroke=\"black\" d=\"M130.12,-88.95C121.99,-79.8 113.16,-69.87 105.02,-60.71\"/>\n<polygon fill=\"black\" stroke=\"black\" points=\"107.64,-58.39 98.38,-53.24 102.4,-63.04 107.64,-58.39\"/>\n</g>\n<!-- 3 -->\n<g id=\"node4\" class=\"node\">\n<title>3</title>\n<path fill=\"#e58139\" stroke=\"black\" d=\"M308,-53C308,-53 181,-53 181,-53 175,-53 169,-47 169,-41 169,-41 169,-12 169,-12 169,-6 175,0 181,0 181,0 308,0 308,0 314,0 320,-6 320,-12 320,-12 320,-41 320,-41 320,-47 314,-53 308,-53\"/>\n<text text-anchor=\"middle\" x=\"244.5\" y=\"-37.8\" font-family=\"Helvetica,sans-Serif\" font-size=\"14.00\">squared_error = 0.219</text>\n<text text-anchor=\"middle\" x=\"244.5\" y=\"-22.8\" font-family=\"Helvetica,sans-Serif\" font-size=\"14.00\">samples = 7241</text>\n<text text-anchor=\"middle\" x=\"244.5\" y=\"-7.8\" font-family=\"Helvetica,sans-Serif\" font-size=\"14.00\">value = 0.977</text>\n</g>\n<!-- 1&#45;&gt;3 -->\n<g id=\"edge3\" class=\"edge\">\n<title>1&#45;&gt;3</title>\n<path fill=\"none\" stroke=\"black\" d=\"M189.23,-88.95C197.46,-79.8 206.39,-69.87 214.63,-60.71\"/>\n<polygon fill=\"black\" stroke=\"black\" points=\"217.27,-63.01 221.35,-53.24 212.06,-58.33 217.27,-63.01\"/>\n</g>\n</g>\n</svg>\n"
          },
          "metadata": {},
          "execution_count": 349
        }
      ]
    },
    {
      "cell_type": "markdown",
      "source": [
        "- 단순히 총기 종류로만 예측을 하였으므로 "
      ],
      "metadata": {
        "id": "_QWp9srVkInV"
      }
    },
    {
      "cell_type": "markdown",
      "metadata": {
        "id": "tPAWAB6OfWp2"
      },
      "source": [
        "- 평생 PC로만 FPS게임을 플레이해왔더니 한가지 궁금증이 생겼다 . \n",
        "\n",
        "- 콘솔로 플레이하는 사람들은 선호하는 무기가 다를까? \n",
        "\n",
        "- 만약 선호하는 무기가 다르고, 각 캐릭터별 주력 총기가 다르다면, 밸런스 패치를 다르게 진행해야한다\n",
        "\n",
        "- 머리한번만 쏘면 죽는 게임이 PC는 SMG와 AR이 지배하다 싶이 하지만 조준이 어려운 콘솔은 샷건의 선호도가 좀 더 높지 않을까 싶다  "
      ]
    },
    {
      "cell_type": "markdown",
      "source": [
        "- 플랫폼별 KDA를 확인해봄 \n",
        "- PC는 공/수 KDA가 비슷하지만 \n",
        "\n",
        "- 콘솔들은 뭔가 좀 심각하다 , 머리 맞추면 끝나는 게임이기도 하고, 먼저 조준하고 있는 입장이 훨씬 유리할텐데...\n",
        "\n",
        "- ...그런데 이렇게 차이가 나는데 그냥 똑같이 밸런스를 맞췄다고?"
      ],
      "metadata": {
        "id": "bRNDpJBljiGG"
      }
    },
    {
      "cell_type": "markdown",
      "source": [],
      "metadata": {
        "id": "Qh64x4KrkaRZ"
      }
    },
    {
      "cell_type": "code",
      "source": [
        "\n",
        "print(\"DEF_K/DA\",df_operators_drop_DEF[[\"platform\",\"k/d_ratio\"]].groupby(\"platform\").mean())\n",
        "print()\n",
        "print(\"ATK_K/DA\",df_operators_drop_ATK[[\"platform\",\"k/d_ratio\"]].groupby(\"platform\").mean())\n",
        "\n"
      ],
      "metadata": {
        "colab": {
          "base_uri": "https://localhost:8080/"
        },
        "id": "hK0TrXxxiV-W",
        "outputId": "8ef99910-c9a3-4f3f-d0aa-2620b9597f37"
      },
      "execution_count": 350,
      "outputs": [
        {
          "output_type": "stream",
          "name": "stdout",
          "text": [
            "DEF_K/DA           k/d_ratio\n",
            "platform           \n",
            "PC         0.845214\n",
            "PS4        0.794322\n",
            "XONE       0.798116\n",
            "\n",
            "ATK_K/DA           k/d_ratio\n",
            "platform           \n",
            "PC         0.858801\n",
            "PS4        0.901558\n",
            "XONE       0.903808\n"
          ]
        }
      ]
    },
    {
      "cell_type": "code",
      "source": [
        "print(\"DEF_win\", df_operators_drop_DEF[[\"platform\",\"win_ratio\"]].groupby(\"platform\").mean())\n",
        "print()\n",
        "print(\"ATK_win\", df_operators_drop_ATK[[\"platform\",\"win_ratio\"]].groupby(\"platform\").mean())"
      ],
      "metadata": {
        "colab": {
          "base_uri": "https://localhost:8080/"
        },
        "id": "hzQTuGuXacRT",
        "outputId": "1b5b4100-2d86-4c1d-dbb3-64a600568b7f"
      },
      "execution_count": 351,
      "outputs": [
        {
          "output_type": "stream",
          "name": "stdout",
          "text": [
            "DEF_win           win_ratio\n",
            "platform           \n",
            "PC         0.449866\n",
            "PS4        0.450440\n",
            "XONE       0.450463\n",
            "\n",
            "ATK_win           win_ratio\n",
            "platform           \n",
            "PC         0.400803\n",
            "PS4        0.459416\n",
            "XONE       0.453613\n"
          ]
        }
      ]
    },
    {
      "cell_type": "markdown",
      "source": [
        "- 콘솔에서는 평균적으로 공격팀의 평균 KDA가 더 높음, 교전시 공격팀이 더욱 유리한것을 볼수 있음, ㅌ \n",
        "\n",
        "- 평균적으로 콘솔의 공수 승률은 비슷하다, 하지만 PC의 승률은 차이가 있는데 이는 수비팀이 공격팀보다 유리하다는것을 의미함 "
      ],
      "metadata": {
        "id": "17aaOSAfZ7hH"
      }
    },
    {
      "cell_type": "code",
      "source": [
        "df_operators_drop_ATK = df_operators_drop_ATK.replace(\"PS4\" , \"CONSOLE\").replace(\"XONE\",\"CONSOLE\")\n",
        "df_operators_drop_DEF = df_operators_drop_DEF.replace(\"PS4\" , \"CONSOLE\").replace(\"XONE\",\"CONSOLE\")"
      ],
      "metadata": {
        "id": "PKSfZiiiHMXZ"
      },
      "execution_count": 352,
      "outputs": []
    },
    {
      "cell_type": "code",
      "source": [
        "sns.barplot(data=df_operators_drop_ATK,\n",
        "            x=\"primaryweapon\",\n",
        "            y=\"k/d_ratio\",\n",
        "            hue=\"platform\")\n",
        "\n"
      ],
      "metadata": {
        "colab": {
          "base_uri": "https://localhost:8080/",
          "height": 298
        },
        "id": "6OdANowmFqo0",
        "outputId": "d4c04be8-5947-416c-810c-ed7484e16f48"
      },
      "execution_count": 353,
      "outputs": [
        {
          "output_type": "execute_result",
          "data": {
            "text/plain": [
              "<matplotlib.axes._subplots.AxesSubplot at 0x7f609ab3b8e0>"
            ]
          },
          "metadata": {},
          "execution_count": 353
        },
        {
          "output_type": "display_data",
          "data": {
            "text/plain": [
              "<Figure size 432x288 with 1 Axes>"
            ],
            "image/png": "[encoded data removed]"
          },
          "metadata": {
            "needs_background": "light"
          }
        }
      ]
    },
    {
      "cell_type": "markdown",
      "source": [
        "샷건이 KDA차이가 꽤 심하게 났다 . 그리고 전체적으로 콘솔의 KDA가 높게 나왔다 . \n",
        "다른총기에서 긴가민가 했는데 샷건 데이터에서 알수있는것은 콘솔유저들은 헤드샷을 잘 맞추지 못한다. 현재 데이터에 헤드샷 사인이 있다면 확실하게 알수 있었겠지만 없으니...\n",
        "\n",
        "공격팀의 무장은 몇몇 오퍼레이터들을 제외하곤 화력으로 압도할수 있다. 그렇기에 서로 화력싸움을 하는 비율이 높기에 수비팀보다 콘솔의 KDA가 높은듯 하다. \n",
        "\n",
        "샷건의 경우 헤드샷을 맞기 전에 샷건으로 쏴죽여버린듯 "
      ],
      "metadata": {
        "id": "iVn0_qpfLEOk"
      }
    },
    {
      "cell_type": "code",
      "source": [
        "sns.barplot(data=df_operators_drop_DEF,\n",
        "            x=\"primaryweapon\",\n",
        "            y=\"k/d_ratio\",\n",
        "            hue=\"platform\")"
      ],
      "metadata": {
        "colab": {
          "base_uri": "https://localhost:8080/",
          "height": 298
        },
        "id": "dFyy9Y5CI4_h",
        "outputId": "65600903-71d4-4af8-d03c-ce6d4fda6770"
      },
      "execution_count": 354,
      "outputs": [
        {
          "output_type": "execute_result",
          "data": {
            "text/plain": [
              "<matplotlib.axes._subplots.AxesSubplot at 0x7f609aa61640>"
            ]
          },
          "metadata": {},
          "execution_count": 354
        },
        {
          "output_type": "display_data",
          "data": {
            "text/plain": [
              "<Figure size 432x288 with 1 Axes>"
            ],
            "image/png": "[encoded data removed]"
          },
          "metadata": {
            "needs_background": "light"
          }
        }
      ]
    },
    {
      "cell_type": "markdown",
      "source": [
        "- PC와 CONSOLE의 차이나는것을 보아 PC의 SMG 사용자는 헤드샷노려 화력차이를 이겨낸것으로 보인다 .\n",
        "\n",
        "- 콘솔은 머리 맞추기가 힘드니 KDA까 차이가 남 \n",
        "\n"
      ],
      "metadata": {
        "id": "QrMbQwQlL2VW"
      }
    },
    {
      "cell_type": "code",
      "source": [
        "weapone_ATK=weapone_ATK.replace(\"XONE\",\"CONSOLE\")\n",
        "weapone_ATK=weapone_ATK.replace(\"PS4\",\"CONSOLE\")\n",
        "\n",
        "weapone_DEF=weapone_DEF.replace(\"XONE\",\"CONSOLE\")\n",
        "weapone_DEF=weapone_DEF.replace(\"PS4\",\"CONSOLE\")"
      ],
      "metadata": {
        "id": "Ucra9ysPr50S"
      },
      "execution_count": 355,
      "outputs": []
    },
    {
      "cell_type": "code",
      "source": [
        "PC_ATK = weapone_ATK[weapone_ATK[\"platform\"]==\"PC\"]\n",
        "CONSOLE_ATK = weapone_ATK[(weapone_ATK[\"platform\"]==\"CONSOLE\") ]\n",
        "\n",
        "PC_DEF = weapone_DEF[weapone_DEF[\"platform\"]==\"PC\"]\n",
        "CONSOLE_DEF = weapone_DEF[(weapone_DEF[\"platform\"]==\"CONSOLE\") ]\n"
      ],
      "metadata": {
        "id": "j2qDRpoWJouw"
      },
      "execution_count": 356,
      "outputs": []
    },
    {
      "cell_type": "code",
      "source": [
        "def weapon_chart_PC_ATK(target ,x, y):\n",
        "    weapone_ATK_PC= PC_ATK.groupby(\"primaryweapon\").mean().sort_values(by=target)\n",
        "    plt.figure(figsize=(x,y))\n",
        "\n",
        "    return sns.barplot(x=weapone_ATK_PC[target], y=weapone_ATK_PC.index, data=weapone_ATK_PC).set_title(\"PC_ATK\")\n",
        "\n",
        "def weapon_chart_PC_DEF(target, x, y):\n",
        "    weapone_ATK_PC= PC_ATK.groupby(\"primaryweapon\").mean().sort_values(by=target)\n",
        "    plt.figure(figsize=(x,y))\n",
        "\n",
        "    return sns.barplot(x=weapone_ATK_PC[target], y=weapone_ATK_PC.index, data=weapone_ATK_PC).set_title(\"PC_ATK\")\n",
        "\n",
        "def weapon_chart_CON_ATK(target,x,y):\n",
        "    weapone_ATK_CON= CONSOLE_ATK.groupby(\"primaryweapon\").mean().sort_values(by=target)\n",
        "    plt.figure(figsize=(x,y))\n",
        "\n",
        "    return sns.barplot(x=weapone_ATK_CON[target], y=weapone_ATK_CON.index, data=weapone_ATK_CON).set_title(\"CON_ATK\")\n",
        "\n",
        "def weapon_chart_CON_DEF(target, x, y):\n",
        "    weapone_DEF_CON= CONSOLE_DEF.groupby(\"primaryweapon\").mean().sort_values(by=target)\n",
        "    plt.figure(figsize=(x,y))\n",
        "\n",
        "    return sns.barplot(x=weapone_DEF_CON[\"win_ratio\"], y=weapone_DEF_CON.index, data=weapone_DEF_CON).set_title(\"CON_DEF\")\n",
        "\n",
        "\n"
      ],
      "metadata": {
        "id": "0-TU5wwtmd-Z"
      },
      "execution_count": 357,
      "outputs": []
    },
    {
      "cell_type": "code",
      "source": [
        "weapon_chart_PC_ATK(\"k/d_ratio\",15,5)\n",
        "weapon_chart_CON_ATK(\"k/d_ratio\",15,5)\n",
        "\n",
        "weapon_chart_PC_DEF(\"k/d_ratio\",15,5)\n",
        "weapon_chart_CON_DEF(\"k/d_ratio\",15,5)\n",
        "\n"
      ],
      "metadata": {
        "colab": {
          "base_uri": "https://localhost:8080/",
          "height": 1000
        },
        "id": "2TslqQSQlwkV",
        "outputId": "2a3a85cf-097a-4c07-feda-3e1b25666312"
      },
      "execution_count": 358,
      "outputs": [
        {
          "output_type": "execute_result",
          "data": {
            "text/plain": [
              "Text(0.5, 1.0, 'CON_DEF')"
            ]
          },
          "metadata": {},
          "execution_count": 358
        },
        {
          "output_type": "display_data",
          "data": {
            "text/plain": [
              "<Figure size 1080x360 with 1 Axes>"
            ],
            "image/png": "[encoded data removed]"
          },
          "metadata": {
            "needs_background": "light"
          }
        },
        {
          "output_type": "display_data",
          "data": {
            "text/plain": [
              "<Figure size 1080x360 with 1 Axes>"
            ],
            "image/png": "[encoded data removed]"
          },
          "metadata": {
            "needs_background": "light"
          }
        },
        {
          "output_type": "display_data",
          "data": {
            "text/plain": [
              "<Figure size 1080x360 with 1 Axes>"
            ],
            "image/png": "[encoded data removed]"
          },
          "metadata": {
            "needs_background": "light"
          }
        },
        {
          "output_type": "display_data",
          "data": {
            "text/plain": [
              "<Figure size 1080x360 with 1 Axes>"
            ],
            "image/png": "[encoded data removed]"
          },
          "metadata": {
            "needs_background": "light"
          }
        }
      ]
    },
    {
      "cell_type": "code",
      "source": [
        "weapon_chart_PC_ATK(\"win_ratio\",15,5)\n",
        "weapon_chart_CON_ATK(\"win_ratio\",15,5)\n",
        "\n",
        "weapon_chart_PC_DEF(\"win_ratio\",15,5)\n",
        "weapon_chart_CON_DEF(\"win_ratio\",15,5)\n"
      ],
      "metadata": {
        "id": "Cloul4ulCsHW",
        "colab": {
          "base_uri": "https://localhost:8080/",
          "height": 1000
        },
        "outputId": "0970533c-f13c-4cc9-b080-de24200248d6"
      },
      "execution_count": 359,
      "outputs": [
        {
          "output_type": "execute_result",
          "data": {
            "text/plain": [
              "Text(0.5, 1.0, 'CON_DEF')"
            ]
          },
          "metadata": {},
          "execution_count": 359
        },
        {
          "output_type": "display_data",
          "data": {
            "text/plain": [
              "<Figure size 1080x360 with 1 Axes>"
            ],
            "image/png": "[encoded data removed]"
          },
          "metadata": {
            "needs_background": "light"
          }
        },
        {
          "output_type": "display_data",
          "data": {
            "text/plain": [
              "<Figure size 1080x360 with 1 Axes>"
            ],
            "image/png": "[encoded data removed]"
          },
          "metadata": {
            "needs_background": "light"
          }
        },
        {
          "output_type": "display_data",
          "data": {
            "text/plain": [
              "<Figure size 1080x360 with 1 Axes>"
            ],
            "image/png": "[encoded data removed]"
          },
          "metadata": {
            "needs_background": "light"
          }
        },
        {
          "output_type": "display_data",
          "data": {
            "text/plain": [
              "<Figure size 1080x360 with 1 Axes>"
            ],
            "image/png": "[encoded data removed]"
          },
          "metadata": {
            "needs_background": "light"
          }
        }
      ]
    },
    {
      "cell_type": "code",
      "source": [],
      "metadata": {
        "id": "a15qTJvHm15v"
      },
      "execution_count": 359,
      "outputs": []
    },
    {
      "cell_type": "code",
      "source": [
        "\n"
      ],
      "metadata": {
        "id": "OQpzABIbePPK"
      },
      "execution_count": 359,
      "outputs": []
    },
    {
      "cell_type": "code",
      "source": [],
      "metadata": {
        "id": "YmRBTWy3p1dC"
      },
      "execution_count": 359,
      "outputs": []
    },
    {
      "cell_type": "markdown",
      "source": [],
      "metadata": {
        "id": "12shlepFfqTY"
      }
    },
    {
      "cell_type": "markdown",
      "source": [
        "여기 플랫폼은 전부 PC뿐이다\n"
      ],
      "metadata": {
        "id": "HmMrWlf4c8TT"
      }
    },
    {
      "cell_type": "code",
      "source": [
        "INDEX_obj    = df_objectives[df_objectives[\"nbdeaths\"]==0].index\n",
        "df_objectives= df_objectives.drop(INDEX_obj)\n",
        "\n",
        "df_objectives"
      ],
      "metadata": {
        "colab": {
          "base_uri": "https://localhost:8080/",
          "height": 424
        },
        "id": "dqSNS8IeeWcD",
        "outputId": "c04cc8e9-2e72-4d01-d641-52a6200b37ae"
      },
      "execution_count": 360,
      "outputs": [
        {
          "output_type": "execute_result",
          "data": {
            "text/plain": [
              "       platform    dateid       gamemode     mapname  \\\n",
              "0            PC  20170210     PvP . BOMB        BANK   \n",
              "1            PC  20170210     PvP . BOMB        BANK   \n",
              "2            PC  20170210     PvP . BOMB        BANK   \n",
              "3            PC  20170210     PvP . BOMB        BANK   \n",
              "4            PC  20170210     PvP . BOMB        BANK   \n",
              "...         ...       ...            ...         ...   \n",
              "999992       PC  20170319  PvP . HOSTAGE  SKYSCRAPER   \n",
              "999993       PC  20170319  PvP . HOSTAGE  SKYSCRAPER   \n",
              "999994       PC  20170319  PvP . HOSTAGE  SKYSCRAPER   \n",
              "999995       PC  20170319  PvP . HOSTAGE  SKYSCRAPER   \n",
              "999997       PC  20170319  PvP . HOSTAGE  SKYSCRAPER   \n",
              "\n",
              "                    objectivelocation skillrank      role  \\\n",
              "0       EXECUTIVE LOUNGE / CEO OFFICE    Bronze  Attacker   \n",
              "1       EXECUTIVE LOUNGE / CEO OFFICE    Bronze  Attacker   \n",
              "2       EXECUTIVE LOUNGE / CEO OFFICE    Bronze  Attacker   \n",
              "3       EXECUTIVE LOUNGE / CEO OFFICE    Bronze  Attacker   \n",
              "4       EXECUTIVE LOUNGE / CEO OFFICE    Bronze  Attacker   \n",
              "...                               ...       ...       ...   \n",
              "999992                     1F KITCHEN      Gold  Attacker   \n",
              "999993                     1F KITCHEN      Gold  Attacker   \n",
              "999994                     1F KITCHEN      Gold  Attacker   \n",
              "999995                     1F KITCHEN      Gold  Attacker   \n",
              "999997                     1F KITCHEN      Gold  Attacker   \n",
              "\n",
              "                   operator  nbwins  nbkills  nbdeaths  nbpicks  k/d_ratio  \\\n",
              "0             G.E.O.-JACKAL       0        0         1        1        0.0   \n",
              "1             GIGN-MONTAGNE       1        0         2        3        0.0   \n",
              "2                   GSG9-IQ       0        0         1        1        0.0   \n",
              "3                 JTF2-BUCK       0        0         1        1        0.0   \n",
              "4              SAS-THATCHER       0        0         1        1        0.0   \n",
              "...                     ...     ...      ...       ...      ...        ...   \n",
              "999992          GIGN-TWITCH       3        2         2        3        1.0   \n",
              "999993           GSG9-BLITZ       1        0         1        1        0.0   \n",
              "999994              GSG9-IQ       0        0         1        1        0.0   \n",
              "999995  NAVYSEAL-BLACKBEARD       2        6         1        2        6.0   \n",
              "999997         SAS-THATCHER       1        0         4        4        0.0   \n",
              "\n",
              "        win_ratio  \n",
              "0        0.000000  \n",
              "1        0.333333  \n",
              "2        0.000000  \n",
              "3        0.000000  \n",
              "4        0.000000  \n",
              "...           ...  \n",
              "999992   1.000000  \n",
              "999993   1.000000  \n",
              "999994   0.000000  \n",
              "999995   1.000000  \n",
              "999997   0.250000  \n",
              "\n",
              "[900000 rows x 14 columns]"
            ],
            "text/html": [
              "\n",
              "  <div id=\"df-c8459931-6ba4-4772-8a91-9babc6e1fa1e\">\n",
              "    <div class=\"colab-df-container\">\n",
              "      <div>\n",
              "<style scoped>\n",
              "    .dataframe tbody tr th:only-of-type {\n",
              "        vertical-align: middle;\n",
              "    }\n",
              "\n",
              "    .dataframe tbody tr th {\n",
              "        vertical-align: top;\n",
              "    }\n",
              "\n",
              "    .dataframe thead th {\n",
              "        text-align: right;\n",
              "    }\n",
              "</style>\n",
              "<table border=\"1\" class=\"dataframe\">\n",
              "  <thead>\n",
              "    <tr style=\"text-align: right;\">\n",
              "      <th></th>\n",
              "      <th>platform</th>\n",
              "      <th>dateid</th>\n",
              "      <th>gamemode</th>\n",
              "      <th>mapname</th>\n",
              "      <th>objectivelocation</th>\n",
              "      <th>skillrank</th>\n",
              "      <th>role</th>\n",
              "      <th>operator</th>\n",
              "      <th>nbwins</th>\n",
              "      <th>nbkills</th>\n",
              "      <th>nbdeaths</th>\n",
              "      <th>nbpicks</th>\n",
              "      <th>k/d_ratio</th>\n",
              "      <th>win_ratio</th>\n",
              "    </tr>\n",
              "  </thead>\n",
              "  <tbody>\n",
              "    <tr>\n",
              "      <th>0</th>\n",
              "      <td>PC</td>\n",
              "      <td>20170210</td>\n",
              "      <td>PvP . BOMB</td>\n",
              "      <td>BANK</td>\n",
              "      <td>EXECUTIVE LOUNGE / CEO OFFICE</td>\n",
              "      <td>Bronze</td>\n",
              "      <td>Attacker</td>\n",
              "      <td>G.E.O.-JACKAL</td>\n",
              "      <td>0</td>\n",
              "      <td>0</td>\n",
              "      <td>1</td>\n",
              "      <td>1</td>\n",
              "      <td>0.0</td>\n",
              "      <td>0.000000</td>\n",
              "    </tr>\n",
              "    <tr>\n",
              "      <th>1</th>\n",
              "      <td>PC</td>\n",
              "      <td>20170210</td>\n",
              "      <td>PvP . BOMB</td>\n",
              "      <td>BANK</td>\n",
              "      <td>EXECUTIVE LOUNGE / CEO OFFICE</td>\n",
              "      <td>Bronze</td>\n",
              "      <td>Attacker</td>\n",
              "      <td>GIGN-MONTAGNE</td>\n",
              "      <td>1</td>\n",
              "      <td>0</td>\n",
              "      <td>2</td>\n",
              "      <td>3</td>\n",
              "      <td>0.0</td>\n",
              "      <td>0.333333</td>\n",
              "    </tr>\n",
              "    <tr>\n",
              "      <th>2</th>\n",
              "      <td>PC</td>\n",
              "      <td>20170210</td>\n",
              "      <td>PvP . BOMB</td>\n",
              "      <td>BANK</td>\n",
              "      <td>EXECUTIVE LOUNGE / CEO OFFICE</td>\n",
              "      <td>Bronze</td>\n",
              "      <td>Attacker</td>\n",
              "      <td>GSG9-IQ</td>\n",
              "      <td>0</td>\n",
              "      <td>0</td>\n",
              "      <td>1</td>\n",
              "      <td>1</td>\n",
              "      <td>0.0</td>\n",
              "      <td>0.000000</td>\n",
              "    </tr>\n",
              "    <tr>\n",
              "      <th>3</th>\n",
              "      <td>PC</td>\n",
              "      <td>20170210</td>\n",
              "      <td>PvP . BOMB</td>\n",
              "      <td>BANK</td>\n",
              "      <td>EXECUTIVE LOUNGE / CEO OFFICE</td>\n",
              "      <td>Bronze</td>\n",
              "      <td>Attacker</td>\n",
              "      <td>JTF2-BUCK</td>\n",
              "      <td>0</td>\n",
              "      <td>0</td>\n",
              "      <td>1</td>\n",
              "      <td>1</td>\n",
              "      <td>0.0</td>\n",
              "      <td>0.000000</td>\n",
              "    </tr>\n",
              "    <tr>\n",
              "      <th>4</th>\n",
              "      <td>PC</td>\n",
              "      <td>20170210</td>\n",
              "      <td>PvP . BOMB</td>\n",
              "      <td>BANK</td>\n",
              "      <td>EXECUTIVE LOUNGE / CEO OFFICE</td>\n",
              "      <td>Bronze</td>\n",
              "      <td>Attacker</td>\n",
              "      <td>SAS-THATCHER</td>\n",
              "      <td>0</td>\n",
              "      <td>0</td>\n",
              "      <td>1</td>\n",
              "      <td>1</td>\n",
              "      <td>0.0</td>\n",
              "      <td>0.000000</td>\n",
              "    </tr>\n",
              "    <tr>\n",
              "      <th>...</th>\n",
              "      <td>...</td>\n",
              "      <td>...</td>\n",
              "      <td>...</td>\n",
              "      <td>...</td>\n",
              "      <td>...</td>\n",
              "      <td>...</td>\n",
              "      <td>...</td>\n",
              "      <td>...</td>\n",
              "      <td>...</td>\n",
              "      <td>...</td>\n",
              "      <td>...</td>\n",
              "      <td>...</td>\n",
              "      <td>...</td>\n",
              "      <td>...</td>\n",
              "    </tr>\n",
              "    <tr>\n",
              "      <th>999992</th>\n",
              "      <td>PC</td>\n",
              "      <td>20170319</td>\n",
              "      <td>PvP . HOSTAGE</td>\n",
              "      <td>SKYSCRAPER</td>\n",
              "      <td>1F KITCHEN</td>\n",
              "      <td>Gold</td>\n",
              "      <td>Attacker</td>\n",
              "      <td>GIGN-TWITCH</td>\n",
              "      <td>3</td>\n",
              "      <td>2</td>\n",
              "      <td>2</td>\n",
              "      <td>3</td>\n",
              "      <td>1.0</td>\n",
              "      <td>1.000000</td>\n",
              "    </tr>\n",
              "    <tr>\n",
              "      <th>999993</th>\n",
              "      <td>PC</td>\n",
              "      <td>20170319</td>\n",
              "      <td>PvP . HOSTAGE</td>\n",
              "      <td>SKYSCRAPER</td>\n",
              "      <td>1F KITCHEN</td>\n",
              "      <td>Gold</td>\n",
              "      <td>Attacker</td>\n",
              "      <td>GSG9-BLITZ</td>\n",
              "      <td>1</td>\n",
              "      <td>0</td>\n",
              "      <td>1</td>\n",
              "      <td>1</td>\n",
              "      <td>0.0</td>\n",
              "      <td>1.000000</td>\n",
              "    </tr>\n",
              "    <tr>\n",
              "      <th>999994</th>\n",
              "      <td>PC</td>\n",
              "      <td>20170319</td>\n",
              "      <td>PvP . HOSTAGE</td>\n",
              "      <td>SKYSCRAPER</td>\n",
              "      <td>1F KITCHEN</td>\n",
              "      <td>Gold</td>\n",
              "      <td>Attacker</td>\n",
              "      <td>GSG9-IQ</td>\n",
              "      <td>0</td>\n",
              "      <td>0</td>\n",
              "      <td>1</td>\n",
              "      <td>1</td>\n",
              "      <td>0.0</td>\n",
              "      <td>0.000000</td>\n",
              "    </tr>\n",
              "    <tr>\n",
              "      <th>999995</th>\n",
              "      <td>PC</td>\n",
              "      <td>20170319</td>\n",
              "      <td>PvP . HOSTAGE</td>\n",
              "      <td>SKYSCRAPER</td>\n",
              "      <td>1F KITCHEN</td>\n",
              "      <td>Gold</td>\n",
              "      <td>Attacker</td>\n",
              "      <td>NAVYSEAL-BLACKBEARD</td>\n",
              "      <td>2</td>\n",
              "      <td>6</td>\n",
              "      <td>1</td>\n",
              "      <td>2</td>\n",
              "      <td>6.0</td>\n",
              "      <td>1.000000</td>\n",
              "    </tr>\n",
              "    <tr>\n",
              "      <th>999997</th>\n",
              "      <td>PC</td>\n",
              "      <td>20170319</td>\n",
              "      <td>PvP . HOSTAGE</td>\n",
              "      <td>SKYSCRAPER</td>\n",
              "      <td>1F KITCHEN</td>\n",
              "      <td>Gold</td>\n",
              "      <td>Attacker</td>\n",
              "      <td>SAS-THATCHER</td>\n",
              "      <td>1</td>\n",
              "      <td>0</td>\n",
              "      <td>4</td>\n",
              "      <td>4</td>\n",
              "      <td>0.0</td>\n",
              "      <td>0.250000</td>\n",
              "    </tr>\n",
              "  </tbody>\n",
              "</table>\n",
              "<p>900000 rows × 14 columns</p>\n",
              "</div>\n",
              "      <button class=\"colab-df-convert\" onclick=\"convertToInteractive('df-c8459931-6ba4-4772-8a91-9babc6e1fa1e')\"\n",
              "              title=\"Convert this dataframe to an interactive table.\"\n",
              "              style=\"display:none;\">\n",
              "        \n",
              "  <svg xmlns=\"http://www.w3.org/2000/svg\" height=\"24px\"viewBox=\"0 0 24 24\"\n",
              "       width=\"24px\">\n",
              "    <path d=\"M0 0h24v24H0V0z\" fill=\"none\"/>\n",
              "    <path d=\"M18.56 5.44l.94 2.06.94-2.06 2.06-.94-2.06-.94-.94-2.06-.94 2.06-2.06.94zm-11 1L8.5 8.5l.94-2.06 2.06-.94-2.06-.94L8.5 2.5l-.94 2.06-2.06.94zm10 10l.94 2.06.94-2.06 2.06-.94-2.06-.94-.94-2.06-.94 2.06-2.06.94z\"/><path d=\"M17.41 7.96l-1.37-1.37c-.4-.4-.92-.59-1.43-.59-.52 0-1.04.2-1.43.59L10.3 9.45l-7.72 7.72c-.78.78-.78 2.05 0 2.83L4 21.41c.39.39.9.59 1.41.59.51 0 1.02-.2 1.41-.59l7.78-7.78 2.81-2.81c.8-.78.8-2.07 0-2.86zM5.41 20L4 18.59l7.72-7.72 1.47 1.35L5.41 20z\"/>\n",
              "  </svg>\n",
              "      </button>\n",
              "      \n",
              "  <style>\n",
              "    .colab-df-container {\n",
              "      display:flex;\n",
              "      flex-wrap:wrap;\n",
              "      gap: 12px;\n",
              "    }\n",
              "\n",
              "    .colab-df-convert {\n",
              "      background-color: #E8F0FE;\n",
              "      border: none;\n",
              "      border-radius: 50%;\n",
              "      cursor: pointer;\n",
              "      display: none;\n",
              "      fill: #1967D2;\n",
              "      height: 32px;\n",
              "      padding: 0 0 0 0;\n",
              "      width: 32px;\n",
              "    }\n",
              "\n",
              "    .colab-df-convert:hover {\n",
              "      background-color: #E2EBFA;\n",
              "      box-shadow: 0px 1px 2px rgba(60, 64, 67, 0.3), 0px 1px 3px 1px rgba(60, 64, 67, 0.15);\n",
              "      fill: #174EA6;\n",
              "    }\n",
              "\n",
              "    [theme=dark] .colab-df-convert {\n",
              "      background-color: #3B4455;\n",
              "      fill: #D2E3FC;\n",
              "    }\n",
              "\n",
              "    [theme=dark] .colab-df-convert:hover {\n",
              "      background-color: #434B5C;\n",
              "      box-shadow: 0px 1px 3px 1px rgba(0, 0, 0, 0.15);\n",
              "      filter: drop-shadow(0px 1px 2px rgba(0, 0, 0, 0.3));\n",
              "      fill: #FFFFFF;\n",
              "    }\n",
              "  </style>\n",
              "\n",
              "      <script>\n",
              "        const buttonEl =\n",
              "          document.querySelector('#df-c8459931-6ba4-4772-8a91-9babc6e1fa1e button.colab-df-convert');\n",
              "        buttonEl.style.display =\n",
              "          google.colab.kernel.accessAllowed ? 'block' : 'none';\n",
              "\n",
              "        async function convertToInteractive(key) {\n",
              "          const element = document.querySelector('#df-c8459931-6ba4-4772-8a91-9babc6e1fa1e');\n",
              "          const dataTable =\n",
              "            await google.colab.kernel.invokeFunction('convertToInteractive',\n",
              "                                                     [key], {});\n",
              "          if (!dataTable) return;\n",
              "\n",
              "          const docLinkHtml = 'Like what you see? Visit the ' +\n",
              "            '<a target=\"_blank\" href=https://colab.research.google.com/notebooks/data_table.ipynb>data table notebook</a>'\n",
              "            + ' to learn more about interactive tables.';\n",
              "          element.innerHTML = '';\n",
              "          dataTable['output_type'] = 'display_data';\n",
              "          await google.colab.output.renderOutput(dataTable, element);\n",
              "          const docLink = document.createElement('div');\n",
              "          docLink.innerHTML = docLinkHtml;\n",
              "          element.appendChild(docLink);\n",
              "        }\n",
              "      </script>\n",
              "    </div>\n",
              "  </div>\n",
              "  "
            ]
          },
          "metadata": {},
          "execution_count": 360
        }
      ]
    },
    {
      "cell_type": "code",
      "source": [],
      "metadata": {
        "id": "VUopyoUoc90a"
      },
      "execution_count": 360,
      "outputs": []
    },
    {
      "cell_type": "code",
      "source": [
        "objectives_BOMB = df_objectives[df_objectives[\"gamemode\"]==\"PvP . BOMB\"]"
      ],
      "metadata": {
        "id": "tY8N6XLvgSdm"
      },
      "execution_count": 361,
      "outputs": []
    },
    {
      "cell_type": "code",
      "source": [],
      "metadata": {
        "id": "R02-AtL_cePV"
      },
      "execution_count": 361,
      "outputs": []
    },
    {
      "cell_type": "code",
      "source": [
        "objectives_BOMB=objectives_BOMB[[\"mapname\",\"objectivelocation\",\"skillrank\",\"role\",\"operator\",\"k/d_ratio\",\"win_ratio\"]]\n",
        "#objectives_BOMB_ATK = objectives_BOMB[objectives_BOMB[\"role\"]==\"Attacker\"]\n",
        "#objectives_BOMB_DEF = objectives_BOMB[objectives_BOMB[\"role\"]==\"Defender\"]"
      ],
      "metadata": {
        "id": "L8rxsunLdRTg"
      },
      "execution_count": 362,
      "outputs": []
    },
    {
      "cell_type": "code",
      "source": [
        "#test_ATK= objectives_BOMB_ATK[[\"mapname\",\"k/d_ratio\",\"win_ratio\"]].groupby([\"mapname\"]).mean().reset_index()\n",
        "#test_DEF= objectives_BOMB_DEF[[\"mapname\",\"k/d_ratio\",\"win_ratio\"]].groupby([\"mapname\"]).mean().reset_index()"
      ],
      "metadata": {
        "id": "JYkXwFPhfgKE"
      },
      "execution_count": 363,
      "outputs": []
    },
    {
      "cell_type": "code",
      "source": [
        "objectives_BOMB =objectives_BOMB.sort_values(by=\"win_ratio\")"
      ],
      "metadata": {
        "id": "thsX5q_AVAIt"
      },
      "execution_count": 364,
      "outputs": []
    },
    {
      "cell_type": "code",
      "source": [],
      "metadata": {
        "id": "NiAJQIODxXQE"
      },
      "execution_count": 364,
      "outputs": []
    },
    {
      "cell_type": "code",
      "source": [
        "def map_graph(target_x, target_y , HUE , DATA):  \n",
        "   plt.figure(figsize=(6,6))\n",
        "   return sns.barplot(data=DATA,\n",
        "                y=target_y,\n",
        "                x=target_x,\n",
        "                hue=HUE)"
      ],
      "metadata": {
        "id": "QT6k3JYm88Iq"
      },
      "execution_count": 365,
      "outputs": []
    },
    {
      "cell_type": "code",
      "source": [],
      "metadata": {
        "id": "_ru4AqJ5kusD"
      },
      "execution_count": 365,
      "outputs": []
    },
    {
      "cell_type": "code",
      "source": [
        "objectives_BOMB#=objectives_BOMB[objectives_BOMB[\"skillrank\"]==\"Platinum\"]"
      ],
      "metadata": {
        "colab": {
          "base_uri": "https://localhost:8080/",
          "height": 424
        },
        "id": "v3Bge_XdZ42T",
        "outputId": "fd422a39-4784-4c28-968e-b5db12b0746a"
      },
      "execution_count": 366,
      "outputs": [
        {
          "output_type": "execute_result",
          "data": {
            "text/plain": [
              "                 mapname                          objectivelocation skillrank  \\\n",
              "0                   BANK              EXECUTIVE LOUNGE / CEO OFFICE    Bronze   \n",
              "851486              BANK              EXECUTIVE LOUNGE / CEO OFFICE      Gold   \n",
              "851488              BANK              EXECUTIVE LOUNGE / CEO OFFICE      Gold   \n",
              "671909           FAVELAS    2F AUNT'S BEDROOM / 1F AUNT'S APARTMENT    Bronze   \n",
              "671907           FAVELAS  1F BIKER'S APARTMENT / 1F BIKER'S BEDROOM  Unranked   \n",
              "...                  ...                                        ...       ...   \n",
              "299336  KAFE DOSTOYEVSKY                      BAR / COCKTAIL LOUNGE  Unranked   \n",
              "907439             HOUSE                LIVING ROOM / TRAINING ROOM  Unranked   \n",
              "907440             HOUSE                LIVING ROOM / TRAINING ROOM  Unranked   \n",
              "299284  KAFE DOSTOYEVSKY                      BAR / COCKTAIL LOUNGE  Platinum   \n",
              "268757            BORDER                VENTILATION ROOM / WORKSHOP    Silver   \n",
              "\n",
              "            role       operator  k/d_ratio  win_ratio  \n",
              "0       Attacker  G.E.O.-JACKAL   0.000000        0.0  \n",
              "851486  Defender   BOPE-CAVEIRA   0.000000        0.0  \n",
              "851488  Defender       GIGN-DOC   0.500000        0.0  \n",
              "671909  Attacker     SAT-HIBANA   0.000000        0.0  \n",
              "671907  Defender    SWAT-CASTLE   0.000000        0.0  \n",
              "...          ...            ...        ...        ...  \n",
              "299336  Attacker  SPETSNAZ-GLAZ   0.000000        1.0  \n",
              "907439  Attacker     SAS-SLEDGE   1.000000        1.0  \n",
              "907440  Attacker  SPETSNAZ-FUZE   1.000000        1.0  \n",
              "299284  Defender       GIGN-DOC   2.000000        1.0  \n",
              "268757  Defender    G.E.O.-MIRA   0.666667        1.0  \n",
              "\n",
              "[306679 rows x 7 columns]"
            ],
            "text/html": [
              "\n",
              "  <div id=\"df-e7c8bb10-c145-4ddf-8776-1672b0a643e9\">\n",
              "    <div class=\"colab-df-container\">\n",
              "      <div>\n",
              "<style scoped>\n",
              "    .dataframe tbody tr th:only-of-type {\n",
              "        vertical-align: middle;\n",
              "    }\n",
              "\n",
              "    .dataframe tbody tr th {\n",
              "        vertical-align: top;\n",
              "    }\n",
              "\n",
              "    .dataframe thead th {\n",
              "        text-align: right;\n",
              "    }\n",
              "</style>\n",
              "<table border=\"1\" class=\"dataframe\">\n",
              "  <thead>\n",
              "    <tr style=\"text-align: right;\">\n",
              "      <th></th>\n",
              "      <th>mapname</th>\n",
              "      <th>objectivelocation</th>\n",
              "      <th>skillrank</th>\n",
              "      <th>role</th>\n",
              "      <th>operator</th>\n",
              "      <th>k/d_ratio</th>\n",
              "      <th>win_ratio</th>\n",
              "    </tr>\n",
              "  </thead>\n",
              "  <tbody>\n",
              "    <tr>\n",
              "      <th>0</th>\n",
              "      <td>BANK</td>\n",
              "      <td>EXECUTIVE LOUNGE / CEO OFFICE</td>\n",
              "      <td>Bronze</td>\n",
              "      <td>Attacker</td>\n",
              "      <td>G.E.O.-JACKAL</td>\n",
              "      <td>0.000000</td>\n",
              "      <td>0.0</td>\n",
              "    </tr>\n",
              "    <tr>\n",
              "      <th>851486</th>\n",
              "      <td>BANK</td>\n",
              "      <td>EXECUTIVE LOUNGE / CEO OFFICE</td>\n",
              "      <td>Gold</td>\n",
              "      <td>Defender</td>\n",
              "      <td>BOPE-CAVEIRA</td>\n",
              "      <td>0.000000</td>\n",
              "      <td>0.0</td>\n",
              "    </tr>\n",
              "    <tr>\n",
              "      <th>851488</th>\n",
              "      <td>BANK</td>\n",
              "      <td>EXECUTIVE LOUNGE / CEO OFFICE</td>\n",
              "      <td>Gold</td>\n",
              "      <td>Defender</td>\n",
              "      <td>GIGN-DOC</td>\n",
              "      <td>0.500000</td>\n",
              "      <td>0.0</td>\n",
              "    </tr>\n",
              "    <tr>\n",
              "      <th>671909</th>\n",
              "      <td>FAVELAS</td>\n",
              "      <td>2F AUNT'S BEDROOM / 1F AUNT'S APARTMENT</td>\n",
              "      <td>Bronze</td>\n",
              "      <td>Attacker</td>\n",
              "      <td>SAT-HIBANA</td>\n",
              "      <td>0.000000</td>\n",
              "      <td>0.0</td>\n",
              "    </tr>\n",
              "    <tr>\n",
              "      <th>671907</th>\n",
              "      <td>FAVELAS</td>\n",
              "      <td>1F BIKER'S APARTMENT / 1F BIKER'S BEDROOM</td>\n",
              "      <td>Unranked</td>\n",
              "      <td>Defender</td>\n",
              "      <td>SWAT-CASTLE</td>\n",
              "      <td>0.000000</td>\n",
              "      <td>0.0</td>\n",
              "    </tr>\n",
              "    <tr>\n",
              "      <th>...</th>\n",
              "      <td>...</td>\n",
              "      <td>...</td>\n",
              "      <td>...</td>\n",
              "      <td>...</td>\n",
              "      <td>...</td>\n",
              "      <td>...</td>\n",
              "      <td>...</td>\n",
              "    </tr>\n",
              "    <tr>\n",
              "      <th>299336</th>\n",
              "      <td>KAFE DOSTOYEVSKY</td>\n",
              "      <td>BAR / COCKTAIL LOUNGE</td>\n",
              "      <td>Unranked</td>\n",
              "      <td>Attacker</td>\n",
              "      <td>SPETSNAZ-GLAZ</td>\n",
              "      <td>0.000000</td>\n",
              "      <td>1.0</td>\n",
              "    </tr>\n",
              "    <tr>\n",
              "      <th>907439</th>\n",
              "      <td>HOUSE</td>\n",
              "      <td>LIVING ROOM / TRAINING ROOM</td>\n",
              "      <td>Unranked</td>\n",
              "      <td>Attacker</td>\n",
              "      <td>SAS-SLEDGE</td>\n",
              "      <td>1.000000</td>\n",
              "      <td>1.0</td>\n",
              "    </tr>\n",
              "    <tr>\n",
              "      <th>907440</th>\n",
              "      <td>HOUSE</td>\n",
              "      <td>LIVING ROOM / TRAINING ROOM</td>\n",
              "      <td>Unranked</td>\n",
              "      <td>Attacker</td>\n",
              "      <td>SPETSNAZ-FUZE</td>\n",
              "      <td>1.000000</td>\n",
              "      <td>1.0</td>\n",
              "    </tr>\n",
              "    <tr>\n",
              "      <th>299284</th>\n",
              "      <td>KAFE DOSTOYEVSKY</td>\n",
              "      <td>BAR / COCKTAIL LOUNGE</td>\n",
              "      <td>Platinum</td>\n",
              "      <td>Defender</td>\n",
              "      <td>GIGN-DOC</td>\n",
              "      <td>2.000000</td>\n",
              "      <td>1.0</td>\n",
              "    </tr>\n",
              "    <tr>\n",
              "      <th>268757</th>\n",
              "      <td>BORDER</td>\n",
              "      <td>VENTILATION ROOM / WORKSHOP</td>\n",
              "      <td>Silver</td>\n",
              "      <td>Defender</td>\n",
              "      <td>G.E.O.-MIRA</td>\n",
              "      <td>0.666667</td>\n",
              "      <td>1.0</td>\n",
              "    </tr>\n",
              "  </tbody>\n",
              "</table>\n",
              "<p>306679 rows × 7 columns</p>\n",
              "</div>\n",
              "      <button class=\"colab-df-convert\" onclick=\"convertToInteractive('df-e7c8bb10-c145-4ddf-8776-1672b0a643e9')\"\n",
              "              title=\"Convert this dataframe to an interactive table.\"\n",
              "              style=\"display:none;\">\n",
              "        \n",
              "  <svg xmlns=\"http://www.w3.org/2000/svg\" height=\"24px\"viewBox=\"0 0 24 24\"\n",
              "       width=\"24px\">\n",
              "    <path d=\"M0 0h24v24H0V0z\" fill=\"none\"/>\n",
              "    <path d=\"M18.56 5.44l.94 2.06.94-2.06 2.06-.94-2.06-.94-.94-2.06-.94 2.06-2.06.94zm-11 1L8.5 8.5l.94-2.06 2.06-.94-2.06-.94L8.5 2.5l-.94 2.06-2.06.94zm10 10l.94 2.06.94-2.06 2.06-.94-2.06-.94-.94-2.06-.94 2.06-2.06.94z\"/><path d=\"M17.41 7.96l-1.37-1.37c-.4-.4-.92-.59-1.43-.59-.52 0-1.04.2-1.43.59L10.3 9.45l-7.72 7.72c-.78.78-.78 2.05 0 2.83L4 21.41c.39.39.9.59 1.41.59.51 0 1.02-.2 1.41-.59l7.78-7.78 2.81-2.81c.8-.78.8-2.07 0-2.86zM5.41 20L4 18.59l7.72-7.72 1.47 1.35L5.41 20z\"/>\n",
              "  </svg>\n",
              "      </button>\n",
              "      \n",
              "  <style>\n",
              "    .colab-df-container {\n",
              "      display:flex;\n",
              "      flex-wrap:wrap;\n",
              "      gap: 12px;\n",
              "    }\n",
              "\n",
              "    .colab-df-convert {\n",
              "      background-color: #E8F0FE;\n",
              "      border: none;\n",
              "      border-radius: 50%;\n",
              "      cursor: pointer;\n",
              "      display: none;\n",
              "      fill: #1967D2;\n",
              "      height: 32px;\n",
              "      padding: 0 0 0 0;\n",
              "      width: 32px;\n",
              "    }\n",
              "\n",
              "    .colab-df-convert:hover {\n",
              "      background-color: #E2EBFA;\n",
              "      box-shadow: 0px 1px 2px rgba(60, 64, 67, 0.3), 0px 1px 3px 1px rgba(60, 64, 67, 0.15);\n",
              "      fill: #174EA6;\n",
              "    }\n",
              "\n",
              "    [theme=dark] .colab-df-convert {\n",
              "      background-color: #3B4455;\n",
              "      fill: #D2E3FC;\n",
              "    }\n",
              "\n",
              "    [theme=dark] .colab-df-convert:hover {\n",
              "      background-color: #434B5C;\n",
              "      box-shadow: 0px 1px 3px 1px rgba(0, 0, 0, 0.15);\n",
              "      filter: drop-shadow(0px 1px 2px rgba(0, 0, 0, 0.3));\n",
              "      fill: #FFFFFF;\n",
              "    }\n",
              "  </style>\n",
              "\n",
              "      <script>\n",
              "        const buttonEl =\n",
              "          document.querySelector('#df-e7c8bb10-c145-4ddf-8776-1672b0a643e9 button.colab-df-convert');\n",
              "        buttonEl.style.display =\n",
              "          google.colab.kernel.accessAllowed ? 'block' : 'none';\n",
              "\n",
              "        async function convertToInteractive(key) {\n",
              "          const element = document.querySelector('#df-e7c8bb10-c145-4ddf-8776-1672b0a643e9');\n",
              "          const dataTable =\n",
              "            await google.colab.kernel.invokeFunction('convertToInteractive',\n",
              "                                                     [key], {});\n",
              "          if (!dataTable) return;\n",
              "\n",
              "          const docLinkHtml = 'Like what you see? Visit the ' +\n",
              "            '<a target=\"_blank\" href=https://colab.research.google.com/notebooks/data_table.ipynb>data table notebook</a>'\n",
              "            + ' to learn more about interactive tables.';\n",
              "          element.innerHTML = '';\n",
              "          dataTable['output_type'] = 'display_data';\n",
              "          await google.colab.output.renderOutput(dataTable, element);\n",
              "          const docLink = document.createElement('div');\n",
              "          docLink.innerHTML = docLinkHtml;\n",
              "          element.appendChild(docLink);\n",
              "        }\n",
              "      </script>\n",
              "    </div>\n",
              "  </div>\n",
              "  "
            ]
          },
          "metadata": {},
          "execution_count": 366
        }
      ]
    },
    {
      "cell_type": "code",
      "source": [
        "objectives_BOMB"
      ],
      "metadata": {
        "colab": {
          "base_uri": "https://localhost:8080/",
          "height": 424
        },
        "id": "N8GZsF_KksYI",
        "outputId": "dc5ab2b2-dd44-47ca-8ba0-f7060e93f31d"
      },
      "execution_count": 367,
      "outputs": [
        {
          "output_type": "execute_result",
          "data": {
            "text/plain": [
              "                 mapname                          objectivelocation skillrank  \\\n",
              "0                   BANK              EXECUTIVE LOUNGE / CEO OFFICE    Bronze   \n",
              "851486              BANK              EXECUTIVE LOUNGE / CEO OFFICE      Gold   \n",
              "851488              BANK              EXECUTIVE LOUNGE / CEO OFFICE      Gold   \n",
              "671909           FAVELAS    2F AUNT'S BEDROOM / 1F AUNT'S APARTMENT    Bronze   \n",
              "671907           FAVELAS  1F BIKER'S APARTMENT / 1F BIKER'S BEDROOM  Unranked   \n",
              "...                  ...                                        ...       ...   \n",
              "299336  KAFE DOSTOYEVSKY                      BAR / COCKTAIL LOUNGE  Unranked   \n",
              "907439             HOUSE                LIVING ROOM / TRAINING ROOM  Unranked   \n",
              "907440             HOUSE                LIVING ROOM / TRAINING ROOM  Unranked   \n",
              "299284  KAFE DOSTOYEVSKY                      BAR / COCKTAIL LOUNGE  Platinum   \n",
              "268757            BORDER                VENTILATION ROOM / WORKSHOP    Silver   \n",
              "\n",
              "            role       operator  k/d_ratio  win_ratio  \n",
              "0       Attacker  G.E.O.-JACKAL   0.000000        0.0  \n",
              "851486  Defender   BOPE-CAVEIRA   0.000000        0.0  \n",
              "851488  Defender       GIGN-DOC   0.500000        0.0  \n",
              "671909  Attacker     SAT-HIBANA   0.000000        0.0  \n",
              "671907  Defender    SWAT-CASTLE   0.000000        0.0  \n",
              "...          ...            ...        ...        ...  \n",
              "299336  Attacker  SPETSNAZ-GLAZ   0.000000        1.0  \n",
              "907439  Attacker     SAS-SLEDGE   1.000000        1.0  \n",
              "907440  Attacker  SPETSNAZ-FUZE   1.000000        1.0  \n",
              "299284  Defender       GIGN-DOC   2.000000        1.0  \n",
              "268757  Defender    G.E.O.-MIRA   0.666667        1.0  \n",
              "\n",
              "[306679 rows x 7 columns]"
            ],
            "text/html": [
              "\n",
              "  <div id=\"df-2ec9c585-77df-4625-9f96-8e5b3f51d94e\">\n",
              "    <div class=\"colab-df-container\">\n",
              "      <div>\n",
              "<style scoped>\n",
              "    .dataframe tbody tr th:only-of-type {\n",
              "        vertical-align: middle;\n",
              "    }\n",
              "\n",
              "    .dataframe tbody tr th {\n",
              "        vertical-align: top;\n",
              "    }\n",
              "\n",
              "    .dataframe thead th {\n",
              "        text-align: right;\n",
              "    }\n",
              "</style>\n",
              "<table border=\"1\" class=\"dataframe\">\n",
              "  <thead>\n",
              "    <tr style=\"text-align: right;\">\n",
              "      <th></th>\n",
              "      <th>mapname</th>\n",
              "      <th>objectivelocation</th>\n",
              "      <th>skillrank</th>\n",
              "      <th>role</th>\n",
              "      <th>operator</th>\n",
              "      <th>k/d_ratio</th>\n",
              "      <th>win_ratio</th>\n",
              "    </tr>\n",
              "  </thead>\n",
              "  <tbody>\n",
              "    <tr>\n",
              "      <th>0</th>\n",
              "      <td>BANK</td>\n",
              "      <td>EXECUTIVE LOUNGE / CEO OFFICE</td>\n",
              "      <td>Bronze</td>\n",
              "      <td>Attacker</td>\n",
              "      <td>G.E.O.-JACKAL</td>\n",
              "      <td>0.000000</td>\n",
              "      <td>0.0</td>\n",
              "    </tr>\n",
              "    <tr>\n",
              "      <th>851486</th>\n",
              "      <td>BANK</td>\n",
              "      <td>EXECUTIVE LOUNGE / CEO OFFICE</td>\n",
              "      <td>Gold</td>\n",
              "      <td>Defender</td>\n",
              "      <td>BOPE-CAVEIRA</td>\n",
              "      <td>0.000000</td>\n",
              "      <td>0.0</td>\n",
              "    </tr>\n",
              "    <tr>\n",
              "      <th>851488</th>\n",
              "      <td>BANK</td>\n",
              "      <td>EXECUTIVE LOUNGE / CEO OFFICE</td>\n",
              "      <td>Gold</td>\n",
              "      <td>Defender</td>\n",
              "      <td>GIGN-DOC</td>\n",
              "      <td>0.500000</td>\n",
              "      <td>0.0</td>\n",
              "    </tr>\n",
              "    <tr>\n",
              "      <th>671909</th>\n",
              "      <td>FAVELAS</td>\n",
              "      <td>2F AUNT'S BEDROOM / 1F AUNT'S APARTMENT</td>\n",
              "      <td>Bronze</td>\n",
              "      <td>Attacker</td>\n",
              "      <td>SAT-HIBANA</td>\n",
              "      <td>0.000000</td>\n",
              "      <td>0.0</td>\n",
              "    </tr>\n",
              "    <tr>\n",
              "      <th>671907</th>\n",
              "      <td>FAVELAS</td>\n",
              "      <td>1F BIKER'S APARTMENT / 1F BIKER'S BEDROOM</td>\n",
              "      <td>Unranked</td>\n",
              "      <td>Defender</td>\n",
              "      <td>SWAT-CASTLE</td>\n",
              "      <td>0.000000</td>\n",
              "      <td>0.0</td>\n",
              "    </tr>\n",
              "    <tr>\n",
              "      <th>...</th>\n",
              "      <td>...</td>\n",
              "      <td>...</td>\n",
              "      <td>...</td>\n",
              "      <td>...</td>\n",
              "      <td>...</td>\n",
              "      <td>...</td>\n",
              "      <td>...</td>\n",
              "    </tr>\n",
              "    <tr>\n",
              "      <th>299336</th>\n",
              "      <td>KAFE DOSTOYEVSKY</td>\n",
              "      <td>BAR / COCKTAIL LOUNGE</td>\n",
              "      <td>Unranked</td>\n",
              "      <td>Attacker</td>\n",
              "      <td>SPETSNAZ-GLAZ</td>\n",
              "      <td>0.000000</td>\n",
              "      <td>1.0</td>\n",
              "    </tr>\n",
              "    <tr>\n",
              "      <th>907439</th>\n",
              "      <td>HOUSE</td>\n",
              "      <td>LIVING ROOM / TRAINING ROOM</td>\n",
              "      <td>Unranked</td>\n",
              "      <td>Attacker</td>\n",
              "      <td>SAS-SLEDGE</td>\n",
              "      <td>1.000000</td>\n",
              "      <td>1.0</td>\n",
              "    </tr>\n",
              "    <tr>\n",
              "      <th>907440</th>\n",
              "      <td>HOUSE</td>\n",
              "      <td>LIVING ROOM / TRAINING ROOM</td>\n",
              "      <td>Unranked</td>\n",
              "      <td>Attacker</td>\n",
              "      <td>SPETSNAZ-FUZE</td>\n",
              "      <td>1.000000</td>\n",
              "      <td>1.0</td>\n",
              "    </tr>\n",
              "    <tr>\n",
              "      <th>299284</th>\n",
              "      <td>KAFE DOSTOYEVSKY</td>\n",
              "      <td>BAR / COCKTAIL LOUNGE</td>\n",
              "      <td>Platinum</td>\n",
              "      <td>Defender</td>\n",
              "      <td>GIGN-DOC</td>\n",
              "      <td>2.000000</td>\n",
              "      <td>1.0</td>\n",
              "    </tr>\n",
              "    <tr>\n",
              "      <th>268757</th>\n",
              "      <td>BORDER</td>\n",
              "      <td>VENTILATION ROOM / WORKSHOP</td>\n",
              "      <td>Silver</td>\n",
              "      <td>Defender</td>\n",
              "      <td>G.E.O.-MIRA</td>\n",
              "      <td>0.666667</td>\n",
              "      <td>1.0</td>\n",
              "    </tr>\n",
              "  </tbody>\n",
              "</table>\n",
              "<p>306679 rows × 7 columns</p>\n",
              "</div>\n",
              "      <button class=\"colab-df-convert\" onclick=\"convertToInteractive('df-2ec9c585-77df-4625-9f96-8e5b3f51d94e')\"\n",
              "              title=\"Convert this dataframe to an interactive table.\"\n",
              "              style=\"display:none;\">\n",
              "        \n",
              "  <svg xmlns=\"http://www.w3.org/2000/svg\" height=\"24px\"viewBox=\"0 0 24 24\"\n",
              "       width=\"24px\">\n",
              "    <path d=\"M0 0h24v24H0V0z\" fill=\"none\"/>\n",
              "    <path d=\"M18.56 5.44l.94 2.06.94-2.06 2.06-.94-2.06-.94-.94-2.06-.94 2.06-2.06.94zm-11 1L8.5 8.5l.94-2.06 2.06-.94-2.06-.94L8.5 2.5l-.94 2.06-2.06.94zm10 10l.94 2.06.94-2.06 2.06-.94-2.06-.94-.94-2.06-.94 2.06-2.06.94z\"/><path d=\"M17.41 7.96l-1.37-1.37c-.4-.4-.92-.59-1.43-.59-.52 0-1.04.2-1.43.59L10.3 9.45l-7.72 7.72c-.78.78-.78 2.05 0 2.83L4 21.41c.39.39.9.59 1.41.59.51 0 1.02-.2 1.41-.59l7.78-7.78 2.81-2.81c.8-.78.8-2.07 0-2.86zM5.41 20L4 18.59l7.72-7.72 1.47 1.35L5.41 20z\"/>\n",
              "  </svg>\n",
              "      </button>\n",
              "      \n",
              "  <style>\n",
              "    .colab-df-container {\n",
              "      display:flex;\n",
              "      flex-wrap:wrap;\n",
              "      gap: 12px;\n",
              "    }\n",
              "\n",
              "    .colab-df-convert {\n",
              "      background-color: #E8F0FE;\n",
              "      border: none;\n",
              "      border-radius: 50%;\n",
              "      cursor: pointer;\n",
              "      display: none;\n",
              "      fill: #1967D2;\n",
              "      height: 32px;\n",
              "      padding: 0 0 0 0;\n",
              "      width: 32px;\n",
              "    }\n",
              "\n",
              "    .colab-df-convert:hover {\n",
              "      background-color: #E2EBFA;\n",
              "      box-shadow: 0px 1px 2px rgba(60, 64, 67, 0.3), 0px 1px 3px 1px rgba(60, 64, 67, 0.15);\n",
              "      fill: #174EA6;\n",
              "    }\n",
              "\n",
              "    [theme=dark] .colab-df-convert {\n",
              "      background-color: #3B4455;\n",
              "      fill: #D2E3FC;\n",
              "    }\n",
              "\n",
              "    [theme=dark] .colab-df-convert:hover {\n",
              "      background-color: #434B5C;\n",
              "      box-shadow: 0px 1px 3px 1px rgba(0, 0, 0, 0.15);\n",
              "      filter: drop-shadow(0px 1px 2px rgba(0, 0, 0, 0.3));\n",
              "      fill: #FFFFFF;\n",
              "    }\n",
              "  </style>\n",
              "\n",
              "      <script>\n",
              "        const buttonEl =\n",
              "          document.querySelector('#df-2ec9c585-77df-4625-9f96-8e5b3f51d94e button.colab-df-convert');\n",
              "        buttonEl.style.display =\n",
              "          google.colab.kernel.accessAllowed ? 'block' : 'none';\n",
              "\n",
              "        async function convertToInteractive(key) {\n",
              "          const element = document.querySelector('#df-2ec9c585-77df-4625-9f96-8e5b3f51d94e');\n",
              "          const dataTable =\n",
              "            await google.colab.kernel.invokeFunction('convertToInteractive',\n",
              "                                                     [key], {});\n",
              "          if (!dataTable) return;\n",
              "\n",
              "          const docLinkHtml = 'Like what you see? Visit the ' +\n",
              "            '<a target=\"_blank\" href=https://colab.research.google.com/notebooks/data_table.ipynb>data table notebook</a>'\n",
              "            + ' to learn more about interactive tables.';\n",
              "          element.innerHTML = '';\n",
              "          dataTable['output_type'] = 'display_data';\n",
              "          await google.colab.output.renderOutput(dataTable, element);\n",
              "          const docLink = document.createElement('div');\n",
              "          docLink.innerHTML = docLinkHtml;\n",
              "          element.appendChild(docLink);\n",
              "        }\n",
              "      </script>\n",
              "    </div>\n",
              "  </div>\n",
              "  "
            ]
          },
          "metadata": {},
          "execution_count": 367
        }
      ]
    },
    {
      "cell_type": "code",
      "source": [
        "map_graph(\"win_ratio\",\"mapname\",\"role\",objectives_BOMB)\n",
        "\n"
      ],
      "metadata": {
        "colab": {
          "base_uri": "https://localhost:8080/",
          "height": 408
        },
        "id": "w_SFu_xiEu-i",
        "outputId": "f496740d-cad8-44bb-81e1-0f2b9e04362a"
      },
      "execution_count": 368,
      "outputs": [
        {
          "output_type": "execute_result",
          "data": {
            "text/plain": [
              "<matplotlib.axes._subplots.AxesSubplot at 0x7f609afa59d0>"
            ]
          },
          "metadata": {},
          "execution_count": 368
        },
        {
          "output_type": "display_data",
          "data": {
            "text/plain": [
              "<Figure size 432x432 with 1 Axes>"
            ],
            "image/png": "[encoded data removed]"
          },
          "metadata": {
            "needs_background": "light"
          }
        }
      ]
    },
    {
      "cell_type": "code",
      "source": [
        "map_graph(\"k/d_ratio\",\"mapname\",\"role\",objectives_BOMB)"
      ],
      "metadata": {
        "colab": {
          "base_uri": "https://localhost:8080/",
          "height": 408
        },
        "id": "tYnDDJ2Y_klm",
        "outputId": "d07ac4c0-5a5c-46d8-a716-fa1f550958f3"
      },
      "execution_count": 369,
      "outputs": [
        {
          "output_type": "execute_result",
          "data": {
            "text/plain": [
              "<matplotlib.axes._subplots.AxesSubplot at 0x7f609bda2a60>"
            ]
          },
          "metadata": {},
          "execution_count": 369
        },
        {
          "output_type": "display_data",
          "data": {
            "text/plain": [
              "<Figure size 432x432 with 1 Axes>"
            ],
            "image/png": "[encoded data removed]"
          },
          "metadata": {
            "needs_background": "light"
          }
        }
      ]
    },
    {
      "cell_type": "markdown",
      "source": [
        "- 공격팀이 KDA가 더 높더라도 승률은 수비팀과 비슷하거나 수비팀이 더 높다. 이는 공격팀이 적을 많이 사살하였더라도 , 수비팀은 시간초과라는 추가 승리조건이 있기에 이덕에 승리하는것으로 보임 - > 추가 편집 요망 "
      ],
      "metadata": {
        "id": "MXZE7YIlOn_9"
      }
    },
    {
      "cell_type": "markdown",
      "source": [
        "- BANK    \n",
        "   - EXECUTIVE LOUNGE / CEO OFFICE = 2층 \n",
        "   - LOCKERS / CCTV ROOM  = 지하\n",
        "   - STAFF ROOM / OPEN AREA  1층\n",
        "   - TELLERS OFFICE 1층 \n"
      ],
      "metadata": {
        "id": "r85mDrtMl3Sx"
      }
    },
    {
      "cell_type": "code",
      "source": [
        "MAP_LIST=objectives_BOMB[objectives_BOMB[\"mapname\"].isin([\"BANK\"])]\n",
        "map_graph(\"win_ratio\",\"objectivelocation\",\"role\",MAP_LIST) \n",
        "#BANK ,CLUBHOUSE , HEREFORD BASE \n"
      ],
      "metadata": {
        "colab": {
          "base_uri": "https://localhost:8080/",
          "height": 408
        },
        "id": "OTClQAlYMCbq",
        "outputId": "c33c3fc9-ac1f-4f4e-fb52-b8bc354d917d"
      },
      "execution_count": 370,
      "outputs": [
        {
          "output_type": "execute_result",
          "data": {
            "text/plain": [
              "<matplotlib.axes._subplots.AxesSubplot at 0x7f609be9aaf0>"
            ]
          },
          "metadata": {},
          "execution_count": 370
        },
        {
          "output_type": "display_data",
          "data": {
            "text/plain": [
              "<Figure size 432x432 with 1 Axes>"
            ],
            "image/png": "[encoded data removed]"
          },
          "metadata": {
            "needs_background": "light"
          }
        }
      ]
    },
    {
      "cell_type": "markdown",
      "source": [
        "\n",
        "- CLUB HOUST \n",
        "   - GYM / BEDROOM  2층\n",
        "   - CHRUCH / ARSENAL ROOM 지하 \n",
        "   - CCTV ROOM / CASH ROOM 2층\n",
        "   - BAR / STOCK ROOM  1층 "
      ],
      "metadata": {
        "id": "lKUsKhlEl7LW"
      }
    },
    {
      "cell_type": "code",
      "source": [
        "MAP_LIST=objectives_BOMB[objectives_BOMB[\"mapname\"].isin(['CLUB HOUSE'])]\n",
        "map_graph(\"win_ratio\",\"objectivelocation\",\"role\",MAP_LIST) "
      ],
      "metadata": {
        "colab": {
          "base_uri": "https://localhost:8080/",
          "height": 408
        },
        "id": "6e5qQl6xkw3G",
        "outputId": "0c098e06-7b7d-4fda-e674-02526f74537d"
      },
      "execution_count": 371,
      "outputs": [
        {
          "output_type": "execute_result",
          "data": {
            "text/plain": [
              "<matplotlib.axes._subplots.AxesSubplot at 0x7f609ba0edc0>"
            ]
          },
          "metadata": {},
          "execution_count": 371
        },
        {
          "output_type": "display_data",
          "data": {
            "text/plain": [
              "<Figure size 432x432 with 1 Axes>"
            ],
            "image/png": "[encoded data removed]"
          },
          "metadata": {
            "needs_background": "light"
          }
        }
      ]
    },
    {
      "cell_type": "markdown",
      "source": [
        "- COASTLINE\n",
        "   - HOOKAH LOUNGE / 2F BILLIARDS ROOM  2층\n",
        "   - PENTHOUSE/ THEATHER 2층 \n",
        "   - KITCHEN / SERVICE ENTRANCE \n",
        "   - 1F BLUE BAR /1F SUNRISE BAR 1층 "
      ],
      "metadata": {
        "id": "rZ1rynx9l9AD"
      }
    },
    {
      "cell_type": "code",
      "source": [
        "MAP_LIST=objectives_BOMB[objectives_BOMB[\"mapname\"].isin([\"COASTLINE\"])]\n",
        "map_graph(\"win_ratio\",\"objectivelocation\",\"role\",MAP_LIST) "
      ],
      "metadata": {
        "colab": {
          "base_uri": "https://localhost:8080/",
          "height": 408
        },
        "id": "9d7DgwdwkxeH",
        "outputId": "43273bd8-e044-44a0-8c9f-47d424d5a71b"
      },
      "execution_count": 372,
      "outputs": [
        {
          "output_type": "execute_result",
          "data": {
            "text/plain": [
              "<matplotlib.axes._subplots.AxesSubplot at 0x7f609a5637f0>"
            ]
          },
          "metadata": {},
          "execution_count": 372
        },
        {
          "output_type": "display_data",
          "data": {
            "text/plain": [
              "<Figure size 432x432 with 1 Axes>"
            ],
            "image/png": "[encoded data removed]"
          },
          "metadata": {
            "needs_background": "light"
          }
        }
      ]
    },
    {
      "cell_type": "code",
      "source": [
        "#X_train, y_train, X_test, y_test = train_test_split(df_outlier_ATK[[\"win_ratio\",\"k/d_ratio\"]], survival)"
      ],
      "metadata": {
        "id": "nv261n-c-5X-"
      },
      "execution_count": 373,
      "outputs": []
    },
    {
      "cell_type": "code",
      "source": [],
      "metadata": {
        "id": "Tignou9U3UGF"
      },
      "execution_count": 373,
      "outputs": []
    },
    {
      "cell_type": "code",
      "source": [
        "#find_outlier_ATK = pd.merge(df_outlier_ATK,df_ATK ,how=\"outer\",on=\"operator\")"
      ],
      "metadata": {
        "id": "6NB62SrS3p0N"
      },
      "execution_count": 374,
      "outputs": []
    },
    {
      "cell_type": "code",
      "source": [
        "df_outlier_ATK[\"hax\"]=1"
      ],
      "metadata": {
        "id": "RTWNE4sJ3-t8"
      },
      "execution_count": 375,
      "outputs": []
    },
    {
      "cell_type": "code",
      "source": [
        "df_ATK[\"hax\"]=0"
      ],
      "metadata": {
        "id": "TOyRoW8B3qlI"
      },
      "execution_count": 376,
      "outputs": []
    },
    {
      "cell_type": "code",
      "source": [
        "df_rfs=pd.concat([df_outlier_ATK,df_ATK])"
      ],
      "metadata": {
        "id": "GaZ6x6J-3rAO"
      },
      "execution_count": 377,
      "outputs": []
    },
    {
      "cell_type": "code",
      "source": [
        "df_rfs=df_rfs.dropna()"
      ],
      "metadata": {
        "id": "6mdZt2_D28vN"
      },
      "execution_count": 378,
      "outputs": []
    },
    {
      "cell_type": "code",
      "source": [
        "features = df_rfs[[\"win_ratio\", \"k/d_ratio\",\"nbpicks\"]]\n",
        "target = df_rfs[\"hax\"]"
      ],
      "metadata": {
        "id": "QPlZCJDh-YJe"
      },
      "execution_count": 379,
      "outputs": []
    },
    {
      "cell_type": "markdown",
      "source": [
        "픽이 많이되었을수록 핵이 아닌 경향이 있음 = 핵은 정지당해서 오래 못함 "
      ],
      "metadata": {
        "id": "TNzmCPYP4sjC"
      }
    },
    {
      "cell_type": "code",
      "source": [
        "X_train ,X_test, y_train, y_test = train_test_split(features,target)"
      ],
      "metadata": {
        "id": "y65guf5t4SIl"
      },
      "execution_count": 380,
      "outputs": []
    },
    {
      "cell_type": "code",
      "source": [
        "from sklearn.preprocessing import StandardScaler\n",
        "\n",
        "scaler = StandardScaler()\n",
        "\n",
        "X_train = scaler.fit_transform(X_train)\n",
        "X_test = scaler.fit_transform(X_test)"
      ],
      "metadata": {
        "id": "kG9RO68u5pDe"
      },
      "execution_count": 381,
      "outputs": []
    },
    {
      "cell_type": "code",
      "source": [
        "df_rfs"
      ],
      "metadata": {
        "id": "hCx4gx7k8Qft",
        "outputId": "0ac4db47-2131-458c-bda8-e4c350a3523f",
        "colab": {
          "base_uri": "https://localhost:8080/",
          "height": 672
        }
      },
      "execution_count": 387,
      "outputs": [
        {
          "output_type": "execute_result",
          "data": {
            "text/plain": [
              "             operator  win_ratio  k/d_ratio  nbpicks  hax\n",
              "33            GSG9-IQ   1.000000   4.000000        4    1\n",
              "49        SAS-RESERVE   1.000000   0.000000        1    1\n",
              "60         SAS-SLEDGE   1.000000   1.000000        1    1\n",
              "101      SWAT-RESERVE   1.000000   1.000000        1    1\n",
              "243     G.E.O.-JACKAL   1.000000   0.000000        1    1\n",
              "...               ...        ...        ...      ...  ...\n",
              "509549  SWAT-THERMITE   0.471631   0.737864      282    0\n",
              "509550  SWAT-THERMITE   0.393939   0.532468       99    0\n",
              "509551  SWAT-THERMITE   0.500000   0.000000        4    0\n",
              "509552  SWAT-THERMITE   0.500000   0.666667        6    0\n",
              "509553  SWAT-THERMITE   0.000000   0.500000        2    0\n",
              "\n",
              "[248909 rows x 5 columns]"
            ],
            "text/html": [
              "\n",
              "  <div id=\"df-cbe2aeb7-6fe0-4359-8bac-7c154a07062e\">\n",
              "    <div class=\"colab-df-container\">\n",
              "      <div>\n",
              "<style scoped>\n",
              "    .dataframe tbody tr th:only-of-type {\n",
              "        vertical-align: middle;\n",
              "    }\n",
              "\n",
              "    .dataframe tbody tr th {\n",
              "        vertical-align: top;\n",
              "    }\n",
              "\n",
              "    .dataframe thead th {\n",
              "        text-align: right;\n",
              "    }\n",
              "</style>\n",
              "<table border=\"1\" class=\"dataframe\">\n",
              "  <thead>\n",
              "    <tr style=\"text-align: right;\">\n",
              "      <th></th>\n",
              "      <th>operator</th>\n",
              "      <th>win_ratio</th>\n",
              "      <th>k/d_ratio</th>\n",
              "      <th>nbpicks</th>\n",
              "      <th>hax</th>\n",
              "    </tr>\n",
              "  </thead>\n",
              "  <tbody>\n",
              "    <tr>\n",
              "      <th>33</th>\n",
              "      <td>GSG9-IQ</td>\n",
              "      <td>1.000000</td>\n",
              "      <td>4.000000</td>\n",
              "      <td>4</td>\n",
              "      <td>1</td>\n",
              "    </tr>\n",
              "    <tr>\n",
              "      <th>49</th>\n",
              "      <td>SAS-RESERVE</td>\n",
              "      <td>1.000000</td>\n",
              "      <td>0.000000</td>\n",
              "      <td>1</td>\n",
              "      <td>1</td>\n",
              "    </tr>\n",
              "    <tr>\n",
              "      <th>60</th>\n",
              "      <td>SAS-SLEDGE</td>\n",
              "      <td>1.000000</td>\n",
              "      <td>1.000000</td>\n",
              "      <td>1</td>\n",
              "      <td>1</td>\n",
              "    </tr>\n",
              "    <tr>\n",
              "      <th>101</th>\n",
              "      <td>SWAT-RESERVE</td>\n",
              "      <td>1.000000</td>\n",
              "      <td>1.000000</td>\n",
              "      <td>1</td>\n",
              "      <td>1</td>\n",
              "    </tr>\n",
              "    <tr>\n",
              "      <th>243</th>\n",
              "      <td>G.E.O.-JACKAL</td>\n",
              "      <td>1.000000</td>\n",
              "      <td>0.000000</td>\n",
              "      <td>1</td>\n",
              "      <td>1</td>\n",
              "    </tr>\n",
              "    <tr>\n",
              "      <th>...</th>\n",
              "      <td>...</td>\n",
              "      <td>...</td>\n",
              "      <td>...</td>\n",
              "      <td>...</td>\n",
              "      <td>...</td>\n",
              "    </tr>\n",
              "    <tr>\n",
              "      <th>509549</th>\n",
              "      <td>SWAT-THERMITE</td>\n",
              "      <td>0.471631</td>\n",
              "      <td>0.737864</td>\n",
              "      <td>282</td>\n",
              "      <td>0</td>\n",
              "    </tr>\n",
              "    <tr>\n",
              "      <th>509550</th>\n",
              "      <td>SWAT-THERMITE</td>\n",
              "      <td>0.393939</td>\n",
              "      <td>0.532468</td>\n",
              "      <td>99</td>\n",
              "      <td>0</td>\n",
              "    </tr>\n",
              "    <tr>\n",
              "      <th>509551</th>\n",
              "      <td>SWAT-THERMITE</td>\n",
              "      <td>0.500000</td>\n",
              "      <td>0.000000</td>\n",
              "      <td>4</td>\n",
              "      <td>0</td>\n",
              "    </tr>\n",
              "    <tr>\n",
              "      <th>509552</th>\n",
              "      <td>SWAT-THERMITE</td>\n",
              "      <td>0.500000</td>\n",
              "      <td>0.666667</td>\n",
              "      <td>6</td>\n",
              "      <td>0</td>\n",
              "    </tr>\n",
              "    <tr>\n",
              "      <th>509553</th>\n",
              "      <td>SWAT-THERMITE</td>\n",
              "      <td>0.000000</td>\n",
              "      <td>0.500000</td>\n",
              "      <td>2</td>\n",
              "      <td>0</td>\n",
              "    </tr>\n",
              "  </tbody>\n",
              "</table>\n",
              "<p>248909 rows × 5 columns</p>\n",
              "</div>\n",
              "      <button class=\"colab-df-convert\" onclick=\"convertToInteractive('df-cbe2aeb7-6fe0-4359-8bac-7c154a07062e')\"\n",
              "              title=\"Convert this dataframe to an interactive table.\"\n",
              "              style=\"display:none;\">\n",
              "        \n",
              "  <svg xmlns=\"http://www.w3.org/2000/svg\" height=\"24px\"viewBox=\"0 0 24 24\"\n",
              "       width=\"24px\">\n",
              "    <path d=\"M0 0h24v24H0V0z\" fill=\"none\"/>\n",
              "    <path d=\"M18.56 5.44l.94 2.06.94-2.06 2.06-.94-2.06-.94-.94-2.06-.94 2.06-2.06.94zm-11 1L8.5 8.5l.94-2.06 2.06-.94-2.06-.94L8.5 2.5l-.94 2.06-2.06.94zm10 10l.94 2.06.94-2.06 2.06-.94-2.06-.94-.94-2.06-.94 2.06-2.06.94z\"/><path d=\"M17.41 7.96l-1.37-1.37c-.4-.4-.92-.59-1.43-.59-.52 0-1.04.2-1.43.59L10.3 9.45l-7.72 7.72c-.78.78-.78 2.05 0 2.83L4 21.41c.39.39.9.59 1.41.59.51 0 1.02-.2 1.41-.59l7.78-7.78 2.81-2.81c.8-.78.8-2.07 0-2.86zM5.41 20L4 18.59l7.72-7.72 1.47 1.35L5.41 20z\"/>\n",
              "  </svg>\n",
              "      </button>\n",
              "      \n",
              "  <style>\n",
              "    .colab-df-container {\n",
              "      display:flex;\n",
              "      flex-wrap:wrap;\n",
              "      gap: 12px;\n",
              "    }\n",
              "\n",
              "    .colab-df-convert {\n",
              "      background-color: #E8F0FE;\n",
              "      border: none;\n",
              "      border-radius: 50%;\n",
              "      cursor: pointer;\n",
              "      display: none;\n",
              "      fill: #1967D2;\n",
              "      height: 32px;\n",
              "      padding: 0 0 0 0;\n",
              "      width: 32px;\n",
              "    }\n",
              "\n",
              "    .colab-df-convert:hover {\n",
              "      background-color: #E2EBFA;\n",
              "      box-shadow: 0px 1px 2px rgba(60, 64, 67, 0.3), 0px 1px 3px 1px rgba(60, 64, 67, 0.15);\n",
              "      fill: #174EA6;\n",
              "    }\n",
              "\n",
              "    [theme=dark] .colab-df-convert {\n",
              "      background-color: #3B4455;\n",
              "      fill: #D2E3FC;\n",
              "    }\n",
              "\n",
              "    [theme=dark] .colab-df-convert:hover {\n",
              "      background-color: #434B5C;\n",
              "      box-shadow: 0px 1px 3px 1px rgba(0, 0, 0, 0.15);\n",
              "      filter: drop-shadow(0px 1px 2px rgba(0, 0, 0, 0.3));\n",
              "      fill: #FFFFFF;\n",
              "    }\n",
              "  </style>\n",
              "\n",
              "      <script>\n",
              "        const buttonEl =\n",
              "          document.querySelector('#df-cbe2aeb7-6fe0-4359-8bac-7c154a07062e button.colab-df-convert');\n",
              "        buttonEl.style.display =\n",
              "          google.colab.kernel.accessAllowed ? 'block' : 'none';\n",
              "\n",
              "        async function convertToInteractive(key) {\n",
              "          const element = document.querySelector('#df-cbe2aeb7-6fe0-4359-8bac-7c154a07062e');\n",
              "          const dataTable =\n",
              "            await google.colab.kernel.invokeFunction('convertToInteractive',\n",
              "                                                     [key], {});\n",
              "          if (!dataTable) return;\n",
              "\n",
              "          const docLinkHtml = 'Like what you see? Visit the ' +\n",
              "            '<a target=\"_blank\" href=https://colab.research.google.com/notebooks/data_table.ipynb>data table notebook</a>'\n",
              "            + ' to learn more about interactive tables.';\n",
              "          element.innerHTML = '';\n",
              "          dataTable['output_type'] = 'display_data';\n",
              "          await google.colab.output.renderOutput(dataTable, element);\n",
              "          const docLink = document.createElement('div');\n",
              "          docLink.innerHTML = docLinkHtml;\n",
              "          element.appendChild(docLink);\n",
              "        }\n",
              "      </script>\n",
              "    </div>\n",
              "  </div>\n",
              "  "
            ]
          },
          "metadata": {},
          "execution_count": 387
        },
        {
          "output_type": "stream",
          "name": "stdout",
          "text": [
            "Warning: total number of rows (248909) exceeds max_rows (20000). Limiting to first (20000) rows.\n"
          ]
        }
      ]
    },
    {
      "cell_type": "code",
      "source": [
        "from sklearn.linear_model import LogisticRegression \n",
        "\n",
        "model = LogisticRegression()\n",
        "model.fit(X_train,y_train)\n"
      ],
      "metadata": {
        "id": "_0lRo0fh3x3R",
        "outputId": "18d1cf90-8a03-4f3e-c927-6e11dd972399",
        "colab": {
          "base_uri": "https://localhost:8080/"
        }
      },
      "execution_count": 383,
      "outputs": [
        {
          "output_type": "execute_result",
          "data": {
            "text/plain": [
              "LogisticRegression()"
            ]
          },
          "metadata": {},
          "execution_count": 383
        }
      ]
    },
    {
      "cell_type": "code",
      "source": [
        "print(model.score(X_train, y_train))\n",
        "print(model.score(X_test, y_test))"
      ],
      "metadata": {
        "id": "ODBYkGN64HEY",
        "outputId": "5e122db8-55c6-4e4d-f07e-6da9a0bbf9ff",
        "colab": {
          "base_uri": "https://localhost:8080/"
        }
      },
      "execution_count": 386,
      "outputs": [
        {
          "output_type": "stream",
          "name": "stdout",
          "text": [
            "0.9992821979740841\n",
            "0.9993089927363887\n"
          ]
        }
      ]
    },
    {
      "cell_type": "markdown",
      "source": [
        "일단 잘 맞춘다. 하지만 본 데이터들은 \"핵 혹은 , 스머프 의심 데이터들이다\"\n",
        "\n",
        "- 사실상 스머프는 잡기 힘들다. 그냥 잘하는데 못올라가는 경우도 있으니, 이건 운영적인 부분으로 잡아야한다 . (부계정을 못만들게 한다던가) \n",
        "\n",
        "- 하지만 불법프로그램에 본 모델을 사용 가능하다. \n",
        "\n",
        "- 유저의 이상이 감지된 데이터가 많아지면 많아질수록 좀 더 주의깊게 본다거나. \n",
        "\n",
        "- 이상이 발견된 데이터들을 우선적으로 처리하여 불법프로그램 이용자를 좀 더 빠르게 색출이 가능할것 같음 .\n",
        "\n",
        "- "
      ],
      "metadata": {
        "id": "egH_lMzeCExA"
      }
    },
    {
      "cell_type": "code",
      "source": [],
      "metadata": {
        "id": "orQh7IXqAf1K"
      },
      "execution_count": null,
      "outputs": []
    },
    {
      "cell_type": "markdown",
      "source": [],
      "metadata": {
        "id": "YBf1BghQYtNx"
      }
    }
  ],
  "metadata": {
    "colab": {
      "provenance": [],
      "authorship_tag": "ABX9TyOaozytj2yDb6JQ+YKzCs6l",
      "include_colab_link": true
    },
    "gpuClass": "standard",
    "kernelspec": {
      "display_name": "Python 3",
      "name": "python3"
    },
    "language_info": {
      "name": "python"
    }
  },
  "nbformat": 4,
  "nbformat_minor": 0
}