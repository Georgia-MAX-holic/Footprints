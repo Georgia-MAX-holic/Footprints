{
  "nbformat": 4,
  "nbformat_minor": 0,
  "metadata": {
    "colab": {
      "provenance": [],
      "authorship_tag": "ABX9TyPLcuXcdb+fCccbvB/gISh6",
      "include_colab_link": true
    },
    "kernelspec": {
      "name": "python3",
      "display_name": "Python 3"
    },
    "language_info": {
      "name": "python"
    }
  },
  "cells": [
    {
      "cell_type": "markdown",
      "metadata": {
        "id": "view-in-github",
        "colab_type": "text"
      },
      "source": [
        "<a href=\"https://colab.research.google.com/github/Georgia-MAX-holic/footprints/blob/main/PJ/game_sale/New/Game_Sales.ipynb\" target=\"_parent\"><img src=\"https://colab.research.google.com/assets/colab-badge.svg\" alt=\"Open In Colab\"/></a>"
      ]
    },
    {
      "cell_type": "code",
      "execution_count": 110,
      "metadata": {
        "colab": {
          "base_uri": "https://localhost:8080/"
        },
        "id": "TgimTzuHRMgy",
        "outputId": "ec485d08-d0da-43f8-9800-8e87f07e8581"
      },
      "outputs": [
        {
          "output_type": "stream",
          "name": "stdout",
          "text": [
            "Looking in indexes: https://pypi.org/simple, https://us-python.pkg.dev/colab-wheels/public/simple/\n",
            "Requirement already satisfied: category_encoders in /usr/local/lib/python3.8/dist-packages (2.6.0)\n",
            "Requirement already satisfied: statsmodels>=0.9.0 in /usr/local/lib/python3.8/dist-packages (from category_encoders) (0.12.2)\n",
            "Requirement already satisfied: pandas>=1.0.5 in /usr/local/lib/python3.8/dist-packages (from category_encoders) (1.3.5)\n",
            "Requirement already satisfied: scikit-learn>=0.20.0 in /usr/local/lib/python3.8/dist-packages (from category_encoders) (1.0.2)\n",
            "Requirement already satisfied: patsy>=0.5.1 in /usr/local/lib/python3.8/dist-packages (from category_encoders) (0.5.3)\n",
            "Requirement already satisfied: scipy>=1.0.0 in /usr/local/lib/python3.8/dist-packages (from category_encoders) (1.7.3)\n",
            "Requirement already satisfied: numpy>=1.14.0 in /usr/local/lib/python3.8/dist-packages (from category_encoders) (1.21.6)\n",
            "Requirement already satisfied: pytz>=2017.3 in /usr/local/lib/python3.8/dist-packages (from pandas>=1.0.5->category_encoders) (2022.7)\n",
            "Requirement already satisfied: python-dateutil>=2.7.3 in /usr/local/lib/python3.8/dist-packages (from pandas>=1.0.5->category_encoders) (2.8.2)\n",
            "Requirement already satisfied: six in /usr/local/lib/python3.8/dist-packages (from patsy>=0.5.1->category_encoders) (1.15.0)\n",
            "Requirement already satisfied: threadpoolctl>=2.0.0 in /usr/local/lib/python3.8/dist-packages (from scikit-learn>=0.20.0->category_encoders) (3.1.0)\n",
            "Requirement already satisfied: joblib>=0.11 in /usr/local/lib/python3.8/dist-packages (from scikit-learn>=0.20.0->category_encoders) (1.2.0)\n"
          ]
        }
      ],
      "source": [
        "!pip install category_encoders"
      ]
    },
    {
      "cell_type": "code",
      "source": [
        "\n",
        "import pandas as pd \n",
        "from google.colab import drive\n",
        "\n",
        "drive.mount('/content/drive')\n",
        "filetitle = '/content/drive/My Drive/cpding/asdf/Game_data_EDA.csv'\n",
        "\n",
        "df = pd.read_csv(filetitle)\n",
        "     "
      ],
      "metadata": {
        "colab": {
          "base_uri": "https://localhost:8080/"
        },
        "id": "gQ-f6TlCRYR0",
        "outputId": "e51e3e37-43fc-4ce2-dc4a-1e37fc8d2197"
      },
      "execution_count": 111,
      "outputs": [
        {
          "output_type": "stream",
          "name": "stdout",
          "text": [
            "Drive already mounted at /content/drive; to attempt to forcibly remount, call drive.mount(\"/content/drive\", force_remount=True).\n"
          ]
        }
      ]
    },
    {
      "cell_type": "code",
      "source": [
        "df_chart = df[[\"Name\",\"Global_Sales\"]]\n",
        "df_chart.set_index(\"Name\", inplace = True )\n",
        "sales_max = df_chart.idxmax(axis=0 , skipna=True )\n",
        "sales_max"
      ],
      "metadata": {
        "colab": {
          "base_uri": "https://localhost:8080/"
        },
        "id": "Q2o8G4dLhipO",
        "outputId": "db5a354d-7d88-41d2-c06c-25bb1075072e"
      },
      "execution_count": 112,
      "outputs": [
        {
          "output_type": "execute_result",
          "data": {
            "text/plain": [
              "Global_Sales    Wii Sports\n",
              "dtype: object"
            ]
          },
          "metadata": {},
          "execution_count": 112
        }
      ]
    },
    {
      "cell_type": "markdown",
      "source": [
        "가장 많이 팔린 제품 = 닌텐도 윌 스포츠 "
      ],
      "metadata": {
        "id": "FMEnLvvkiiVF"
      }
    },
    {
      "cell_type": "code",
      "source": [
        "df=  df.sort_values(by=\"Global_Sales\" , ascending = False)"
      ],
      "metadata": {
        "id": "Z6S9BbXli7ZX"
      },
      "execution_count": 113,
      "outputs": []
    },
    {
      "cell_type": "code",
      "source": [
        "df.loc[[0,1,2,3,4,5,6]]"
      ],
      "metadata": {
        "colab": {
          "base_uri": "https://localhost:8080/",
          "height": 385
        },
        "id": "gX2nDbd-kDRw",
        "outputId": "b755c29f-2b52-407b-d098-966cb1d623aa"
      },
      "execution_count": 114,
      "outputs": [
        {
          "output_type": "execute_result",
          "data": {
            "text/plain": [
              "   Unnamed: 0  Rank                           Name Platform    Year     Genre  \\\n",
              "0         0.0   1.0                     Wii Sports      Wii  2006.0    Sports   \n",
              "1         NaN   NaN                           PUBG   Series  2017.0   Shooter   \n",
              "2         1.0   2.0              Super Mario Bros.      NES  1985.0  Platform   \n",
              "3       448.0   2.0              Super Mario Bros.      NES  1985.0  Platform   \n",
              "4         NaN   NaN  PLAYERUNKNOWN'S BATTLEGROUNDS       PC  2017.0   Shooter   \n",
              "5         3.0   3.0                 Mario Kart Wii      Wii  2008.0    Racing   \n",
              "6         4.0   4.0              Wii Sports Resort      Wii  2009.0    Sports   \n",
              "\n",
              "          Publisher  NA_Sales  EU_Sales  JP_Sales  Other_Sales  Global_Sales  \\\n",
              "0          Nintendo     41.49     29.02      3.77         8.46         82.74   \n",
              "1  PUBG Corporation       NaN       NaN       NaN          NaN         60.00   \n",
              "2          Nintendo     29.08      3.58      6.81         0.77         40.24   \n",
              "3          Nintendo     29.08      3.58      6.81         0.77         40.24   \n",
              "4  PUBG Corporation       NaN       NaN       NaN          NaN         36.60   \n",
              "5          Nintendo     15.85     12.88      3.79         3.31         35.82   \n",
              "6          Nintendo     15.75     11.01      3.28         2.96         33.00   \n",
              "\n",
              "       Null  Critic_Score  Critic_Count User_Score  User_Count  Unnamed: 17  \\\n",
              "0  7.100168          76.0          51.0          8       322.0          NaN   \n",
              "1       NaN           NaN           NaN        NaN         NaN          NaN   \n",
              "2  4.986230           NaN           NaN        NaN         NaN          NaN   \n",
              "3  4.986230           NaN           NaN        NaN         NaN          NaN   \n",
              "4       NaN           NaN           NaN        NaN         NaN          NaN   \n",
              "5  2.732611          82.0          73.0        8.3       709.0          NaN   \n",
              "6  2.715577          80.0          73.0          8       192.0          NaN   \n",
              "\n",
              "  Rating  \n",
              "0      E  \n",
              "1    NaN  \n",
              "2    NaN  \n",
              "3    NaN  \n",
              "4    NaN  \n",
              "5      E  \n",
              "6      E  "
            ],
            "text/html": [
              "\n",
              "  <div id=\"df-37289303-0596-4979-9c84-c3f994ac9d72\">\n",
              "    <div class=\"colab-df-container\">\n",
              "      <div>\n",
              "<style scoped>\n",
              "    .dataframe tbody tr th:only-of-type {\n",
              "        vertical-align: middle;\n",
              "    }\n",
              "\n",
              "    .dataframe tbody tr th {\n",
              "        vertical-align: top;\n",
              "    }\n",
              "\n",
              "    .dataframe thead th {\n",
              "        text-align: right;\n",
              "    }\n",
              "</style>\n",
              "<table border=\"1\" class=\"dataframe\">\n",
              "  <thead>\n",
              "    <tr style=\"text-align: right;\">\n",
              "      <th></th>\n",
              "      <th>Unnamed: 0</th>\n",
              "      <th>Rank</th>\n",
              "      <th>Name</th>\n",
              "      <th>Platform</th>\n",
              "      <th>Year</th>\n",
              "      <th>Genre</th>\n",
              "      <th>Publisher</th>\n",
              "      <th>NA_Sales</th>\n",
              "      <th>EU_Sales</th>\n",
              "      <th>JP_Sales</th>\n",
              "      <th>Other_Sales</th>\n",
              "      <th>Global_Sales</th>\n",
              "      <th>Null</th>\n",
              "      <th>Critic_Score</th>\n",
              "      <th>Critic_Count</th>\n",
              "      <th>User_Score</th>\n",
              "      <th>User_Count</th>\n",
              "      <th>Unnamed: 17</th>\n",
              "      <th>Rating</th>\n",
              "    </tr>\n",
              "  </thead>\n",
              "  <tbody>\n",
              "    <tr>\n",
              "      <th>0</th>\n",
              "      <td>0.0</td>\n",
              "      <td>1.0</td>\n",
              "      <td>Wii Sports</td>\n",
              "      <td>Wii</td>\n",
              "      <td>2006.0</td>\n",
              "      <td>Sports</td>\n",
              "      <td>Nintendo</td>\n",
              "      <td>41.49</td>\n",
              "      <td>29.02</td>\n",
              "      <td>3.77</td>\n",
              "      <td>8.46</td>\n",
              "      <td>82.74</td>\n",
              "      <td>7.100168</td>\n",
              "      <td>76.0</td>\n",
              "      <td>51.0</td>\n",
              "      <td>8</td>\n",
              "      <td>322.0</td>\n",
              "      <td>NaN</td>\n",
              "      <td>E</td>\n",
              "    </tr>\n",
              "    <tr>\n",
              "      <th>1</th>\n",
              "      <td>NaN</td>\n",
              "      <td>NaN</td>\n",
              "      <td>PUBG</td>\n",
              "      <td>Series</td>\n",
              "      <td>2017.0</td>\n",
              "      <td>Shooter</td>\n",
              "      <td>PUBG Corporation</td>\n",
              "      <td>NaN</td>\n",
              "      <td>NaN</td>\n",
              "      <td>NaN</td>\n",
              "      <td>NaN</td>\n",
              "      <td>60.00</td>\n",
              "      <td>NaN</td>\n",
              "      <td>NaN</td>\n",
              "      <td>NaN</td>\n",
              "      <td>NaN</td>\n",
              "      <td>NaN</td>\n",
              "      <td>NaN</td>\n",
              "      <td>NaN</td>\n",
              "    </tr>\n",
              "    <tr>\n",
              "      <th>2</th>\n",
              "      <td>1.0</td>\n",
              "      <td>2.0</td>\n",
              "      <td>Super Mario Bros.</td>\n",
              "      <td>NES</td>\n",
              "      <td>1985.0</td>\n",
              "      <td>Platform</td>\n",
              "      <td>Nintendo</td>\n",
              "      <td>29.08</td>\n",
              "      <td>3.58</td>\n",
              "      <td>6.81</td>\n",
              "      <td>0.77</td>\n",
              "      <td>40.24</td>\n",
              "      <td>4.986230</td>\n",
              "      <td>NaN</td>\n",
              "      <td>NaN</td>\n",
              "      <td>NaN</td>\n",
              "      <td>NaN</td>\n",
              "      <td>NaN</td>\n",
              "      <td>NaN</td>\n",
              "    </tr>\n",
              "    <tr>\n",
              "      <th>3</th>\n",
              "      <td>448.0</td>\n",
              "      <td>2.0</td>\n",
              "      <td>Super Mario Bros.</td>\n",
              "      <td>NES</td>\n",
              "      <td>1985.0</td>\n",
              "      <td>Platform</td>\n",
              "      <td>Nintendo</td>\n",
              "      <td>29.08</td>\n",
              "      <td>3.58</td>\n",
              "      <td>6.81</td>\n",
              "      <td>0.77</td>\n",
              "      <td>40.24</td>\n",
              "      <td>4.986230</td>\n",
              "      <td>NaN</td>\n",
              "      <td>NaN</td>\n",
              "      <td>NaN</td>\n",
              "      <td>NaN</td>\n",
              "      <td>NaN</td>\n",
              "      <td>NaN</td>\n",
              "    </tr>\n",
              "    <tr>\n",
              "      <th>4</th>\n",
              "      <td>NaN</td>\n",
              "      <td>NaN</td>\n",
              "      <td>PLAYERUNKNOWN'S BATTLEGROUNDS</td>\n",
              "      <td>PC</td>\n",
              "      <td>2017.0</td>\n",
              "      <td>Shooter</td>\n",
              "      <td>PUBG Corporation</td>\n",
              "      <td>NaN</td>\n",
              "      <td>NaN</td>\n",
              "      <td>NaN</td>\n",
              "      <td>NaN</td>\n",
              "      <td>36.60</td>\n",
              "      <td>NaN</td>\n",
              "      <td>NaN</td>\n",
              "      <td>NaN</td>\n",
              "      <td>NaN</td>\n",
              "      <td>NaN</td>\n",
              "      <td>NaN</td>\n",
              "      <td>NaN</td>\n",
              "    </tr>\n",
              "    <tr>\n",
              "      <th>5</th>\n",
              "      <td>3.0</td>\n",
              "      <td>3.0</td>\n",
              "      <td>Mario Kart Wii</td>\n",
              "      <td>Wii</td>\n",
              "      <td>2008.0</td>\n",
              "      <td>Racing</td>\n",
              "      <td>Nintendo</td>\n",
              "      <td>15.85</td>\n",
              "      <td>12.88</td>\n",
              "      <td>3.79</td>\n",
              "      <td>3.31</td>\n",
              "      <td>35.82</td>\n",
              "      <td>2.732611</td>\n",
              "      <td>82.0</td>\n",
              "      <td>73.0</td>\n",
              "      <td>8.3</td>\n",
              "      <td>709.0</td>\n",
              "      <td>NaN</td>\n",
              "      <td>E</td>\n",
              "    </tr>\n",
              "    <tr>\n",
              "      <th>6</th>\n",
              "      <td>4.0</td>\n",
              "      <td>4.0</td>\n",
              "      <td>Wii Sports Resort</td>\n",
              "      <td>Wii</td>\n",
              "      <td>2009.0</td>\n",
              "      <td>Sports</td>\n",
              "      <td>Nintendo</td>\n",
              "      <td>15.75</td>\n",
              "      <td>11.01</td>\n",
              "      <td>3.28</td>\n",
              "      <td>2.96</td>\n",
              "      <td>33.00</td>\n",
              "      <td>2.715577</td>\n",
              "      <td>80.0</td>\n",
              "      <td>73.0</td>\n",
              "      <td>8</td>\n",
              "      <td>192.0</td>\n",
              "      <td>NaN</td>\n",
              "      <td>E</td>\n",
              "    </tr>\n",
              "  </tbody>\n",
              "</table>\n",
              "</div>\n",
              "      <button class=\"colab-df-convert\" onclick=\"convertToInteractive('df-37289303-0596-4979-9c84-c3f994ac9d72')\"\n",
              "              title=\"Convert this dataframe to an interactive table.\"\n",
              "              style=\"display:none;\">\n",
              "        \n",
              "  <svg xmlns=\"http://www.w3.org/2000/svg\" height=\"24px\"viewBox=\"0 0 24 24\"\n",
              "       width=\"24px\">\n",
              "    <path d=\"M0 0h24v24H0V0z\" fill=\"none\"/>\n",
              "    <path d=\"M18.56 5.44l.94 2.06.94-2.06 2.06-.94-2.06-.94-.94-2.06-.94 2.06-2.06.94zm-11 1L8.5 8.5l.94-2.06 2.06-.94-2.06-.94L8.5 2.5l-.94 2.06-2.06.94zm10 10l.94 2.06.94-2.06 2.06-.94-2.06-.94-.94-2.06-.94 2.06-2.06.94z\"/><path d=\"M17.41 7.96l-1.37-1.37c-.4-.4-.92-.59-1.43-.59-.52 0-1.04.2-1.43.59L10.3 9.45l-7.72 7.72c-.78.78-.78 2.05 0 2.83L4 21.41c.39.39.9.59 1.41.59.51 0 1.02-.2 1.41-.59l7.78-7.78 2.81-2.81c.8-.78.8-2.07 0-2.86zM5.41 20L4 18.59l7.72-7.72 1.47 1.35L5.41 20z\"/>\n",
              "  </svg>\n",
              "      </button>\n",
              "      \n",
              "  <style>\n",
              "    .colab-df-container {\n",
              "      display:flex;\n",
              "      flex-wrap:wrap;\n",
              "      gap: 12px;\n",
              "    }\n",
              "\n",
              "    .colab-df-convert {\n",
              "      background-color: #E8F0FE;\n",
              "      border: none;\n",
              "      border-radius: 50%;\n",
              "      cursor: pointer;\n",
              "      display: none;\n",
              "      fill: #1967D2;\n",
              "      height: 32px;\n",
              "      padding: 0 0 0 0;\n",
              "      width: 32px;\n",
              "    }\n",
              "\n",
              "    .colab-df-convert:hover {\n",
              "      background-color: #E2EBFA;\n",
              "      box-shadow: 0px 1px 2px rgba(60, 64, 67, 0.3), 0px 1px 3px 1px rgba(60, 64, 67, 0.15);\n",
              "      fill: #174EA6;\n",
              "    }\n",
              "\n",
              "    [theme=dark] .colab-df-convert {\n",
              "      background-color: #3B4455;\n",
              "      fill: #D2E3FC;\n",
              "    }\n",
              "\n",
              "    [theme=dark] .colab-df-convert:hover {\n",
              "      background-color: #434B5C;\n",
              "      box-shadow: 0px 1px 3px 1px rgba(0, 0, 0, 0.15);\n",
              "      filter: drop-shadow(0px 1px 2px rgba(0, 0, 0, 0.3));\n",
              "      fill: #FFFFFF;\n",
              "    }\n",
              "  </style>\n",
              "\n",
              "      <script>\n",
              "        const buttonEl =\n",
              "          document.querySelector('#df-37289303-0596-4979-9c84-c3f994ac9d72 button.colab-df-convert');\n",
              "        buttonEl.style.display =\n",
              "          google.colab.kernel.accessAllowed ? 'block' : 'none';\n",
              "\n",
              "        async function convertToInteractive(key) {\n",
              "          const element = document.querySelector('#df-37289303-0596-4979-9c84-c3f994ac9d72');\n",
              "          const dataTable =\n",
              "            await google.colab.kernel.invokeFunction('convertToInteractive',\n",
              "                                                     [key], {});\n",
              "          if (!dataTable) return;\n",
              "\n",
              "          const docLinkHtml = 'Like what you see? Visit the ' +\n",
              "            '<a target=\"_blank\" href=https://colab.research.google.com/notebooks/data_table.ipynb>data table notebook</a>'\n",
              "            + ' to learn more about interactive tables.';\n",
              "          element.innerHTML = '';\n",
              "          dataTable['output_type'] = 'display_data';\n",
              "          await google.colab.output.renderOutput(dataTable, element);\n",
              "          const docLink = document.createElement('div');\n",
              "          docLink.innerHTML = docLinkHtml;\n",
              "          element.appendChild(docLink);\n",
              "        }\n",
              "      </script>\n",
              "    </div>\n",
              "  </div>\n",
              "  "
            ]
          },
          "metadata": {},
          "execution_count": 114
        }
      ]
    },
    {
      "cell_type": "code",
      "source": [
        "import matplotlib.pyplot as plt\n",
        "import seaborn as sns\n",
        "\n",
        "top5_visual=df.loc [[0,1,2,3,5,6]]\n",
        "plt.figure(figsize=(20,10))\n",
        "sns.barplot(x='Name', y='Global_Sales', data=top5_visual) "
      ],
      "metadata": {
        "colab": {
          "base_uri": "https://localhost:8080/",
          "height": 459
        },
        "id": "mShfOaifjdDZ",
        "outputId": "fb819e4e-74d0-4def-d1cf-5c20f7ca9902"
      },
      "execution_count": 115,
      "outputs": [
        {
          "output_type": "execute_result",
          "data": {
            "text/plain": [
              "<matplotlib.axes._subplots.AxesSubplot at 0x7fbb1a7604c0>"
            ]
          },
          "metadata": {},
          "execution_count": 115
        },
        {
          "output_type": "display_data",
          "data": {
            "text/plain": [
              "<Figure size 1440x720 with 1 Axes>"
            ],
            "image/png": "[encoded data removed]"
          },
          "metadata": {
            "needs_background": "light"
          }
        }
      ]
    },
    {
      "cell_type": "code",
      "source": [
        "df_Platform = df[[\"Platform\",\"Global_Sales\"]].dropna()\n",
        "df_Genre =  df[[\"Genre\", \"Global_Sales\"]]"
      ],
      "metadata": {
        "id": "d2PyHQLP3Abm"
      },
      "execution_count": 116,
      "outputs": []
    },
    {
      "cell_type": "code",
      "source": [
        "df_Platform = df_Platform.groupby(\"Platform\").sum()\n",
        "df_Genre = df_Genre.groupby(\"Genre\").sum()"
      ],
      "metadata": {
        "id": "OY3HGZ3-Nwyo"
      },
      "execution_count": 117,
      "outputs": []
    },
    {
      "cell_type": "code",
      "source": [
        "df_Platform = df_Platform.sort_values(by=\"Global_Sales\" , ascending=False).reset_index()\n",
        "df_Genre = df_Genre.sort_values(by=\"Global_Sales\", ascending=False).reset_index()"
      ],
      "metadata": {
        "id": "-VArhj-xN8m4"
      },
      "execution_count": 118,
      "outputs": []
    },
    {
      "cell_type": "code",
      "source": [
        "import matplotlib.pyplot as plt\n",
        "import seaborn as sns\n",
        "release_date_sale =  df[[\"Year\",\"Global_Sales\"]].groupby('Year')['Global_Sales'].sum().reset_index()"
      ],
      "metadata": {
        "id": "tDjSHsNtRp6i"
      },
      "execution_count": 119,
      "outputs": []
    },
    {
      "cell_type": "code",
      "source": [
        "def SNS_BAR_PLOT(X, Y , DATA):\n",
        "  plt.figure(figsize=(30,10))\n",
        "  graph = sns.barplot(x=X, y=Y, data=DATA) \n",
        "  return graph"
      ],
      "metadata": {
        "id": "0LQtRCpRi7jc"
      },
      "execution_count": 120,
      "outputs": []
    },
    {
      "cell_type": "code",
      "source": [
        "SNS_BAR_PLOT(\"Year\",\"Global_Sales\",release_date_sale)\n",
        "\n",
        "SNS_BAR_PLOT(\"Global_Sales\",\"Platform\",df_Platform)\n",
        "\n",
        "SNS_BAR_PLOT(\"Genre\",\"Global_Sales\",df_Genre)\n",
        "\n"
      ],
      "metadata": {
        "colab": {
          "base_uri": "https://localhost:8080/",
          "height": 887
        },
        "id": "0B0RK_MZR8eM",
        "outputId": "10b52eec-bb92-4385-b2d4-73ced08793ad"
      },
      "execution_count": 121,
      "outputs": [
        {
          "output_type": "execute_result",
          "data": {
            "text/plain": [
              "<matplotlib.axes._subplots.AxesSubplot at 0x7fbb1aaaab80>"
            ]
          },
          "metadata": {},
          "execution_count": 121
        },
        {
          "output_type": "display_data",
          "data": {
            "text/plain": [
              "<Figure size 2160x720 with 1 Axes>"
            ],
            "image/png": "[encoded data removed]"
          },
          "metadata": {
            "needs_background": "light"
          }
        },
        {
          "output_type": "display_data",
          "data": {
            "text/plain": [
              "<Figure size 2160x720 with 1 Axes>"
            ],
            "image/png": "[encoded data removed]"
          },
          "metadata": {
            "needs_background": "light"
          }
        },
        {
          "output_type": "display_data",
          "data": {
            "text/plain": [
              "<Figure size 2160x720 with 1 Axes>"
            ],
            "image/png": "[encoded data removed]"
          },
          "metadata": {
            "needs_background": "light"
          }
        }
      ]
    },
    {
      "cell_type": "code",
      "source": [
        "import numpy as np\n",
        "use_df=df[\n",
        "    [\"Name\",\"Year\",\"Platform\",\"Genre\",\"Publisher\",\"NA_Sales\",\"JP_Sales\",\"EU_Sales\",\"Other_Sales\",\"Global_Sales\"]\n",
        "    ].dropna()\n",
        "    \n",
        "use_df[\"linear\"]= np.nan"
      ],
      "metadata": {
        "id": "jG-gKIXFVHTD"
      },
      "execution_count": 122,
      "outputs": []
    },
    {
      "cell_type": "code",
      "source": [
        "from sklearn.linear_model import LinearRegression\n",
        "from sklearn.model_selection import train_test_split\n",
        "from sklearn.metrics import mean_squared_error \n",
        "\n",
        "def LinearRegression_test(features , target ):\n",
        "   X_train, X_test, y_train, y_test = train_test_split( use_df[[features]],use_df[[target]],test_size = 0.2, random_state = 11)\n",
        "   model =  LinearRegression()\n",
        "   model.fit(X_train, y_train)\n",
        "   y_pred = model.predict(X_test)\n",
        "   return mean_squared_error(y_test, y_pred)\n",
        "\n",
        "def LinearRegression_use(features, target):\n",
        "   model =  LinearRegression()\n",
        "   model.fit(use_df[[\"Global_Sales\"]],use_df[[\"JP_Sales\"]])\n",
        "   y_pred = model.predict(use_df[[\"Global_Sales\"]])\n",
        "   use_df[\"linear\"].fillna(pd.Series(y_pred.flatten()), inplace=True)\n",
        "   use_df[\"compare\"]=use_df[\"linear\"]<use_df[\"JP_Sales\"]\n",
        "   return use_df\n"
      ],
      "metadata": {
        "id": "6xZc6yVfW0_Q"
      },
      "execution_count": 123,
      "outputs": []
    },
    {
      "cell_type": "code",
      "source": [
        "LinearRegression_test(\"Global_Sales\" , \"JP_Sales\" )"
      ],
      "metadata": {
        "id": "MitnldPqe0JL",
        "outputId": "61a51be7-2a0d-4f8a-80e6-5e9c1bc5231e",
        "colab": {
          "base_uri": "https://localhost:8080/"
        }
      },
      "execution_count": 124,
      "outputs": [
        {
          "output_type": "execute_result",
          "data": {
            "text/plain": [
              "0.05150631061452261"
            ]
          },
          "metadata": {},
          "execution_count": 124
        }
      ]
    },
    {
      "cell_type": "code",
      "source": [
        "use_df = LinearRegression_use(\"Global_Sales\", \"JP_Sales\").dropna()"
      ],
      "metadata": {
        "id": "ReSEPOj1klm0"
      },
      "execution_count": 125,
      "outputs": []
    },
    {
      "cell_type": "code",
      "source": [
        "USE_LIST = [\"Name\",\"Platform\",\"Genre\",\"Publisher\",\"Global_Sales\",\"JP_Sales\",\"compare\",\"linear\"]"
      ],
      "metadata": {
        "id": "fQf01fkzgQbM"
      },
      "execution_count": 126,
      "outputs": []
    },
    {
      "cell_type": "code",
      "source": [
        "df_True = use_df[use_df[USE_LIST][\"compare\"]==True]\n",
        "df_False = use_df[use_df[USE_LIST][\"compare\"]==False]"
      ],
      "metadata": {
        "id": "ucs8rNJgXzJ6"
      },
      "execution_count": 127,
      "outputs": []
    },
    {
      "cell_type": "code",
      "source": [
        "df_True.drop(df_True[df_True[\"JP_Sales\"]<0.01].index , inplace = True)\n",
        "\n",
        "df_True[df_True[\"linear\"]<0] =0 "
      ],
      "metadata": {
        "id": "DUHelJwvaaEl",
        "outputId": "078ae582-42bf-4d0b-874b-5278b1e4c090",
        "colab": {
          "base_uri": "https://localhost:8080/"
        }
      },
      "execution_count": 128,
      "outputs": [
        {
          "output_type": "stream",
          "name": "stderr",
          "text": [
            "/usr/local/lib/python3.8/dist-packages/pandas/core/frame.py:4906: SettingWithCopyWarning: \n",
            "A value is trying to be set on a copy of a slice from a DataFrame\n",
            "\n",
            "See the caveats in the documentation: https://pandas.pydata.org/pandas-docs/stable/user_guide/indexing.html#returning-a-view-versus-a-copy\n",
            "  return super().drop(\n",
            "<ipython-input-128-76d98f970fed>:3: SettingWithCopyWarning: \n",
            "A value is trying to be set on a copy of a slice from a DataFrame.\n",
            "Try using .loc[row_indexer,col_indexer] = value instead\n",
            "\n",
            "See the caveats in the documentation: https://pandas.pydata.org/pandas-docs/stable/user_guide/indexing.html#returning-a-view-versus-a-copy\n",
            "  df_True[df_True[\"linear\"]<0] =0\n",
            "/usr/local/lib/python3.8/dist-packages/pandas/core/indexing.py:1817: SettingWithCopyWarning: \n",
            "A value is trying to be set on a copy of a slice from a DataFrame.\n",
            "Try using .loc[row_indexer,col_indexer] = value instead\n",
            "\n",
            "See the caveats in the documentation: https://pandas.pydata.org/pandas-docs/stable/user_guide/indexing.html#returning-a-view-versus-a-copy\n",
            "  self._setitem_single_column(loc, value, pi)\n"
          ]
        }
      ]
    },
    {
      "cell_type": "code",
      "source": [
        "plt.figure(figsize=(20,10))\n",
        "\n",
        "sns.barplot(x=df_True[\"Genre\"], y=df_True[\"JP_Sales\"], data=df_True)"
      ],
      "metadata": {
        "id": "xe5fl6PUdUQk",
        "outputId": "aecc8df9-02d7-400f-b063-820fc9fa1124",
        "colab": {
          "base_uri": "https://localhost:8080/",
          "height": 458
        }
      },
      "execution_count": 129,
      "outputs": [
        {
          "output_type": "execute_result",
          "data": {
            "text/plain": [
              "<matplotlib.axes._subplots.AxesSubplot at 0x7fbb1a032220>"
            ]
          },
          "metadata": {},
          "execution_count": 129
        },
        {
          "output_type": "display_data",
          "data": {
            "text/plain": [
              "<Figure size 1440x720 with 1 Axes>"
            ],
            "image/png": "[encoded data removed]"
          },
          "metadata": {
            "needs_background": "light"
          }
        }
      ]
    },
    {
      "cell_type": "markdown",
      "source": [
        "예상 밖으로 인기가 있었던 장르는 Platform  Puzzle, Racing 으로 파악됨 "
      ],
      "metadata": {
        "id": "KJQBN0lwdrU6"
      }
    },
    {
      "cell_type": "code",
      "source": [
        "chart = use_df[[\"Year\",\"NA_Sales\",\"JP_Sales\",\"EU_Sales\",\"Other_Sales\",\"Global_Sales\"]].groupby(\"Year\").sum().reset_index()"
      ],
      "metadata": {
        "id": "xdaOc7MpEgsQ"
      },
      "execution_count": 135,
      "outputs": []
    },
    {
      "cell_type": "code",
      "source": [
        "sns.lineplot(use_df[\"Year\"], df[\"Global_Sales\"],label='Global', color='blue' ) \n",
        "sns.lineplot(use_df[\"Year\"], df[\"JP_Sales\"],label='JP', color='red' ) \n",
        "sns.lineplot(use_df[\"Year\"], df[\"EU_Sales\"],label='EU', color='green' ) \n",
        "\n",
        "plt.xlabel(\"x value\")\n",
        "plt.ylabel(\"y value\")\n",
        "plt.title(\"Game_Sales\", fontsize = 18)\n",
        "\n",
        "plt.show()"
      ],
      "metadata": {
        "id": "K7zaANAkI-6u",
        "outputId": "8e5fdc7f-f0ca-47ff-f284-4973e6f9a218",
        "colab": {
          "base_uri": "https://localhost:8080/",
          "height": 432
        }
      },
      "execution_count": 141,
      "outputs": [
        {
          "output_type": "stream",
          "name": "stderr",
          "text": [
            "/usr/local/lib/python3.8/dist-packages/seaborn/_decorators.py:36: FutureWarning: Pass the following variables as keyword args: x, y. From version 0.12, the only valid positional argument will be `data`, and passing other arguments without an explicit keyword will result in an error or misinterpretation.\n",
            "  warnings.warn(\n",
            "/usr/local/lib/python3.8/dist-packages/seaborn/_decorators.py:36: FutureWarning: Pass the following variables as keyword args: x, y. From version 0.12, the only valid positional argument will be `data`, and passing other arguments without an explicit keyword will result in an error or misinterpretation.\n",
            "  warnings.warn(\n",
            "/usr/local/lib/python3.8/dist-packages/seaborn/_decorators.py:36: FutureWarning: Pass the following variables as keyword args: x, y. From version 0.12, the only valid positional argument will be `data`, and passing other arguments without an explicit keyword will result in an error or misinterpretation.\n",
            "  warnings.warn(\n"
          ]
        },
        {
          "output_type": "display_data",
          "data": {
            "text/plain": [
              "<Figure size 432x288 with 1 Axes>"
            ],
            "image/png": "[encoded data removed]"
          },
          "metadata": {
            "needs_background": "light"
          }
        }
      ]
    },
    {
      "cell_type": "code",
      "source": [
        "chart"
      ],
      "metadata": {
        "id": "YpqFcTZ0IB3J",
        "outputId": "3e60d0fe-7c71-40ba-b3c8-1bd73b5ac23d",
        "colab": {
          "base_uri": "https://localhost:8080/",
          "height": 1000
        }
      },
      "execution_count": 137,
      "outputs": [
        {
          "output_type": "execute_result",
          "data": {
            "text/plain": [
              "      Year  NA_Sales  JP_Sales  EU_Sales  Other_Sales  Global_Sales\n",
              "0   1980.0     21.30      0.00      1.32         0.25         22.86\n",
              "1   1981.0     41.18      0.00      2.42         0.41         44.11\n",
              "2   1982.0     39.41      0.00      2.41         0.47         42.26\n",
              "3   1983.0      9.97     14.21      1.24         0.22         25.63\n",
              "4   1984.0     35.25     20.24      2.57         0.78         58.86\n",
              "5   1985.0     63.35     24.33      8.32         1.69         97.68\n",
              "6   1986.0     13.90     22.73      3.06         1.97         41.64\n",
              "7   1987.0      9.22     12.15      1.43         0.20         23.05\n",
              "8   1988.0     38.57     27.83     11.29         1.65         79.35\n",
              "9   1989.0     87.20     28.71     14.62         2.59        133.12\n",
              "10  1990.0     40.86     24.11     11.98         2.08         79.05\n",
              "11  1991.0     26.88     22.53      8.31         1.57         59.29\n",
              "12  1992.0     58.04     36.69     19.50         2.81        117.08\n",
              "13  1993.0     16.58     27.15      5.15         1.19         50.05\n",
              "14  1994.0     73.28     55.21     42.58         5.18        176.11\n",
              "15  1995.0     29.97     58.83     16.71         3.08        108.67\n",
              "16  1996.0    113.27     69.55     63.72        11.04        257.56\n",
              "17  1997.0    130.60     55.92     62.73        11.46        260.65\n",
              "18  1998.0    186.79     61.56     90.11        15.00        353.59\n",
              "19  1999.0    165.36     56.82     78.85        12.37        313.65\n",
              "20  2000.0    147.68     56.23     78.48        16.88        299.18\n",
              "21  2001.0    346.19     48.17    185.42        45.70        625.20\n",
              "22  2002.0    479.06     52.66    247.65        64.52        845.12\n",
              "23  2003.0    456.65     41.96    247.96        63.24        810.50\n",
              "24  2004.0    531.11     55.49    253.66       119.82        960.65\n",
              "25  2005.0    613.83     64.81    273.86        96.01       1049.51\n",
              "26  2006.0    651.04     90.57    258.37       121.42       1122.63\n",
              "27  2007.0    833.16     77.57    400.24       243.12       1555.46\n",
              "28  2008.0    950.58     79.39    509.05       260.38       1799.66\n",
              "29  2009.0    825.11     84.96    503.98       211.86       1625.91\n",
              "30  2010.0    786.68     83.68    489.29       168.42       1528.17\n",
              "31  2011.0    693.67     90.26    515.76       167.84       1467.61\n",
              "32  2012.0    511.71     86.02    444.80       144.32       1187.87\n",
              "33  2013.0    640.28     85.26    552.63       174.52       1452.92\n",
              "34  2014.0    528.88     74.33    568.23       178.81       1349.86\n",
              "35  2015.0    354.77     57.81    350.13       107.28        870.38\n",
              "36  2016.0     67.92     26.12     86.16        24.02        204.52\n",
              "37  2017.0      0.00      0.06      0.00         0.00          0.06\n",
              "38  2020.0      0.27      0.00      0.00         0.02          0.29"
            ],
            "text/html": [
              "\n",
              "  <div id=\"df-a871c596-26f0-4c4f-8695-215d4bfa4963\">\n",
              "    <div class=\"colab-df-container\">\n",
              "      <div>\n",
              "<style scoped>\n",
              "    .dataframe tbody tr th:only-of-type {\n",
              "        vertical-align: middle;\n",
              "    }\n",
              "\n",
              "    .dataframe tbody tr th {\n",
              "        vertical-align: top;\n",
              "    }\n",
              "\n",
              "    .dataframe thead th {\n",
              "        text-align: right;\n",
              "    }\n",
              "</style>\n",
              "<table border=\"1\" class=\"dataframe\">\n",
              "  <thead>\n",
              "    <tr style=\"text-align: right;\">\n",
              "      <th></th>\n",
              "      <th>Year</th>\n",
              "      <th>NA_Sales</th>\n",
              "      <th>JP_Sales</th>\n",
              "      <th>EU_Sales</th>\n",
              "      <th>Other_Sales</th>\n",
              "      <th>Global_Sales</th>\n",
              "    </tr>\n",
              "  </thead>\n",
              "  <tbody>\n",
              "    <tr>\n",
              "      <th>0</th>\n",
              "      <td>1980.0</td>\n",
              "      <td>21.30</td>\n",
              "      <td>0.00</td>\n",
              "      <td>1.32</td>\n",
              "      <td>0.25</td>\n",
              "      <td>22.86</td>\n",
              "    </tr>\n",
              "    <tr>\n",
              "      <th>1</th>\n",
              "      <td>1981.0</td>\n",
              "      <td>41.18</td>\n",
              "      <td>0.00</td>\n",
              "      <td>2.42</td>\n",
              "      <td>0.41</td>\n",
              "      <td>44.11</td>\n",
              "    </tr>\n",
              "    <tr>\n",
              "      <th>2</th>\n",
              "      <td>1982.0</td>\n",
              "      <td>39.41</td>\n",
              "      <td>0.00</td>\n",
              "      <td>2.41</td>\n",
              "      <td>0.47</td>\n",
              "      <td>42.26</td>\n",
              "    </tr>\n",
              "    <tr>\n",
              "      <th>3</th>\n",
              "      <td>1983.0</td>\n",
              "      <td>9.97</td>\n",
              "      <td>14.21</td>\n",
              "      <td>1.24</td>\n",
              "      <td>0.22</td>\n",
              "      <td>25.63</td>\n",
              "    </tr>\n",
              "    <tr>\n",
              "      <th>4</th>\n",
              "      <td>1984.0</td>\n",
              "      <td>35.25</td>\n",
              "      <td>20.24</td>\n",
              "      <td>2.57</td>\n",
              "      <td>0.78</td>\n",
              "      <td>58.86</td>\n",
              "    </tr>\n",
              "    <tr>\n",
              "      <th>5</th>\n",
              "      <td>1985.0</td>\n",
              "      <td>63.35</td>\n",
              "      <td>24.33</td>\n",
              "      <td>8.32</td>\n",
              "      <td>1.69</td>\n",
              "      <td>97.68</td>\n",
              "    </tr>\n",
              "    <tr>\n",
              "      <th>6</th>\n",
              "      <td>1986.0</td>\n",
              "      <td>13.90</td>\n",
              "      <td>22.73</td>\n",
              "      <td>3.06</td>\n",
              "      <td>1.97</td>\n",
              "      <td>41.64</td>\n",
              "    </tr>\n",
              "    <tr>\n",
              "      <th>7</th>\n",
              "      <td>1987.0</td>\n",
              "      <td>9.22</td>\n",
              "      <td>12.15</td>\n",
              "      <td>1.43</td>\n",
              "      <td>0.20</td>\n",
              "      <td>23.05</td>\n",
              "    </tr>\n",
              "    <tr>\n",
              "      <th>8</th>\n",
              "      <td>1988.0</td>\n",
              "      <td>38.57</td>\n",
              "      <td>27.83</td>\n",
              "      <td>11.29</td>\n",
              "      <td>1.65</td>\n",
              "      <td>79.35</td>\n",
              "    </tr>\n",
              "    <tr>\n",
              "      <th>9</th>\n",
              "      <td>1989.0</td>\n",
              "      <td>87.20</td>\n",
              "      <td>28.71</td>\n",
              "      <td>14.62</td>\n",
              "      <td>2.59</td>\n",
              "      <td>133.12</td>\n",
              "    </tr>\n",
              "    <tr>\n",
              "      <th>10</th>\n",
              "      <td>1990.0</td>\n",
              "      <td>40.86</td>\n",
              "      <td>24.11</td>\n",
              "      <td>11.98</td>\n",
              "      <td>2.08</td>\n",
              "      <td>79.05</td>\n",
              "    </tr>\n",
              "    <tr>\n",
              "      <th>11</th>\n",
              "      <td>1991.0</td>\n",
              "      <td>26.88</td>\n",
              "      <td>22.53</td>\n",
              "      <td>8.31</td>\n",
              "      <td>1.57</td>\n",
              "      <td>59.29</td>\n",
              "    </tr>\n",
              "    <tr>\n",
              "      <th>12</th>\n",
              "      <td>1992.0</td>\n",
              "      <td>58.04</td>\n",
              "      <td>36.69</td>\n",
              "      <td>19.50</td>\n",
              "      <td>2.81</td>\n",
              "      <td>117.08</td>\n",
              "    </tr>\n",
              "    <tr>\n",
              "      <th>13</th>\n",
              "      <td>1993.0</td>\n",
              "      <td>16.58</td>\n",
              "      <td>27.15</td>\n",
              "      <td>5.15</td>\n",
              "      <td>1.19</td>\n",
              "      <td>50.05</td>\n",
              "    </tr>\n",
              "    <tr>\n",
              "      <th>14</th>\n",
              "      <td>1994.0</td>\n",
              "      <td>73.28</td>\n",
              "      <td>55.21</td>\n",
              "      <td>42.58</td>\n",
              "      <td>5.18</td>\n",
              "      <td>176.11</td>\n",
              "    </tr>\n",
              "    <tr>\n",
              "      <th>15</th>\n",
              "      <td>1995.0</td>\n",
              "      <td>29.97</td>\n",
              "      <td>58.83</td>\n",
              "      <td>16.71</td>\n",
              "      <td>3.08</td>\n",
              "      <td>108.67</td>\n",
              "    </tr>\n",
              "    <tr>\n",
              "      <th>16</th>\n",
              "      <td>1996.0</td>\n",
              "      <td>113.27</td>\n",
              "      <td>69.55</td>\n",
              "      <td>63.72</td>\n",
              "      <td>11.04</td>\n",
              "      <td>257.56</td>\n",
              "    </tr>\n",
              "    <tr>\n",
              "      <th>17</th>\n",
              "      <td>1997.0</td>\n",
              "      <td>130.60</td>\n",
              "      <td>55.92</td>\n",
              "      <td>62.73</td>\n",
              "      <td>11.46</td>\n",
              "      <td>260.65</td>\n",
              "    </tr>\n",
              "    <tr>\n",
              "      <th>18</th>\n",
              "      <td>1998.0</td>\n",
              "      <td>186.79</td>\n",
              "      <td>61.56</td>\n",
              "      <td>90.11</td>\n",
              "      <td>15.00</td>\n",
              "      <td>353.59</td>\n",
              "    </tr>\n",
              "    <tr>\n",
              "      <th>19</th>\n",
              "      <td>1999.0</td>\n",
              "      <td>165.36</td>\n",
              "      <td>56.82</td>\n",
              "      <td>78.85</td>\n",
              "      <td>12.37</td>\n",
              "      <td>313.65</td>\n",
              "    </tr>\n",
              "    <tr>\n",
              "      <th>20</th>\n",
              "      <td>2000.0</td>\n",
              "      <td>147.68</td>\n",
              "      <td>56.23</td>\n",
              "      <td>78.48</td>\n",
              "      <td>16.88</td>\n",
              "      <td>299.18</td>\n",
              "    </tr>\n",
              "    <tr>\n",
              "      <th>21</th>\n",
              "      <td>2001.0</td>\n",
              "      <td>346.19</td>\n",
              "      <td>48.17</td>\n",
              "      <td>185.42</td>\n",
              "      <td>45.70</td>\n",
              "      <td>625.20</td>\n",
              "    </tr>\n",
              "    <tr>\n",
              "      <th>22</th>\n",
              "      <td>2002.0</td>\n",
              "      <td>479.06</td>\n",
              "      <td>52.66</td>\n",
              "      <td>247.65</td>\n",
              "      <td>64.52</td>\n",
              "      <td>845.12</td>\n",
              "    </tr>\n",
              "    <tr>\n",
              "      <th>23</th>\n",
              "      <td>2003.0</td>\n",
              "      <td>456.65</td>\n",
              "      <td>41.96</td>\n",
              "      <td>247.96</td>\n",
              "      <td>63.24</td>\n",
              "      <td>810.50</td>\n",
              "    </tr>\n",
              "    <tr>\n",
              "      <th>24</th>\n",
              "      <td>2004.0</td>\n",
              "      <td>531.11</td>\n",
              "      <td>55.49</td>\n",
              "      <td>253.66</td>\n",
              "      <td>119.82</td>\n",
              "      <td>960.65</td>\n",
              "    </tr>\n",
              "    <tr>\n",
              "      <th>25</th>\n",
              "      <td>2005.0</td>\n",
              "      <td>613.83</td>\n",
              "      <td>64.81</td>\n",
              "      <td>273.86</td>\n",
              "      <td>96.01</td>\n",
              "      <td>1049.51</td>\n",
              "    </tr>\n",
              "    <tr>\n",
              "      <th>26</th>\n",
              "      <td>2006.0</td>\n",
              "      <td>651.04</td>\n",
              "      <td>90.57</td>\n",
              "      <td>258.37</td>\n",
              "      <td>121.42</td>\n",
              "      <td>1122.63</td>\n",
              "    </tr>\n",
              "    <tr>\n",
              "      <th>27</th>\n",
              "      <td>2007.0</td>\n",
              "      <td>833.16</td>\n",
              "      <td>77.57</td>\n",
              "      <td>400.24</td>\n",
              "      <td>243.12</td>\n",
              "      <td>1555.46</td>\n",
              "    </tr>\n",
              "    <tr>\n",
              "      <th>28</th>\n",
              "      <td>2008.0</td>\n",
              "      <td>950.58</td>\n",
              "      <td>79.39</td>\n",
              "      <td>509.05</td>\n",
              "      <td>260.38</td>\n",
              "      <td>1799.66</td>\n",
              "    </tr>\n",
              "    <tr>\n",
              "      <th>29</th>\n",
              "      <td>2009.0</td>\n",
              "      <td>825.11</td>\n",
              "      <td>84.96</td>\n",
              "      <td>503.98</td>\n",
              "      <td>211.86</td>\n",
              "      <td>1625.91</td>\n",
              "    </tr>\n",
              "    <tr>\n",
              "      <th>30</th>\n",
              "      <td>2010.0</td>\n",
              "      <td>786.68</td>\n",
              "      <td>83.68</td>\n",
              "      <td>489.29</td>\n",
              "      <td>168.42</td>\n",
              "      <td>1528.17</td>\n",
              "    </tr>\n",
              "    <tr>\n",
              "      <th>31</th>\n",
              "      <td>2011.0</td>\n",
              "      <td>693.67</td>\n",
              "      <td>90.26</td>\n",
              "      <td>515.76</td>\n",
              "      <td>167.84</td>\n",
              "      <td>1467.61</td>\n",
              "    </tr>\n",
              "    <tr>\n",
              "      <th>32</th>\n",
              "      <td>2012.0</td>\n",
              "      <td>511.71</td>\n",
              "      <td>86.02</td>\n",
              "      <td>444.80</td>\n",
              "      <td>144.32</td>\n",
              "      <td>1187.87</td>\n",
              "    </tr>\n",
              "    <tr>\n",
              "      <th>33</th>\n",
              "      <td>2013.0</td>\n",
              "      <td>640.28</td>\n",
              "      <td>85.26</td>\n",
              "      <td>552.63</td>\n",
              "      <td>174.52</td>\n",
              "      <td>1452.92</td>\n",
              "    </tr>\n",
              "    <tr>\n",
              "      <th>34</th>\n",
              "      <td>2014.0</td>\n",
              "      <td>528.88</td>\n",
              "      <td>74.33</td>\n",
              "      <td>568.23</td>\n",
              "      <td>178.81</td>\n",
              "      <td>1349.86</td>\n",
              "    </tr>\n",
              "    <tr>\n",
              "      <th>35</th>\n",
              "      <td>2015.0</td>\n",
              "      <td>354.77</td>\n",
              "      <td>57.81</td>\n",
              "      <td>350.13</td>\n",
              "      <td>107.28</td>\n",
              "      <td>870.38</td>\n",
              "    </tr>\n",
              "    <tr>\n",
              "      <th>36</th>\n",
              "      <td>2016.0</td>\n",
              "      <td>67.92</td>\n",
              "      <td>26.12</td>\n",
              "      <td>86.16</td>\n",
              "      <td>24.02</td>\n",
              "      <td>204.52</td>\n",
              "    </tr>\n",
              "    <tr>\n",
              "      <th>37</th>\n",
              "      <td>2017.0</td>\n",
              "      <td>0.00</td>\n",
              "      <td>0.06</td>\n",
              "      <td>0.00</td>\n",
              "      <td>0.00</td>\n",
              "      <td>0.06</td>\n",
              "    </tr>\n",
              "    <tr>\n",
              "      <th>38</th>\n",
              "      <td>2020.0</td>\n",
              "      <td>0.27</td>\n",
              "      <td>0.00</td>\n",
              "      <td>0.00</td>\n",
              "      <td>0.02</td>\n",
              "      <td>0.29</td>\n",
              "    </tr>\n",
              "  </tbody>\n",
              "</table>\n",
              "</div>\n",
              "      <button class=\"colab-df-convert\" onclick=\"convertToInteractive('df-a871c596-26f0-4c4f-8695-215d4bfa4963')\"\n",
              "              title=\"Convert this dataframe to an interactive table.\"\n",
              "              style=\"display:none;\">\n",
              "        \n",
              "  <svg xmlns=\"http://www.w3.org/2000/svg\" height=\"24px\"viewBox=\"0 0 24 24\"\n",
              "       width=\"24px\">\n",
              "    <path d=\"M0 0h24v24H0V0z\" fill=\"none\"/>\n",
              "    <path d=\"M18.56 5.44l.94 2.06.94-2.06 2.06-.94-2.06-.94-.94-2.06-.94 2.06-2.06.94zm-11 1L8.5 8.5l.94-2.06 2.06-.94-2.06-.94L8.5 2.5l-.94 2.06-2.06.94zm10 10l.94 2.06.94-2.06 2.06-.94-2.06-.94-.94-2.06-.94 2.06-2.06.94z\"/><path d=\"M17.41 7.96l-1.37-1.37c-.4-.4-.92-.59-1.43-.59-.52 0-1.04.2-1.43.59L10.3 9.45l-7.72 7.72c-.78.78-.78 2.05 0 2.83L4 21.41c.39.39.9.59 1.41.59.51 0 1.02-.2 1.41-.59l7.78-7.78 2.81-2.81c.8-.78.8-2.07 0-2.86zM5.41 20L4 18.59l7.72-7.72 1.47 1.35L5.41 20z\"/>\n",
              "  </svg>\n",
              "      </button>\n",
              "      \n",
              "  <style>\n",
              "    .colab-df-container {\n",
              "      display:flex;\n",
              "      flex-wrap:wrap;\n",
              "      gap: 12px;\n",
              "    }\n",
              "\n",
              "    .colab-df-convert {\n",
              "      background-color: #E8F0FE;\n",
              "      border: none;\n",
              "      border-radius: 50%;\n",
              "      cursor: pointer;\n",
              "      display: none;\n",
              "      fill: #1967D2;\n",
              "      height: 32px;\n",
              "      padding: 0 0 0 0;\n",
              "      width: 32px;\n",
              "    }\n",
              "\n",
              "    .colab-df-convert:hover {\n",
              "      background-color: #E2EBFA;\n",
              "      box-shadow: 0px 1px 2px rgba(60, 64, 67, 0.3), 0px 1px 3px 1px rgba(60, 64, 67, 0.15);\n",
              "      fill: #174EA6;\n",
              "    }\n",
              "\n",
              "    [theme=dark] .colab-df-convert {\n",
              "      background-color: #3B4455;\n",
              "      fill: #D2E3FC;\n",
              "    }\n",
              "\n",
              "    [theme=dark] .colab-df-convert:hover {\n",
              "      background-color: #434B5C;\n",
              "      box-shadow: 0px 1px 3px 1px rgba(0, 0, 0, 0.15);\n",
              "      filter: drop-shadow(0px 1px 2px rgba(0, 0, 0, 0.3));\n",
              "      fill: #FFFFFF;\n",
              "    }\n",
              "  </style>\n",
              "\n",
              "      <script>\n",
              "        const buttonEl =\n",
              "          document.querySelector('#df-a871c596-26f0-4c4f-8695-215d4bfa4963 button.colab-df-convert');\n",
              "        buttonEl.style.display =\n",
              "          google.colab.kernel.accessAllowed ? 'block' : 'none';\n",
              "\n",
              "        async function convertToInteractive(key) {\n",
              "          const element = document.querySelector('#df-a871c596-26f0-4c4f-8695-215d4bfa4963');\n",
              "          const dataTable =\n",
              "            await google.colab.kernel.invokeFunction('convertToInteractive',\n",
              "                                                     [key], {});\n",
              "          if (!dataTable) return;\n",
              "\n",
              "          const docLinkHtml = 'Like what you see? Visit the ' +\n",
              "            '<a target=\"_blank\" href=https://colab.research.google.com/notebooks/data_table.ipynb>data table notebook</a>'\n",
              "            + ' to learn more about interactive tables.';\n",
              "          element.innerHTML = '';\n",
              "          dataTable['output_type'] = 'display_data';\n",
              "          await google.colab.output.renderOutput(dataTable, element);\n",
              "          const docLink = document.createElement('div');\n",
              "          docLink.innerHTML = docLinkHtml;\n",
              "          element.appendChild(docLink);\n",
              "        }\n",
              "      </script>\n",
              "    </div>\n",
              "  </div>\n",
              "  "
            ]
          },
          "metadata": {},
          "execution_count": 137
        }
      ]
    }
  ]
}