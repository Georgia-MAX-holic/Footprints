{
 "cells": [
  {
   "cell_type": "code",
   "execution_count": 59,
   "metadata": {},
   "outputs": [],
   "source": [
    "#!pip install pymysql\n",
    "#!pip install sqlalchemy\n",
    "#!pip install mysqlclient\n",
    "#!pip install cryptography\n"
   ]
  },
  {
   "cell_type": "code",
   "execution_count": 60,
   "metadata": {},
   "outputs": [],
   "source": [
    "import pymysql\n",
    "from bs4 import BeautifulSoup\n",
    "import urllib.request\n",
    "from urllib.parse import quote\n",
    "import pandas as pd  "
   ]
  },
  {
   "cell_type": "code",
   "execution_count": 61,
   "metadata": {},
   "outputs": [
    {
     "name": "stdout",
     "output_type": "stream",
     "text": [
      "<class 'MySQLdb.connections.Connection'>\n",
      "<class 'MySQLdb.cursors.Cursor'>\n"
     ]
    }
   ],
   "source": [
    "import MySQLdb\n",
    "\n",
    "conn = MySQLdb.connect(\n",
    "    user=\"mysqluser\",\n",
    "    passwd=\"mysqlpw\",\n",
    "    host=\"localhost\",\n",
    "    db=\"SCRAP\",\n",
    "    #charset=\"utf-8\"\n",
    ")\n",
    "print(type(conn))\n",
    "# <class 'MySQLdb.connections.Connection'>\n",
    "cursor = conn.cursor()\n",
    "print(type(cursor))\n",
    "# <class 'MySQLdb.cursors.Cursor'>"
   ]
  },
  {
   "cell_type": "code",
   "execution_count": 68,
   "metadata": {},
   "outputs": [],
   "source": [
    "def get_movie_reviews(mcode, page_num):\n",
    "  movie_review_df = pd.DataFrame(columns =(\"Title\", \"Score\", \"Review\"))\n",
    "  url = \"https://movie.naver.com/movie/point/af/list.naver?st=mcode&sword=\" + str(mcode)+\"&target=after\"\n",
    "  idx = 0 \n",
    "  for _ in range(0, page_num):\n",
    "    movie_page = urllib.request.urlopen(url).read()\n",
    "    movie_page_soup = BeautifulSoup(movie_page, \"html.parser\")\n",
    "\n",
    "    review_list = movie_page_soup.find_all(\"td\", {\"class\": \"title\"})\n",
    "    for review in review_list:\n",
    "      title = review.find(\"a\" , {\"class\": \"movie color_b\"}).get_text()\n",
    "      score = review.find(\"em\").get_text()\n",
    "      review_text = review.find(\"a\", {\"class\": \"report\"}).get(\"onclick\").split(\",\")[2]\n",
    "      movie_review_df.loc[idx] = [title,score,review_text]\n",
    "      #TITLE = movie_review_df.loc[idx][0]\n",
    "      \n",
    "      #SCORE = movie_review_df.loc[idx][1]\n",
    "      #REVIEW_TEXT = movie_review_df.loc[idx][2]\n",
    "      #print(str(REVIEW_TEXT))\n",
    "  \n",
    "      cursor.execute(f\"INSERT INTO CRAW_TABLE VALUES(\\\"{title}\\\",\\\"{score}\\\",\\\"{review_text}\\\")\")\n",
    "      conn.commit()\n",
    "      idx+=1\n",
    "      \n",
    "\n",
    "      print(\"#\",end=\"\")\n",
    "    try:\n",
    "       url =\"https://movie.naver.com\" + movie_page_soup.find(\"a\", {\"class\": \"pg_next\"}).get(\"href\")\n",
    "    except:\n",
    "      break\n",
    "  return movie_review_df"
   ]
  },
  {
   "cell_type": "code",
   "execution_count": 70,
   "metadata": {},
   "outputs": [
    {
     "name": "stdout",
     "output_type": "stream",
     "text": [
      "##############################"
     ]
    }
   ],
   "source": [
    "movie_review_df = get_movie_reviews(193855, 3)\n",
    "\n",
    "movie_review_df\n",
    "conn.commit()"
   ]
  },
  {
   "cell_type": "code",
   "execution_count": null,
   "metadata": {},
   "outputs": [],
   "source": []
  },
  {
   "cell_type": "code",
   "execution_count": null,
   "metadata": {},
   "outputs": [],
   "source": [
    "#cursor.execute(cursor.execute(f\"INSERT INTO CRAWLING_TABLE(Title, Score, Review) VALUES(TITLE, SCORE, REVIEW))\n",
    "#conn.commit()"
   ]
  },
  {
   "cell_type": "code",
   "execution_count": null,
   "metadata": {},
   "outputs": [],
   "source": [
    "#alter database DB_NAME default character set utf8 collate utf8_general_ci;"
   ]
  }
 ],
 "metadata": {
  "kernelspec": {
   "display_name": "Python 3",
   "language": "python",
   "name": "python3"
  },
  "language_info": {
   "codemirror_mode": {
    "name": "ipython",
    "version": 3
   },
   "file_extension": ".py",
   "mimetype": "text/x-python",
   "name": "python",
   "nbconvert_exporter": "python",
   "pygments_lexer": "ipython3",
   "version": "3.10.10"
  },
  "orig_nbformat": 4,
  "vscode": {
   "interpreter": {
    "hash": "92bc995fc34282b272aee51ccce4b21f05b071ac5797b80b1f24a1fb888e23fa"
   }
  }
 },
 "nbformat": 4,
 "nbformat_minor": 2
}
