{
  "nbformat": 4,
  "nbformat_minor": 0,
  "metadata": {
    "colab": {
      "provenance": [],
      "authorship_tag": "ABX9TyPpWz4VKB7VjLSsUn+o0PIT",
      "include_colab_link": true
    },
    "kernelspec": {
      "name": "python3",
      "display_name": "Python 3"
    },
    "language_info": {
      "name": "python"
    }
  },
  "cells": [
    {
      "cell_type": "markdown",
      "metadata": {
        "id": "view-in-github",
        "colab_type": "text"
      },
      "source": [
        "<a href=\"https://colab.research.google.com/github/Georgia-MAX-holic/theory/blob/main/AWS%26%EB%8F%84%EC%BB%A4/AWS%EA%B0%80%20%EC%A0%9C%EA%B3%B5%ED%95%98%EB%8A%94%20%EC%BB%A8%ED%85%8C%EC%9D%B4%EB%84%88%20%EC%84%9C%EB%B9%84%EC%8A%A4.ipynb\" target=\"_parent\"><img src=\"https://colab.research.google.com/assets/colab-badge.svg\" alt=\"Open In Colab\"/></a>"
      ]
    },
    {
      "cell_type": "markdown",
      "source": [
        "### AWS 가 제공하는 컨테이너 서비스\n",
        "\n",
        "- 제어 플레인 (Control plane) : 컨테이너를 관리하는 기능 \n",
        "\n",
        "\n",
        "\n",
        "1. Amazon Elastic Container Service(ECS) \n",
        "      - 컨테이너 오케스트레이션이라는 말은 컨테이너를 관리한다는 의미 \n",
        "      - 제어플레인과 다른 점은 오케스트레이션 서비스이며 컨테이너를 동작시키는 실행 환경 서비스는 아니라는 것 \n",
        "  \n",
        "  \n",
        "  \n",
        "\n",
        "> ECS 용어와 개념\n",
        "\n",
        "\n",
        "   - 태스크(Task) \n",
        "   \n",
        "      1. 컨테이너가 동작하는 컴포넌트를 Task( 작업) \n",
        "\n",
        "      2. 태스크는 하나 이상의 컨테이너로 구성된 애플리케이션의 실행 단위  \n",
        "\n",
        "\n",
        "  - 태스크 정의 (Task Definition)\n",
        "      \n",
        "      1. 태스크를 만드는 탬플릿 정의, JSON 형식으로 작성 \n",
        "\n",
        "      2. 탬플릿 정의 안에 배포할 컨테이너 이밎, 태스크와 컨테이너에 할당할 자원과 IAM 역할, CloudWatch Logs 출력 장소 등을 지정에\n",
        "\n",
        "  - 서비스(Service) \n",
        "\n",
        "   1. 지정한 수 만큼 태스크를 유지하는 스케줄러 ,\n",
        "\n",
        "   2. 서비스를 만들 때는 실행할 태스크의 수에 맞춰 로드 밸런서와 태스크를 실행할 네트워크를 지정함 ,\n",
        "\n",
        "   3. 태스크가 어떤 이유로 종료되는 경우 태스크 정의를 바탕으로 새로운 태스크를 만들어 지정한 태스크 수를 유지함 \n",
        "\n",
        "\n",
        "  - 클러스터: \n",
        "    1. EC2 서비스와 태스크를 실행하는 논리 그룹 \n",
        "\n",
        "  - EC2 전체 개념\n",
        "\n",
        "\n",
        "\n",
        "2. Amazon Elastic Kubernetes(EKS) \n",
        "   \n",
        "   1. 완전 관리형 쿠버네티스 서비스 , ECS와 마찬가지로 컨테이너 오케스트레이터로 사용함 \n",
        "\n",
        "   2. 쿠버네티스 제어 플레인과 쿠버네티스 노드(Worker 노드)로 구성됨\n",
        "   \n",
        "   3. EKS 는 표준 쿠버네티스를 기반으로 만들어졌기 때문에 ECS와는 달리 AWS의 독자적인 용어를 사용하지는 않음 \n",
        "  \n",
        "\n"
      ],
      "metadata": {
        "id": "lhYyu_LvyHnN"
      }
    },
    {
      "cell_type": "markdown",
      "source": [
        "\n",
        "\n",
        "> ### 데이터 플레인 \n",
        "\n",
        " 컨테이너가 실제로 동작하는 지원 환경  \n",
        "\n",
        "#### 1. Amazon Elastic Compute Cloud (EC2) \n",
        "\n",
        " - AWS에서 가상 머신을 사용할수 있는 서비스 \n",
        "\n",
        "#### 2. AWS Fargate \n",
        "\n",
        " - ECS 와 EKS 에서 모두 사용 가능한 컨테이너용 서버리스 컴퓨팅 엔진 \n",
        "\n",
        "\n",
        " - 장점 :\n",
        " \n",
        "      호스트를 관리하지 않아도 됨 .\n",
        "\n",
        "      서버 확장, 패치 적용, 보호, 관리와 같은 운영 오버헤드는 발생 X \n",
        "  실행 환경은 언제나 최신 상태를 유지해줌\n",
        "\n",
        "\n"
      ],
      "metadata": {
        "id": "ZoRtymz80iCK"
      }
    },
    {
      "cell_type": "markdown",
      "source": [
        "\n",
        "\n",
        "> 저장소(Repository)\n",
        "\n",
        "\"소스 코드를 관리하기 위한 장소\"\n",
        "\n",
        "### Amazon Elastic Container Registry(ECR) \n",
        " \n",
        "  - 완전 관리형 컨테이너 저장소 \n",
        "     이미지를 간단하게 저장, 관리 가능 \n",
        "     \n",
        "     일반적인 저장소로는 도커 허브가 있음 \n",
        "\n",
        "     AWS에 시스템을 구축할 때 AWS의 다른 서비스와의 연계나 보안설정 등을 생각해보면 ECR을 사용하는것을 추천 \n",
        "\n"
      ],
      "metadata": {
        "id": "2-5jpAGTIqAt"
      }
    },
    {
      "cell_type": "markdown",
      "source": [],
      "metadata": {
        "id": "MHV_8_EaPH-3"
      }
    },
    {
      "cell_type": "code",
      "execution_count": null,
      "metadata": {
        "id": "bTKxiZecyHNg"
      },
      "outputs": [],
      "source": []
    }
  ]
}