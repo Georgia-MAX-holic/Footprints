{
  "nbformat": 4,
  "nbformat_minor": 0,
  "metadata": {
    "colab": {
      "provenance": [],
      "authorship_tag": "ABX9TyM/Knk8srhQ3+pd2Jy0azd1",
      "include_colab_link": true
    },
    "kernelspec": {
      "name": "python3",
      "display_name": "Python 3"
    },
    "language_info": {
      "name": "python"
    }
  },
  "cells": [
    {
      "cell_type": "markdown",
      "metadata": {
        "id": "view-in-github",
        "colab_type": "text"
      },
      "source": [
        "<a href=\"https://colab.research.google.com/github/Georgia-MAX-holic/theory/blob/main/AWS%26%EB%8F%84%EC%BB%A4/%EC%BB%A8%ED%85%8C%EC%9D%B4%EB%84%88_%EA%B0%9C%EC%9A%94.ipynb\" target=\"_parent\"><img src=\"https://colab.research.google.com/assets/colab-badge.svg\" alt=\"Open In Colab\"/></a>"
      ]
    },
    {
      "cell_type": "markdown",
      "source": [
        "# 컨테이너 기술 \n",
        "\n",
        "### **서버 가상화와 컨테이너** \n",
        "\n",
        "- 컨테이너 : 다른 프로세스와 격리된 상태로 OS에서 소프트웨어를 실행하는 기술 \n",
        "\n",
        "컨테이너에서 실행되는 소프트웨어는 하나의 프로세스로 가동되고 있지만, \"컨테이너 내의 소프트웨어에서 보면 **독립된 OS 환경을 점유하고 있는것** 처럼 보임 \n",
        "\n",
        "- 서버 가상화 : 게스트 OS별로 커널을 점유하는 구조 \n",
        "\n",
        "- 컨테이너 기술은 OS와 커널을 공유하고, 프로세스를 분리하는 구조 "
      ],
      "metadata": {
        "id": "8w6cDtzeu8iH"
      }
    },
    {
      "cell_type": "markdown",
      "source": [
        "### **컨테이너의 장점**\n",
        "\n",
        "1. 환경 의존으로부터의 해방 \n",
        "   - 애플리케이션 의존 관계를 컨테이너 안에 집약 가능\n",
        "\n",
        "      [애플리케이션의 가동에 필요한 런타임과 라이브러리를 하나의 패키지로 묶을 수 있음 ]\n",
        "   \n",
        "   - 컨테이너를 사용한 애플리케이션은 의존 관계가 포함된 패키지가 배포 단위가 됨  \n",
        "              \n",
        "      [배포할 때는 환경별로 어떤 패키지를 사용할때 신경 X , 한번 빌드한 이미지는 런타임상에서 동일한 동작을 하므로 라이브러리와 관련된 환경 의존을 고려하지 않아도 됨 ]\n",
        "\n",
        "\n",
        "2. 환경 구축 테스트에 필요한 시간 감소 \n",
        "\n",
        " 가장 큰 장점중 하나는 재현성과 이동성 \n",
        "\n",
        " - 애플리케이션의 배포나 마이그레이션에 관한 업무가 단순해지며 구축도 간단해짐 \n",
        "    \n",
        "    컨테이너는 애플리케이션을 기동 단위로 패키지화해 취급 , 모든 의존 관계가 컨테이너 안에서 완결되므로 로컬 환경은 물론, 온프레미스나 퍼블릭 클라우드 서비스에서도 동일하게 작동 \n",
        "\n",
        "3. 자원 효율 \n",
        " - 컨테이너에서는 게스트 OS와 하드웨어 에뮬레이트를 하지 않아도 되기 때문에 애플리케이션을 실행하기 위해 필요한 컴퓨팅 자원의 소비가 적음 \n",
        "\n",
        " - 프로세스 단위로 동작하므로 애플리케이션의 기동도 빠름 -> OS단위가 아니기 때문 \n",
        "  "
      ],
      "metadata": {
        "id": "qp7kWh1mv2je"
      }
    },
    {
      "cell_type": "markdown",
      "source": [
        "\n",
        "### **도커란** \n",
        "\n",
        "- 도커 : 애플리케이션을 컨테이너 이미지로 빌드하거나 이미지 취득 및 저장, 컨테이너의 기동 등을 간단하게 수행 가능 \n",
        "\n",
        "- DockerFile : 이미지를 생성하기 위한 텍스트 파일 \n",
        "\n",
        "- 이미지 : 컨테이너를 실행하기 위해 필요한 빌드된 패키지 \n",
        "\n",
        "- 태그 : 이미지에 할당한 라벨, 주로 이미지 버전 관리 용도로 사용됨 \n",
        "\n",
        "- 레지스트리 (Registry) : 이미지를 보관하기 위한 서비스 \n",
        "\n",
        "    도커 레지스트리를 기점으로 다양한 플랫폼에 이미지를 배포하거나 이용자 간 이미지를 공유 가능 \n",
        "\n",
        "- 컨테이너 : 이미지로부터 생성된 실행 주체, 애플리케이션 및 그와 관련된 의존 라이브러리르 포함한 상태로 실행됨 "
      ],
      "metadata": {
        "id": "6B2tA-_v5F3v"
      }
    },
    {
      "cell_type": "markdown",
      "source": [
        "### **이미지 생성(Docekr Image Build)**\n",
        "\n",
        "    $ docker image build \n",
        "\n",
        "dockerfile과 애플리케이션 소스 코드가 현재 디렉터리(Current Directory)에 함께 있을 때 myapp 이라는 이름과 v1이라는 버전 태그를 붙혀 이미지를 만드는 예 \n",
        "\n",
        "    $ docker image build -t myapp:v1 \n",
        "\n",
        "    "
      ],
      "metadata": {
        "id": "tpNDN5Fc63wk"
      }
    },
    {
      "cell_type": "markdown",
      "source": [
        "### **이미지 목록 표시 (Docker image ls)**\n",
        "    $ docker image ls    # 이미지 목록 표시 \n",
        "\n",
        " \n",
        "### 이미지 삭제 \n",
        "    $ docker image rm (이름)\n",
        "\n",
        "\n",
        "### 이미지 태그 추가 \n",
        "    $ docekr image tag myapp:v1 myapp:2021201\n",
        "\n",
        "\n",
        "### 레지스트리에 이미지 업로드 (Docker image push)\n",
        "\n",
        "    $ docker image push myapp:v1 \n",
        "\n",
        "### 레지스트리에서 이미지 취득 (Docker image pull) \n",
        "저장소에 v1 태그를 부여한 myapp 이미지를 가져오는 예 \n",
        "\n",
        "    $ docker image pull myapp:v1 \n",
        "\n",
        "### 컨테이너 실행 (Docker cotainer run) \n",
        "    \n",
        "    $ docker container run -d -p 80:80 myapp:v1\n",
        "\n",
        "  분리보드 에서 80번 포트를 매핑 해 컨테이너를 생하는 예"
      ],
      "metadata": {
        "id": "tCfmHrt47oA3"
      }
    },
    {
      "cell_type": "markdown",
      "source": [
        "### 로그 확인(Docker container logs)\n",
        "    $ docker container logs f0cf3731da0b \n",
        "\n",
        "\n",
        "### 실행 중인 컨테이너에 명령 전달 ( Docker container exec) \n",
        "\n",
        "    $ docker container exec 명령을 이용해서 실행 중인 컨테이너에 명령을 전달 가능 \n",
        "\n",
        "  \"/bin/sh\" 명령을 싱행해 컨테이너의 셸에 접속하는 예 \n",
        "\n",
        "    $ docker container exec -i t f0cf3737da0b /bin/sh \n",
        "\n",
        "\n",
        "\n",
        "### 컨테이너 정지 (Docker container stop) \n",
        "    \n",
        "    $ docker container stop \n",
        "\n",
        "    \n",
        "    $ docker container stop f0cf3731da0bf0cf3731a0b \n",
        "\n",
        "\n",
        "    $ docker container ls --format \"table {{.ID}}\\t{{.Image}}\\t{{.Status}}\""
      ],
      "metadata": {
        "id": "7qQNzuo4Adh5"
      }
    },
    {
      "cell_type": "markdown",
      "source": [
        "\n",
        "\n",
        "---\n",
        "## 오케스트레이터\n",
        "\n",
        "### **컨테이너를 운용할 때의 과제**\n",
        "\n",
        "- 여러 컨테이너 가동하기 위하여 : ***단일 호스트가 아니라 여러 호스트로 이루어진 클러스터 구성을 해야함*** 그리고 클러스터가 구성된 분산 호스트 환경에 있는 컨테이너에 \"***부하 분산, 다운 타임을 최소화 하기 위한 업데이트 방법***\"도 고려해야함 \n"
      ],
      "metadata": {
        "id": "LCoxqPWjtdDD"
      }
    },
    {
      "cell_type": "markdown",
      "source": [
        "### 오케스트레이터가 해결할 수 있는것 \n",
        "\n",
        "- 컨테이너 배치 관리 \n",
        "\n",
        "\n",
        "    클러스터 구성을 전제로 신규 컨테이너를 기동한 경우 컨테이너가 호스트에 균등하게 부하를 주도록 분산 배치하는 것이 바람직\n",
        "\n",
        "- 컨테이너 부하 분산\n",
        "\n",
        "\n",
        "    처리량에 따라 요청을 분산해 가용성과 시스템의 성능을 높일 수 있음\n",
        "\n",
        "- 컨테이너 상태 감시 및 자동 복구\n",
        "\n",
        "\n",
        "    컨테이너의 상태를 감시하고 이상 발생을 탐지해 문제가 발생한 컨테이너의 분리, 자동 복구를 수행하여 컨테이너의 수를 유지하여 서비스를 안정적으로 가동 가능\n",
        "\n",
        "- 컨테이너 배포 \n",
        "\n",
        "    애플리케이션을 가동 중인 상태로 컨테이너를 자동으로 교체 가능 \n",
        "    "
      ],
      "metadata": {
        "id": "P30X7-B9ue2I"
      }
    },
    {
      "cell_type": "markdown",
      "source": [
        "#### 컨테이너 배치 관리 \n",
        "\n",
        "- \n",
        "\n",
        "#### 컨테이너 부하 분산 \n",
        "\n",
        "- 처 \n",
        "\n",
        "\n"
      ],
      "metadata": {
        "id": "0FU8LOwluoBT"
      }
    }
  ]
}