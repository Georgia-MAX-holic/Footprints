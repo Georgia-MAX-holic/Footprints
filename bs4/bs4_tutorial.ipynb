{
  "nbformat": 4,
  "nbformat_minor": 0,
  "metadata": {
    "colab": {
      "provenance": [],
      "authorship_tag": "ABX9TyNUHLegff96y/w1+t1k+Iqq",
      "include_colab_link": true
    },
    "kernelspec": {
      "name": "python3",
      "display_name": "Python 3"
    },
    "language_info": {
      "name": "python"
    }
  },
  "cells": [
    {
      "cell_type": "markdown",
      "metadata": {
        "id": "view-in-github",
        "colab_type": "text"
      },
      "source": [
        "<a href=\"https://colab.research.google.com/github/Georgia-MAX-holic/Footprints/blob/main/bs4/bs4_tutorial.ipynb\" target=\"_parent\"><img src=\"https://colab.research.google.com/assets/colab-badge.svg\" alt=\"Open In Colab\"/></a>"
      ]
    },
    {
      "cell_type": "markdown",
      "source": [
        "#HTML 파싱( Parsing)\n"
      ],
      "metadata": {
        "id": "jWmAVIzAts-p"
      }
    },
    {
      "cell_type": "markdown",
      "source": [
        "## 웹페이지 예제 생성"
      ],
      "metadata": {
        "id": "CsBtoZyFtw5H"
      }
    },
    {
      "cell_type": "code",
      "execution_count": 2,
      "metadata": {
        "colab": {
          "base_uri": "https://localhost:8080/"
        },
        "id": "eGfv2Nj3srVY",
        "outputId": "f54c1724-5011-4f2a-c5ad-db1706bde1c5"
      },
      "outputs": [
        {
          "output_type": "stream",
          "name": "stdout",
          "text": [
            "Overwriting example.html\n"
          ]
        }
      ],
      "source": [
        "%%writefile example.html\n",
        "<!DOCTYPE html>\n",
        "<html>\n",
        "   <head>\n",
        "      <title>Page Title</Title>\n",
        "    </head>\n",
        "    <body>\n",
        "       <h1>Heading 1 </h1>\n",
        "       <p>Paragraph</p>\n",
        "       <div>\n",
        "          <a href=\"www.google.com\">google</a>\n",
        "       </div>\n",
        "       <div class=\"class1\">\n",
        "         <p>a</p>\n",
        "         <a href=\"www.naver.com\">naver</a>\n",
        "         <p>b</p>\n",
        "         <p>c</p>\n",
        "       </div>\n",
        "       <div id=\"id1\">\n",
        "          Example page\n",
        "          <p>g</p>\n",
        "       </div>\n",
        "     </body>\n",
        "\n",
        "\n",
        "</html>\n",
        "\n"
      ]
    },
    {
      "cell_type": "code",
      "source": [
        "from bs4 import BeautifulSoup\n",
        "import urllib.request\n",
        "\n",
        "with open(\"example.html\") as fp:\n",
        "  soup = BeautifulSoup(fp, \"html.parser\")\n",
        "\n",
        "soup"
      ],
      "metadata": {
        "colab": {
          "base_uri": "https://localhost:8080/"
        },
        "id": "fnhZ0QdAvE-p",
        "outputId": "73e38544-4ff2-401d-8a38-bf98596f75be"
      },
      "execution_count": 4,
      "outputs": [
        {
          "output_type": "execute_result",
          "data": {
            "text/plain": [
              "<!DOCTYPE html>\n",
              "\n",
              "<html>\n",
              "<head>\n",
              "<title>Page Title</title>\n",
              "</head>\n",
              "<body>\n",
              "<h1>Heading 1 </h1>\n",
              "<p>Paragraph</p>\n",
              "<div>\n",
              "<a href=\"www.google.com\">google</a>\n",
              "</div>\n",
              "<div class=\"class1\">\n",
              "<p>a</p>\n",
              "<a href=\"www.naver.com\">naver</a>\n",
              "<p>b</p>\n",
              "<p>c</p>\n",
              "</div>\n",
              "<div id=\"id1\">\n",
              "          Example page\n",
              "          <p>g</p>\n",
              "</div>\n",
              "</body>\n",
              "</html>"
            ]
          },
          "metadata": {},
          "execution_count": 4
        }
      ]
    },
    {
      "cell_type": "code",
      "source": [
        "print(soup.prettify())"
      ],
      "metadata": {
        "colab": {
          "base_uri": "https://localhost:8080/"
        },
        "id": "NsZ9gfCAxyie",
        "outputId": "6a101d3d-7a3b-42f7-de25-f84a0edcf99d"
      },
      "execution_count": 5,
      "outputs": [
        {
          "output_type": "stream",
          "name": "stdout",
          "text": [
            "<!DOCTYPE html>\n",
            "<html>\n",
            " <head>\n",
            "  <title>\n",
            "   Page Title\n",
            "  </title>\n",
            " </head>\n",
            " <body>\n",
            "  <h1>\n",
            "   Heading 1\n",
            "  </h1>\n",
            "  <p>\n",
            "   Paragraph\n",
            "  </p>\n",
            "  <div>\n",
            "   <a href=\"www.google.com\">\n",
            "    google\n",
            "   </a>\n",
            "  </div>\n",
            "  <div class=\"class1\">\n",
            "   <p>\n",
            "    a\n",
            "   </p>\n",
            "   <a href=\"www.naver.com\">\n",
            "    naver\n",
            "   </a>\n",
            "   <p>\n",
            "    b\n",
            "   </p>\n",
            "   <p>\n",
            "    c\n",
            "   </p>\n",
            "  </div>\n",
            "  <div id=\"id1\">\n",
            "   Example page\n",
            "   <p>\n",
            "    g\n",
            "   </p>\n",
            "  </div>\n",
            " </body>\n",
            "</html>\n",
            "\n"
          ]
        }
      ]
    },
    {
      "cell_type": "markdown",
      "source": [
        "## HTML 태그 파싱"
      ],
      "metadata": {
        "id": "Hjb5zHNOx6Tn"
      }
    },
    {
      "cell_type": "code",
      "source": [
        "soup.title"
      ],
      "metadata": {
        "colab": {
          "base_uri": "https://localhost:8080/"
        },
        "id": "JMG35Dg9x5Fn",
        "outputId": "56bb0680-50f8-4b31-b52d-4b925a86a8fb"
      },
      "execution_count": 6,
      "outputs": [
        {
          "output_type": "execute_result",
          "data": {
            "text/plain": [
              "<title>Page Title</title>"
            ]
          },
          "metadata": {},
          "execution_count": 6
        }
      ]
    },
    {
      "cell_type": "code",
      "source": [
        "soup.title.name"
      ],
      "metadata": {
        "colab": {
          "base_uri": "https://localhost:8080/",
          "height": 35
        },
        "id": "Yi4hjB8Nx-B2",
        "outputId": "5bfd441c-a0f7-48e5-ed08-28855028b031"
      },
      "execution_count": 7,
      "outputs": [
        {
          "output_type": "execute_result",
          "data": {
            "text/plain": [
              "'title'"
            ],
            "application/vnd.google.colaboratory.intrinsic+json": {
              "type": "string"
            }
          },
          "metadata": {},
          "execution_count": 7
        }
      ]
    },
    {
      "cell_type": "code",
      "source": [
        "soup.title.string"
      ],
      "metadata": {
        "colab": {
          "base_uri": "https://localhost:8080/",
          "height": 35
        },
        "id": "yWhi4V72yFzK",
        "outputId": "415c999d-d27f-4008-8ffd-7c64a8cc6687"
      },
      "execution_count": 8,
      "outputs": [
        {
          "output_type": "execute_result",
          "data": {
            "text/plain": [
              "'Page Title'"
            ],
            "application/vnd.google.colaboratory.intrinsic+json": {
              "type": "string"
            }
          },
          "metadata": {},
          "execution_count": 8
        }
      ]
    },
    {
      "cell_type": "code",
      "source": [
        "soup.title.parent"
      ],
      "metadata": {
        "colab": {
          "base_uri": "https://localhost:8080/"
        },
        "id": "-OpGJzmOyLJN",
        "outputId": "efaf6826-632d-4c84-81c3-e7483d5b36aa"
      },
      "execution_count": 9,
      "outputs": [
        {
          "output_type": "execute_result",
          "data": {
            "text/plain": [
              "<head>\n",
              "<title>Page Title</title>\n",
              "</head>"
            ]
          },
          "metadata": {},
          "execution_count": 9
        }
      ]
    },
    {
      "cell_type": "code",
      "source": [
        "soup.h1"
      ],
      "metadata": {
        "colab": {
          "base_uri": "https://localhost:8080/"
        },
        "id": "iLN3aVhbyOyw",
        "outputId": "95bc62db-a736-4c75-edd8-dfb8c4d654ae"
      },
      "execution_count": 10,
      "outputs": [
        {
          "output_type": "execute_result",
          "data": {
            "text/plain": [
              "<h1>Heading 1 </h1>"
            ]
          },
          "metadata": {},
          "execution_count": 10
        }
      ]
    },
    {
      "cell_type": "code",
      "source": [
        "soup.p"
      ],
      "metadata": {
        "colab": {
          "base_uri": "https://localhost:8080/"
        },
        "id": "nwVwBwwazVe5",
        "outputId": "264a2e7b-1424-47df-e336-3c6ca6f2ce1d"
      },
      "execution_count": 11,
      "outputs": [
        {
          "output_type": "execute_result",
          "data": {
            "text/plain": [
              "<p>Paragraph</p>"
            ]
          },
          "metadata": {},
          "execution_count": 11
        }
      ]
    },
    {
      "cell_type": "code",
      "source": [
        "soup.div"
      ],
      "metadata": {
        "colab": {
          "base_uri": "https://localhost:8080/"
        },
        "id": "dPejh2kjzXWt",
        "outputId": "0f1cb684-eb87-41be-b1e0-44eae138a545"
      },
      "execution_count": 12,
      "outputs": [
        {
          "output_type": "execute_result",
          "data": {
            "text/plain": [
              "<div>\n",
              "<a href=\"www.google.com\">google</a>\n",
              "</div>"
            ]
          },
          "metadata": {},
          "execution_count": 12
        }
      ]
    },
    {
      "cell_type": "code",
      "source": [
        "soup.a"
      ],
      "metadata": {
        "colab": {
          "base_uri": "https://localhost:8080/"
        },
        "id": "RzCmQnY-zapj",
        "outputId": "3a777f08-0da5-43ea-d62d-707bdaaeee3b"
      },
      "execution_count": 13,
      "outputs": [
        {
          "output_type": "execute_result",
          "data": {
            "text/plain": [
              "<a href=\"www.google.com\">google</a>"
            ]
          },
          "metadata": {},
          "execution_count": 13
        }
      ]
    },
    {
      "cell_type": "markdown",
      "source": [
        "## HTML 태그 검색 \n",
        "- find() 해당 조건에 맞는 하나의 태그를 가져옴 \n",
        "- find_all() 해당 조건에 맞는 모든 태그를 가져옴 \n",
        "- select() CSS  선택자와 같은 형식으로 선택 가능 "
      ],
      "metadata": {
        "id": "gKkqyIfH02Ao"
      }
    },
    {
      "cell_type": "code",
      "source": [
        "soup_find = soup.find(\"div\")\n",
        "print(soup_find)"
      ],
      "metadata": {
        "colab": {
          "base_uri": "https://localhost:8080/"
        },
        "id": "pddPkyBn1A7H",
        "outputId": "f2adb4e3-466c-435e-ba91-5fca7238c27a"
      },
      "execution_count": 15,
      "outputs": [
        {
          "output_type": "stream",
          "name": "stdout",
          "text": [
            "<div>\n",
            "<a href=\"www.google.com\">google</a>\n",
            "</div>\n"
          ]
        }
      ]
    },
    {
      "cell_type": "code",
      "source": [
        "soup_find_all = soup.find_all(\"div\")\n",
        "print(soup_find_all)"
      ],
      "metadata": {
        "colab": {
          "base_uri": "https://localhost:8080/"
        },
        "id": "RvGBS4es03bj",
        "outputId": "7a6ddead-55d9-4527-b27c-a1707237eacc"
      },
      "execution_count": 18,
      "outputs": [
        {
          "output_type": "stream",
          "name": "stdout",
          "text": [
            "[<div>\n",
            "<a href=\"www.google.com\">google</a>\n",
            "</div>, <div class=\"class1\">\n",
            "<p>a</p>\n",
            "<a href=\"www.naver.com\">naver</a>\n",
            "<p>b</p>\n",
            "<p>c</p>\n",
            "</div>, <div id=\"id1\">\n",
            "          Example page\n",
            "          <p>g</p>\n",
            "</div>]\n"
          ]
        }
      ]
    },
    {
      "cell_type": "code",
      "source": [
        "find_by_id = soup.find_all(\"div\", {\"id\": \"id1\"})\n",
        "print(find_by_id)"
      ],
      "metadata": {
        "colab": {
          "base_uri": "https://localhost:8080/"
        },
        "id": "bkrU7CWR2g7n",
        "outputId": "75bccdf3-871d-400d-8b81-9c69fe768857"
      },
      "execution_count": 19,
      "outputs": [
        {
          "output_type": "stream",
          "name": "stdout",
          "text": [
            "[<div id=\"id1\">\n",
            "          Example page\n",
            "          <p>g</p>\n",
            "</div>]\n"
          ]
        }
      ]
    },
    {
      "cell_type": "code",
      "source": [
        "find_by_class = soup.find_all(\"div\" , {\"class\": \"class1\"})\n",
        "find_by_class"
      ],
      "metadata": {
        "colab": {
          "base_uri": "https://localhost:8080/"
        },
        "id": "yA9exnT63uii",
        "outputId": "c6067604-28f3-41ab-b3cf-a413ef721bec"
      },
      "execution_count": 21,
      "outputs": [
        {
          "output_type": "execute_result",
          "data": {
            "text/plain": [
              "[<div class=\"class1\">\n",
              " <p>a</p>\n",
              " <a href=\"www.naver.com\">naver</a>\n",
              " <p>b</p>\n",
              " <p>c</p>\n",
              " </div>]"
            ]
          },
          "metadata": {},
          "execution_count": 21
        }
      ]
    },
    {
      "cell_type": "code",
      "source": [
        "soup.find(\"a\").get(\"href\")"
      ],
      "metadata": {
        "colab": {
          "base_uri": "https://localhost:8080/",
          "height": 35
        },
        "id": "jjKUKE6T32a9",
        "outputId": "53689dc8-a52c-4e8d-e506-042c42c780df"
      },
      "execution_count": 22,
      "outputs": [
        {
          "output_type": "execute_result",
          "data": {
            "text/plain": [
              "'www.google.com'"
            ],
            "application/vnd.google.colaboratory.intrinsic+json": {
              "type": "string"
            }
          },
          "metadata": {},
          "execution_count": 22
        }
      ]
    },
    {
      "cell_type": "code",
      "source": [
        "soup.find(\"a\").get_text()"
      ],
      "metadata": {
        "colab": {
          "base_uri": "https://localhost:8080/",
          "height": 35
        },
        "id": "IVAjev0H7M30",
        "outputId": "0df2874d-311c-4f63-a226-83042a98e403"
      },
      "execution_count": 25,
      "outputs": [
        {
          "output_type": "execute_result",
          "data": {
            "text/plain": [
              "'google'"
            ],
            "application/vnd.google.colaboratory.intrinsic+json": {
              "type": "string"
            }
          },
          "metadata": {},
          "execution_count": 25
        }
      ]
    },
    {
      "cell_type": "code",
      "source": [
        "site_names = soup.find_all(\"a\")\n",
        "\n",
        "for name in site_names:\n",
        "  print(name.get_text())"
      ],
      "metadata": {
        "colab": {
          "base_uri": "https://localhost:8080/"
        },
        "id": "UmtT6hJ3798E",
        "outputId": "268eda40-7379-46ac-cf98-f637a6f679c0"
      },
      "execution_count": 30,
      "outputs": [
        {
          "output_type": "stream",
          "name": "stdout",
          "text": [
            "google\n",
            "naver\n"
          ]
        }
      ]
    },
    {
      "cell_type": "code",
      "source": [
        "id1 = soup.select(\"div#id1\")\n",
        "id1"
      ],
      "metadata": {
        "colab": {
          "base_uri": "https://localhost:8080/"
        },
        "id": "L1oMoEwm_Uk3",
        "outputId": "fec5fa65-f913-4c3b-d6fd-de88c3bd8253"
      },
      "execution_count": 31,
      "outputs": [
        {
          "output_type": "execute_result",
          "data": {
            "text/plain": [
              "[<div id=\"id1\">\n",
              "           Example page\n",
              "           <p>g</p>\n",
              " </div>]"
            ]
          },
          "metadata": {},
          "execution_count": 31
        }
      ]
    },
    {
      "cell_type": "code",
      "source": [
        "class1 = soup.select(\"div.class1\")\n",
        "class1"
      ],
      "metadata": {
        "colab": {
          "base_uri": "https://localhost:8080/"
        },
        "id": "EPd1XKIV_qgv",
        "outputId": "1a6dc162-0ba2-4b14-aa22-b21cf1ab66a9"
      },
      "execution_count": 32,
      "outputs": [
        {
          "output_type": "execute_result",
          "data": {
            "text/plain": [
              "[<div class=\"class1\">\n",
              " <p>a</p>\n",
              " <a href=\"www.naver.com\">naver</a>\n",
              " <p>b</p>\n",
              " <p>c</p>\n",
              " </div>]"
            ]
          },
          "metadata": {},
          "execution_count": 32
        }
      ]
    },
    {
      "cell_type": "code",
      "source": [
        "class1_a = soup.select(\"div.class1 a\")\n",
        "class1_a"
      ],
      "metadata": {
        "colab": {
          "base_uri": "https://localhost:8080/"
        },
        "id": "DgR2ETIt_yMV",
        "outputId": "a5abdaf3-27c2-4904-d81e-bb302ec6d24d"
      },
      "execution_count": 34,
      "outputs": [
        {
          "output_type": "execute_result",
          "data": {
            "text/plain": [
              "[<a href=\"www.naver.com\">naver</a>]"
            ]
          },
          "metadata": {},
          "execution_count": 34
        }
      ]
    },
    {
      "cell_type": "code",
      "source": [
        "%%writefile anthem.html\n",
        "<!DOCTYPE html>\n",
        "<html>\n",
        "<head>\n",
        "</head>\n",
        "<body>\n",
        "   <div>\n",
        "      <p id=\"title\">애국가</p>\n",
        "      <p id=\"content\">\n",
        "      동해물과 백두산이 마르고 닳도록 하느님이 보우사하 우리나라 만세.<br />\n",
        "      </p>\n",
        "\n",
        "      <p id=\"title\">애국가</p>\n",
        "      <p id=\"content\">\n",
        "      남산 위에 저 소나무, 철갑을 두른 듯 바라 서리 불변함은 우리 기상일세<br />\n",
        "      </p>      \n",
        "\n",
        "      <p id=\"title\">애국가</p>\n",
        "      <p id=\"content\">\n",
        "      가을 하늘 공활한데 높고 구름 없이 밝은 달은 우리 가슴 일편단심일세<br />\n",
        "      </p> \n",
        "\n",
        "      <p id=\"title\">애국가</p>\n",
        "      <p id=\"content\">\n",
        "      이 기상과 이맘으로 충성을 다하여 괴로우나 즐거우나 나라 보전하세<br />\n",
        "      </p> \n",
        "\n",
        "   </div>\n",
        "</body>\n",
        "</html>"
      ],
      "metadata": {
        "colab": {
          "base_uri": "https://localhost:8080/"
        },
        "id": "g8mjIu_oAFb2",
        "outputId": "0d10a467-6a48-4abe-93a2-fa5b4f17a8c1"
      },
      "execution_count": 36,
      "outputs": [
        {
          "output_type": "stream",
          "name": "stdout",
          "text": [
            "Overwriting anthem.html\n"
          ]
        }
      ]
    },
    {
      "cell_type": "code",
      "source": [
        "from bs4 import BeautifulSoup\n",
        "import urllib.request\n",
        "\n",
        "with open(\"anthem.html\") as fp:\n",
        "  soup = BeautifulSoup(fp , \"html.parser\")\n",
        "\n",
        "soup"
      ],
      "metadata": {
        "colab": {
          "base_uri": "https://localhost:8080/"
        },
        "id": "gAaKG56-A-tS",
        "outputId": "4a02f199-7d10-4b47-9f04-71e75fe01f26"
      },
      "execution_count": 40,
      "outputs": [
        {
          "output_type": "execute_result",
          "data": {
            "text/plain": [
              "<!DOCTYPE html>\n",
              "\n",
              "<html>\n",
              "<head>\n",
              "</head>\n",
              "<body>\n",
              "<div>\n",
              "<p id=\"title\">애국가</p>\n",
              "<p id=\"content\">\n",
              "      동해물과 백두산이 마르고 닳도록 하느님이 보우사하 우리나라 만세.<br/>\n",
              "</p>\n",
              "<p id=\"title\">애국가</p>\n",
              "<p id=\"content\">\n",
              "      남산 위에 저 소나무, 철갑을 두른 듯 바라 서리 불변함은 우리 기상일세<br/>\n",
              "</p>\n",
              "<p id=\"title\">애국가</p>\n",
              "<p id=\"content\">\n",
              "      가을 하늘 공활한데 높고 구름 없이 밝은 달은 우리 가슴 일편단심일세<br/>\n",
              "</p>\n",
              "<p id=\"title\">애국가</p>\n",
              "<p id=\"content\">\n",
              "      이 기상과 이맘으로 충성을 다하여 괴로우나 즐거우나 나라 보전하세<br/>\n",
              "</p>\n",
              "</div>\n",
              "</body>\n",
              "</html>"
            ]
          },
          "metadata": {},
          "execution_count": 40
        }
      ]
    },
    {
      "cell_type": "code",
      "source": [
        "title = soup.find(\"p\", {\"id\": \"title\"})\n",
        "contents = soup.find_all(\"p\",{\"id\":\"content\"})\n",
        "print(title.get_text())\n",
        "\n",
        "for content in contents:\n",
        "  print(content.get_text())"
      ],
      "metadata": {
        "colab": {
          "base_uri": "https://localhost:8080/"
        },
        "id": "wx7j4maNBlPd",
        "outputId": "a6fd6dcf-baa4-42b5-ac1a-53564e3a5c10"
      },
      "execution_count": 46,
      "outputs": [
        {
          "output_type": "stream",
          "name": "stdout",
          "text": [
            "애국가\n",
            "\n",
            "      동해물과 백두산이 마르고 닳도록 하느님이 보우사하 우리나라 만세.\n",
            "\n",
            "\n",
            "      남산 위에 저 소나무, 철갑을 두른 듯 바라 서리 불변함은 우리 기상일세\n",
            "\n",
            "\n",
            "      가을 하늘 공활한데 높고 구름 없이 밝은 달은 우리 가슴 일편단심일세\n",
            "\n",
            "\n",
            "      이 기상과 이맘으로 충성을 다하여 괴로우나 즐거우나 나라 보전하세\n",
            "\n"
          ]
        }
      ]
    },
    {
      "cell_type": "markdown",
      "source": [
        "## 웹페이지에서 가져오기"
      ],
      "metadata": {
        "id": "Pi_VLXCuCjfm"
      }
    },
    {
      "cell_type": "code",
      "source": [
        "url = \"http://suanlab.com/\"\n",
        "\n",
        "html = urllib.request.urlopen(url).read()\n",
        "soup = BeautifulSoup(html ,  \"html.parser\")\n"
      ],
      "metadata": {
        "id": "6eQ6rUDMCe-T"
      },
      "execution_count": 72,
      "outputs": []
    },
    {
      "cell_type": "code",
      "source": [
        "labels = soup.find_all([\"label\"])\n",
        "for label in labels:\n",
        "  print(label.get_text()) "
      ],
      "metadata": {
        "colab": {
          "base_uri": "https://localhost:8080/"
        },
        "id": "HN4sb9_SEehW",
        "outputId": "9422b15b-fed6-46dd-e593-63bd91df0278"
      },
      "execution_count": 73,
      "outputs": [
        {
          "output_type": "stream",
          "name": "stdout",
          "text": [
            "[2022-12-02] KJDB2022 Workshop\n",
            "[2020-01-20] \"바이러스 연구부터 뷰티·배달 AI 결합한 비즈니스...\"\n",
            "[2020-10-07] \"이력서 작성·레시피 제공 다양하게 활용되는 GPT3\"\n",
            "[2020-05-20] \"인공지능의 보안 위협\"\n",
            "[2020-03-04] \"데이터 경제 시대\"\n",
            "[2019-12-25] \"마이데이터 시대의 도래 데이터 주권과 새로운 가치\"\n",
            "[2019-09-04] \"농업으로 들어간 인공지능\"\n",
            "[2019-08-07] \"AI시대 지배할 것인가 지배당하며 살 것인가\"\n"
          ]
        }
      ]
    },
    {
      "cell_type": "code",
      "source": [],
      "metadata": {
        "id": "bMiFurSTG8XN"
      },
      "execution_count": 76,
      "outputs": []
    },
    {
      "cell_type": "markdown",
      "source": [],
      "metadata": {
        "id": "4rb6J-YlDhXM"
      }
    }
  ]
}