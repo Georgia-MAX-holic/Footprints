{
  "nbformat": 4,
  "nbformat_minor": 0,
  "metadata": {
    "colab": {
      "provenance": [],
      "authorship_tag": "ABX9TyN1H/9Pz/SBUQvWvXd3D7Gr",
      "include_colab_link": true
    },
    "kernelspec": {
      "name": "python3",
      "display_name": "Python 3"
    },
    "language_info": {
      "name": "python"
    }
  },
  "cells": [
    {
      "cell_type": "markdown",
      "metadata": {
        "id": "view-in-github",
        "colab_type": "text"
      },
      "source": [
        "<a href=\"https://colab.research.google.com/github/Georgia-MAX-holic/theory/blob/main/%EB%A8%B8%EC%8B%A0%EB%9F%AC%EB%8B%9D/%EC%8A%A4%EC%BC%80%EC%9D%BC%EB%A7%81.ipynb\" target=\"_parent\"><img src=\"https://colab.research.google.com/assets/colab-badge.svg\" alt=\"Open In Colab\"/></a>"
      ]
    },
    {
      "cell_type": "markdown",
      "source": [
        "피처 스케일링 \n",
        "   - 표준화 : 데이터의 피처 각각 평균이 0이고 분산이 1인 가우시안 정규 분포를 가진 값으로 변환 하는 것 \n",
        "\n",
        "   X(i) _ new = Xi-mean(x)   /   stdev(x) \n",
        "  \n",
        "  [20, 30, 40 ] => [ -1.22 , 0 , 1.22 ] \n",
        "\n",
        "  평균 : 30 , 표준편차 : 8.16 \n",
        "  데이터 분포의 중심(0)으로 (Zero-Centered)\n",
        "\n",
        "\n",
        "\n",
        "  - 정규화 : 정규화는 서로 다른 피처의 크기를 통일하기 위해 크기를 변환해주는 개념 \n",
        "\n",
        "  X(i)_new = X(i) - min(x)  /  max(x) - min(x) \n",
        "\n",
        "  [20,30,40]   =>  [ 0 , 0.5 , 1 ] \n",
        "\n",
        "  최소값 : 20   ,  최대값-최소값 : 20   \n",
        "\n",
        "\n",
        "  - Standard Scaler : 평균  0 , 분산 1 인 정규 분포 형태로 변화\n",
        "\n",
        "  - Min Max Scaler  : 데이터값을 0과 1사이 정규분포 형태로 변환  /  음수 값이 있으면 -1 에서 1값으로 변환 "
      ],
      "metadata": {
        "id": "QhszymGo77rH"
      }
    },
    {
      "cell_type": "code",
      "execution_count": null,
      "metadata": {
        "id": "gH-0iB3q75JY"
      },
      "outputs": [],
      "source": []
    }
  ]
}