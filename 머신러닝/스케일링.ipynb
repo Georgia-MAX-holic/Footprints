{
  "nbformat": 4,
  "nbformat_minor": 0,
  "metadata": {
    "colab": {
      "provenance": [],
      "authorship_tag": "ABX9TyPXfog4AT3twGsk0NgDvT2p",
      "include_colab_link": true
    },
    "kernelspec": {
      "name": "python3",
      "display_name": "Python 3"
    },
    "language_info": {
      "name": "python"
    }
  },
  "cells": [
    {
      "cell_type": "markdown",
      "metadata": {
        "id": "view-in-github",
        "colab_type": "text"
      },
      "source": [
        "<a href=\"https://colab.research.google.com/github/Georgia-MAX-holic/theory/blob/main/%EB%A8%B8%EC%8B%A0%EB%9F%AC%EB%8B%9D/%EC%8A%A4%EC%BC%80%EC%9D%BC%EB%A7%81.ipynb\" target=\"_parent\"><img src=\"https://colab.research.google.com/assets/colab-badge.svg\" alt=\"Open In Colab\"/></a>"
      ]
    },
    {
      "cell_type": "markdown",
      "source": [
        "피처 스케일링 \n",
        "   - 표준화 : 데이터의 피처 각각 평균이 0이고 분산이 1인 가우시안 정규 분포를 가진 값으로 변환 하는 것 \n",
        "\n",
        "   X(i) _ new = Xi-mean(x)   /   stdev(x) \n",
        "  \n",
        "  [20, 30, 40 ] => [ -1.22 , 0 , 1.22 ] \n",
        "\n",
        "  평균 : 30 , 표준편차 : 8.16 \n",
        "  데이터 분포의 중심(0)으로 (Zero-Centered)\n",
        "\n",
        "\n",
        "\n",
        "  - 정규화 : 정규화는 서로 다른 피처의 크기를 통일하기 위해 크기를 변환해주는 개념 \n",
        "\n",
        "  X(i)_new = X(i) - min(x)  /  max(x) - min(x) \n",
        "\n",
        "  [20,30,40]   =>  [ 0 , 0.5 , 1 ] \n",
        "\n",
        "  최소값 : 20   ,  최대값-최소값 : 20   \n",
        "\n",
        "\n",
        "  - Standard Scaler : 평균  0 , 분산 1 인 정규 분포 형태로 변화\n",
        "\n",
        "  - Min Max Scaler  : 데이터값을 0과 1사이 정규분포 형태로 변환  /  음수 값이 있으면 -1 에서 1값으로 변환 "
      ],
      "metadata": {
        "id": "QhszymGo77rH"
      }
    },
    {
      "cell_type": "markdown",
      "source": [
        "# **피처 스케일링과 정규화**"
      ],
      "metadata": {
        "id": "XvWkz7HuoUUt"
      }
    },
    {
      "cell_type": "code",
      "execution_count": 3,
      "metadata": {
        "id": "gH-0iB3q75JY",
        "outputId": "a30af2cb-f83d-4f03-e9c9-f613cc851f23",
        "colab": {
          "base_uri": "https://localhost:8080/"
        }
      },
      "outputs": [
        {
          "output_type": "stream",
          "name": "stdout",
          "text": [
            "feature 들의 평균 값\n",
            "sepal length (cm)    5.843333\n",
            "sepal width (cm)     3.057333\n",
            "petal length (cm)    3.758000\n",
            "petal width (cm)     1.199333\n",
            "dtype: float64\n",
            "\n",
            "feature 들의 분산 값\n",
            "sepal length (cm)    0.685694\n",
            "sepal width (cm)     0.189979\n",
            "petal length (cm)    3.116278\n",
            "petal width (cm)     0.581006\n",
            "dtype: float64\n"
          ]
        }
      ],
      "source": [
        "from sklearn.datasets import load_iris \n",
        "import pandas as pd \n",
        "#붓꽃 데이터 셋을 로딩하고 DataFrame으로 변환 \n",
        "\n",
        "iris = load_iris()\n",
        "iris_data = iris.data \n",
        "iris_df = pd.DataFrame(data=iris_data, columns= iris.feature_names)\n",
        "\n",
        "print(\"feature 들의 평균 값\")\n",
        "print(iris_df.mean())\n",
        "print(\"\\nfeature 들의 분산 값\")\n",
        "print(iris_df.var())"
      ]
    },
    {
      "cell_type": "code",
      "source": [
        "from sklearn.preprocessing import StandardScaler\n",
        "\n",
        "# StandardScaler 객체 생성 \n",
        "\n",
        "scaler = StandardScaler()\n",
        "# StandardScaler 로 데이터 셋 변환 .fit() transform() 호출 \n",
        "\n",
        "scaler.fit(iris_df)\n",
        "iris_scaled = scaler.transform(iris_df)\n",
        "\n",
        "#transform()시 scale 변환된 데이터 셋이 numpy ndarry로 반환되어 이를 DataFrame으로 변환\n",
        "iris_df_scaled = pd.DataFrame(data=iris_scaled, columns=iris.feature_names)\n",
        "print(\"feature 들의 평균 값\")\n",
        "print(iris_df_scaled.mean())\n",
        "print(\"\\nfeature 들의 분산 값\")\n",
        "print(iris_df_scaled.var())"
      ],
      "metadata": {
        "id": "PGYV4hzCo7A7",
        "outputId": "a4479c0c-ce92-4d54-b45d-14bd06b1d16c",
        "colab": {
          "base_uri": "https://localhost:8080/"
        }
      },
      "execution_count": 4,
      "outputs": [
        {
          "output_type": "stream",
          "name": "stdout",
          "text": [
            "feature 들의 평균 값\n",
            "sepal length (cm)   -1.690315e-15\n",
            "sepal width (cm)    -1.842970e-15\n",
            "petal length (cm)   -1.698641e-15\n",
            "petal width (cm)    -1.409243e-15\n",
            "dtype: float64\n",
            "\n",
            "feature 들의 분산 값\n",
            "sepal length (cm)    1.006711\n",
            "sepal width (cm)     1.006711\n",
            "petal length (cm)    1.006711\n",
            "petal width (cm)     1.006711\n",
            "dtype: float64\n"
          ]
        }
      ]
    },
    {
      "cell_type": "code",
      "source": [
        "from sklearn.preprocessing import MinMaxScaler\n",
        "\n",
        "#MinMaxScaler 객체 생성 \n",
        "scaler = MinMaxScaler()\n",
        "#MinMaxScaler 로 데이터 셋 변환 .fit() transform() 호출 \n",
        "scaler.fit(iris_df)\n",
        "iris_scaled = scaler.transform(iris_df)\n",
        "\n",
        "# transform() 시 scale 변환된 데이터 셋이 numpy ndarry로 변환되어 이를 DataFrame으로 변환 \n",
        "iris_df_scaled = pd.DataFrame(data=iris_scaled, columns=iris.feature_names)\n",
        "print(\"feature들의 최소 값\")\n",
        "print(iris_df_scaled.min())\n",
        "print(\"\\nfeature들의 최대 값\")\n",
        "print(iris_df_scaled.max())"
      ],
      "metadata": {
        "id": "z12LTQApqARs",
        "outputId": "89dc2453-1e04-4679-9f65-e36c29f89c5b",
        "colab": {
          "base_uri": "https://localhost:8080/"
        }
      },
      "execution_count": 5,
      "outputs": [
        {
          "output_type": "stream",
          "name": "stdout",
          "text": [
            "feature들의 최소 값\n",
            "sepal length (cm)    0.0\n",
            "sepal width (cm)     0.0\n",
            "petal length (cm)    0.0\n",
            "petal width (cm)     0.0\n",
            "dtype: float64\n",
            "\n",
            "feature들의 최대 값\n",
            "sepal length (cm)    1.0\n",
            "sepal width (cm)     1.0\n",
            "petal length (cm)    1.0\n",
            "petal width (cm)     1.0\n",
            "dtype: float64\n"
          ]
        }
      ]
    },
    {
      "cell_type": "markdown",
      "source": [
        "Scaler를 이용하여 학습 데이터와 테스트 데이터에 fit(), transform(), fit_transform() 적용 시 유의사항."
      ],
      "metadata": {
        "id": "veWc4no5q2XB"
      }
    },
    {
      "cell_type": "code",
      "source": [
        "from sklearn.preprocessing import MinMaxScaler\n",
        "import numpy as np\n",
        "\n",
        "# 학습 데이터는 0부터 10 까지, 테스트 데이터는 0부터 5까지 값을 가지는 데이터 세트로 생성\n",
        "# Scaler클래스의 fit() transform()은 2차원 이상 데이터만 가능하므로 reshape(-1, 1)로 차원 변경 \n",
        "train_array = np.arange(0,11).reshape(-1,1)\n",
        "test_array =  np.arange(0, 6).reshape(-1, 1)"
      ],
      "metadata": {
        "id": "BXMl51y8q2ow"
      },
      "execution_count": 6,
      "outputs": []
    },
    {
      "cell_type": "code",
      "source": [
        "# 최소값 0, 최대값 1로 변환하는 MinMaxScaler객체 생성\n",
        "scaler = MinMaxScaler()"
      ],
      "metadata": {
        "id": "SfpJQbg7rK7x"
      },
      "execution_count": 7,
      "outputs": []
    },
    {
      "cell_type": "code",
      "source": [
        "# fit()하게 되면 train_array 데이터의 최소값이 0, 최대값이 10으로 설정.  \n",
        "scaler.fit(train_array)"
      ],
      "metadata": {
        "id": "i5687jhkq019",
        "outputId": "e1428852-9c5f-4710-a65a-ab7c41d91adc",
        "colab": {
          "base_uri": "https://localhost:8080/"
        }
      },
      "execution_count": 8,
      "outputs": [
        {
          "output_type": "execute_result",
          "data": {
            "text/plain": [
              "MinMaxScaler()"
            ]
          },
          "metadata": {},
          "execution_count": 8
        }
      ]
    },
    {
      "cell_type": "code",
      "source": [
        "train_scaled = scaler.transform(train_array)\n",
        "print('원본 train_array 데이터:', np.round(train_array.reshape(-1), 2))\n",
        "print('Scale된 train_array 데이터:', np.round(train_scaled.reshape(-1), 2))"
      ],
      "metadata": {
        "id": "SPBJfmvZrUDb",
        "outputId": "5c6b7b48-d812-4a1d-f4fe-db356062c526",
        "colab": {
          "base_uri": "https://localhost:8080/"
        }
      },
      "execution_count": 9,
      "outputs": [
        {
          "output_type": "stream",
          "name": "stdout",
          "text": [
            "원본 train_array 데이터: [ 0  1  2  3  4  5  6  7  8  9 10]\n",
            "Scale된 train_array 데이터: [0.  0.1 0.2 0.3 0.4 0.5 0.6 0.7 0.8 0.9 1. ]\n"
          ]
        }
      ]
    },
    {
      "cell_type": "code",
      "source": [
        "# 앞에서 생성한 MinMaxScaler에 test_array를 fit()하게 되면 원본 데이터의 최소값이 0, 최대값이 5으로 설정됨 \n",
        "scaler.fit(test_array)\n",
        "# 1/5 scale로 test_array 데이터 변환함. 원본 5->1로 변환.  \n",
        "test_scaled = scaler.transform(test_array)\n",
        "# train_array 변환 출력\n",
        "print('원본 test_array 데이터:', np.round(test_array.reshape(-1), 2))\n",
        "print('Scale된 test_array 데이터:', np.round(test_scaled.reshape(-1), 2))\n",
        "\n"
      ],
      "metadata": {
        "id": "a5_cz7HMrZHj",
        "outputId": "a4e62f53-1985-465b-c31e-15c8d876b168",
        "colab": {
          "base_uri": "https://localhost:8080/"
        }
      },
      "execution_count": 10,
      "outputs": [
        {
          "output_type": "stream",
          "name": "stdout",
          "text": [
            "원본 test_array 데이터: [0 1 2 3 4 5]\n",
            "Scale된 test_array 데이터: [0.  0.2 0.4 0.6 0.8 1. ]\n"
          ]
        }
      ]
    },
    {
      "cell_type": "code",
      "source": [
        "scaler = MinMaxScaler()\n",
        "scaler.fit(train_array)\n",
        "train_scaled = scaler.transform(train_array)\n",
        "print('원본 train_array 데이터:', np.round(train_array.reshape(-1), 2))\n",
        "print('Scale된 train_array 데이터:', np.round(train_scaled.reshape(-1), 2))\n",
        "\n",
        "# test_array에 Scale 변환을 할 때는 반드시 fit()을 호출하지 않고 transform() 만으로 변환해야 함. \n",
        "test_scaled = scaler.transform(test_array)\n",
        "print('\\n원본 test_array 데이터:', np.round(test_array.reshape(-1), 2))\n",
        "print('Scale된 test_array 데이터:', np.round(test_scaled.reshape(-1), 2))"
      ],
      "metadata": {
        "id": "8mffS6ecri5T",
        "outputId": "22253767-7a5e-42b1-aaaa-7453065df119",
        "colab": {
          "base_uri": "https://localhost:8080/"
        }
      },
      "execution_count": 11,
      "outputs": [
        {
          "output_type": "stream",
          "name": "stdout",
          "text": [
            "원본 train_array 데이터: [ 0  1  2  3  4  5  6  7  8  9 10]\n",
            "Scale된 train_array 데이터: [0.  0.1 0.2 0.3 0.4 0.5 0.6 0.7 0.8 0.9 1. ]\n",
            "\n",
            "원본 test_array 데이터: [0 1 2 3 4 5]\n",
            "Scale된 test_array 데이터: [0.  0.1 0.2 0.3 0.4 0.5]\n"
          ]
        }
      ]
    }
  ]
}