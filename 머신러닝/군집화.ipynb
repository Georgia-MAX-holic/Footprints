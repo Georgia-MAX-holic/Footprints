{
  "nbformat": 4,
  "nbformat_minor": 0,
  "metadata": {
    "colab": {
      "provenance": [],
      "authorship_tag": "ABX9TyPvN+WkJzenOtcpnKv7F8ja",
      "include_colab_link": true
    },
    "kernelspec": {
      "name": "python3",
      "display_name": "Python 3"
    },
    "language_info": {
      "name": "python"
    }
  },
  "cells": [
    {
      "cell_type": "markdown",
      "metadata": {
        "id": "view-in-github",
        "colab_type": "text"
      },
      "source": [
        "<a href=\"https://colab.research.google.com/github/Georgia-MAX-holic/footprints/blob/main/%EB%A8%B8%EC%8B%A0%EB%9F%AC%EB%8B%9D/%EA%B5%B0%EC%A7%91%ED%99%94.ipynb\" target=\"_parent\"><img src=\"https://colab.research.google.com/assets/colab-badge.svg\" alt=\"Open In Colab\"/></a>"
      ]
    },
    {
      "cell_type": "markdown",
      "source": [
        "### 군집화\n",
        "\n",
        "- 데이터 포인트들을 별개의 군집으로 그룹화 하는 것을 의미함 \n",
        "- 유사성이 높은 데이터들을 동일한 그룹으로 분류하고 서로 다른 군집들이 상이성을 가지도록 그룹화함 \n",
        "\n",
        "---\n",
        "### 군집화 활용 분야 \n",
        "- 고객, 마켓 , 브랜드, 사회 경제 활동 세분화 (Segmentation) \n",
        "- image 검출, 세분화, 트랙킹 \n",
        "- 이상 검출(Abnomaly detection)\n",
        "\n",
        "어떻게 유사성을 정의할지 \n",
        "\n",
        "---\n",
        "군집화 알고리즘 \n",
        "- K-Means \n",
        "\n",
        "- Mean Shift \n",
        "\n",
        "- Gaussian Mixture Model \n",
        "\n",
        "- DBSCAN \n",
        "\n",
        "---\n",
        "\n",
        "군집 중심정 (Centroid) 기반 클러스터링 \n",
        "\n",
        "1. 2개의 군집 중심점을 설정 \n",
        "\n",
        "2. 각 데이터들은 가장 가까운 중심점에 소속 \n",
        "\n",
        "3. 중심점에 할당된 데이터들의 평균 중심으로 중심점 이동 \n",
        "\n",
        "4. 각 데이터들은 이도된 중심점 기준으로 가장 가까운 중심점에 소속 \n",
        "\n",
        "5. 다시 중심점에 할당된 데이터들의 평균 중심점으로 중심점 이동 \n",
        "\n",
        "6. 중심점을 이동하였지만 데이터들의 중심점 소속 변경이 없으면 군집화 완료 \n",
        "---\n",
        "\n",
        "### K - Means 장점, 단점 \n",
        "\n",
        "- 장점 \n",
        "   - 일반적인 군집화에서 가장 많이 활용되는 알고리즘\n",
        "   - 알고리즘이 쉽고 간결함 \n",
        "   - 대용량 데이터에서도 활용 가능 \n",
        "- 단점\n",
        "   - 거리 기반 알고리즘으로 속성의 개수가 매우 많을 경우 군집화 정확도가 떨어짐( 이를 위해 PCA로 차원 축소를 적용해야 할 수 도 있음 ) \n",
        "\n",
        "   - 반복을 수행하는데, 반복 횟수가 많을 경우 수행 시간이 느려짐\n",
        "\n",
        "   - 이상치(Outlier) 데이터에 취약함\n",
        "\n",
        "---\n",
        "\n",
        "사이킷런 KMeans 클래스 \n",
        "\n",
        "사이킷런 패키지는 K-평균을 구현하기 위해 K-Means 클래스를 제공한다. K-Means 클래스는 다음과 같은 초기화 파라미터를 가짐 \n",
        "\n",
        "    class sklearn.KMeans\n",
        "    (n_clusters=8 ,init=\"k-mean++\",n_init=10 , max_iter =300 ,tol=0.0001, recompute_distances=\"auto\" ,verbose=0, random_state=None ,copy_x = True ,n_jobs= 1 ,algorithm=\"auto\")\n",
        "\n",
        "- 주요 파라미터 \n",
        "   - K-Means 초기화 파라미터 중 가장 중요한 파라미터는 n_clusters , 이는 군집화할 개수, 즉 군집 중심점의 개수를 의미함 . \n",
        "   - init는 초기에 군집 중심점의 좌표를 설정할 방식을 말하며 보통은 임의로 중심을 설정하지 않고 일반적으로 k-means++ 방식으로 최초 설정함 \n",
        "\n",
        "   - max_iter는 최대 반복 횟수이며, 이 횟수 이전에 모든 데이터의 중심점 이동이 없으면 종료 \n",
        "\n",
        "- 주요 속성 \n",
        "   - labels_ : 각 데이터 포인트가 속한 군집 중심점 레이블\n",
        "   - cluster_centers_: 각 군집 중심점 좌표(Shape는 [군집 개수, 피처 개수]), 이를 이용하면 군집 중심점 좌표가 어디인지 시각화 가능 "
      ],
      "metadata": {
        "id": "ZjPCLMTVpFBT"
      }
    },
    {
      "cell_type": "markdown",
      "source": [
        "---\n",
        "### 군집 평가 - 실루엣 분석 \n",
        "\n",
        "- 다른 군집과의 거리는 떨어져 있고 동일 군집끼리의 데이터는 서로 가깝게 \n",
        "\n",
        "- 실루엣 분석은 각 군집 간의 거리가 얼마나 효율적으로 분리되어 있는지를 나타냄 \n",
        "\n",
        "- 실루엣 분석은 개별 데이터가 가지는 군집화 지표인 실루엣 계수(Silhouette coefficient)를 기반으로 함 \n",
        "\n",
        "- 개별 데이터가 가지는 실루엣 계수는 해당 데이터가 같은 군집 내의 데이터와 얼마나 가깝게 군집화되어 있고 , 다른 군집에 있는 데이터와는 얼마나 멀리 분리되어 있는지를 나타내는 지표 \n",
        "---\n",
        "\n",
        "### 실루엣 계수 \n",
        "\n",
        "- a(ij)는 i번째 데이터에서 자신이 속한 클러스터내의 다른 데이터 포인트 까지의 거리 , 즉 a(12)는 1번 데이터부터 2번 데이터 까지의 거리 \n",
        "\n",
        "- ai 는 i번째 데이터에서 자신이 속한 클러스터내의 다른 데이터 포인트들의 거리 평균 , 즉 ai = 평균 ( a12,a13,a14) \n",
        "\n",
        "- bi는 i번재 데이터에서 가장 가까운 타 클러스내의 다른 데이터 포인트들의 거리 평균 , 즉 b(i)= 평균(b15, b16, b17, b18)\n",
        "\n",
        "- 두 군집 간의 거리가 얼마나 떠러져 있는가의 값은 b(i)-a(i)이며 이 값을 정규화 하기 위해 MAX(a(i),b(i)값으로 나눔 \n",
        "\n",
        "- 실루엣 계수는 -1에서 1 사이의 값을 가지며 , 1로 가까워 질수록 근처의 군집과 더 멀리 떨어져 있다는 것, 0에 가까울수록 근처의 군집과 가까워진다는것, -는 아예 다른 군집에 데이터 포인트가 할당되었음을 뜻함 \n",
        "\n",
        "    s(i) = (b(i)-a(i)) / ( max(a(i), b(i))"
      ],
      "metadata": {
        "id": "xZj3FM4ULfK4"
      }
    },
    {
      "cell_type": "markdown",
      "source": [
        "---\n",
        "### 사이킷런 실루엣 분석 API와 좋은 군집 기준 \n",
        "\n",
        "- 사이킷런 실루엣 분석 API\n",
        "   - sklearn.metrics.silhouette_samples(X,labels, metric=\"euclidean\", **kwds): 인자로 X feature 데이터 세트와 각 피처 데이터 세트가 속한 군집 레이블 값인 labels 데이터를 입력해주면 각 데이터 포인트의 실루엣 계수를 계산해 반환해줌 \n",
        "\n",
        "   - sklearn.metrics.silhouette_score(X,labels, metric=\"euclidean\", sample_size=None , **kwds): 인자로 X feature 데이터 세트와 각 데이터 세트가 속한 군집 레이블 값인 labels 데이터를 입력해주면 전체 데이터의 실루엣계수 값을 편균해 반환해줌. 즉 np.mean(silhouette_samples())\n",
        "   일반적으로 이 값이 높을수록 군집화가 어느정도 잘 되었다고 볼 수 있음. 하지만 확정을 불가 \n",
        "\n",
        "- 실루엣 분석에 기반한 좋은 군집 기준 \n",
        "\n",
        "   - 전체 실루엣 계수의 평균값, 즉 사이킷런의 silhouette_score() 값은 0~1사이의 값을 가지며 ,1 에 가까울 수록 좋음\n",
        "\n",
        "   - 하지만 전체 실루엣 계수의 평균값과 더불어 개별 군집의 평균값의 편차가 크지 않아야 함. 즉, 개별 군집의 실루엣 계수 평균값이 전체 실루엣 계수의 평균값에서 크게 벗어나지 않는 것이 중요함. 만약 전체 실루엣 계수의 평균값은 높지만, 특정 군집의 실루엣 계수 평균값만 유난히 높고 다른 군집들의 실루엣 계수 평균값은 낮으면 좋은 군집화 조건이 아님 "
      ],
      "metadata": {
        "id": "__HzMr1OOnXu"
      }
    },
    {
      "cell_type": "markdown",
      "source": [
        "---\n",
        "\n",
        "-  Mean Shift KDE(Kernel Density Esitimation)를 이용하여 데이터 포인트들이 데이터 분포가 높은 곳으로 이동하면서 군집화를 수행 \n",
        "\n",
        "- 별도의 군집화 개수를 지정하지 않으며 Mean Shift는 데이터 분포도에 기반하여 자동으로 군집화 개수를 정함 \n"
      ],
      "metadata": {
        "id": "y2yTqJwFjUbf"
      }
    },
    {
      "cell_type": "markdown",
      "source": [
        "---\n",
        "\n",
        "1. 개별 데이터의 특정 반경 내에 주변 데이터를 포함한 데이터 분포도 계산 \n",
        "\n",
        "2. 데이터 분포도가 높은 방향으로 중심점 이동 \n",
        "\n",
        "3. 중심점을 따라 해당 데이터 이동 \n",
        "\n",
        "4. 이동된 데이터의 특정 반경내에 다시 데이터 분포 계산 후 2,3 스텝을 반복 \n",
        "\n",
        "5. 가장 분포도가 높은 곳으로 이동하면 해당 데이터는 움직이지 않고 수렴 \n",
        "\n",
        "6. 모든 데이터를 1~5까지 수행하면서 군집 중심점을 찾음 \n",
        "\n",
        "- 특정 데이터가 반경내의 데이터 분포 확률 밀도가 가장 높은 곳으로 이동 할 때 주변 데이터들과의 거리값을 Kernel 함수 값으로 입력한 뒤 그 반환값을 현재 위치에서 Update 하면서 이동\n",
        "\n",
        "  "
      ],
      "metadata": {
        "id": "Ic0VU_5Cjji7"
      }
    },
    {
      "cell_type": "code",
      "execution_count": null,
      "metadata": {
        "id": "JwPJR8AspCbd"
      },
      "outputs": [],
      "source": []
    }
  ]
}