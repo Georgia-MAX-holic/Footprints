{
  "nbformat": 4,
  "nbformat_minor": 0,
  "metadata": {
    "colab": {
      "provenance": [],
      "authorship_tag": "ABX9TyObc1QBG1e7DeC32F2bpdfN",
      "include_colab_link": true
    },
    "kernelspec": {
      "name": "python3",
      "display_name": "Python 3"
    },
    "language_info": {
      "name": "python"
    }
  },
  "cells": [
    {
      "cell_type": "markdown",
      "metadata": {
        "id": "view-in-github",
        "colab_type": "text"
      },
      "source": [
        "<a href=\"https://colab.research.google.com/github/Georgia-MAX-holic/theory/blob/main/%EB%A8%B8%EC%8B%A0%EB%9F%AC%EB%8B%9D/GridSearch_CV.ipynb\" target=\"_parent\"><img src=\"https://colab.research.google.com/assets/colab-badge.svg\" alt=\"Open In Colab\"/></a>"
      ]
    },
    {
      "cell_type": "markdown",
      "source": [
        "K 폴드 더 간단하게 \n",
        "\n",
        "  K-Fold 클래스를 이용한 교차 검증 방법 \n",
        "\n",
        "  1. 폴드 세트 설정 \n",
        "\n",
        "  2. For 루프에서 반복적으로 학습/검증 \n",
        "\n",
        "  3. 폴드 세트 별로 예{측을 평균하여 최종 성능 판별 \n",
        "\n",
        "\n",
        "\n",
        "  => Cross_val_score()\n",
        "  함수로 폴드 세트 추출 \n",
        "  학습 / 예측 평가를 한번에 "
      ],
      "metadata": {
        "id": "VVFDyTFBwQ0R"
      }
    },
    {
      "cell_type": "markdown",
      "source": [
        "# **GridSearch - 교차 검증과 최적 하이퍼 파라미터 튜닝 **\n",
        "\n",
        "사이킷런은 GridSearch CV를 이용해 Classifier나 Regressor와 같은 알고리즘에 사용되는 하이퍼 파라미터를 도출할 수 있게 함 \n",
        "\n"
      ],
      "metadata": {
        "id": "0jckENmutOeD"
      }
    },
    {
      "cell_type": "code",
      "execution_count": null,
      "metadata": {
        "id": "g9VfEIDOrnDR"
      },
      "outputs": [],
      "source": [
        "Grid_parameter ={'max_depth':[1,2,3],\n",
        "                 'min_samples_split':[2,3]}"
      ]
    },
    {
      "cell_type": "markdown",
      "source": [
        "CV 세트가 3이라면 \n",
        "\n",
        "파라미터 순화 적용 횟수 6 \n",
        "\n",
        "     X\n",
        "\n",
        "CV 세트 수  3 \n",
        "\n",
        "학습/검증 총 수행 횟수 = 18 "
      ],
      "metadata": {
        "id": "AcKk8z3evzJR"
      }
    },
    {
      "cell_type": "code",
      "source": [],
      "metadata": {
        "id": "c8M2972-tNtu"
      },
      "execution_count": null,
      "outputs": []
    },
    {
      "cell_type": "code",
      "source": [],
      "metadata": {
        "id": "dvP_cFVHtNqi"
      },
      "execution_count": null,
      "outputs": []
    },
    {
      "cell_type": "markdown",
      "source": [],
      "metadata": {
        "id": "EZiByzWJv6bQ"
      }
    }
  ]
}