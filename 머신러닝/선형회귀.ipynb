{
  "nbformat": 4,
  "nbformat_minor": 0,
  "metadata": {
    "colab": {
      "provenance": [],
      "authorship_tag": "ABX9TyPBcO9+fmGC7EIShkryQk9X",
      "include_colab_link": true
    },
    "kernelspec": {
      "name": "python3",
      "display_name": "Python 3"
    },
    "language_info": {
      "name": "python"
    }
  },
  "cells": [
    {
      "cell_type": "markdown",
      "metadata": {
        "id": "view-in-github",
        "colab_type": "text"
      },
      "source": [
        "<a href=\"https://colab.research.google.com/github/Georgia-MAX-holic/theory/blob/main/%EB%A8%B8%EC%8B%A0%EB%9F%AC%EB%8B%9D/%EC%84%A0%ED%98%95%ED%9A%8C%EA%B7%80.ipynb\" target=\"_parent\"><img src=\"https://colab.research.google.com/assets/colab-badge.svg\" alt=\"Open In Colab\"/></a>"
      ]
    },
    {
      "cell_type": "markdown",
      "source": [
        "### 사이킷런 LinearRegression 클래스 \n",
        "\n",
        "    class sklearn.linear_model.LinearRegression(fit_intercept=True , normalize = False , copy_X = True , n_jobs = 1 \n",
        "\n",
        "  - LinearRegression 클래스는 예측값과 실제 값의 RSS(Residual Sum of Squares)를 최소화 하는 OLS(Ordinary Least Squares)추정 방식으로 구현한 클래스 \n",
        "\n",
        "  - LinearRegression 클래스는 fit() 메서드로 X,y 배열을 입력 받으면 회귀 계수 (Coefficients)인 W를 Coef_ 속성에 저장 "
      ],
      "metadata": {
        "id": "4_KmWR1FVKjm"
      }
    },
    {
      "cell_type": "markdown",
      "source": [
        "\n",
        "\n",
        "---\n",
        "\n",
        "\n",
        "### 선형 회귀의 다중 공선성 문제 \n",
        "\n",
        "- 다중 공산성 : 일반적으로 선형 회귀는 입력 피처의 독립성에 많은 영향을 받음 , 피처간의 상관관계가 매우 높은 경우 분산이 매우 커져서 오류에 매우 민감해짐. 이러한 현상을 다중 공산성 문제 라고함 .\n",
        "\n",
        "- 일반적으로 상관관계가 높은 피처가 많은 경우 독립정인 주요한 피처만 남기고 제거하거나 규제를 적용 "
      ],
      "metadata": {
        "id": "MfJ1oqLGVxJL"
      }
    },
    {
      "cell_type": "markdown",
      "source": [
        "\n",
        "\n",
        "---\n",
        "\n",
        "### 회귀 평가 지표 \n",
        "\n",
        "- MAE : Mean Absolute Error(MAE) 이며 실제 값과 예측값의 차이를 절댓값으로 반환해 평균한 것 \n",
        "\n",
        "- MAE : Mean Squared Error(MSE) 이며 실제 값과 예측값의 차이를 제곱해 평균한 것 \n",
        "\n",
        "- MSLE : MSE에 로그를 적용한 것, 결정값이 클 수록 오류값도 커지기 때문에 일부 큰 오류들로 인해 전체 오류값이 커지는것 막아줌 \n",
        "\n",
        "- RMSE : MSE값은 오류의 제곱을 구하므로 실제 오류 평균보다 더 커지는 특성이 있으므로 MSE에 루트를 씌운 것이 RMSE  (Root Mean Squared Error) 임\n",
        "\n",
        "- RMSLE : RMSE에 로그를 적용한 것, 결정값이 클 수록 오류값도 커지기 때문에 일부 큰 오류값이 커지는 것을 막아줌 \n",
        "\n",
        "- R^2 : 분산 기반으로 예측 성능을 평가함. 실제 값의 분산 대비 예측값의 분산 비율을 지표로 하며, 1에 가까울수록 예측 정확도가 높음 "
      ],
      "metadata": {
        "id": "AR-5OAobWeRy"
      }
    },
    {
      "cell_type": "markdown",
      "source": [
        "# MAE 와 RMSE의 비교 \n",
        "- MAE에 비해 RMSE 는 큰 오류값에 상대적인 패널티를 부여함\n",
        "\n",
        "- ex) 5개의 오류값(실제값과 예측값의 차이) 10, 20 ,10 ,10 ,100 과 같이 다른 값에 비해 큰 오류값이 존재하는 경우 RMSE는 전반적으로 MAE보다 높음 \n",
        "\n",
        "- 상대적으로 더 큰 오류값이 있을 떄 이에 대한 패널티를 더 부과하는 평가 방식이 RMSE "
      ],
      "metadata": {
        "id": "Nva6LOwkWczc"
      }
    },
    {
      "cell_type": "code",
      "execution_count": null,
      "metadata": {
        "id": "XdbKrrf5VGdB"
      },
      "outputs": [],
      "source": []
    }
  ]
}