{
  "nbformat": 4,
  "nbformat_minor": 0,
  "metadata": {
    "colab": {
      "provenance": [],
      "authorship_tag": "ABX9TyNAtqc8uGc6Vin+1SAbHRJi",
      "include_colab_link": true
    },
    "kernelspec": {
      "name": "python3",
      "display_name": "Python 3"
    },
    "language_info": {
      "name": "python"
    }
  },
  "cells": [
    {
      "cell_type": "markdown",
      "metadata": {
        "id": "view-in-github",
        "colab_type": "text"
      },
      "source": [
        "<a href=\"https://colab.research.google.com/github/Georgia-MAX-holic/theory/blob/main/%EB%A8%B8%EC%8B%A0%EB%9F%AC%EB%8B%9D/RSS%2C%EA%B2%BD%EC%82%AC%ED%95%98%EA%B0%95.ipynb\" target=\"_parent\"><img src=\"https://colab.research.google.com/assets/colab-badge.svg\" alt=\"Open In Colab\"/></a>"
      ]
    },
    {
      "cell_type": "markdown",
      "source": [
        "### 회귀 개요 \n",
        "- 회귀는 여러 개의 독립변수와 한 개의 종속변수 간의 상관관계를 모델링하는 기법을 통칭함 \n",
        "\n",
        "- 머신러닝 회귀 예측의 핵심은 주어진 피처와 결정 값 데이터 기반에서 학습을 통해 최적의 회귀 계수를 찾아내는 것 \n",
        "\n",
        "- Y는 종속변수 , 즉 아파트 가격 \n",
        "\n",
        "- X1, X2 ,X3 .... 는 방 개수 , 아파트 크기, 주변 학군등의 독립 변수 \n",
        "\n",
        "- W1, W2 , W3 , 는 이 독립변수의 값에 영향을 미치는 회귀 계수 ( Regression Coefficients) "
      ],
      "metadata": {
        "id": "H6Lbt7QWezD6"
      }
    },
    {
      "cell_type": "code",
      "source": [
        "# 방개수 / 아파트 크기 / 주변 학군 / 근처 지하철 역 갯수 \n",
        "\n",
        "Y = W1*X1, W2*X2 , W3*X3 ..... Wn * Xn \n",
        "\n"
      ],
      "metadata": {
        "id": "fEhiZE7Tfi8y"
      },
      "execution_count": null,
      "outputs": []
    },
    {
      "cell_type": "markdown",
      "source": [
        "### 회귀의 유형 \n",
        "\n",
        "- 회귀는 회귀 계수의 선형/비선형 여부, 독립변수의 개수, 종속변수의 개수에 따라 여러 가지 유형으로 나눌 수 있음. \n",
        "\n",
        "- 회귀에서 가장 중요한것은 회귀 계수\n",
        "\n",
        "- 회귀 계수가 선형이냐 아니냐에 따라 선형 회귀와 비선형 회귀로 나뉨, 독립변수의 개수가 한 개인지 여러 개인지에 따라 단일 회귀, 다중 회귀로 나뉨 "
      ],
      "metadata": {
        "id": "AC87Vw75fVlq"
      }
    },
    {
      "cell_type": "markdown",
      "source": [
        "---\n",
        "\n",
        "### 선형 회귀의 종류 \n",
        "\n",
        "- 일반 선형 회귀 : 예측값과 실제 값의 RSS( Residual Sum of Squares)를 최소화 할 수 있도록 회귀 계수를 최적화하며, 규제(Regularization)을 적용하지 않은 모델 \n",
        "\n",
        "- 릿지(Ridge): 릿지 회귀는 선형 회귀에 L2 규제를 추가한 회귀 모델 \n",
        "\n",
        "- 라쏘(Lasso): 라쏘 회귀는 선형 회귀에 L1 규제를 적용한 방식 \n",
        "\n",
        "- 엘라스틱넷(ElasticNet) : L1, L2 규제를 함께 적용한 모델 \n",
        "\n",
        "- 로지스틱 회귀(Logistic Regression) : 사실상 분류 "
      ],
      "metadata": {
        "id": "kGwWRe7XhnEf"
      }
    },
    {
      "cell_type": "markdown",
      "source": [
        "___ \n",
        "\n",
        "### 단순 선형 회귀를 통한 회귀의 이해 \n",
        "\n",
        "- 주택 가격이 주택 의 크기로만 결정 되는 단순 선형 회귀로 가정하면 다음과 같이 주택 가격은 주택 크기에 대해 선형(직선형태)의 관계로 표현 가능 "
      ],
      "metadata": {
        "id": "06itTeJFikz8"
      }
    },
    {
      "cell_type": "markdown",
      "source": [
        "- 최적의 회귀 모델을 만든다는 것은 전체 데이터의 잔차(오류 값)이 최소가 되는 모델을 만든다는 의미\n",
        "\n",
        "- 동시에 오류 값 합이 최소가 될 수 있는 최적의 회귀 계수를 찾는다는 의미도 됨 "
      ],
      "metadata": {
        "id": "pZ7wtmewjERj"
      }
    },
    {
      "cell_type": "markdown",
      "source": [
        "---\n",
        "\n",
        "### RSS 기반 회귀 오류 측정 \n",
        "\n",
        "-RSS : 오류 값의 제곱을 구해서 더하는 방식, 일반적으로 미분 등의 계산을 편리하게 하기 위해서 RSS 방식으로 오류 합을 구함  \n",
        " \n",
        "---\n",
        "\n",
        "### RSS 의 이해 \n",
        "\n",
        "- RSS 는 이제 변수가 W0 W1인 식으로 표현할 수 있으며. 이 RSS를 최소로 하는 W0 W1 즉 회귀 계수를 학습을 통해서 찾는 것이 머신러닝 기반의 회귀의 핵심 사항 \n",
        "\n",
        "- RSS는 **회귀식의 독립변수 X , 종속변수 Y가 중심 변수가 아니라 w 변수(회귀 계수)가 중심 변수임을 인지하는것이 중요**\n",
        "(학습 데이터로 입력되는 독립변수와 종속변수는 RSS에서 모두 상수로 간주)\n",
        "\n",
        "- 일반적으로 RSS는 학습 데이터의 건수로 나누어서 다음과 같이 정규화된 식으로 표현됨 "
      ],
      "metadata": {
        "id": "2syrpNEIn4Yz"
      }
    },
    {
      "cell_type": "markdown",
      "source": [
        "\n",
        "\n",
        "---\n",
        "\n",
        "### RSS - 회귀의 비용 함수 \n",
        "\n",
        "- 회귀에서 이 RSS는 비용(Cost)이며 w변수(회귀 계수)로 구성되는 RSS를 **[비용 함수]** 라고 함 , 머신 러닝 회귀 알고리즘은 데이터를 계속 학습하면서 이 비용 함수가 반환하는 값(즉, 오류 값)을 지속해서 감소시키고 최종적으로는 더 이상 감소시키지 않는 최소의 오류 값을 구하는 것,\n",
        "\n",
        "- 손실함수 Loss Function 이라고도 함 \n"
      ],
      "metadata": {
        "id": "KqZMDZ8qrmHZ"
      }
    },
    {
      "cell_type": "markdown",
      "source": [
        "---\n",
        "\n",
        "### 비용 최소화 하기 - 경사 하강법(Gradient Descent) \n",
        "\n",
        "- W 파라미터가 많으면 고차원 방저식을 동원하더라도 해결하기 어려움 . \n",
        "- 경사 하강법은 고차원 방정식에 대한 문제를 해결해 주면서 비용 함수 RSS를 최소화 하는 방법을 직관적으로 제공하는 방식 \n",
        "\n",
        "\n",
        "> 많은 파라미터가 있는 경우에 경사 하강법은 보다 간단하고 직관적인 비용함수 최소화 솔루션을 제공 \n",
        "\n",
        "- \"점진적으로\" 반복적인 계산을 통해 파라미터 값을 업데이트하면서 오류값이 최소가 되는 W파라미터 값을 구하는 방식 \n",
        "\n",
        "\n"
      ],
      "metadata": {
        "id": "Mw04TJyYsIpb"
      }
    },
    {
      "cell_type": "markdown",
      "source": [
        "- 경사 하강법은 반복적으로 비용 함수의 반환, 즉 예측값과 실제 값의 차이가 작아지는 **[방향성]**을 가지고 W 파라미터를 지속해서 보정해 나감 \n",
        "\n",
        "- 최초 오류값이 100이었다면 두 번째 오류값은 100보다 작은 90, 세 번재 80과 같은 방식으로 지속적으로 오류를 감소시키는 방향으로 W 값을 계속 업데이트해 나감 \n",
        "\n",
        "- 그리고 오류 값이 더 이상 작아지지 않으면 그 오류 값을 최소 비용으로 판단하고 그때의 W 값을 최적 파라미터로 반환함 \n"
      ],
      "metadata": {
        "id": "wKTB4jTLslmy"
      }
    },
    {
      "cell_type": "markdown",
      "source": [
        "\n",
        "\n",
        "---\n",
        "\n",
        "### 미분을 통해 비용함수의 최소값을 찾기 \n",
        "\n",
        "> 어떻게 하면 오류가 작아지는 방향으로 W 값을 보정 할수 있을지 \n",
        "\n",
        "\n",
        "- 비용 함수가 포물선 형태의 2차 함수로 가정 \n",
        "\n",
        "- 최초 w에서 미분을 적용한 뒤 이 미분 값이 계속 감소하는 방향으로 순차적으로 w를 업데이트 \n",
        "\n",
        "- 1차 함수의 기울기가 감소하지 않는 지점을 비용함수가 최소인 지점으로 간주하고 그때의 w를 반환함 \n",
        "\n",
        "\n"
      ],
      "metadata": {
        "id": "pFZdB1CGtC2_"
      }
    },
    {
      "cell_type": "code",
      "source": [],
      "metadata": {
        "id": "hxFYzp1PruuJ"
      },
      "execution_count": null,
      "outputs": []
    },
    {
      "cell_type": "code",
      "execution_count": null,
      "metadata": {
        "id": "QTSArkJzcAR9"
      },
      "outputs": [],
      "source": [
        "  "
      ]
    }
  ]
}