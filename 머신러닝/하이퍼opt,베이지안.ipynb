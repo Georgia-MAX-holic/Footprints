{
  "nbformat": 4,
  "nbformat_minor": 0,
  "metadata": {
    "colab": {
      "provenance": [],
      "authorship_tag": "ABX9TyPhNe9Z/sRehtdLrfM/GFiZ",
      "include_colab_link": true
    },
    "kernelspec": {
      "name": "python3",
      "display_name": "Python 3"
    },
    "language_info": {
      "name": "python"
    }
  },
  "cells": [
    {
      "cell_type": "markdown",
      "metadata": {
        "id": "view-in-github",
        "colab_type": "text"
      },
      "source": [
        "<a href=\"https://colab.research.google.com/github/Georgia-MAX-holic/theory/blob/main/%EB%A8%B8%EC%8B%A0%EB%9F%AC%EB%8B%9D/%ED%95%98%EC%9D%B4%ED%8D%BCopt%2C%EB%B2%A0%EC%9D%B4%EC%A7%80%EC%95%88.ipynb\" target=\"_parent\"><img src=\"https://colab.research.google.com/assets/colab-badge.svg\" alt=\"Open In Colab\"/></a>"
      ]
    },
    {
      "cell_type": "markdown",
      "source": [
        "### 하이퍼 파라미터 튜닝 수행 방법\n",
        "\n",
        "- Grid Search \n",
        "\n",
        "- Random Search\n",
        "\n",
        "- Bayesian Optimization\n",
        "\n",
        "- 수동 튜닝 \n",
        "\n",
        "\n",
        "\n",
        "\n",
        "---\n",
        "\n",
        "### 하이퍼 파라미터 튜닝의 주요 이슈 \n",
        "\n",
        "- Gradient Boosting 기반 알고리즘은 튜닝 해야 할 하이퍼 파라미터 개수가 많고 범위가 넓어서 가능한 개별 경우의 수가 너무 많음 \n",
        "\n",
        "- 이러한 경우의 수가 많을 경우 데이터가 크면 하이퍼 파라미터 튜닝에 굉장히 오랜 시간이 튜입되어야 함 \n",
        "\n",
        "\n",
        "\n",
        "\n",
        "GridSearchCV(classifier,params,cv=3)\n",
        "\n",
        "RandomizedSearch(Classifier, params, cv=3 , n_iter=10)\n",
        "\n",
        "    params = {\n",
        "      'max_depth'= [10 , 20 , 30 , 40 ,50 ],\n",
        "      'num_leaves'= [35, 45, 55, 65 ],\n",
        "      'colsample_bytree'=[0.5, 0.6 , 0.7 , 0.8 , 0.9 , 1.0],\n",
        "      'subsample' = [0.5, 0.6 , 0.7, 0.8 , 0.9 , 1.0],\n",
        "      'max_bin' = [100, 200, 300, 400],\n",
        "      'min_child_weight'= [10, 20, 30 ,40]\n",
        "      }\n",
        "\n",
        "- GridSearchCV 는 수행 시간이 너무 오래 걸림, 개별 하이퍼 파라미터들을 Grid 형태로 지덩하는 것은 한계가 존재 }(데이터 세트가 작을때 유리 \n",
        "\n",
        "- RandomizedSearch는 수행 시간은 줄여 주지만, Random한 선택으로최적 하이퍼 파라미터 검출에 태생적 제약(데이터 세트가 클 때 유리) \n",
        "\n",
        "- 두가지 방법 모두 Iteration 중에 어느정도 최적화된 하이퍼 파라미터들을 활용하면서 최적화를 수행할 수 없음 \n",
        "\n",
        "\n"
      ],
      "metadata": {
        "id": "sBJjOVMEO8kO"
      }
    },
    {
      "cell_type": "markdown",
      "source": [
        "\n",
        "\n",
        "---\n",
        "# Bayesian 최적화가 필요한 순간 \n",
        "\n",
        "- 가능한 최소의 시도로 최적의 답을 찾아야 할 경우 \n",
        "\n",
        "- 개별  시도가 너무 많은 시간/자원이 필요할 때 \n"
      ],
      "metadata": {
        "id": "LP1d_t95QpFl"
      }
    },
    {
      "cell_type": "markdown",
      "source": [
        "\n",
        "\n",
        "---\n",
        "### 베이지안 최적화 개요 \n",
        "\n",
        "- 베이지안 최적화는 미지의 함수가 반환하는 값의 최소 또는 최대값을 만드는 최적해를 짧은 반복을 통해 찾아내는 최적화 방식 \n",
        "\n",
        "- 베이지안 최적화는 새로운 데이터를 입력 받았을 대 최적 함수를 예측하는 사후 모델을 개선해 나가면서 최적 함수를 도출 \n",
        "\n",
        "- 대체 모델(Surrogate Model)과 획득 함수로 구성되며, 대체 모델은 획득 함수로 부터 최적 입력값을 추천 받은 뒤 이를 기반으로 최적 함수 모델을 개선 \n",
        "\n",
        "- 획득 함수는 개선된 대체 모델을 기반으로 다시 최적 입력 값을 계산 \n",
        "\n",
        "\n",
        "\n",
        "\n"
      ],
      "metadata": {
        "id": "4KsMPhzbQ92_"
      }
    },
    {
      "cell_type": "markdown",
      "source": [
        "\n",
        "\n",
        "---\n",
        "\n",
        "### 베이지안 최적화 수행 단계 \n",
        "\n",
        "- Step 1 : 최초에는 랜덤하게 하이퍼 파라미터들을 샘플링 하여 성능 결과를 관측 \n",
        "\n",
        "- Setp 2 : 관측된 값을 기반으로 대체 모델은 최적 함수를 예측 추정 \n",
        "\n",
        "- Step 3 : 획득 함수에서 다음으로 관측할 하이퍼 파라미터 추출 \n",
        "\n",
        "- Step 4 : 해당 하이퍼 파라미터로 관측된 값을 기반으로 대체 모델은 다시 최적 함수 예측 추정 "
      ],
      "metadata": {
        "id": "nTEQq0ghSzkA"
      }
    },
    {
      "cell_type": "markdown",
      "source": [
        "\n",
        "\n",
        "---\n",
        "### 베이지안 최적화 구현 요소 \n",
        "\n",
        "1. 입력 값 범위 \n",
        "\n",
        "Search_space = {\"x\": (-10, 10), 'y':(-15, 15)}\n",
        "\n",
        "2. 함수 \n",
        "\n",
        "def black_box_fuction(x,y):\n",
        "  return -x **2-20*y\n"
      ],
      "metadata": {
        "id": "jX2M29TbTlj6"
      }
    },
    {
      "cell_type": "markdown",
      "source": [
        "\n",
        "\n",
        "---\n",
        "\n",
        "### 베이지안 최적화를 구현한 주요 패키지 \n",
        "\n",
        "- HyperOpt \n",
        "\n",
        "- Bayesian optimization\n",
        "\n",
        "- Optuna "
      ],
      "metadata": {
        "id": "g3GqTCGkUHZ9"
      }
    },
    {
      "cell_type": "markdown",
      "source": [
        "\n",
        "\n",
        "---\n",
        "### HyperOpt 주요 구성 요소 \n",
        "\n",
        "- search space\n",
        "  - 여러개의 변수들과 이들 값의 범위를 지정 \n",
        "\n",
        "  - hp.quniform(label, low, high, q) : label로 지정된 입력 값 변수 검색 공간을 최소값 low에서 최대값 high까지 q의 간격을 가지고 설정 \n",
        "\n",
        "  - hp.uniform(label, low ,high): 최소값 low에서 최대값 high 까지 정규 분포 형태의 검색 공간 설정 \n",
        "\n",
        "  - hp.randint(label,upper): 0부터 최대값 upper까지 random한 정수 값으로 검색 공간 설정 \n",
        "\n",
        "  - hp.loguniform(label, low, hight):exp(uniform(low,high)값을 반환하며, 반환 값의 log 변환 된 정규 분포 형태를 가지는 검색 공간 설정 \n",
        "\n",
        "- 목적 함수 : Search space를 입력 받아 로직에 따라 loss값을 계산하고 이를 반환하는 함수 \n",
        "반드시 dictionary형태의 값을 반환하고 여기에 \"loss\":loss값이 기재되어야 함 \n",
        "\n",
        "- 목적 함수의 최소값을 찾는 함수 \n",
        "  - 목적 함수를 실행하여 최소 반환값(loss)를 최적으로 찾아 내는 함수 \n",
        "\n",
        "  - bayesian 최적화 기법으로 입력 변수들의 search space상에서 정해진 횟수만큼 입력 변수들을 입력하여 목적 함수의 반환값(loss)을 최적으로 찾아냄 \n",
        "\n",
        "  - hyperopt는 이를 위해 fmin() 함수를 제공.\n",
        "\n",
        "  - fmin() 함수의 인자로 목적함수, search space, 베이지안 최적화 기법 유형, 최적화 시도 횟수, 최적화 로그 기록 객체를 인자로 넣어줌 , best = fmin(objective, space=hp.uniform(\"x\",hp.uniform(\"x\",-10,10), algo=tpe.suggest, max_evals=100, trials)\n",
        "\n"
      ],
      "metadata": {
        "id": "C-leMrs_WSTX"
      }
    },
    {
      "cell_type": "code",
      "execution_count": null,
      "metadata": {
        "id": "8zousdOLOq-1"
      },
      "outputs": [],
      "source": []
    }
  ]
}