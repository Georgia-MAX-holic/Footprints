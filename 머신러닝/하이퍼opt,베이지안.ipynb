{
  "nbformat": 4,
  "nbformat_minor": 0,
  "metadata": {
    "colab": {
      "provenance": [],
      "authorship_tag": "ABX9TyMviB931SSrUg0tLS/XhNPH",
      "include_colab_link": true
    },
    "kernelspec": {
      "name": "python3",
      "display_name": "Python 3"
    },
    "language_info": {
      "name": "python"
    }
  },
  "cells": [
    {
      "cell_type": "markdown",
      "metadata": {
        "id": "view-in-github",
        "colab_type": "text"
      },
      "source": [
        "<a href=\"https://colab.research.google.com/github/Georgia-MAX-holic/theory/blob/main/%EB%A8%B8%EC%8B%A0%EB%9F%AC%EB%8B%9D/%ED%95%98%EC%9D%B4%ED%8D%BCopt%2C%EB%B2%A0%EC%9D%B4%EC%A7%80%EC%95%88.ipynb\" target=\"_parent\"><img src=\"https://colab.research.google.com/assets/colab-badge.svg\" alt=\"Open In Colab\"/></a>"
      ]
    },
    {
      "cell_type": "markdown",
      "source": [
        "### 하이퍼 파라미터 튜닝 수행 방법\n",
        "\n",
        "- Grid Search \n",
        "\n",
        "- Random Search\n",
        "\n",
        "- Bayesian Optimization\n",
        "\n",
        "- 수동 튜닝 \n",
        "\n",
        "\n",
        "\n",
        "\n",
        "---\n",
        "\n",
        "### 하이퍼 파라미터 튜닝의 주요 이슈 \n",
        "\n",
        "- Gradient Boosting 기반 알고리즘은 튜닝 해야 할 하이퍼 파라미터 개수가 많고 범위가 넓어서 가능한 개별 경우의 수가 너무 많음 \n",
        "\n",
        "- 이러한 경우의 수가 많을 경우 데이터가 크면 하이퍼 파라미터 튜닝에 굉장히 오랜 시간이 튜입되어야 함 \n",
        "\n",
        "\n",
        "\n",
        "\n",
        "GridSearchCV(classifier,params,cv=3)\n",
        "\n",
        "RandomizedSearch(Classifier, params, cv=3 , n_iter=10)\n",
        "\n",
        "    params = {\n",
        "      'max_depth'= [10 , 20 , 30 , 40 ,50 ],\n",
        "      'num_leaves'= [35, 45, 55, 65 ],\n",
        "      'colsample_bytree'=[0.5, 0.6 , 0.7 , 0.8 , 0.9 , 1.0],\n",
        "      'subsample' = [0.5, 0.6 , 0.7, 0.8 , 0.9 , 1.0],\n",
        "      'max_bin' = [100, 200, 300, 400],\n",
        "      'min_child_weight'= [10, 20, 30 ,40]\n",
        "      }\n",
        "\n",
        "- GridSearchCV 는 수행 시간이 너무 오래 걸림, 개별 하이퍼 파라미터들을 Grid 형태로 지덩하는 것은 한계가 존재 }(데이터 세트가 작을때 유리 \n",
        "\n",
        "- RandomizedSearch는 수행 시간은 줄여 주지만, Random한 선택으로최적 하이퍼 파라미터 검출에 태생적 제약(데이터 세트가 클 때 유리) \n",
        "\n",
        "- 두가지 방법 모두 Iteration 중에 어느정도 최적화된 하이퍼 파라미터들을 활용하면서 최적화를 수행할 수 없음 \n",
        "\n",
        "\n"
      ],
      "metadata": {
        "id": "sBJjOVMEO8kO"
      }
    },
    {
      "cell_type": "markdown",
      "source": [
        "\n",
        "\n",
        "---\n",
        "# Bayesian 최적화가 필요한 순간 \n",
        "\n",
        "- 가능한 최소의 시도로 최적의 답을 찾아야 할 경우 \n",
        "\n",
        "- 개별  시도가 너무 많은 시간/자원이 필요할 때 \n"
      ],
      "metadata": {
        "id": "LP1d_t95QpFl"
      }
    },
    {
      "cell_type": "markdown",
      "source": [
        "\n",
        "\n",
        "---\n",
        "### 베이지안 최적화 개요 \n",
        "\n",
        "- 베이지안 최적화는 미지의 함수가 반환하는 값의 최소 또는 최대값을 만드는 최적해를 짧은 반복을 통해 찾아내는 최적화 방식 \n",
        "\n",
        "- 베이지안 최적화는 새로운 데이터를 입력 받았을 대 최적 함수를 예측하는 사후 모델을 개선해 나가면서 최적 함수를 도출 \n",
        "\n",
        "- 대체 모델(Surrogate Model)과 획득 함수로 구성되며, 대체 모델은 획득 함수로 부터 최적 입력값을 추천 받은 뒤 이를 기반으로 최적 함수 모델을 개선 \n",
        "\n",
        "- 획득 함수는 개선된 대체 모델을 기반으로 다시 최적 입력 값을 계산 \n",
        "\n",
        "\n",
        "\n",
        "\n"
      ],
      "metadata": {
        "id": "4KsMPhzbQ92_"
      }
    },
    {
      "cell_type": "markdown",
      "source": [
        "\n",
        "\n",
        "---\n",
        "\n",
        "### 베이지안 최적화 수행 단계 \n",
        "\n",
        "- Step 1 : 최초에는 랜덤하게 하이퍼 파라미터들을 샘플링 하여 성능 결과를 관측 \n",
        "\n",
        "- Setp 2 : 관측된 값을 기반으로 대체 모델은 최적 함수를 예측 추정 \n",
        "\n",
        "- Step 3 : 획득 함수에서 다음으로 관측할 하이퍼 파라미터 추출 \n",
        "\n",
        "- Step 4 : 해당 하이퍼 파라미터로 관측된 값을 기반으로 대체 모델은 다시 최적 함수 예측 추정 "
      ],
      "metadata": {
        "id": "nTEQq0ghSzkA"
      }
    },
    {
      "cell_type": "markdown",
      "source": [
        "\n",
        "\n",
        "---\n",
        "### 베이지안 최적화 구현 요소 \n",
        "\n",
        "1. 입력 값 범위 \n",
        "\n",
        "Search_space = {\"x\": (-10, 10), 'y':(-15, 15)}\n",
        "\n",
        "2. 함수 \n",
        "\n",
        "def black_box_fuction(x,y):\n",
        "  return -x **2-20*y\n"
      ],
      "metadata": {
        "id": "jX2M29TbTlj6"
      }
    },
    {
      "cell_type": "markdown",
      "source": [
        "\n",
        "\n",
        "---\n",
        "\n",
        "### 베이지안 최적화를 구현한 주요 패키지 \n",
        "\n",
        "- HyperOpt \n",
        "\n",
        "- Bayesian optimization\n",
        "\n",
        "- Optuna "
      ],
      "metadata": {
        "id": "g3GqTCGkUHZ9"
      }
    },
    {
      "cell_type": "markdown",
      "source": [
        "\n",
        "\n",
        "---\n",
        "### HyperOpt 주요 구성 요소 \n",
        "\n",
        "- search space\n",
        "  - 여러개의 변수들과 이들 값의 범위를 지정 \n",
        "\n",
        "  - hp.quniform(label, low, high, q) : label로 지정된 입력 값 변수 검색 공간을 최소값 low에서 최대값 high까지 q의 간격을 가지고 설정 \n",
        "\n",
        "  - hp.uniform(label, low ,high): 최소값 low에서 최대값 high 까지 정규 분포 형태의 검색 공간 설정 \n",
        "\n",
        "  - hp.randint(label,upper): 0부터 최대값 upper까지 random한 정수 값으로 검색 공간 설정 \n",
        "\n",
        "  - hp.loguniform(label, low, hight):exp(uniform(low,high)값을 반환하며, 반환 값의 log 변환 된 정규 분포 형태를 가지는 검색 공간 설정 \n",
        "\n",
        "- 목적 함수 : Search space를 입력 받아 로직에 따라 loss값을 계산하고 이를 반환하는 함수 \n",
        "반드시 dictionary형태의 값을 반환하고 여기에 \"loss\":loss값이 기재되어야 함 \n",
        "\n",
        "- 목적 함수의 최소값을 찾는 함수 \n",
        "  - 목적 함수를 실행하여 최소 반환값(loss)를 최적으로 찾아 내는 함수 \n",
        "\n",
        "  - bayesian 최적화 기법으로 입력 변수들의 search space상에서 정해진 횟수만큼 입력 변수들을 입력하여 목적 함수의 반환값(loss)을 최적으로 찾아냄 \n",
        "\n",
        "  - hyperopt는 이를 위해 fmin() 함수를 제공.\n",
        "\n",
        "  - fmin() 함수의 인자로 목적함수, search space, 베이지안 최적화 기법 유형, 최적화 시도 횟수, 최적화 로그 기록 객체를 인자로 넣어줌 , best = fmin(objective, space=hp.uniform(\"x\",hp.uniform(\"x\",-10,10), algo=tpe.suggest, max_evals=100, trials)\n",
        "\n"
      ],
      "metadata": {
        "id": "C-leMrs_WSTX"
      }
    },
    {
      "cell_type": "code",
      "execution_count": 18,
      "metadata": {
        "id": "8zousdOLOq-1",
        "outputId": "ceb38649-8580-426b-ac21-679a03a47bde",
        "colab": {
          "base_uri": "https://localhost:8080/"
        }
      },
      "outputs": [
        {
          "output_type": "stream",
          "name": "stdout",
          "text": [
            "Looking in indexes: https://pypi.org/simple, https://us-python.pkg.dev/colab-wheels/public/simple/\n",
            "Requirement already satisfied: hyperopt in /usr/local/lib/python3.8/dist-packages (0.1.2)\n",
            "Requirement already satisfied: scipy in /usr/local/lib/python3.8/dist-packages (from hyperopt) (1.7.3)\n",
            "Requirement already satisfied: future in /usr/local/lib/python3.8/dist-packages (from hyperopt) (0.16.0)\n",
            "Requirement already satisfied: networkx in /usr/local/lib/python3.8/dist-packages (from hyperopt) (2.8.8)\n",
            "Requirement already satisfied: tqdm in /usr/local/lib/python3.8/dist-packages (from hyperopt) (4.64.1)\n",
            "Requirement already satisfied: six in /usr/local/lib/python3.8/dist-packages (from hyperopt) (1.15.0)\n",
            "Requirement already satisfied: pymongo in /usr/local/lib/python3.8/dist-packages (from hyperopt) (4.3.3)\n",
            "Requirement already satisfied: numpy in /usr/local/lib/python3.8/dist-packages (from hyperopt) (1.21.6)\n",
            "Requirement already satisfied: dnspython<3.0.0,>=1.16.0 in /usr/local/lib/python3.8/dist-packages (from pymongo->hyperopt) (2.2.1)\n"
          ]
        }
      ],
      "source": [
        "!pip install hyperopt"
      ]
    },
    {
      "cell_type": "code",
      "source": [
        "## hp 모듈을 사용하여 입력 변수명 및 검색 공간 설정\n",
        "from hyperopt import hp\n",
        "\n",
        "search_space = {'x':hp.quniform('x', -10, 10, 1), ## dictionary 형태\n",
        "                'y':hp.quniform('y', -15, 15, 1)}"
      ],
      "metadata": {
        "id": "n7k4cIq8xl18"
      },
      "execution_count": 19,
      "outputs": []
    },
    {
      "cell_type": "code",
      "source": [
        "from hyperopt import STATUS_OK\n",
        "\n",
        "## 목적 함수 생성\n",
        "## 변수, 검색 공간을 입력으로 받고, 특정 값을 반환하는 구조\n",
        "def objective_func(search_space):\n",
        "  \n",
        "  x = search_space['x']\n",
        "  y = search_space['y']\n",
        "  retval = x ** 2 - 20 * y\n",
        "\n",
        "  return retval"
      ],
      "metadata": {
        "id": "qUAcP452xnCU"
      },
      "execution_count": 20,
      "outputs": []
    },
    {
      "cell_type": "markdown",
      "source": [
        "- 목적 함수의 반환 값이 최소가 될 수 있는 최적의 입력 값을 베이지안 최적화 기법에 기반하여 찾아야 함 \n",
        "\n",
        "- HyperOpt는 이러한 이러한 기능을 fmin() 함수를 통해 제공함 "
      ],
      "metadata": {
        "id": "axVYbE8d1Pf9"
      }
    },
    {
      "cell_type": "code",
      "source": [
        "from hyperopt import fmin, tpe, Trials\n",
        "import numpy as np\n",
        "\n",
        "## 입력 결과를 저장할 객체 생성\n",
        "trial_val = Trials()\n",
        "\n",
        "## 목적 함수의 최솟값을 반환하는 최적 입력 변수를 5번 시도로 찾아냄\n",
        "## fmin() 함수는 아래의 주요 인자를 가짐\n",
        "best_01 = fmin(fn=objective_func,    ## 목적 함수\n",
        "               space=search_space,   ## 검색 공간\n",
        "               algo=tpe.suggest,     ## 베이지안 최적화 적용 알고리즘\n",
        "               max_evals=20,         ## 입력 시도 횟수\n",
        "               trials=trial_val,     ## 시도한 입력 값 및 입력 결과 저장\n",
        "               #rstate=np.random.default_rng(seed=0)   ## fmin()을 시도할 때마다 동일한 결과를 가질 수 있도록 설정하는 랜덤 시드\n",
        "               )"
      ],
      "metadata": {
        "id": "vJZ7-s_L1Oqw",
        "outputId": "3ba26752-842b-4954-ab28-e3db23e7d7ca",
        "colab": {
          "base_uri": "https://localhost:8080/"
        }
      },
      "execution_count": 21,
      "outputs": [
        {
          "output_type": "stream",
          "name": "stdout",
          "text": [
            "100%|██████████| 20/20 [00:00<00:00, 517.95it/s, best loss: -239.0]\n"
          ]
        }
      ]
    },
    {
      "cell_type": "code",
      "source": [
        "print('best:', best_01)"
      ],
      "metadata": {
        "id": "nul8K1Kh1kgQ",
        "outputId": "59c126c8-0855-4ccf-86c1-1e2d2310fe5a",
        "colab": {
          "base_uri": "https://localhost:8080/"
        }
      },
      "execution_count": 22,
      "outputs": [
        {
          "output_type": "stream",
          "name": "stdout",
          "text": [
            "best: {'x': 1.0, 'y': 12.0}\n"
          ]
        }
      ]
    },
    {
      "cell_type": "code",
      "source": [
        "trial_val.results\n",
        "trial_val.vals"
      ],
      "metadata": {
        "id": "BwYAGDOB1lPd",
        "outputId": "36a5b15d-7b63-4375-d385-487d8b2141de",
        "colab": {
          "base_uri": "https://localhost:8080/"
        }
      },
      "execution_count": 23,
      "outputs": [
        {
          "output_type": "execute_result",
          "data": {
            "text/plain": [
              "{'x': [0.0,\n",
              "  -3.0,\n",
              "  -3.0,\n",
              "  -3.0,\n",
              "  1.0,\n",
              "  -8.0,\n",
              "  -2.0,\n",
              "  6.0,\n",
              "  5.0,\n",
              "  5.0,\n",
              "  -2.0,\n",
              "  -2.0,\n",
              "  6.0,\n",
              "  8.0,\n",
              "  7.0,\n",
              "  10.0,\n",
              "  7.0,\n",
              "  -7.0,\n",
              "  5.0,\n",
              "  6.0],\n",
              " 'y': [4.0,\n",
              "  2.0,\n",
              "  -9.0,\n",
              "  11.0,\n",
              "  12.0,\n",
              "  5.0,\n",
              "  9.0,\n",
              "  -1.0,\n",
              "  7.0,\n",
              "  3.0,\n",
              "  6.0,\n",
              "  -7.0,\n",
              "  -1.0,\n",
              "  8.0,\n",
              "  -13.0,\n",
              "  -14.0,\n",
              "  14.0,\n",
              "  -5.0,\n",
              "  -4.0,\n",
              "  -6.0]}"
            ]
          },
          "metadata": {},
          "execution_count": 23
        }
      ]
    },
    {
      "cell_type": "code",
      "source": [
        "import pandas as pd \n",
        "\n",
        "\n",
        "losses = [loss_dict['loss'] for loss_dict in trial_val.results]\n",
        "\n",
        "result_df = pd.DataFrame(\n",
        "    {\n",
        "        'x':trial_val.vals['x'],\n",
        "        'y':trial_val.vals['y'],\n",
        "        'losses':losses\n",
        "     }\n",
        ")\n",
        "\n",
        "result_df.head(5)"
      ],
      "metadata": {
        "id": "IyrOXMSn1lIm",
        "outputId": "6d39b4d1-fed9-4d7b-def2-f5b2a264d9c7",
        "colab": {
          "base_uri": "https://localhost:8080/",
          "height": 206
        }
      },
      "execution_count": 24,
      "outputs": [
        {
          "output_type": "execute_result",
          "data": {
            "text/plain": [
              "     x     y  losses\n",
              "0  0.0   4.0   -80.0\n",
              "1 -3.0   2.0   -31.0\n",
              "2 -3.0  -9.0   189.0\n",
              "3 -3.0  11.0  -211.0\n",
              "4  1.0  12.0  -239.0"
            ],
            "text/html": [
              "\n",
              "  <div id=\"df-d09a791b-0eba-4cb3-b839-d4dfc665bce8\">\n",
              "    <div class=\"colab-df-container\">\n",
              "      <div>\n",
              "<style scoped>\n",
              "    .dataframe tbody tr th:only-of-type {\n",
              "        vertical-align: middle;\n",
              "    }\n",
              "\n",
              "    .dataframe tbody tr th {\n",
              "        vertical-align: top;\n",
              "    }\n",
              "\n",
              "    .dataframe thead th {\n",
              "        text-align: right;\n",
              "    }\n",
              "</style>\n",
              "<table border=\"1\" class=\"dataframe\">\n",
              "  <thead>\n",
              "    <tr style=\"text-align: right;\">\n",
              "      <th></th>\n",
              "      <th>x</th>\n",
              "      <th>y</th>\n",
              "      <th>losses</th>\n",
              "    </tr>\n",
              "  </thead>\n",
              "  <tbody>\n",
              "    <tr>\n",
              "      <th>0</th>\n",
              "      <td>0.0</td>\n",
              "      <td>4.0</td>\n",
              "      <td>-80.0</td>\n",
              "    </tr>\n",
              "    <tr>\n",
              "      <th>1</th>\n",
              "      <td>-3.0</td>\n",
              "      <td>2.0</td>\n",
              "      <td>-31.0</td>\n",
              "    </tr>\n",
              "    <tr>\n",
              "      <th>2</th>\n",
              "      <td>-3.0</td>\n",
              "      <td>-9.0</td>\n",
              "      <td>189.0</td>\n",
              "    </tr>\n",
              "    <tr>\n",
              "      <th>3</th>\n",
              "      <td>-3.0</td>\n",
              "      <td>11.0</td>\n",
              "      <td>-211.0</td>\n",
              "    </tr>\n",
              "    <tr>\n",
              "      <th>4</th>\n",
              "      <td>1.0</td>\n",
              "      <td>12.0</td>\n",
              "      <td>-239.0</td>\n",
              "    </tr>\n",
              "  </tbody>\n",
              "</table>\n",
              "</div>\n",
              "      <button class=\"colab-df-convert\" onclick=\"convertToInteractive('df-d09a791b-0eba-4cb3-b839-d4dfc665bce8')\"\n",
              "              title=\"Convert this dataframe to an interactive table.\"\n",
              "              style=\"display:none;\">\n",
              "        \n",
              "  <svg xmlns=\"http://www.w3.org/2000/svg\" height=\"24px\"viewBox=\"0 0 24 24\"\n",
              "       width=\"24px\">\n",
              "    <path d=\"M0 0h24v24H0V0z\" fill=\"none\"/>\n",
              "    <path d=\"M18.56 5.44l.94 2.06.94-2.06 2.06-.94-2.06-.94-.94-2.06-.94 2.06-2.06.94zm-11 1L8.5 8.5l.94-2.06 2.06-.94-2.06-.94L8.5 2.5l-.94 2.06-2.06.94zm10 10l.94 2.06.94-2.06 2.06-.94-2.06-.94-.94-2.06-.94 2.06-2.06.94z\"/><path d=\"M17.41 7.96l-1.37-1.37c-.4-.4-.92-.59-1.43-.59-.52 0-1.04.2-1.43.59L10.3 9.45l-7.72 7.72c-.78.78-.78 2.05 0 2.83L4 21.41c.39.39.9.59 1.41.59.51 0 1.02-.2 1.41-.59l7.78-7.78 2.81-2.81c.8-.78.8-2.07 0-2.86zM5.41 20L4 18.59l7.72-7.72 1.47 1.35L5.41 20z\"/>\n",
              "  </svg>\n",
              "      </button>\n",
              "      \n",
              "  <style>\n",
              "    .colab-df-container {\n",
              "      display:flex;\n",
              "      flex-wrap:wrap;\n",
              "      gap: 12px;\n",
              "    }\n",
              "\n",
              "    .colab-df-convert {\n",
              "      background-color: #E8F0FE;\n",
              "      border: none;\n",
              "      border-radius: 50%;\n",
              "      cursor: pointer;\n",
              "      display: none;\n",
              "      fill: #1967D2;\n",
              "      height: 32px;\n",
              "      padding: 0 0 0 0;\n",
              "      width: 32px;\n",
              "    }\n",
              "\n",
              "    .colab-df-convert:hover {\n",
              "      background-color: #E2EBFA;\n",
              "      box-shadow: 0px 1px 2px rgba(60, 64, 67, 0.3), 0px 1px 3px 1px rgba(60, 64, 67, 0.15);\n",
              "      fill: #174EA6;\n",
              "    }\n",
              "\n",
              "    [theme=dark] .colab-df-convert {\n",
              "      background-color: #3B4455;\n",
              "      fill: #D2E3FC;\n",
              "    }\n",
              "\n",
              "    [theme=dark] .colab-df-convert:hover {\n",
              "      background-color: #434B5C;\n",
              "      box-shadow: 0px 1px 3px 1px rgba(0, 0, 0, 0.15);\n",
              "      filter: drop-shadow(0px 1px 2px rgba(0, 0, 0, 0.3));\n",
              "      fill: #FFFFFF;\n",
              "    }\n",
              "  </style>\n",
              "\n",
              "      <script>\n",
              "        const buttonEl =\n",
              "          document.querySelector('#df-d09a791b-0eba-4cb3-b839-d4dfc665bce8 button.colab-df-convert');\n",
              "        buttonEl.style.display =\n",
              "          google.colab.kernel.accessAllowed ? 'block' : 'none';\n",
              "\n",
              "        async function convertToInteractive(key) {\n",
              "          const element = document.querySelector('#df-d09a791b-0eba-4cb3-b839-d4dfc665bce8');\n",
              "          const dataTable =\n",
              "            await google.colab.kernel.invokeFunction('convertToInteractive',\n",
              "                                                     [key], {});\n",
              "          if (!dataTable) return;\n",
              "\n",
              "          const docLinkHtml = 'Like what you see? Visit the ' +\n",
              "            '<a target=\"_blank\" href=https://colab.research.google.com/notebooks/data_table.ipynb>data table notebook</a>'\n",
              "            + ' to learn more about interactive tables.';\n",
              "          element.innerHTML = '';\n",
              "          dataTable['output_type'] = 'display_data';\n",
              "          await google.colab.output.renderOutput(dataTable, element);\n",
              "          const docLink = document.createElement('div');\n",
              "          docLink.innerHTML = docLinkHtml;\n",
              "          element.appendChild(docLink);\n",
              "        }\n",
              "      </script>\n",
              "    </div>\n",
              "  </div>\n",
              "  "
            ]
          },
          "metadata": {},
          "execution_count": 24
        }
      ]
    },
    {
      "cell_type": "code",
      "source": [
        "result_df.plot()"
      ],
      "metadata": {
        "id": "RKLFE_PA5m7r",
        "outputId": "10151537-867a-4ef4-b474-bf57c1b4fcab",
        "colab": {
          "base_uri": "https://localhost:8080/",
          "height": 285
        }
      },
      "execution_count": 25,
      "outputs": [
        {
          "output_type": "execute_result",
          "data": {
            "text/plain": [
              "<matplotlib.axes._subplots.AxesSubplot at 0x7fe89f433880>"
            ]
          },
          "metadata": {},
          "execution_count": 25
        },
        {
          "output_type": "display_data",
          "data": {
            "text/plain": [
              "<Figure size 432x288 with 1 Axes>"
            ],
            "image/png": "[encoded data removed]"
          },
          "metadata": {
            "needs_background": "light"
          }
        }
      ]
    },
    {
      "cell_type": "code",
      "source": [
        "## 유방암 데이터셋 로드\n",
        "dataset = load_breast_cancer()\n",
        "features = dataset.data\n",
        "labels = dataset.target"
      ],
      "metadata": {
        "id": "KLiDSvcg5n78"
      },
      "execution_count": 26,
      "outputs": []
    },
    {
      "cell_type": "code",
      "source": [
        "cancer_df = pd.DataFrame(data=features, columns=dataset.feature_names)\n",
        "cancer_df['target'] = labels\n",
        "cancer_df.head(5)"
      ],
      "metadata": {
        "id": "SQJ5fd-w5p7n",
        "outputId": "20160109-43ff-43aa-ec51-512e837d541c",
        "colab": {
          "base_uri": "https://localhost:8080/",
          "height": 334
        }
      },
      "execution_count": 27,
      "outputs": [
        {
          "output_type": "execute_result",
          "data": {
            "text/plain": [
              "   mean radius  mean texture  mean perimeter  mean area  mean smoothness  \\\n",
              "0        17.99         10.38          122.80     1001.0          0.11840   \n",
              "1        20.57         17.77          132.90     1326.0          0.08474   \n",
              "2        19.69         21.25          130.00     1203.0          0.10960   \n",
              "3        11.42         20.38           77.58      386.1          0.14250   \n",
              "4        20.29         14.34          135.10     1297.0          0.10030   \n",
              "\n",
              "   mean compactness  mean concavity  mean concave points  mean symmetry  \\\n",
              "0           0.27760          0.3001              0.14710         0.2419   \n",
              "1           0.07864          0.0869              0.07017         0.1812   \n",
              "2           0.15990          0.1974              0.12790         0.2069   \n",
              "3           0.28390          0.2414              0.10520         0.2597   \n",
              "4           0.13280          0.1980              0.10430         0.1809   \n",
              "\n",
              "   mean fractal dimension  ...  worst texture  worst perimeter  worst area  \\\n",
              "0                 0.07871  ...          17.33           184.60      2019.0   \n",
              "1                 0.05667  ...          23.41           158.80      1956.0   \n",
              "2                 0.05999  ...          25.53           152.50      1709.0   \n",
              "3                 0.09744  ...          26.50            98.87       567.7   \n",
              "4                 0.05883  ...          16.67           152.20      1575.0   \n",
              "\n",
              "   worst smoothness  worst compactness  worst concavity  worst concave points  \\\n",
              "0            0.1622             0.6656           0.7119                0.2654   \n",
              "1            0.1238             0.1866           0.2416                0.1860   \n",
              "2            0.1444             0.4245           0.4504                0.2430   \n",
              "3            0.2098             0.8663           0.6869                0.2575   \n",
              "4            0.1374             0.2050           0.4000                0.1625   \n",
              "\n",
              "   worst symmetry  worst fractal dimension  target  \n",
              "0          0.4601                  0.11890       0  \n",
              "1          0.2750                  0.08902       0  \n",
              "2          0.3613                  0.08758       0  \n",
              "3          0.6638                  0.17300       0  \n",
              "4          0.2364                  0.07678       0  \n",
              "\n",
              "[5 rows x 31 columns]"
            ],
            "text/html": [
              "\n",
              "  <div id=\"df-72101039-17ce-4f38-99f6-7c8b42387e60\">\n",
              "    <div class=\"colab-df-container\">\n",
              "      <div>\n",
              "<style scoped>\n",
              "    .dataframe tbody tr th:only-of-type {\n",
              "        vertical-align: middle;\n",
              "    }\n",
              "\n",
              "    .dataframe tbody tr th {\n",
              "        vertical-align: top;\n",
              "    }\n",
              "\n",
              "    .dataframe thead th {\n",
              "        text-align: right;\n",
              "    }\n",
              "</style>\n",
              "<table border=\"1\" class=\"dataframe\">\n",
              "  <thead>\n",
              "    <tr style=\"text-align: right;\">\n",
              "      <th></th>\n",
              "      <th>mean radius</th>\n",
              "      <th>mean texture</th>\n",
              "      <th>mean perimeter</th>\n",
              "      <th>mean area</th>\n",
              "      <th>mean smoothness</th>\n",
              "      <th>mean compactness</th>\n",
              "      <th>mean concavity</th>\n",
              "      <th>mean concave points</th>\n",
              "      <th>mean symmetry</th>\n",
              "      <th>mean fractal dimension</th>\n",
              "      <th>...</th>\n",
              "      <th>worst texture</th>\n",
              "      <th>worst perimeter</th>\n",
              "      <th>worst area</th>\n",
              "      <th>worst smoothness</th>\n",
              "      <th>worst compactness</th>\n",
              "      <th>worst concavity</th>\n",
              "      <th>worst concave points</th>\n",
              "      <th>worst symmetry</th>\n",
              "      <th>worst fractal dimension</th>\n",
              "      <th>target</th>\n",
              "    </tr>\n",
              "  </thead>\n",
              "  <tbody>\n",
              "    <tr>\n",
              "      <th>0</th>\n",
              "      <td>17.99</td>\n",
              "      <td>10.38</td>\n",
              "      <td>122.80</td>\n",
              "      <td>1001.0</td>\n",
              "      <td>0.11840</td>\n",
              "      <td>0.27760</td>\n",
              "      <td>0.3001</td>\n",
              "      <td>0.14710</td>\n",
              "      <td>0.2419</td>\n",
              "      <td>0.07871</td>\n",
              "      <td>...</td>\n",
              "      <td>17.33</td>\n",
              "      <td>184.60</td>\n",
              "      <td>2019.0</td>\n",
              "      <td>0.1622</td>\n",
              "      <td>0.6656</td>\n",
              "      <td>0.7119</td>\n",
              "      <td>0.2654</td>\n",
              "      <td>0.4601</td>\n",
              "      <td>0.11890</td>\n",
              "      <td>0</td>\n",
              "    </tr>\n",
              "    <tr>\n",
              "      <th>1</th>\n",
              "      <td>20.57</td>\n",
              "      <td>17.77</td>\n",
              "      <td>132.90</td>\n",
              "      <td>1326.0</td>\n",
              "      <td>0.08474</td>\n",
              "      <td>0.07864</td>\n",
              "      <td>0.0869</td>\n",
              "      <td>0.07017</td>\n",
              "      <td>0.1812</td>\n",
              "      <td>0.05667</td>\n",
              "      <td>...</td>\n",
              "      <td>23.41</td>\n",
              "      <td>158.80</td>\n",
              "      <td>1956.0</td>\n",
              "      <td>0.1238</td>\n",
              "      <td>0.1866</td>\n",
              "      <td>0.2416</td>\n",
              "      <td>0.1860</td>\n",
              "      <td>0.2750</td>\n",
              "      <td>0.08902</td>\n",
              "      <td>0</td>\n",
              "    </tr>\n",
              "    <tr>\n",
              "      <th>2</th>\n",
              "      <td>19.69</td>\n",
              "      <td>21.25</td>\n",
              "      <td>130.00</td>\n",
              "      <td>1203.0</td>\n",
              "      <td>0.10960</td>\n",
              "      <td>0.15990</td>\n",
              "      <td>0.1974</td>\n",
              "      <td>0.12790</td>\n",
              "      <td>0.2069</td>\n",
              "      <td>0.05999</td>\n",
              "      <td>...</td>\n",
              "      <td>25.53</td>\n",
              "      <td>152.50</td>\n",
              "      <td>1709.0</td>\n",
              "      <td>0.1444</td>\n",
              "      <td>0.4245</td>\n",
              "      <td>0.4504</td>\n",
              "      <td>0.2430</td>\n",
              "      <td>0.3613</td>\n",
              "      <td>0.08758</td>\n",
              "      <td>0</td>\n",
              "    </tr>\n",
              "    <tr>\n",
              "      <th>3</th>\n",
              "      <td>11.42</td>\n",
              "      <td>20.38</td>\n",
              "      <td>77.58</td>\n",
              "      <td>386.1</td>\n",
              "      <td>0.14250</td>\n",
              "      <td>0.28390</td>\n",
              "      <td>0.2414</td>\n",
              "      <td>0.10520</td>\n",
              "      <td>0.2597</td>\n",
              "      <td>0.09744</td>\n",
              "      <td>...</td>\n",
              "      <td>26.50</td>\n",
              "      <td>98.87</td>\n",
              "      <td>567.7</td>\n",
              "      <td>0.2098</td>\n",
              "      <td>0.8663</td>\n",
              "      <td>0.6869</td>\n",
              "      <td>0.2575</td>\n",
              "      <td>0.6638</td>\n",
              "      <td>0.17300</td>\n",
              "      <td>0</td>\n",
              "    </tr>\n",
              "    <tr>\n",
              "      <th>4</th>\n",
              "      <td>20.29</td>\n",
              "      <td>14.34</td>\n",
              "      <td>135.10</td>\n",
              "      <td>1297.0</td>\n",
              "      <td>0.10030</td>\n",
              "      <td>0.13280</td>\n",
              "      <td>0.1980</td>\n",
              "      <td>0.10430</td>\n",
              "      <td>0.1809</td>\n",
              "      <td>0.05883</td>\n",
              "      <td>...</td>\n",
              "      <td>16.67</td>\n",
              "      <td>152.20</td>\n",
              "      <td>1575.0</td>\n",
              "      <td>0.1374</td>\n",
              "      <td>0.2050</td>\n",
              "      <td>0.4000</td>\n",
              "      <td>0.1625</td>\n",
              "      <td>0.2364</td>\n",
              "      <td>0.07678</td>\n",
              "      <td>0</td>\n",
              "    </tr>\n",
              "  </tbody>\n",
              "</table>\n",
              "<p>5 rows × 31 columns</p>\n",
              "</div>\n",
              "      <button class=\"colab-df-convert\" onclick=\"convertToInteractive('df-72101039-17ce-4f38-99f6-7c8b42387e60')\"\n",
              "              title=\"Convert this dataframe to an interactive table.\"\n",
              "              style=\"display:none;\">\n",
              "        \n",
              "  <svg xmlns=\"http://www.w3.org/2000/svg\" height=\"24px\"viewBox=\"0 0 24 24\"\n",
              "       width=\"24px\">\n",
              "    <path d=\"M0 0h24v24H0V0z\" fill=\"none\"/>\n",
              "    <path d=\"M18.56 5.44l.94 2.06.94-2.06 2.06-.94-2.06-.94-.94-2.06-.94 2.06-2.06.94zm-11 1L8.5 8.5l.94-2.06 2.06-.94-2.06-.94L8.5 2.5l-.94 2.06-2.06.94zm10 10l.94 2.06.94-2.06 2.06-.94-2.06-.94-.94-2.06-.94 2.06-2.06.94z\"/><path d=\"M17.41 7.96l-1.37-1.37c-.4-.4-.92-.59-1.43-.59-.52 0-1.04.2-1.43.59L10.3 9.45l-7.72 7.72c-.78.78-.78 2.05 0 2.83L4 21.41c.39.39.9.59 1.41.59.51 0 1.02-.2 1.41-.59l7.78-7.78 2.81-2.81c.8-.78.8-2.07 0-2.86zM5.41 20L4 18.59l7.72-7.72 1.47 1.35L5.41 20z\"/>\n",
              "  </svg>\n",
              "      </button>\n",
              "      \n",
              "  <style>\n",
              "    .colab-df-container {\n",
              "      display:flex;\n",
              "      flex-wrap:wrap;\n",
              "      gap: 12px;\n",
              "    }\n",
              "\n",
              "    .colab-df-convert {\n",
              "      background-color: #E8F0FE;\n",
              "      border: none;\n",
              "      border-radius: 50%;\n",
              "      cursor: pointer;\n",
              "      display: none;\n",
              "      fill: #1967D2;\n",
              "      height: 32px;\n",
              "      padding: 0 0 0 0;\n",
              "      width: 32px;\n",
              "    }\n",
              "\n",
              "    .colab-df-convert:hover {\n",
              "      background-color: #E2EBFA;\n",
              "      box-shadow: 0px 1px 2px rgba(60, 64, 67, 0.3), 0px 1px 3px 1px rgba(60, 64, 67, 0.15);\n",
              "      fill: #174EA6;\n",
              "    }\n",
              "\n",
              "    [theme=dark] .colab-df-convert {\n",
              "      background-color: #3B4455;\n",
              "      fill: #D2E3FC;\n",
              "    }\n",
              "\n",
              "    [theme=dark] .colab-df-convert:hover {\n",
              "      background-color: #434B5C;\n",
              "      box-shadow: 0px 1px 3px 1px rgba(0, 0, 0, 0.15);\n",
              "      filter: drop-shadow(0px 1px 2px rgba(0, 0, 0, 0.3));\n",
              "      fill: #FFFFFF;\n",
              "    }\n",
              "  </style>\n",
              "\n",
              "      <script>\n",
              "        const buttonEl =\n",
              "          document.querySelector('#df-72101039-17ce-4f38-99f6-7c8b42387e60 button.colab-df-convert');\n",
              "        buttonEl.style.display =\n",
              "          google.colab.kernel.accessAllowed ? 'block' : 'none';\n",
              "\n",
              "        async function convertToInteractive(key) {\n",
              "          const element = document.querySelector('#df-72101039-17ce-4f38-99f6-7c8b42387e60');\n",
              "          const dataTable =\n",
              "            await google.colab.kernel.invokeFunction('convertToInteractive',\n",
              "                                                     [key], {});\n",
              "          if (!dataTable) return;\n",
              "\n",
              "          const docLinkHtml = 'Like what you see? Visit the ' +\n",
              "            '<a target=\"_blank\" href=https://colab.research.google.com/notebooks/data_table.ipynb>data table notebook</a>'\n",
              "            + ' to learn more about interactive tables.';\n",
              "          element.innerHTML = '';\n",
              "          dataTable['output_type'] = 'display_data';\n",
              "          await google.colab.output.renderOutput(dataTable, element);\n",
              "          const docLink = document.createElement('div');\n",
              "          docLink.innerHTML = docLinkHtml;\n",
              "          element.appendChild(docLink);\n",
              "        }\n",
              "      </script>\n",
              "    </div>\n",
              "  </div>\n",
              "  "
            ]
          },
          "metadata": {},
          "execution_count": 27
        }
      ]
    },
    {
      "cell_type": "code",
      "source": [
        "## 학습 및 검증 데이터셋으로 데이터 분리\n",
        "X_features = cancer_df.iloc[:, :-1]\n",
        "y_label = cancer_df.iloc[:, -1]"
      ],
      "metadata": {
        "id": "cl5r9hr85rWp"
      },
      "execution_count": 28,
      "outputs": []
    },
    {
      "cell_type": "code",
      "source": [],
      "metadata": {
        "id": "LS6Y5jfS5sYO"
      },
      "execution_count": 30,
      "outputs": []
    },
    {
      "cell_type": "markdown",
      "source": [
        "- 모델 성능 평가 함수 선언 "
      ],
      "metadata": {
        "id": "OAp5QhMu5wBI"
      }
    },
    {
      "cell_type": "markdown",
      "source": [
        "## 모델 성능 평가 함수 선언\n"
      ],
      "metadata": {
        "id": "tzKGrijW5yh1"
      }
    },
    {
      "cell_type": "code",
      "source": [
        "## 모델 성능 평가 함수 선언\n",
        "from sklearn.metrics import accuracy_score, confusion_matrix, precision_score, recall_score, f1_score, roc_auc_score\n",
        "\n",
        "def get_clf_eval(y_test, pred=None, pred_proba=None):\n",
        "\n",
        "    confusion = confusion_matrix(y_test, pred)\n",
        "    accuracy = accuracy_score(y_test, pred)\n",
        "    precision = precision_score(y_test, pred)\n",
        "    recall = recall_score(y_test, pred)\n",
        "    f1 = f1_score(y_test, pred)\n",
        "    roc_auc = roc_auc_score(y_test, pred_proba)\n",
        "\n",
        "    print('오차 행렬')\n",
        "    print(confusion)\n",
        "    print('정확도: {0:.4f}, 정밀도: {1:.4f}, 재현율: {2:.4f}, F1: {3:.4f}, AUC: {4:.4f}'.format(accuracy, precision, recall, f1, roc_auc))"
      ],
      "metadata": {
        "id": "BM0sbLJ950Bm"
      },
      "execution_count": 32,
      "outputs": []
    },
    {
      "cell_type": "markdown",
      "source": [
        "\n",
        "  HyperOpt 설정 1 - 검색 공간 설정\n",
        "        하이퍼 파라미터의 검색 공간을 설정함\n"
      ],
      "metadata": {
        "id": "lYKPu7DmJ5Vg"
      }
    },
    {
      "cell_type": "code",
      "source": [
        "from hyperopt import hp\n",
        "\n",
        "xgb_search_space = {\n",
        "    'max_depth':hp.quniform('max_depth', 5, 20, 1),                     ## 정수형 하이퍼 파라미터 => quniform 사용\n",
        "    'min_child_weight':hp.quniform('min_child_weight', 1, 2, 1),        ## 정수형 하이퍼 파라미터 => quniform 사용\n",
        "    'learning_rate':hp.uniform('learning_rate', 0.01, 0.2),\n",
        "    'colsample_bytree':hp.uniform('colsample_bytree', 0.5, 1),\n",
        "}"
      ],
      "metadata": {
        "id": "6vdNIuWQJ8ix"
      },
      "execution_count": 31,
      "outputs": []
    },
    {
      "cell_type": "markdown",
      "source": [
        "HyperOpt 설정 2 - 목적 함수 설정\n",
        "\n",
        "  검색 공간에서 설정한 하이퍼 파라미터들을 입력 받아서 XGBoost를 학습시키고, 평가 지표를 반환하도록 구성되어야 함\n"
      ],
      "metadata": {
        "id": "PFFIuR2iJ_OM"
      }
    },
    {
      "cell_type": "code",
      "source": [
        "from sklearn.model_selection import cross_val_score  ## 교차 검증\n",
        "from xgboost import XGBClassifier\n",
        "from hyperopt import STATUS_OK\n",
        "\n",
        "def objective_func(search_space):\n",
        "\n",
        "  xgb_clf = XGBClassifier(\n",
        "      n_estimators=100,\n",
        "      max_depth=int(search_space['max_depth']),                ## int형으로 형변환 필요\n",
        "      min_child_weight=int(search_space['min_child_weight']),  ## int형으로 형변환 필요\n",
        "      learning_rate=search_space['learning_rate'], \n",
        "      colsample_bytree=search_space['colsample_bytree'],\n",
        "      eval_metric='logloss'\n",
        "  )\n",
        "\n",
        "  accuracy = cross_val_score(xgb_clf, X_train, y_train, scoring='accuracy', cv=3)  ## 3개의 교차 검증 세트로 정확도 반환\n",
        "\n",
        "  ## acc는 cv=3 개수만큼의 결과를 리스트로 가짐, 이를 평균하여 반환하되, -1을 곱함\n",
        "  return {\n",
        "      'loss':(-1) * np.mean(accuracy),\n",
        "      'status':STATUS_OK\n",
        "  }"
      ],
      "metadata": {
        "id": "6XY8zsuMKDlP"
      },
      "execution_count": 33,
      "outputs": []
    },
    {
      "cell_type": "markdown",
      "source": [
        "HyperOpt 설정 3 - fmin()을 사용하여 최적 하이퍼 파라미터 찾기"
      ],
      "metadata": {
        "id": "BoUtA-GAKG-9"
      }
    },
    {
      "cell_type": "code",
      "source": [
        "## 3. fmin()을 사용하여 최적 하이퍼 파라미터 찾기\n",
        "\n",
        "from hyperopt import fmin, tpe, Trials\n",
        "\n",
        "trial_val = Trials() ## 결과 저장\n",
        "\n",
        "best = fmin(\n",
        "    fn=objective_func,\n",
        "    space=xgb_search_space,\n",
        "    algo=tpe.suggest,\n",
        "    max_evals=50,    ## 최대 반복 횟수 지정\n",
        "    trials=trial_val,\n",
        ")"
      ],
      "metadata": {
        "id": "RohPrx2WKHXC",
        "outputId": "17a3ce5f-dca5-4a4c-a070-25509310c346",
        "colab": {
          "base_uri": "https://localhost:8080/"
        }
      },
      "execution_count": 34,
      "outputs": [
        {
          "output_type": "stream",
          "name": "stdout",
          "text": [
            "100%|██████████| 50/50 [00:09<00:00,  5.15it/s, best loss: -0.9670326478447775]\n"
          ]
        }
      ]
    },
    {
      "cell_type": "code",
      "source": [
        "best"
      ],
      "metadata": {
        "id": "ePXozZaKKP7Q",
        "outputId": "7ee83ea5-ebc7-46dc-f9a8-0a6fef3fbc29",
        "colab": {
          "base_uri": "https://localhost:8080/"
        }
      },
      "execution_count": 35,
      "outputs": [
        {
          "output_type": "execute_result",
          "data": {
            "text/plain": [
              "{'colsample_bytree': 0.6044744960000747,\n",
              " 'learning_rate': 0.19148272338829603,\n",
              " 'max_depth': 17.0,\n",
              " 'min_child_weight': 2.0}"
            ]
          },
          "metadata": {},
          "execution_count": 35
        }
      ]
    },
    {
      "cell_type": "code",
      "source": [
        "xgb_wrapper = XGBClassifier(\n",
        "    n_estimators=400,\n",
        "    learning_rate=round(best['learning_rate'], 5),\n",
        "    max_depth=int(best['max_depth']),\n",
        "    min_child_weight=int(best['min_child_weight']),\n",
        "    colsample_bytree=round(best['colsample_bytree'], 5)\n",
        ")"
      ],
      "metadata": {
        "id": "n4DBYegtKSL_"
      },
      "execution_count": 36,
      "outputs": []
    },
    {
      "cell_type": "code",
      "source": [
        "## early stopping\n",
        "\n",
        "evals = [(X_tr, y_tr), (X_val, y_val)]\n",
        "\n",
        "## model train\n",
        "\n",
        "xgb_wrapper.fit(\n",
        "    X_tr, y_tr,\n",
        "    early_stopping_rounds=50,\n",
        "    eval_metric='logloss',\n",
        "    eval_set=evals,\n",
        "    verbose=True\n",
        ")"
      ],
      "metadata": {
        "id": "iJpulyaEKTVm",
        "outputId": "febee0b1-8c52-4bb0-f288-9b0ec9f388d7",
        "colab": {
          "base_uri": "https://localhost:8080/"
        }
      },
      "execution_count": 37,
      "outputs": [
        {
          "output_type": "stream",
          "name": "stdout",
          "text": [
            "[0]\tvalidation_0-logloss:0.544895\tvalidation_1-logloss:0.607149\n",
            "Multiple eval metrics have been passed: 'validation_1-logloss' will be used for early stopping.\n",
            "\n",
            "Will train until validation_1-logloss hasn't improved in 50 rounds.\n",
            "[1]\tvalidation_0-logloss:0.442255\tvalidation_1-logloss:0.546299\n",
            "[2]\tvalidation_0-logloss:0.361735\tvalidation_1-logloss:0.480376\n",
            "[3]\tvalidation_0-logloss:0.300979\tvalidation_1-logloss:0.440366\n",
            "[4]\tvalidation_0-logloss:0.25289\tvalidation_1-logloss:0.406305\n",
            "[5]\tvalidation_0-logloss:0.214857\tvalidation_1-logloss:0.388899\n",
            "[6]\tvalidation_0-logloss:0.183892\tvalidation_1-logloss:0.361394\n",
            "[7]\tvalidation_0-logloss:0.158976\tvalidation_1-logloss:0.338211\n",
            "[8]\tvalidation_0-logloss:0.139979\tvalidation_1-logloss:0.320955\n",
            "[9]\tvalidation_0-logloss:0.123496\tvalidation_1-logloss:0.307496\n",
            "[10]\tvalidation_0-logloss:0.108507\tvalidation_1-logloss:0.294289\n",
            "[11]\tvalidation_0-logloss:0.096509\tvalidation_1-logloss:0.283469\n",
            "[12]\tvalidation_0-logloss:0.086733\tvalidation_1-logloss:0.276703\n",
            "[13]\tvalidation_0-logloss:0.079122\tvalidation_1-logloss:0.275279\n",
            "[14]\tvalidation_0-logloss:0.072583\tvalidation_1-logloss:0.267862\n",
            "[15]\tvalidation_0-logloss:0.066405\tvalidation_1-logloss:0.271311\n",
            "[16]\tvalidation_0-logloss:0.061934\tvalidation_1-logloss:0.268348\n",
            "[17]\tvalidation_0-logloss:0.056723\tvalidation_1-logloss:0.262488\n",
            "[18]\tvalidation_0-logloss:0.052386\tvalidation_1-logloss:0.259442\n",
            "[19]\tvalidation_0-logloss:0.048147\tvalidation_1-logloss:0.260511\n",
            "[20]\tvalidation_0-logloss:0.044718\tvalidation_1-logloss:0.254935\n",
            "[21]\tvalidation_0-logloss:0.042269\tvalidation_1-logloss:0.257933\n",
            "[22]\tvalidation_0-logloss:0.039671\tvalidation_1-logloss:0.259871\n",
            "[23]\tvalidation_0-logloss:0.037238\tvalidation_1-logloss:0.25826\n",
            "[24]\tvalidation_0-logloss:0.034839\tvalidation_1-logloss:0.259245\n",
            "[25]\tvalidation_0-logloss:0.033588\tvalidation_1-logloss:0.262531\n",
            "[26]\tvalidation_0-logloss:0.03214\tvalidation_1-logloss:0.261827\n",
            "[27]\tvalidation_0-logloss:0.030417\tvalidation_1-logloss:0.266626\n",
            "[28]\tvalidation_0-logloss:0.029378\tvalidation_1-logloss:0.263464\n",
            "[29]\tvalidation_0-logloss:0.028397\tvalidation_1-logloss:0.263741\n",
            "[30]\tvalidation_0-logloss:0.027495\tvalidation_1-logloss:0.260528\n",
            "[31]\tvalidation_0-logloss:0.026837\tvalidation_1-logloss:0.258382\n",
            "[32]\tvalidation_0-logloss:0.026018\tvalidation_1-logloss:0.260235\n",
            "[33]\tvalidation_0-logloss:0.025339\tvalidation_1-logloss:0.257483\n",
            "[34]\tvalidation_0-logloss:0.024454\tvalidation_1-logloss:0.252158\n",
            "[35]\tvalidation_0-logloss:0.024023\tvalidation_1-logloss:0.249396\n",
            "[36]\tvalidation_0-logloss:0.023329\tvalidation_1-logloss:0.250172\n",
            "[37]\tvalidation_0-logloss:0.022838\tvalidation_1-logloss:0.248482\n",
            "[38]\tvalidation_0-logloss:0.022182\tvalidation_1-logloss:0.244097\n",
            "[39]\tvalidation_0-logloss:0.021915\tvalidation_1-logloss:0.246812\n",
            "[40]\tvalidation_0-logloss:0.021703\tvalidation_1-logloss:0.246076\n",
            "[41]\tvalidation_0-logloss:0.021232\tvalidation_1-logloss:0.246794\n",
            "[42]\tvalidation_0-logloss:0.021015\tvalidation_1-logloss:0.246928\n",
            "[43]\tvalidation_0-logloss:0.020555\tvalidation_1-logloss:0.247724\n",
            "[44]\tvalidation_0-logloss:0.020342\tvalidation_1-logloss:0.250346\n",
            "[45]\tvalidation_0-logloss:0.020176\tvalidation_1-logloss:0.251198\n",
            "[46]\tvalidation_0-logloss:0.019988\tvalidation_1-logloss:0.249487\n",
            "[47]\tvalidation_0-logloss:0.01981\tvalidation_1-logloss:0.251965\n",
            "[48]\tvalidation_0-logloss:0.019648\tvalidation_1-logloss:0.252123\n",
            "[49]\tvalidation_0-logloss:0.019496\tvalidation_1-logloss:0.250601\n",
            "[50]\tvalidation_0-logloss:0.019335\tvalidation_1-logloss:0.252981\n",
            "[51]\tvalidation_0-logloss:0.019181\tvalidation_1-logloss:0.252418\n",
            "[52]\tvalidation_0-logloss:0.019042\tvalidation_1-logloss:0.250657\n",
            "[53]\tvalidation_0-logloss:0.018911\tvalidation_1-logloss:0.250669\n",
            "[54]\tvalidation_0-logloss:0.018781\tvalidation_1-logloss:0.250843\n",
            "[55]\tvalidation_0-logloss:0.018642\tvalidation_1-logloss:0.253099\n",
            "[56]\tvalidation_0-logloss:0.018507\tvalidation_1-logloss:0.249871\n",
            "[57]\tvalidation_0-logloss:0.018384\tvalidation_1-logloss:0.248535\n",
            "[58]\tvalidation_0-logloss:0.01826\tvalidation_1-logloss:0.249185\n",
            "[59]\tvalidation_0-logloss:0.01814\tvalidation_1-logloss:0.25132\n",
            "[60]\tvalidation_0-logloss:0.01802\tvalidation_1-logloss:0.250828\n",
            "[61]\tvalidation_0-logloss:0.017903\tvalidation_1-logloss:0.249504\n",
            "[62]\tvalidation_0-logloss:0.017801\tvalidation_1-logloss:0.246727\n",
            "[63]\tvalidation_0-logloss:0.017691\tvalidation_1-logloss:0.248803\n",
            "[64]\tvalidation_0-logloss:0.017575\tvalidation_1-logloss:0.248942\n",
            "[65]\tvalidation_0-logloss:0.017474\tvalidation_1-logloss:0.249573\n",
            "[66]\tvalidation_0-logloss:0.017364\tvalidation_1-logloss:0.248064\n",
            "[67]\tvalidation_0-logloss:0.017273\tvalidation_1-logloss:0.245475\n",
            "[68]\tvalidation_0-logloss:0.017176\tvalidation_1-logloss:0.246121\n",
            "[69]\tvalidation_0-logloss:0.017084\tvalidation_1-logloss:0.245923\n",
            "[70]\tvalidation_0-logloss:0.016995\tvalidation_1-logloss:0.245469\n",
            "[71]\tvalidation_0-logloss:0.016904\tvalidation_1-logloss:0.244325\n",
            "[72]\tvalidation_0-logloss:0.016815\tvalidation_1-logloss:0.246669\n",
            "[73]\tvalidation_0-logloss:0.016731\tvalidation_1-logloss:0.246841\n",
            "[74]\tvalidation_0-logloss:0.016659\tvalidation_1-logloss:0.245872\n",
            "[75]\tvalidation_0-logloss:0.016581\tvalidation_1-logloss:0.246876\n",
            "[76]\tvalidation_0-logloss:0.016513\tvalidation_1-logloss:0.246727\n",
            "[77]\tvalidation_0-logloss:0.016441\tvalidation_1-logloss:0.24692\n",
            "[78]\tvalidation_0-logloss:0.016367\tvalidation_1-logloss:0.244573\n",
            "[79]\tvalidation_0-logloss:0.016289\tvalidation_1-logloss:0.246795\n",
            "[80]\tvalidation_0-logloss:0.016209\tvalidation_1-logloss:0.246741\n",
            "[81]\tvalidation_0-logloss:0.016142\tvalidation_1-logloss:0.245776\n",
            "[82]\tvalidation_0-logloss:0.016073\tvalidation_1-logloss:0.245341\n",
            "[83]\tvalidation_0-logloss:0.016013\tvalidation_1-logloss:0.244667\n",
            "[84]\tvalidation_0-logloss:0.015938\tvalidation_1-logloss:0.245667\n",
            "[85]\tvalidation_0-logloss:0.015872\tvalidation_1-logloss:0.243469\n",
            "[86]\tvalidation_0-logloss:0.015796\tvalidation_1-logloss:0.243451\n",
            "[87]\tvalidation_0-logloss:0.015738\tvalidation_1-logloss:0.24258\n",
            "[88]\tvalidation_0-logloss:0.015675\tvalidation_1-logloss:0.242745\n",
            "[89]\tvalidation_0-logloss:0.015608\tvalidation_1-logloss:0.243745\n",
            "[90]\tvalidation_0-logloss:0.015548\tvalidation_1-logloss:0.245733\n",
            "[91]\tvalidation_0-logloss:0.015491\tvalidation_1-logloss:0.243693\n",
            "[92]\tvalidation_0-logloss:0.015426\tvalidation_1-logloss:0.243714\n",
            "[93]\tvalidation_0-logloss:0.015365\tvalidation_1-logloss:0.243271\n",
            "[94]\tvalidation_0-logloss:0.015314\tvalidation_1-logloss:0.243317\n",
            "[95]\tvalidation_0-logloss:0.015257\tvalidation_1-logloss:0.241293\n",
            "[96]\tvalidation_0-logloss:0.015205\tvalidation_1-logloss:0.241441\n",
            "[97]\tvalidation_0-logloss:0.015149\tvalidation_1-logloss:0.242379\n",
            "[98]\tvalidation_0-logloss:0.015093\tvalidation_1-logloss:0.241523\n",
            "[99]\tvalidation_0-logloss:0.015038\tvalidation_1-logloss:0.243452\n",
            "[100]\tvalidation_0-logloss:0.014986\tvalidation_1-logloss:0.242776\n",
            "[101]\tvalidation_0-logloss:0.014937\tvalidation_1-logloss:0.243011\n",
            "[102]\tvalidation_0-logloss:0.014889\tvalidation_1-logloss:0.242603\n",
            "[103]\tvalidation_0-logloss:0.01484\tvalidation_1-logloss:0.24281\n",
            "[104]\tvalidation_0-logloss:0.014787\tvalidation_1-logloss:0.241933\n",
            "[105]\tvalidation_0-logloss:0.01474\tvalidation_1-logloss:0.241179\n",
            "[106]\tvalidation_0-logloss:0.014692\tvalidation_1-logloss:0.242989\n",
            "[107]\tvalidation_0-logloss:0.014647\tvalidation_1-logloss:0.24339\n",
            "[108]\tvalidation_0-logloss:0.014599\tvalidation_1-logloss:0.242612\n",
            "[109]\tvalidation_0-logloss:0.014553\tvalidation_1-logloss:0.24268\n",
            "[110]\tvalidation_0-logloss:0.014505\tvalidation_1-logloss:0.242263\n",
            "[111]\tvalidation_0-logloss:0.014462\tvalidation_1-logloss:0.243119\n",
            "[112]\tvalidation_0-logloss:0.014417\tvalidation_1-logloss:0.242379\n",
            "[113]\tvalidation_0-logloss:0.014371\tvalidation_1-logloss:0.241632\n",
            "[114]\tvalidation_0-logloss:0.014331\tvalidation_1-logloss:0.241031\n",
            "[115]\tvalidation_0-logloss:0.014288\tvalidation_1-logloss:0.241268\n",
            "[116]\tvalidation_0-logloss:0.014243\tvalidation_1-logloss:0.240851\n",
            "[117]\tvalidation_0-logloss:0.0142\tvalidation_1-logloss:0.242559\n",
            "[118]\tvalidation_0-logloss:0.014161\tvalidation_1-logloss:0.241872\n",
            "[119]\tvalidation_0-logloss:0.014119\tvalidation_1-logloss:0.2421\n",
            "[120]\tvalidation_0-logloss:0.014083\tvalidation_1-logloss:0.243688\n",
            "[121]\tvalidation_0-logloss:0.014043\tvalidation_1-logloss:0.243314\n",
            "[122]\tvalidation_0-logloss:0.014005\tvalidation_1-logloss:0.243677\n",
            "[123]\tvalidation_0-logloss:0.01396\tvalidation_1-logloss:0.242951\n",
            "[124]\tvalidation_0-logloss:0.013926\tvalidation_1-logloss:0.243302\n",
            "[125]\tvalidation_0-logloss:0.01389\tvalidation_1-logloss:0.242732\n",
            "[126]\tvalidation_0-logloss:0.013853\tvalidation_1-logloss:0.242981\n",
            "[127]\tvalidation_0-logloss:0.013815\tvalidation_1-logloss:0.242323\n",
            "[128]\tvalidation_0-logloss:0.013777\tvalidation_1-logloss:0.241653\n",
            "[129]\tvalidation_0-logloss:0.01374\tvalidation_1-logloss:0.241284\n",
            "[130]\tvalidation_0-logloss:0.013703\tvalidation_1-logloss:0.242907\n",
            "[131]\tvalidation_0-logloss:0.013668\tvalidation_1-logloss:0.243167\n",
            "[132]\tvalidation_0-logloss:0.013633\tvalidation_1-logloss:0.242538\n",
            "[133]\tvalidation_0-logloss:0.013599\tvalidation_1-logloss:0.241928\n",
            "[134]\tvalidation_0-logloss:0.013564\tvalidation_1-logloss:0.24157\n",
            "[135]\tvalidation_0-logloss:0.013531\tvalidation_1-logloss:0.241836\n",
            "[136]\tvalidation_0-logloss:0.013498\tvalidation_1-logloss:0.242661\n",
            "[137]\tvalidation_0-logloss:0.013466\tvalidation_1-logloss:0.242065\n",
            "[138]\tvalidation_0-logloss:0.013437\tvalidation_1-logloss:0.241525\n",
            "[139]\tvalidation_0-logloss:0.013407\tvalidation_1-logloss:0.242997\n",
            "[140]\tvalidation_0-logloss:0.013378\tvalidation_1-logloss:0.242746\n",
            "[141]\tvalidation_0-logloss:0.013344\tvalidation_1-logloss:0.242387\n",
            "[142]\tvalidation_0-logloss:0.013313\tvalidation_1-logloss:0.242655\n",
            "[143]\tvalidation_0-logloss:0.013285\tvalidation_1-logloss:0.242343\n",
            "[144]\tvalidation_0-logloss:0.013256\tvalidation_1-logloss:0.241774\n",
            "[145]\tvalidation_0-logloss:0.013228\tvalidation_1-logloss:0.241245\n",
            "[146]\tvalidation_0-logloss:0.013199\tvalidation_1-logloss:0.241517\n",
            "[147]\tvalidation_0-logloss:0.013171\tvalidation_1-logloss:0.242299\n",
            "[148]\tvalidation_0-logloss:0.013149\tvalidation_1-logloss:0.241844\n",
            "[149]\tvalidation_0-logloss:0.013119\tvalidation_1-logloss:0.241514\n",
            "[150]\tvalidation_0-logloss:0.013096\tvalidation_1-logloss:0.241784\n",
            "[151]\tvalidation_0-logloss:0.013067\tvalidation_1-logloss:0.241238\n",
            "[152]\tvalidation_0-logloss:0.013041\tvalidation_1-logloss:0.240935\n",
            "[153]\tvalidation_0-logloss:0.013017\tvalidation_1-logloss:0.241683\n",
            "[154]\tvalidation_0-logloss:0.012992\tvalidation_1-logloss:0.241178\n",
            "[155]\tvalidation_0-logloss:0.012969\tvalidation_1-logloss:0.240916\n",
            "[156]\tvalidation_0-logloss:0.012946\tvalidation_1-logloss:0.241629\n",
            "[157]\tvalidation_0-logloss:0.012924\tvalidation_1-logloss:0.241872\n",
            "[158]\tvalidation_0-logloss:0.012903\tvalidation_1-logloss:0.241623\n",
            "[159]\tvalidation_0-logloss:0.012883\tvalidation_1-logloss:0.241871\n",
            "[160]\tvalidation_0-logloss:0.012862\tvalidation_1-logloss:0.241209\n",
            "[161]\tvalidation_0-logloss:0.012843\tvalidation_1-logloss:0.241669\n",
            "[162]\tvalidation_0-logloss:0.012825\tvalidation_1-logloss:0.241242\n",
            "[163]\tvalidation_0-logloss:0.012804\tvalidation_1-logloss:0.240816\n",
            "[164]\tvalidation_0-logloss:0.012786\tvalidation_1-logloss:0.241029\n",
            "[165]\tvalidation_0-logloss:0.012769\tvalidation_1-logloss:0.241269\n",
            "[166]\tvalidation_0-logloss:0.012752\tvalidation_1-logloss:0.240996\n",
            "[167]\tvalidation_0-logloss:0.012733\tvalidation_1-logloss:0.240385\n",
            "[168]\tvalidation_0-logloss:0.012717\tvalidation_1-logloss:0.240821\n",
            "[169]\tvalidation_0-logloss:0.012701\tvalidation_1-logloss:0.24044\n",
            "[170]\tvalidation_0-logloss:0.012683\tvalidation_1-logloss:0.239887\n",
            "[171]\tvalidation_0-logloss:0.012666\tvalidation_1-logloss:0.239655\n",
            "[172]\tvalidation_0-logloss:0.012649\tvalidation_1-logloss:0.240275\n",
            "[173]\tvalidation_0-logloss:0.012633\tvalidation_1-logloss:0.240479\n",
            "[174]\tvalidation_0-logloss:0.012618\tvalidation_1-logloss:0.240905\n",
            "[175]\tvalidation_0-logloss:0.012602\tvalidation_1-logloss:0.240378\n",
            "[176]\tvalidation_0-logloss:0.012586\tvalidation_1-logloss:0.240153\n",
            "[177]\tvalidation_0-logloss:0.012569\tvalidation_1-logloss:0.239764\n",
            "[178]\tvalidation_0-logloss:0.012553\tvalidation_1-logloss:0.2402\n",
            "[179]\tvalidation_0-logloss:0.012536\tvalidation_1-logloss:0.240435\n",
            "[180]\tvalidation_0-logloss:0.012521\tvalidation_1-logloss:0.239932\n",
            "[181]\tvalidation_0-logloss:0.012507\tvalidation_1-logloss:0.240359\n",
            "[182]\tvalidation_0-logloss:0.012493\tvalidation_1-logloss:0.240148\n",
            "[183]\tvalidation_0-logloss:0.01248\tvalidation_1-logloss:0.240357\n",
            "[184]\tvalidation_0-logloss:0.012467\tvalidation_1-logloss:0.240137\n",
            "[185]\tvalidation_0-logloss:0.012453\tvalidation_1-logloss:0.239666\n",
            "[186]\tvalidation_0-logloss:0.012439\tvalidation_1-logloss:0.240098\n",
            "[187]\tvalidation_0-logloss:0.012426\tvalidation_1-logloss:0.239747\n",
            "[188]\tvalidation_0-logloss:0.012413\tvalidation_1-logloss:0.239296\n",
            "[189]\tvalidation_0-logloss:0.012401\tvalidation_1-logloss:0.239499\n",
            "[190]\tvalidation_0-logloss:0.01239\tvalidation_1-logloss:0.239303\n",
            "[191]\tvalidation_0-logloss:0.012375\tvalidation_1-logloss:0.23974\n",
            "[192]\tvalidation_0-logloss:0.012372\tvalidation_1-logloss:0.239589\n",
            "[193]\tvalidation_0-logloss:0.012361\tvalidation_1-logloss:0.239396\n",
            "[194]\tvalidation_0-logloss:0.012361\tvalidation_1-logloss:0.239396\n",
            "[195]\tvalidation_0-logloss:0.012361\tvalidation_1-logloss:0.239396\n",
            "[196]\tvalidation_0-logloss:0.012361\tvalidation_1-logloss:0.239395\n",
            "[197]\tvalidation_0-logloss:0.012361\tvalidation_1-logloss:0.239395\n",
            "[198]\tvalidation_0-logloss:0.012361\tvalidation_1-logloss:0.239395\n",
            "[199]\tvalidation_0-logloss:0.012361\tvalidation_1-logloss:0.239395\n",
            "[200]\tvalidation_0-logloss:0.012361\tvalidation_1-logloss:0.239395\n",
            "[201]\tvalidation_0-logloss:0.012361\tvalidation_1-logloss:0.239395\n",
            "[202]\tvalidation_0-logloss:0.012361\tvalidation_1-logloss:0.239395\n",
            "[203]\tvalidation_0-logloss:0.012361\tvalidation_1-logloss:0.239394\n",
            "[204]\tvalidation_0-logloss:0.012361\tvalidation_1-logloss:0.239394\n",
            "[205]\tvalidation_0-logloss:0.012361\tvalidation_1-logloss:0.239394\n",
            "[206]\tvalidation_0-logloss:0.012361\tvalidation_1-logloss:0.239394\n",
            "[207]\tvalidation_0-logloss:0.012361\tvalidation_1-logloss:0.239394\n",
            "[208]\tvalidation_0-logloss:0.012361\tvalidation_1-logloss:0.239394\n",
            "[209]\tvalidation_0-logloss:0.012361\tvalidation_1-logloss:0.239394\n",
            "[210]\tvalidation_0-logloss:0.012361\tvalidation_1-logloss:0.239394\n",
            "[211]\tvalidation_0-logloss:0.012361\tvalidation_1-logloss:0.239394\n",
            "[212]\tvalidation_0-logloss:0.012361\tvalidation_1-logloss:0.239394\n",
            "[213]\tvalidation_0-logloss:0.012361\tvalidation_1-logloss:0.239394\n",
            "[214]\tvalidation_0-logloss:0.012361\tvalidation_1-logloss:0.239394\n",
            "[215]\tvalidation_0-logloss:0.012361\tvalidation_1-logloss:0.239394\n",
            "[216]\tvalidation_0-logloss:0.012361\tvalidation_1-logloss:0.239394\n",
            "[217]\tvalidation_0-logloss:0.012361\tvalidation_1-logloss:0.239394\n",
            "[218]\tvalidation_0-logloss:0.012361\tvalidation_1-logloss:0.239394\n",
            "[219]\tvalidation_0-logloss:0.012361\tvalidation_1-logloss:0.239394\n",
            "[220]\tvalidation_0-logloss:0.012361\tvalidation_1-logloss:0.239394\n",
            "[221]\tvalidation_0-logloss:0.012361\tvalidation_1-logloss:0.239394\n",
            "[222]\tvalidation_0-logloss:0.012361\tvalidation_1-logloss:0.239394\n",
            "[223]\tvalidation_0-logloss:0.012361\tvalidation_1-logloss:0.239394\n",
            "[224]\tvalidation_0-logloss:0.012361\tvalidation_1-logloss:0.239394\n",
            "[225]\tvalidation_0-logloss:0.012361\tvalidation_1-logloss:0.239394\n",
            "[226]\tvalidation_0-logloss:0.012361\tvalidation_1-logloss:0.239394\n",
            "[227]\tvalidation_0-logloss:0.012361\tvalidation_1-logloss:0.239394\n",
            "[228]\tvalidation_0-logloss:0.012361\tvalidation_1-logloss:0.239394\n",
            "[229]\tvalidation_0-logloss:0.012361\tvalidation_1-logloss:0.239394\n",
            "[230]\tvalidation_0-logloss:0.012361\tvalidation_1-logloss:0.239394\n",
            "[231]\tvalidation_0-logloss:0.012361\tvalidation_1-logloss:0.239394\n",
            "[232]\tvalidation_0-logloss:0.012361\tvalidation_1-logloss:0.239394\n",
            "[233]\tvalidation_0-logloss:0.012361\tvalidation_1-logloss:0.239394\n",
            "[234]\tvalidation_0-logloss:0.012361\tvalidation_1-logloss:0.239394\n",
            "[235]\tvalidation_0-logloss:0.012361\tvalidation_1-logloss:0.239394\n",
            "[236]\tvalidation_0-logloss:0.012361\tvalidation_1-logloss:0.239394\n",
            "[237]\tvalidation_0-logloss:0.012361\tvalidation_1-logloss:0.239394\n",
            "[238]\tvalidation_0-logloss:0.012361\tvalidation_1-logloss:0.239394\n",
            "Stopping. Best iteration:\n",
            "[188]\tvalidation_0-logloss:0.012413\tvalidation_1-logloss:0.239296\n",
            "\n"
          ]
        },
        {
          "output_type": "execute_result",
          "data": {
            "text/plain": [
              "XGBClassifier(colsample_bytree=0.60447, learning_rate=0.19148, max_depth=17,\n",
              "              min_child_weight=2, n_estimators=400)"
            ]
          },
          "metadata": {},
          "execution_count": 37
        }
      ]
    },
    {
      "cell_type": "code",
      "source": [
        "preds = xgb_wrapper.predict(X_test)\n",
        "pred_proba = xgb_wrapper.predict_proba(X_test)[:, 1]\n",
        "\n",
        "get_clf_eval(y_test, preds, pred_proba)"
      ],
      "metadata": {
        "id": "T2SUxOMgKWJm",
        "outputId": "cda689ea-d786-4b17-e7b9-cdf8ef022675",
        "colab": {
          "base_uri": "https://localhost:8080/"
        }
      },
      "execution_count": 38,
      "outputs": [
        {
          "output_type": "stream",
          "name": "stdout",
          "text": [
            "오차 행렬\n",
            "[[34  3]\n",
            " [ 2 75]]\n",
            "정확도: 0.9561, 정밀도: 0.9615, 재현율: 0.9740, F1: 0.9677, AUC: 0.9947\n"
          ]
        }
      ]
    }
  ]
}