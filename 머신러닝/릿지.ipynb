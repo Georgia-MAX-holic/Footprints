{
  "nbformat": 4,
  "nbformat_minor": 0,
  "metadata": {
    "colab": {
      "provenance": [],
      "authorship_tag": "ABX9TyMJ32kAz9nj+iWdGz2U6Kg6",
      "include_colab_link": true
    },
    "kernelspec": {
      "name": "python3",
      "display_name": "Python 3"
    },
    "language_info": {
      "name": "python"
    }
  },
  "cells": [
    {
      "cell_type": "markdown",
      "metadata": {
        "id": "view-in-github",
        "colab_type": "text"
      },
      "source": [
        "<a href=\"https://colab.research.google.com/github/Georgia-MAX-holic/footprints/blob/main/%EB%A8%B8%EC%8B%A0%EB%9F%AC%EB%8B%9D/%EB%A6%BF%EC%A7%80.ipynb\" target=\"_parent\"><img src=\"https://colab.research.google.com/assets/colab-badge.svg\" alt=\"Open In Colab\"/></a>"
      ]
    },
    {
      "cell_type": "markdown",
      "source": [
        "### 규제 선형 회귀 개요 \n",
        "\n",
        "- 모든 데이터에 적합한 회귀식을 만들기 위해 다항식이 복잡해지고 회귀 계수가 매우 크게 설정이 되며 과대적합이 되는 경우가 있음  또한 평가 데이터 세트에서 낮은 성능을 보임 \n",
        "\n",
        "- 따라서 회귀 모델은 적절히 데이터에 적합하면서도 회귀 계수가 기하급수적으로 커지는 것을 제어 할 수 있어야 함 \n",
        "\n"
      ],
      "metadata": {
        "id": "pKnlti1Ectnv"
      }
    },
    {
      "cell_type": "markdown",
      "source": [
        "![화면 캡처 2023-01-09 163626.jpg](data:image/jpeg;base64,/9j/4AAQSkZJRgABAQEAYABgAAD/2wBDAAMCAgMCAgMDAwMEAwMEBQgFBQQEBQoHBwYIDAoMDAsKCwsNDhIQDQ4RDgsLEBYQERMUFRUVDA8XGBYUGBIUFRT/2wBDAQMEBAUEBQkFBQkUDQsNFBQUFBQUFBQUFBQUFBQUFBQUFBQUFBQUFBQUFBQUFBQUFBQUFBQUFBQUFBQUFBQUFBT/wAARCAAoAWgDASIAAhEBAxEB/8QAHwAAAQUBAQEBAQEAAAAAAAAAAAECAwQFBgcICQoL/8QAtRAAAgEDAwIEAwUFBAQAAAF9AQIDAAQRBRIhMUEGE1FhByJxFDKBkaEII0KxwRVS0fAkM2JyggkKFhcYGRolJicoKSo0NTY3ODk6Q0RFRkdISUpTVFVWV1hZWmNkZWZnaGlqc3R1dnd4eXqDhIWGh4iJipKTlJWWl5iZmqKjpKWmp6ipqrKztLW2t7i5usLDxMXGx8jJytLT1NXW19jZ2uHi4+Tl5ufo6erx8vP09fb3+Pn6/8QAHwEAAwEBAQEBAQEBAQAAAAAAAAECAwQFBgcICQoL/8QAtREAAgECBAQDBAcFBAQAAQJ3AAECAxEEBSExBhJBUQdhcRMiMoEIFEKRobHBCSMzUvAVYnLRChYkNOEl8RcYGRomJygpKjU2Nzg5OkNERUZHSElKU1RVVldYWVpjZGVmZ2hpanN0dXZ3eHl6goOEhYaHiImKkpOUlZaXmJmaoqOkpaanqKmqsrO0tba3uLm6wsPExcbHyMnK0tPU1dbX2Nna4uPk5ebn6Onq8vP09fb3+Pn6/9oADAMBAAIRAxEAPwD9U6Ka7bVZvQZrxKb9pbyv2TbT41/8I5n7RolvrH9h/bvu+bs/d+f5fON/3tnOOgoA9vorzrRPHmpah8e/Ffg+UQjSNM8OaTqsBVD5vnXNxfxybmzyu21iwMcHd1zxzfiT4peKNd+M2rfDfwrqHhzwvqGl6Xa6obzxJay30uoLO0yn7NaRz25aOPycNL5hwzbdoxkgHtNFeQfC/wCLGtax8VfFXw61+XRdb1PQNOs9Rm1zw4jw2wM8kyfZp7d5JWt5gId4XzX3I4Py457L4neNLj4f+FZ9disrO7trVt93JqGpxafBbQhWLSvNINoAIUYOPvZ7UB5HW0V86fBf9ozxP4+8ST6Jqnh/TY7qW6muYFXUGtp003zAI5VgmiV5wgZFaSP5CWHIyK9C/Z1+IGqfFH4O+H/E2siBdSvvP80WyFI/kuJIxgEnHCDv1oA9JorxL4rftFp4L8ZaPpOg2L+JLLT7zzPGlzp1u93/AGDYGJwsknlsNsvnPA5TDsIVmcoFG4ew6RrFj4g0u11LTL231HTrqNZre7tJVlimRhlXR1JDKRyCDg0b6gXKK8n/AGk/ihqnwn8C6bquk6houkT3muafpUmpeIIGmsrOK4uFieaRVmhJCKxbmRRxya8b8eftMeIfBfhuXV9O+N/wb8ZXcVxbRLoel6PIlzdCSeONhGw1mQhgrls7G+70oWoH15RWN4qu9ds9Ann8N6dp+rayu3ybTVL+Sxt3G4bt0yQTMuF3EYjbJAHGcjxG1/aC+IV74A0bxtD4S+H8nhjWJLKKxvh4z1P9613PHb2w2f2HvXfLNGvzKNu7LYAJB5AfQ9FZ/h+fVbnRrSXW7Oz0/VmTNza6fdvdQRv6JK8UTOPcxr9K0KACiuc+IXxE8OfCnwff+KfFmqw6L4fsNn2m+nDFI97rGuQoJ5Z1HA71bk8YaJF4RbxUdUtT4cWxOpnVFkDQfZRH5nnBxwU2fNn05o8wNiiuF8OfHDwP4us/CF1o3iCDULbxcZxoksMchW8MKM8oB2/KVVHzvx90jrxXdUAFFc78QvHmk/DHwbqnibW5JI9O0+MO6wpvllZmCRxRr/FI7sqKvdmUd6s+LPF2keBfC+peItfvU0vRtNt3ury6lBKwxqMsxABJwOwBNIDZorgvA/x28B/EaXU4dB8SW1xdaXEJ76zuVe1uLeIjIleKZUdYz/fK7eDzUHgz9ob4b/EKbU4vD/jHTNROm2zXtwwl8tBbKSDcqzgLJCCCPNQlP9qmB6JRXB/D/wCOvgH4qX15ZeFPE9lrN3axLcPDCWVmgZiqzx7gPMiJBAlTchPRqk8D/Gbwt8QIfD7aZeSRy+ILG41TS7e6haKS7s4ZUja4QEY2HzYWGSCVlQ4GTgA7iisDw/4+8PeKtZ8QaTpOrW1/qPh+5W01S2hbLWkrRrIqv9VYHI46jqCBieFvjV4U8aa3o2naLeyXy61pM2s6bepCwtry3hmSGYxuRyyNLDkEDIlUjIzgA7qiiigAopK5fwT8QtP8dXnie0s7a8tLrw7qraPfQ3kaqfOEMU4ZCrMGRo54mBz/ABcgEUAdTRVPVtQOlaVd3otprw28TS/Z7fb5km0E7V3Mq5OOMkD3rJ+HfjzS/ih4F0HxdohmOka1ZxX1p9oTZJ5cihl3Lk4OD0oA6KiiigAooribj4vaBa6X8QdQc3P2fwNJJFq2IuQyWUV43ljPzfup09OcjtmgDtqK4KH44eEZPFHhHw297dQ654q09tU0m1bT7grPAqKzsZVQxKVDLlWcEbl/vDN/Rfit4W8ReLPF/hnTdTN5rvhL7P8A2zZRW0pa28+IzQgHZiQsgJxGWwRg4PFG24t9jrqK888N/Hjwj4vsfA99o1zeXlh4zmmh0e4ksJrbzfKhlmZmSZUdVKQuVYrhvlIyCDWvD4z/AOEouvF+j+HZI49c8P3UVhPJqELNAs0lvDcqcKwLqI50PBXnIyOtAzrKK85+DPjrW/HMXieTVPsF7p+n6s1jpmt6Zbvb2+pwrFGZJEjeSQgJM00O4OVYxEjANdJp3jzS9S8da14RjaaPWtKtLa+milj2rJbzmRY5I2/iG6GVT6FeeoyCOiooooGMkBaNgOpBr87o/wBmW4/4ZV0/wMn7LfkfE2LRrazfxT9n8ND/AEtCm+f7SL7z+drfNt3HPSv0UpKFo7iPGPC4P/DXXxBH/UleH/8A0t1evEvi58F4Pid8Uv7Cudf8e/FXxB4XsCJxfWXhX+ztOjvSjiKRbjTtryuLVGGI3KqvLJvw31fY/D/TtP8AiNrHjSOW5bVdU0yz0maJnXyVitpbmWNlG3IYtdyZJYghVwBg5yvF3wV8K+NPEH9uXserWGsNAtrLe6Drt9pMs8SliiTG0mi80IXfb5m7bvfbjccp9P67jS3/AK7Hg37OPwzg8A+Ota8Iad4n8d+B9Vilt/El74XurPw4NP1GFgtsJITaWPyREWixMkZhdSN2FLh2+gvi54H034hfD/UtI1W4vLO2Vob9LrTygngmtpkuYZUDqyFlkhRtrqynGGBBIp3gX4T+G/h1daheaPb3smoagEW61DVtUutTu5ETOyPz7qWSQRqWciMNtBdyACzE9XdWsd9azW8y74ZkMbrnGVIwR+VEr8um4LfU+SvAnirxf8RdQ8EfEnW/h74/8Y2tjaNqPhtrODw9psAW6tyn2mVG1dpHkMEjKASiASEmPcFK7n7M/wALfDtx+y+jeBtL0LT9R8TxTR6hqXiPwvDK2oL9qmDx39tBcjzwEeWMA3BGGzyCVPouk/sv+CNB0qz0zTbvxpp+nWcKW9taW3jzXY4oYkUKiIovMKoAAAHAArufAfgPRPhn4T0/w14ctHsdGsFZbeCS4knZQzl2zJIzOxLMTlmJ5pu2otTwLV7f4rfBe5+HXhPQNd+Gen6T4g1mTRoLXTfAN1aQWIFndXhkWJNW2nJtiu0beZC2eMH0n4V/CvX/AAN4r1rWdTn8AyHWF33svhbwZJo95d3AbKyzztfT+aADJwy5y+dw5B67xZ8P9O8Za34R1S9luY7jwzqbatZrAyhHma1ntiJMqSV2XMhwCDuC84BB1tdh1SbS5k0a7tLHUm2+VcX1q1zCvzDdujWSMtlcgYcYJB5xgi31FLRaI84+Nnh/xXMkGq+HNe8e4AS2bQfBsXh87jl2NwzarD1+6pCy9lwn3jXz5e2fij4WxeIPE2ot8d9Bs9Uv4LzVtSmj8Bzp5xjgs0kKIrsAEigUiNP4c4JJJ+ytDh1SDS4I9Zu7S+1IbvNuLG1a2hb5jjbG0khXC4By5yQTxnAyviJ4D0/4meD7/wAN6pLcwWN4YzJJaMqyDZIsgwWVh1QZ46ZoWjKTur2OU8VT2fgvwNZaF4i+MV54d1S4Z2h8TalNpFvqFwFcMyqklqLYgB1Q7YMhdvO47j8V+HtU0pv2S/hyH/aFvoLhdV8OlvD4utACWYGtWhMgU2RmHkjMw3uyjyxvDJuU/ozd6Zaahs+1WsNxszt86MNjPXGR7VX/AOEZ0r/oG2f/AH4T/CjrcXSxkfDbWtL1jwvEml+NY/HwtWMM+tC4tJZJJPvYk+yokSsAy8Ki8Y45yfCfEPj34o2/jHUre01XxMmmx38scMcXw4M8YiEhChZ/tY3rtxiTaMjnAzivpm0sbewjKW0EduhOSsSBQT64FT0dbj6WPEf2yI1m+BciOodG8ReHQysMgj+2rLIIrwvQ7ue6a3/ZQnaW4l0nxEyXLSF3LeDogl7b7mKgFWWS304jnO2TnivtPWtB03xJp5sdWsLbU7IyxzfZ7uJZY/MjkWSNtrAjKuisD2KgjkVCvhTRU8TP4jXSbJfEElounvqot0+1NbBy4hMmN3lhyW25xk5oX9fh/l+IHxZ+zPr+paZ4C/Zf0601C6tbDUdY8Spe2sEzJHcqiag6LIoOHCuAwBzggHqKp/DPXvGml/DP4K/Eu5+IXibV9W1rxlH4bvdO1C883T5NPmvp7fyzDjmVdiuJ2LS5yu7ZhB9o6Z8OfCuiw6PFp/hzSrGLRpJpdNS3s44xZPKGErRAD5C/mPuK4zvbPU0Q/Dvwva6Ppukw+HNLi0vTLpb6xsks4xDa3CuZFmjQDCOHZmDDBySe9G7b8wZ5B+2BqV3aWfwesY5Xi07U/iVoVvqBVchokkkniVvY3EFv+lan7bOf+GS/ivjg/wBgXOM/7tdx8Yvhv/wtbwFd6BHqcmiX/wBotb+w1SKFZms7y2uI7i3l2EgOBJEm5cjcu5cjOR0uuaBpvijRbvSNasLbVdMvIzDc2d5CssMyHqrowIIPoalq8Wv62QLSSZ8lx+D9S8YftB+NfDvxp1bTBqGo/D250zR9Q8MW76dZz6TcTbNQZxPJMwuI3FvjLsgWRWAyWrX0pde0u6u/2c/idqul69oGs+DbuOw8VaMv9n3sdjGIbSRLuBi8cch+0DZMh2MVI2A5FfSPiLwL4b8XSRSa7oOmay8dvcWaNqFpHOVgnUJPENwPySKArr0YAA5rn9B+Avw08K6bq+m6N8PvC+lafrEAttRtbPR7eKO9iGQI5lVAJEG5vlbI5PrT6W/rr/mHW/8AXT/I+dvHHxE+IXw48G/En4W+Kb/SfFGrWnw21bXdE8T6LEbS6eK3hEGLy13MI5TJJuWSNgj7WARSuK3/AIo2Oj/C3wb+z78QLH7PaaF4MurLSbm5Z9scOk39stkxJ6bVlazkOeMRZr2/w18Efh74K0vV9P8ADvgnw/4fs9Wh+z6hDpWmw2ouo9pXbJ5ajcMMwAPTJqn4H+D9hofwV0b4beJzZ+NNI06wj0t/7QsVMV1bRfLCssTs4ZgixhiThmUsAudoLvXvp+otNF01/Q+I7XxPqXwR0OfxnAYrTXfjn4Qv7y0iW2bzW16TUHm06IkdW8nWPLwedtmOmK+lPFXw/wBJ+G3ij9l3RtMPlzaFqlxoNq2cO9mNBvvMB55Ba2t2PuqntXtuqeBfDeuQ6LFqOg6bfRaJcRXmlpcWkcgsZoxiOSEEfu3UHAZcEdqwta+F8fiP4weFvG9/eRzQeG9OvbbTtNNtzHdXRiElyZd/URRGNVCjAmkO47gAabL+ktV/kD133/zOL/bD1zxt4e+APj278IWOmSRQ+GtVlvdQutYnsLqxVbVystqsVvL5sg+dgGeLBVfm5JXv/hbqHi/UPDEcnjHStH0m+wvkro2rTaikkexTvd5baAq+c/KFYcA7ucDrpIkmjaORVdGGGVhkEHqCKcAAMAYFPuFtUz448UfEq7t/GXw78SaB4l8U6xBq3xBfw/JrNxdpb6NdWbz3cb2MdiJgHMJjCLc+RvcwbvNIbBzvjVqN9ofwe/au1fStX1HQ9U0zxfbXdtfaXfzWcsTjStHHLxOpKkEgqTgg19QRfAr4cQapNqUXgPw3FqM16upSXkelQLM10JPME5cLnzA537s53c5zXE/tGfAWT4gfBTx/4W8C6T4f03xB4uaNr26vi1rFcSb0LyzPFFIzvsTaMqc8DIAqY+7/AF6f5FdfL/h/8zn1j1rwD+0np2gWvivXPEekeJfCOo6jqtjq92LhLe5tZLWOK7iXaBAJBcSK0cQSIkAhARXmX7OtrrHhDwL+yVrNp4r1qS38Q6eNC1HRpbkHT5bb+yLm7i22+NqyRy2q4mXEjB2VmZdoX6x8N/DXwx4dtpmsfC+j6Tc3lnFZXn2C1RfMhjUhIS4VS0aBmCqQAATgDNOtfhf4QsbXw/a2/hjSbe28OsX0eGOzjVNOYqVJgAGIvlJHy44JHQ1a00/rr/mTuv67I+YLj4nXkfjv4R+ItD8ReKNdsvEnjS50K412+uUt9I1CxMd+RbxWAmwGieGJVuPIVn8okyNvw3u/7Rx8Zr8LtTHgVLp9aMUwP2XgiL7PLv5UiYN08swZkEvlHBTeK1rP4D/DbT9QW+tfAPhq1vlvl1NbmDSYEkF2pZlnDBMiQF3IbrlmOeTXd1P2bD+1c4v4RyeKpPBsP/CZRiPXFkZZBEAISmBsMXzGQpjvLiQtuJVeAPDtb/5EH9sj/r8vf/UY0+vqWvF9S+C+t3nhj4+6cl1YCfx/cXEuls0j7YRJo9rYr5/yfKfMgcnaG+UqeuVCndxlbsOOko+p5p8XbiDwH8N/2efirM6W1t4PvtNh1K7kOFh02/thZXDMf7qvLA5/6557V51qF5rfwj17w/rNvPd6X4j+M3hO7sktni3fZNduNS+1WqsRyfIXV7leTxHaf7NfZOl/DzTr74W6X4N8U6bp+vWMem29je2V1CLi1nMaKDlHXDLuXIyOw4rc1DwzpGr3Wl3N9pdneXGlTfaLCW4gV2tJSjRl4iR8jbHZcjBwxHetJfE35/gyI35UvL8tjxvxl4YsPBPxA/Zy8PaVALbTNK1C8sbWFRwkUeiXiIPwCis210eHxFq37SWlXN9rWnW17rtnby3Hh6MSX4RtE00MIR5cnzMDtztOAScjGR6Z478B6h4o+IXw2120mto7Tw1qV3eXaTMwkdJbC4t1EYCkE75lJyRwDyTwcaLwL4w8L3Xxf1nw62i3Gu+Jb+G/0KPUp5kto3j020tR9pKRlgBJbu2E3ZXbyCTtyfUtdLD/AIErYWdv4h0e217xDqt9o13Fp95Y+IIrWFtNItonihiS1ijgEZikjcGMMDuwTkEDB8Sqtp+2f4Clt3ImvfBWtxXiKfvRxXmnNCWHs0soB/229TXR/Afwb4j8F+H9Rt/E2maTY6jdXX2qe70/V5dUuNRnZQJbm5nktbYb2IVQiRhERFVNqBUTWsfhmsXxl1T4gXd+Lu4m0aDRLC0EGwWUKyyTTHfuO9pXaPPCgCFBz1quqf8AWxPRr+tzuKKKKYwpKKKAFpKKKAFooooAKKKKACiiigAooooAKKKKACiiigAooooAKKKKACsjxV4bj8WaLNpst/qGmrIVb7Tpd01tOuCDw68gHGD6g0UUpRUk09jSnUlSmpwdmjhP+FA2f/Q7eOv/AAo5/wDGj/hQNn/0O3jr/wAKOf8Axoork+p0P5T1v7Zx/wDz9f4f5B/woGz/AOh28df+FHP/AI0f8KBs/wDodvHX/hRz/wCNFFH1Oh/KH9s4/wD5+v8AD/IP+FA2f/Q7eOv/AAo5/wDGum8E/DuDwPNdyRa5r+sG4VVI1rU5LtY8E/cDHCk55PsKKKuGGo03zRjZmNbM8ZiIOnVqNp+h1lFFFdJ5YUUUUAJS0UUAFFFFABRRRQAUUUUAJS0UUAFFFFADXdY1ZmYKqjJZjgAUUUUAf//Z)"
      ],
      "metadata": {
        "id": "VCevM-b_dQck"
      }
    },
    {
      "cell_type": "markdown",
      "source": [
        "alpha 는 학습 데이터 적합 정도와 회귀 계수 값의 크기 제어를 수행하는 튜닝 파라미터 "
      ],
      "metadata": {
        "id": "VEclqxiddcKb"
      }
    },
    {
      "cell_type": "markdown",
      "source": [
        "---\n",
        "\n",
        "### 규제 선형 모델에서 alpha 의 역할 \n",
        "\n",
        "- alpha가 0(또는 매우 작은 값) 이라면 비용 함수 식은 기존과 동일한 Min(RSS(W)+0)이 될 것 \n",
        "\n",
        "- 반면 alpha가 무한대(또는 매우 큰 값)라면 비용 함수 식은 RSS(W)에 비해 alpha식이 너무 커지게 되므로 W 값을 0(또는 매우 작게) 만들어야 Cost가 최소화 되는 함수 목표를 달성 할 수 있음 \n",
        "\n",
        "- 즉 alpha 값을 크게 하면 비용 함수는 회귀 계수 W의 값을 작게 해 과적합을 개선할 수 있으며, alpha 값을 작게 하면 회귀 계수 W의 값이 커져도 어느 정도 상쇄가 가능하므로 학습 데이터 적합을 더 개선 가능 \n",
        "\n",
        "\n",
        "- alpha = 0인 경우는 W가 커도 alpha식이 0이 되어 비용 함수는 Min(RSS(W)) \n",
        "\n",
        "- alpha = 무한대인 경우 alpha식도 무한대가 되므로 비용 함수는 W를 0에 가깝게 최소화 해야 함 "
      ],
      "metadata": {
        "id": "SFo8gfOVdwUU"
      }
    },
    {
      "cell_type": "markdown",
      "source": [
        "---\n",
        "\n",
        "### 규제 선형 회귀의 유형 \n",
        "\n",
        "- 이처럼 비용 함수에 alpha 값으로 패널티를 부여해 회귀 계수 값의 크기를 감소시켜 과적합을 개선하는 방식을 규제(Regularization)라고 부름 \n",
        "\n",
        "- 규제는 크기 L2방식과 L1방식으로 구분됨. L2 규제는 alpha식과 같이 w의 제곱에 대해 패널티를 부여하는 방식. L2규제를 적용한 회귀를 릿지 회귀 라고 함 \n",
        "\n",
        "- 라쏘 회귀는 L1규제를 적용한 회귀 . L1 규제는 alpha식과 같이 w의 절댓값에 대해 패널티를 부여함 \n",
        "L1 규제를 적용하면 영향력이 크지 않은 회귀 계수 값을 0으로 변환함 \n",
        "\n",
        "- Elasticnet : L2 , L1 규제를 함께 결합한 모델 . 주로 피처가 많은 데이터 데이터 세트에서 적용되며 , L1 규제로 피처의 개수를 줄임과 동시에 L2규제로 계수 값의 크기를 조정함 \n",
        "\n",
        "\n"
      ],
      "metadata": {
        "id": "l-4CJVpFeos-"
      }
    },
    {
      "cell_type": "code",
      "execution_count": 29,
      "metadata": {
        "id": "rrleal9mcYyo"
      },
      "outputs": [],
      "source": []
    },
    {
      "cell_type": "markdown",
      "source": [
        "\n",
        "\n",
        "---\n",
        "### 릿지 회귀 \n",
        "\n",
        "- 릿지 회귀는 alpha값을 이용하여 회귀 계수의 크기를 조절함 (alpha값이 크기면 회귀 계수 값이 작아지고, alpha값이 작으면 회귀 계수 값이 커짐 )\n",
        "\n",
        "- 사이킷런은 릿지 회귀를 위해 Ridge 클래스를 제공 \n"
      ],
      "metadata": {
        "id": "VC-1T_gHk5lj"
      }
    },
    {
      "cell_type": "markdown",
      "source": [
        "- 사용법으로 Ridge 와 RidgeCV 가 있음 "
      ],
      "metadata": {
        "id": "FgS0qd7TlTFu"
      }
    },
    {
      "cell_type": "markdown",
      "source": [],
      "metadata": {
        "id": "HcVrEavDlwAf"
      }
    },
    {
      "cell_type": "code",
      "source": [
        "# 데이터 불러오기\n",
        "import seaborn as sns\n",
        "\n",
        "ans = sns.load_dataset('anscombe').query('dataset==\"III\"')\n",
        "baseline = ans.y.mean() # 기준 모델\n",
        "sns.lineplot(x='x', y=baseline, data=ans, color='red'); # 기준 모델 시각화\n",
        "sns.scatterplot(x='x', y='y', data=ans);"
      ],
      "metadata": {
        "colab": {
          "base_uri": "https://localhost:8080/",
          "height": 280
        },
        "id": "tXJ_bNDZlwZq",
        "outputId": "886e071a-3d85-4442-b0ea-534c2c7d1b57"
      },
      "execution_count": 30,
      "outputs": [
        {
          "output_type": "display_data",
          "data": {
            "text/plain": [
              "<Figure size 432x288 with 1 Axes>"
            ],
            "image/png": "[encoded data removed]"
          },
          "metadata": {
            "needs_background": "light"
          }
        }
      ]
    },
    {
      "cell_type": "code",
      "source": [
        "from sklearn.linear_model import LinearRegression , Ridge , Lasso\n",
        "# 다중 선형 회귀(OLS)\n",
        "%matplotlib inline\n",
        "\n",
        "ax = ans.plot.scatter('x', 'y')\n",
        "\n",
        "# OLS \n",
        "ols = LinearRegression()\n",
        "ols.fit(ans[['x']], ans['y'])\n",
        "# 회귀 계수와 intercept확인 \n",
        "\n",
        "m = ols.coef_[0].round(2)\n",
        "b = ols.intercept_.round(2)\n",
        "title = f'Linear Regression \\n y = {m}x + {b}'\n",
        "\n",
        "#훈련 데이터 예측 \n",
        "\n",
        "ans[\"y_pred\"]= ols.predict(ans[['x']])\n",
        "\n",
        "ans.plot('x','y_pred',ax=ax, title=title)"
      ],
      "metadata": {
        "colab": {
          "base_uri": "https://localhost:8080/",
          "height": 329
        },
        "id": "CUduusIcmErb",
        "outputId": "b7d108ce-7039-4d2d-fb4e-8395825f5d43"
      },
      "execution_count": 31,
      "outputs": [
        {
          "output_type": "execute_result",
          "data": {
            "text/plain": [
              "<matplotlib.axes._subplots.AxesSubplot at 0x7fa7c4a94100>"
            ]
          },
          "metadata": {},
          "execution_count": 31
        },
        {
          "output_type": "display_data",
          "data": {
            "text/plain": [
              "<Figure size 432x288 with 1 Axes>"
            ],
            "image/png": "[encoded data removed]"
          },
          "metadata": {
            "needs_background": "light"
          }
        }
      ]
    },
    {
      "cell_type": "markdown",
      "source": [
        "릿지 회귀"
      ],
      "metadata": {
        "id": "FH12wVvYpvIa"
      }
    },
    {
      "cell_type": "code",
      "source": [
        "#릿지 회귀 \n",
        "import numpy as np\n",
        "import matplotlib.pyplot as plt \n",
        "from sklearn.linear_model import Ridge \n",
        "\n",
        "def ridge_anscombe(alpha):\n",
        "  ans = sns.load_dataset('anscombe').query('dataset==\"III\"')\n",
        "\n",
        "  ax = ans.plot.scatter('x','y')\n",
        "\n",
        "  ridge = Ridge(alpha=alpha, normalize=True)\n",
        "  ridge.fit(ans[['x']], ans['y'])\n",
        "\n",
        "  # 회귀계수와intercept 가져오기 \n",
        "  m = ridge.coef_[0].round(2)\n",
        "  b = ridge.intercept_.round(2)\n",
        "  title = f'Ridge Regression, alpha={alpha} \\n y = {m}x + {b}'\n",
        "\n",
        "  # 예측 \n",
        "\n",
        "  ans['y_pred'] = ridge.predict(ans[['x']])\n",
        "\n",
        "  ans.plot('x','y_pred', ax=ax, title=title)\n",
        "\n",
        "alphas = np.arange(0, 2, 0.4)\n",
        "\n",
        "for alpha in alphas :\n",
        "  ridge_anscombe(alpha=alpha )\n",
        "\n"
      ],
      "metadata": {
        "colab": {
          "base_uri": "https://localhost:8080/",
          "height": 1000
        },
        "id": "jY2MZAQIpxdf",
        "outputId": "9c5a42e9-8be5-4a00-b670-11a3c399ca0e"
      },
      "execution_count": 32,
      "outputs": [
        {
          "output_type": "stream",
          "name": "stderr",
          "text": [
            "/usr/local/lib/python3.8/dist-packages/sklearn/linear_model/_base.py:141: FutureWarning: 'normalize' was deprecated in version 1.0 and will be removed in 1.2.\n",
            "If you wish to scale the data, use Pipeline with a StandardScaler in a preprocessing stage. To reproduce the previous behavior:\n",
            "\n",
            "from sklearn.pipeline import make_pipeline\n",
            "\n",
            "model = make_pipeline(StandardScaler(with_mean=False), Ridge())\n",
            "\n",
            "If you wish to pass a sample_weight parameter, you need to pass it as a fit parameter to each step of the pipeline as follows:\n",
            "\n",
            "kwargs = {s[0] + '__sample_weight': sample_weight for s in model.steps}\n",
            "model.fit(X, y, **kwargs)\n",
            "\n",
            "Set parameter alpha to: original_alpha * n_samples. \n",
            "  warnings.warn(\n",
            "/usr/local/lib/python3.8/dist-packages/sklearn/linear_model/_base.py:141: FutureWarning: 'normalize' was deprecated in version 1.0 and will be removed in 1.2.\n",
            "If you wish to scale the data, use Pipeline with a StandardScaler in a preprocessing stage. To reproduce the previous behavior:\n",
            "\n",
            "from sklearn.pipeline import make_pipeline\n",
            "\n",
            "model = make_pipeline(StandardScaler(with_mean=False), Ridge())\n",
            "\n",
            "If you wish to pass a sample_weight parameter, you need to pass it as a fit parameter to each step of the pipeline as follows:\n",
            "\n",
            "kwargs = {s[0] + '__sample_weight': sample_weight for s in model.steps}\n",
            "model.fit(X, y, **kwargs)\n",
            "\n",
            "Set parameter alpha to: original_alpha * n_samples. \n",
            "  warnings.warn(\n",
            "/usr/local/lib/python3.8/dist-packages/sklearn/linear_model/_base.py:141: FutureWarning: 'normalize' was deprecated in version 1.0 and will be removed in 1.2.\n",
            "If you wish to scale the data, use Pipeline with a StandardScaler in a preprocessing stage. To reproduce the previous behavior:\n",
            "\n",
            "from sklearn.pipeline import make_pipeline\n",
            "\n",
            "model = make_pipeline(StandardScaler(with_mean=False), Ridge())\n",
            "\n",
            "If you wish to pass a sample_weight parameter, you need to pass it as a fit parameter to each step of the pipeline as follows:\n",
            "\n",
            "kwargs = {s[0] + '__sample_weight': sample_weight for s in model.steps}\n",
            "model.fit(X, y, **kwargs)\n",
            "\n",
            "Set parameter alpha to: original_alpha * n_samples. \n",
            "  warnings.warn(\n",
            "/usr/local/lib/python3.8/dist-packages/sklearn/linear_model/_base.py:141: FutureWarning: 'normalize' was deprecated in version 1.0 and will be removed in 1.2.\n",
            "If you wish to scale the data, use Pipeline with a StandardScaler in a preprocessing stage. To reproduce the previous behavior:\n",
            "\n",
            "from sklearn.pipeline import make_pipeline\n",
            "\n",
            "model = make_pipeline(StandardScaler(with_mean=False), Ridge())\n",
            "\n",
            "If you wish to pass a sample_weight parameter, you need to pass it as a fit parameter to each step of the pipeline as follows:\n",
            "\n",
            "kwargs = {s[0] + '__sample_weight': sample_weight for s in model.steps}\n",
            "model.fit(X, y, **kwargs)\n",
            "\n",
            "Set parameter alpha to: original_alpha * n_samples. \n",
            "  warnings.warn(\n",
            "/usr/local/lib/python3.8/dist-packages/sklearn/linear_model/_base.py:141: FutureWarning: 'normalize' was deprecated in version 1.0 and will be removed in 1.2.\n",
            "If you wish to scale the data, use Pipeline with a StandardScaler in a preprocessing stage. To reproduce the previous behavior:\n",
            "\n",
            "from sklearn.pipeline import make_pipeline\n",
            "\n",
            "model = make_pipeline(StandardScaler(with_mean=False), Ridge())\n",
            "\n",
            "If you wish to pass a sample_weight parameter, you need to pass it as a fit parameter to each step of the pipeline as follows:\n",
            "\n",
            "kwargs = {s[0] + '__sample_weight': sample_weight for s in model.steps}\n",
            "model.fit(X, y, **kwargs)\n",
            "\n",
            "Set parameter alpha to: original_alpha * n_samples. \n",
            "  warnings.warn(\n"
          ]
        },
        {
          "output_type": "display_data",
          "data": {
            "text/plain": [
              "<Figure size 432x288 with 1 Axes>"
            ],
            "image/png": "[encoded data removed]"
          },
          "metadata": {
            "needs_background": "light"
          }
        },
        {
          "output_type": "display_data",
          "data": {
            "text/plain": [
              "<Figure size 432x288 with 1 Axes>"
            ],
            "image/png": "[encoded data removed]"
          },
          "metadata": {
            "needs_background": "light"
          }
        },
        {
          "output_type": "display_data",
          "data": {
            "text/plain": [
              "<Figure size 432x288 with 1 Axes>"
            ],
            "image/png": "[encoded data removed]"
          },
          "metadata": {
            "needs_background": "light"
          }
        },
        {
          "output_type": "display_data",
          "data": {
            "text/plain": [
              "<Figure size 432x288 with 1 Axes>"
            ],
            "image/png": "[encoded data removed]"
          },
          "metadata": {
            "needs_background": "light"
          }
        },
        {
          "output_type": "display_data",
          "data": {
            "text/plain": [
              "<Figure size 432x288 with 1 Axes>"
            ],
            "image/png": "[encoded data removed]"
          },
          "metadata": {
            "needs_background": "light"
          }
        }
      ]
    },
    {
      "cell_type": "markdown",
      "source": [
        "그래프를 보면 alpha인 경우에는 ols 와 같은 그래프 형태로 같은 모델임을 확인할 수 있고 , alpha값이 커질수록 직선의 기울기가 0에 가까워지면서 평균 기준모델 (Baseline)에 가까워진다 \n",
        "\n",
        "\n"
      ],
      "metadata": {
        "id": "WOUVXHV7rAEb"
      }
    },
    {
      "cell_type": "markdown",
      "source": [
        "### Ridge & RidgeCV 구체적 활용 방법 "
      ],
      "metadata": {
        "id": "rs_cEP2IXeGJ"
      }
    },
    {
      "cell_type": "code",
      "source": [],
      "metadata": {
        "id": "hGRUvaWGcgE2"
      },
      "execution_count": 32,
      "outputs": []
    },
    {
      "cell_type": "code",
      "source": [
        "import pandas as pd\n",
        "from sklearn.model_selection import train_test_split\n",
        "\n",
        "# 데이터 불러오기\n",
        "df = pd.read_csv('https://ds-lecture-data.s3.ap-northeast-2.amazonaws.com/melbourne_house_prices/MELBOURNE_HOUSE_PRICES_LESS.csv')\n",
        "\n",
        "# 범주형 특성 중 값의 종류가 너무 많은 특성은 제외\n",
        "df.drop(columns=['Suburb','Address','SellerG','Date'], inplace=True)\n",
        "\n",
        "# 결측치인 타겟 값 제거\n",
        "df.dropna(subset=['Price'], inplace=True)\n",
        "\n",
        "# 중복된 행 제거\n",
        "df.drop_duplicates(inplace=True)"
      ],
      "metadata": {
        "id": "Tyrhoj9ZBRHz"
      },
      "execution_count": 33,
      "outputs": []
    },
    {
      "cell_type": "code",
      "source": [
        "!pip install category_encoders"
      ],
      "metadata": {
        "colab": {
          "base_uri": "https://localhost:8080/"
        },
        "id": "MGwziV38dFXI",
        "outputId": "e9e048d1-8384-4eeb-8948-924664441246"
      },
      "execution_count": 34,
      "outputs": [
        {
          "output_type": "stream",
          "name": "stdout",
          "text": [
            "Looking in indexes: https://pypi.org/simple, https://us-python.pkg.dev/colab-wheels/public/simple/\n",
            "Requirement already satisfied: category_encoders in /usr/local/lib/python3.8/dist-packages (2.5.1.post0)\n",
            "Requirement already satisfied: pandas>=1.0.5 in /usr/local/lib/python3.8/dist-packages (from category_encoders) (1.3.5)\n",
            "Requirement already satisfied: numpy>=1.14.0 in /usr/local/lib/python3.8/dist-packages (from category_encoders) (1.21.6)\n",
            "Requirement already satisfied: scikit-learn>=0.20.0 in /usr/local/lib/python3.8/dist-packages (from category_encoders) (1.0.2)\n",
            "Requirement already satisfied: patsy>=0.5.1 in /usr/local/lib/python3.8/dist-packages (from category_encoders) (0.5.3)\n",
            "Requirement already satisfied: statsmodels>=0.9.0 in /usr/local/lib/python3.8/dist-packages (from category_encoders) (0.12.2)\n",
            "Requirement already satisfied: scipy>=1.0.0 in /usr/local/lib/python3.8/dist-packages (from category_encoders) (1.7.3)\n",
            "Requirement already satisfied: pytz>=2017.3 in /usr/local/lib/python3.8/dist-packages (from pandas>=1.0.5->category_encoders) (2022.7)\n",
            "Requirement already satisfied: python-dateutil>=2.7.3 in /usr/local/lib/python3.8/dist-packages (from pandas>=1.0.5->category_encoders) (2.8.2)\n",
            "Requirement already satisfied: six in /usr/local/lib/python3.8/dist-packages (from patsy>=0.5.1->category_encoders) (1.15.0)\n",
            "Requirement already satisfied: joblib>=0.11 in /usr/local/lib/python3.8/dist-packages (from scikit-learn>=0.20.0->category_encoders) (1.2.0)\n",
            "Requirement already satisfied: threadpoolctl>=2.0.0 in /usr/local/lib/python3.8/dist-packages (from scikit-learn>=0.20.0->category_encoders) (3.1.0)\n"
          ]
        }
      ]
    },
    {
      "cell_type": "code",
      "source": [
        "from category_encoders import OneHotEncoder\n",
        "\n",
        "# 사용할 특성들과 타겟을 별도로 분리 \n",
        "target = \"Price\"\n",
        "\n",
        "data =df.drop(target, axis=1)\n",
        "target = df[target]\n",
        "\n",
        "X_train, X_test, y_train, y_test = train_test_split(data, target, train_size=0.8, test_size=0.2, random_state=2)\n",
        "\n",
        "\n",
        "encoder = OneHotEncoder(use_cat_names = True)\n",
        "X_train = encoder.fit_transform(X_train)\n",
        "X_test = encoder.transform(X_test)"
      ],
      "metadata": {
        "id": "3np3hqwLXalE"
      },
      "execution_count": 35,
      "outputs": []
    },
    {
      "cell_type": "code",
      "source": [
        "from sklearn.linear_model import Ridge\n",
        "from sklearn.metrics import mean_absolute_error ,r2_score\n",
        "\n",
        "alphas = [0,0.001,0.01,0.1 , 1 ]\n",
        "\n",
        "for alpha in alphas:\n",
        "  ridge = Ridge(alpha = alpha , normalize = True)\n",
        "  ridge.fit(X_train, y_train)\n",
        "  y_pred = ridge.predict(X_test)\n",
        "\n",
        "  mae = mean_absolute_error(y_test, y_pred)\n",
        "  r2 = r2_score(y_test, y_pred)\n",
        "  print(f'Test MAE: ${mae:,.0f}')\n",
        "  print(f'R2 Score: {r2:,.4f}\\n')"
      ],
      "metadata": {
        "colab": {
          "base_uri": "https://localhost:8080/"
        },
        "id": "KyHYR7SRdW-W",
        "outputId": "0454aaf0-0677-448c-9cce-bbc4c04df3b8"
      },
      "execution_count": 36,
      "outputs": [
        {
          "output_type": "stream",
          "name": "stderr",
          "text": [
            "/usr/local/lib/python3.8/dist-packages/sklearn/linear_model/_base.py:141: FutureWarning: 'normalize' was deprecated in version 1.0 and will be removed in 1.2.\n",
            "If you wish to scale the data, use Pipeline with a StandardScaler in a preprocessing stage. To reproduce the previous behavior:\n",
            "\n",
            "from sklearn.pipeline import make_pipeline\n",
            "\n",
            "model = make_pipeline(StandardScaler(with_mean=False), Ridge())\n",
            "\n",
            "If you wish to pass a sample_weight parameter, you need to pass it as a fit parameter to each step of the pipeline as follows:\n",
            "\n",
            "kwargs = {s[0] + '__sample_weight': sample_weight for s in model.steps}\n",
            "model.fit(X, y, **kwargs)\n",
            "\n",
            "Set parameter alpha to: original_alpha * n_samples. \n",
            "  warnings.warn(\n",
            "/usr/local/lib/python3.8/dist-packages/sklearn/linear_model/_base.py:141: FutureWarning: 'normalize' was deprecated in version 1.0 and will be removed in 1.2.\n",
            "If you wish to scale the data, use Pipeline with a StandardScaler in a preprocessing stage. To reproduce the previous behavior:\n",
            "\n",
            "from sklearn.pipeline import make_pipeline\n",
            "\n",
            "model = make_pipeline(StandardScaler(with_mean=False), Ridge())\n",
            "\n",
            "If you wish to pass a sample_weight parameter, you need to pass it as a fit parameter to each step of the pipeline as follows:\n",
            "\n",
            "kwargs = {s[0] + '__sample_weight': sample_weight for s in model.steps}\n",
            "model.fit(X, y, **kwargs)\n",
            "\n",
            "Set parameter alpha to: original_alpha * n_samples. \n",
            "  warnings.warn(\n"
          ]
        },
        {
          "output_type": "stream",
          "name": "stdout",
          "text": [
            "Test MAE: $255,256\n",
            "R2 Score: 0.5877\n",
            "\n",
            "Test MAE: $255,264\n",
            "R2 Score: 0.5878\n",
            "\n",
            "Test MAE: $254,701\n",
            "R2 Score: 0.5874\n",
            "\n"
          ]
        },
        {
          "output_type": "stream",
          "name": "stderr",
          "text": [
            "/usr/local/lib/python3.8/dist-packages/sklearn/linear_model/_base.py:141: FutureWarning: 'normalize' was deprecated in version 1.0 and will be removed in 1.2.\n",
            "If you wish to scale the data, use Pipeline with a StandardScaler in a preprocessing stage. To reproduce the previous behavior:\n",
            "\n",
            "from sklearn.pipeline import make_pipeline\n",
            "\n",
            "model = make_pipeline(StandardScaler(with_mean=False), Ridge())\n",
            "\n",
            "If you wish to pass a sample_weight parameter, you need to pass it as a fit parameter to each step of the pipeline as follows:\n",
            "\n",
            "kwargs = {s[0] + '__sample_weight': sample_weight for s in model.steps}\n",
            "model.fit(X, y, **kwargs)\n",
            "\n",
            "Set parameter alpha to: original_alpha * n_samples. \n",
            "  warnings.warn(\n",
            "/usr/local/lib/python3.8/dist-packages/sklearn/linear_model/_base.py:141: FutureWarning: 'normalize' was deprecated in version 1.0 and will be removed in 1.2.\n",
            "If you wish to scale the data, use Pipeline with a StandardScaler in a preprocessing stage. To reproduce the previous behavior:\n",
            "\n",
            "from sklearn.pipeline import make_pipeline\n",
            "\n",
            "model = make_pipeline(StandardScaler(with_mean=False), Ridge())\n",
            "\n",
            "If you wish to pass a sample_weight parameter, you need to pass it as a fit parameter to each step of the pipeline as follows:\n",
            "\n",
            "kwargs = {s[0] + '__sample_weight': sample_weight for s in model.steps}\n",
            "model.fit(X, y, **kwargs)\n",
            "\n",
            "Set parameter alpha to: original_alpha * n_samples. \n",
            "  warnings.warn(\n"
          ]
        },
        {
          "output_type": "stream",
          "name": "stdout",
          "text": [
            "Test MAE: $252,997\n",
            "R2 Score: 0.5794\n",
            "\n",
            "Test MAE: $279,498\n",
            "R2 Score: 0.4742\n",
            "\n"
          ]
        },
        {
          "output_type": "stream",
          "name": "stderr",
          "text": [
            "/usr/local/lib/python3.8/dist-packages/sklearn/linear_model/_base.py:141: FutureWarning: 'normalize' was deprecated in version 1.0 and will be removed in 1.2.\n",
            "If you wish to scale the data, use Pipeline with a StandardScaler in a preprocessing stage. To reproduce the previous behavior:\n",
            "\n",
            "from sklearn.pipeline import make_pipeline\n",
            "\n",
            "model = make_pipeline(StandardScaler(with_mean=False), Ridge())\n",
            "\n",
            "If you wish to pass a sample_weight parameter, you need to pass it as a fit parameter to each step of the pipeline as follows:\n",
            "\n",
            "kwargs = {s[0] + '__sample_weight': sample_weight for s in model.steps}\n",
            "model.fit(X, y, **kwargs)\n",
            "\n",
            "Set parameter alpha to: original_alpha * n_samples. \n",
            "  warnings.warn(\n"
          ]
        }
      ]
    },
    {
      "cell_type": "code",
      "source": [
        "from sklearn.linear_model import RidgeCV\n",
        "from sklearn.metrics import mean_absolute_error, r2_score\n",
        "\n",
        "alphas = [0, 0.001, 0.01, 0.1, 1]\n",
        "\n",
        "# RidgeCV는 alpha로 넣고자 하는 값들을 리스트로 전달하면 내부적으로 최적의 alpha값을 찾아냄\n",
        "ridgecv = RidgeCV(alphas=alphas, normalize=True, cv=5)\n",
        "# cv : cross-validation -> 데이터를 k등분한 후 각각에 대하여 검증 진행\n",
        "# 검증 결과 가장 점수가 높은 모델을 채택\n",
        "ridgecv.fit(X_train, y_train)\n",
        "y_pred = ridgecv.predict(X_test)\n",
        "\n",
        "mae = mean_absolute_error(y_test, y_pred)\n",
        "r2 = r2_score(y_test, y_pred)\n",
        "print(f'Test MAE: ${mae:,.0f}')\n",
        "print(f'R2 Score: {r2:,.4f}\\n')\n",
        "\n",
        "print(f'alpha: {ridgecv.alpha_}') # 최종 결정된 alpha값\n",
        "print(f'cv best score: {ridgecv.best_score_}') # 최종 alpha에서의 점수(R^2 of self.predict(X) wrt. y.)"
      ],
      "metadata": {
        "colab": {
          "base_uri": "https://localhost:8080/"
        },
        "id": "X9YzS25tecvk",
        "outputId": "8f7d5c0b-6855-4e48-bd27-141b29481461"
      },
      "execution_count": 37,
      "outputs": [
        {
          "output_type": "stream",
          "name": "stderr",
          "text": [
            "/usr/local/lib/python3.8/dist-packages/sklearn/linear_model/_base.py:141: FutureWarning: 'normalize' was deprecated in version 1.0 and will be removed in 1.2.\n",
            "If you wish to scale the data, use Pipeline with a StandardScaler in a preprocessing stage. To reproduce the previous behavior:\n",
            "\n",
            "from sklearn.pipeline import make_pipeline\n",
            "\n",
            "model = make_pipeline(StandardScaler(with_mean=False), Ridge())\n",
            "\n",
            "If you wish to pass a sample_weight parameter, you need to pass it as a fit parameter to each step of the pipeline as follows:\n",
            "\n",
            "kwargs = {s[0] + '__sample_weight': sample_weight for s in model.steps}\n",
            "model.fit(X, y, **kwargs)\n",
            "\n",
            "Set parameter alpha to: original_alpha * n_samples. \n",
            "  warnings.warn(\n",
            "/usr/local/lib/python3.8/dist-packages/sklearn/linear_model/_base.py:141: FutureWarning: 'normalize' was deprecated in version 1.0 and will be removed in 1.2.\n",
            "If you wish to scale the data, use Pipeline with a StandardScaler in a preprocessing stage. To reproduce the previous behavior:\n",
            "\n",
            "from sklearn.pipeline import make_pipeline\n",
            "\n",
            "model = make_pipeline(StandardScaler(with_mean=False), Ridge())\n",
            "\n",
            "If you wish to pass a sample_weight parameter, you need to pass it as a fit parameter to each step of the pipeline as follows:\n",
            "\n",
            "kwargs = {s[0] + '__sample_weight': sample_weight for s in model.steps}\n",
            "model.fit(X, y, **kwargs)\n",
            "\n",
            "Set parameter alpha to: original_alpha * n_samples. \n",
            "  warnings.warn(\n",
            "/usr/local/lib/python3.8/dist-packages/sklearn/linear_model/_base.py:141: FutureWarning: 'normalize' was deprecated in version 1.0 and will be removed in 1.2.\n",
            "If you wish to scale the data, use Pipeline with a StandardScaler in a preprocessing stage. To reproduce the previous behavior:\n",
            "\n",
            "from sklearn.pipeline import make_pipeline\n",
            "\n",
            "model = make_pipeline(StandardScaler(with_mean=False), Ridge())\n",
            "\n",
            "If you wish to pass a sample_weight parameter, you need to pass it as a fit parameter to each step of the pipeline as follows:\n",
            "\n",
            "kwargs = {s[0] + '__sample_weight': sample_weight for s in model.steps}\n",
            "model.fit(X, y, **kwargs)\n",
            "\n",
            "Set parameter alpha to: original_alpha * n_samples. \n",
            "  warnings.warn(\n",
            "/usr/local/lib/python3.8/dist-packages/sklearn/linear_model/_base.py:141: FutureWarning: 'normalize' was deprecated in version 1.0 and will be removed in 1.2.\n",
            "If you wish to scale the data, use Pipeline with a StandardScaler in a preprocessing stage. To reproduce the previous behavior:\n",
            "\n",
            "from sklearn.pipeline import make_pipeline\n",
            "\n",
            "model = make_pipeline(StandardScaler(with_mean=False), Ridge())\n",
            "\n",
            "If you wish to pass a sample_weight parameter, you need to pass it as a fit parameter to each step of the pipeline as follows:\n",
            "\n",
            "kwargs = {s[0] + '__sample_weight': sample_weight for s in model.steps}\n",
            "model.fit(X, y, **kwargs)\n",
            "\n",
            "Set parameter alpha to: original_alpha * n_samples. \n",
            "  warnings.warn(\n",
            "/usr/local/lib/python3.8/dist-packages/sklearn/linear_model/_base.py:141: FutureWarning: 'normalize' was deprecated in version 1.0 and will be removed in 1.2.\n",
            "If you wish to scale the data, use Pipeline with a StandardScaler in a preprocessing stage. To reproduce the previous behavior:\n",
            "\n",
            "from sklearn.pipeline import make_pipeline\n",
            "\n",
            "model = make_pipeline(StandardScaler(with_mean=False), Ridge())\n",
            "\n",
            "If you wish to pass a sample_weight parameter, you need to pass it as a fit parameter to each step of the pipeline as follows:\n",
            "\n",
            "kwargs = {s[0] + '__sample_weight': sample_weight for s in model.steps}\n",
            "model.fit(X, y, **kwargs)\n",
            "\n",
            "Set parameter alpha to: original_alpha * n_samples. \n",
            "  warnings.warn(\n",
            "/usr/local/lib/python3.8/dist-packages/sklearn/linear_model/_base.py:141: FutureWarning: 'normalize' was deprecated in version 1.0 and will be removed in 1.2.\n",
            "If you wish to scale the data, use Pipeline with a StandardScaler in a preprocessing stage. To reproduce the previous behavior:\n",
            "\n",
            "from sklearn.pipeline import make_pipeline\n",
            "\n",
            "model = make_pipeline(StandardScaler(with_mean=False), Ridge())\n",
            "\n",
            "If you wish to pass a sample_weight parameter, you need to pass it as a fit parameter to each step of the pipeline as follows:\n",
            "\n",
            "kwargs = {s[0] + '__sample_weight': sample_weight for s in model.steps}\n",
            "model.fit(X, y, **kwargs)\n",
            "\n",
            "Set parameter alpha to: original_alpha * n_samples. \n",
            "  warnings.warn(\n",
            "/usr/local/lib/python3.8/dist-packages/sklearn/linear_model/_base.py:141: FutureWarning: 'normalize' was deprecated in version 1.0 and will be removed in 1.2.\n",
            "If you wish to scale the data, use Pipeline with a StandardScaler in a preprocessing stage. To reproduce the previous behavior:\n",
            "\n",
            "from sklearn.pipeline import make_pipeline\n",
            "\n",
            "model = make_pipeline(StandardScaler(with_mean=False), Ridge())\n",
            "\n",
            "If you wish to pass a sample_weight parameter, you need to pass it as a fit parameter to each step of the pipeline as follows:\n",
            "\n",
            "kwargs = {s[0] + '__sample_weight': sample_weight for s in model.steps}\n",
            "model.fit(X, y, **kwargs)\n",
            "\n",
            "Set parameter alpha to: original_alpha * n_samples. \n",
            "  warnings.warn(\n",
            "/usr/local/lib/python3.8/dist-packages/sklearn/linear_model/_base.py:141: FutureWarning: 'normalize' was deprecated in version 1.0 and will be removed in 1.2.\n",
            "If you wish to scale the data, use Pipeline with a StandardScaler in a preprocessing stage. To reproduce the previous behavior:\n",
            "\n",
            "from sklearn.pipeline import make_pipeline\n",
            "\n",
            "model = make_pipeline(StandardScaler(with_mean=False), Ridge())\n",
            "\n",
            "If you wish to pass a sample_weight parameter, you need to pass it as a fit parameter to each step of the pipeline as follows:\n",
            "\n",
            "kwargs = {s[0] + '__sample_weight': sample_weight for s in model.steps}\n",
            "model.fit(X, y, **kwargs)\n",
            "\n",
            "Set parameter alpha to: original_alpha * n_samples. \n",
            "  warnings.warn(\n",
            "/usr/local/lib/python3.8/dist-packages/sklearn/linear_model/_base.py:141: FutureWarning: 'normalize' was deprecated in version 1.0 and will be removed in 1.2.\n",
            "If you wish to scale the data, use Pipeline with a StandardScaler in a preprocessing stage. To reproduce the previous behavior:\n",
            "\n",
            "from sklearn.pipeline import make_pipeline\n",
            "\n",
            "model = make_pipeline(StandardScaler(with_mean=False), Ridge())\n",
            "\n",
            "If you wish to pass a sample_weight parameter, you need to pass it as a fit parameter to each step of the pipeline as follows:\n",
            "\n",
            "kwargs = {s[0] + '__sample_weight': sample_weight for s in model.steps}\n",
            "model.fit(X, y, **kwargs)\n",
            "\n",
            "Set parameter alpha to: original_alpha * n_samples. \n",
            "  warnings.warn(\n",
            "/usr/local/lib/python3.8/dist-packages/sklearn/linear_model/_base.py:141: FutureWarning: 'normalize' was deprecated in version 1.0 and will be removed in 1.2.\n",
            "If you wish to scale the data, use Pipeline with a StandardScaler in a preprocessing stage. To reproduce the previous behavior:\n",
            "\n",
            "from sklearn.pipeline import make_pipeline\n",
            "\n",
            "model = make_pipeline(StandardScaler(with_mean=False), Ridge())\n",
            "\n",
            "If you wish to pass a sample_weight parameter, you need to pass it as a fit parameter to each step of the pipeline as follows:\n",
            "\n",
            "kwargs = {s[0] + '__sample_weight': sample_weight for s in model.steps}\n",
            "model.fit(X, y, **kwargs)\n",
            "\n",
            "Set parameter alpha to: original_alpha * n_samples. \n",
            "  warnings.warn(\n",
            "/usr/local/lib/python3.8/dist-packages/sklearn/linear_model/_base.py:141: FutureWarning: 'normalize' was deprecated in version 1.0 and will be removed in 1.2.\n",
            "If you wish to scale the data, use Pipeline with a StandardScaler in a preprocessing stage. To reproduce the previous behavior:\n",
            "\n",
            "from sklearn.pipeline import make_pipeline\n",
            "\n",
            "model = make_pipeline(StandardScaler(with_mean=False), Ridge())\n",
            "\n",
            "If you wish to pass a sample_weight parameter, you need to pass it as a fit parameter to each step of the pipeline as follows:\n",
            "\n",
            "kwargs = {s[0] + '__sample_weight': sample_weight for s in model.steps}\n",
            "model.fit(X, y, **kwargs)\n",
            "\n",
            "Set parameter alpha to: original_alpha * n_samples. \n",
            "  warnings.warn(\n",
            "/usr/local/lib/python3.8/dist-packages/sklearn/linear_model/_base.py:141: FutureWarning: 'normalize' was deprecated in version 1.0 and will be removed in 1.2.\n",
            "If you wish to scale the data, use Pipeline with a StandardScaler in a preprocessing stage. To reproduce the previous behavior:\n",
            "\n",
            "from sklearn.pipeline import make_pipeline\n",
            "\n",
            "model = make_pipeline(StandardScaler(with_mean=False), Ridge())\n",
            "\n",
            "If you wish to pass a sample_weight parameter, you need to pass it as a fit parameter to each step of the pipeline as follows:\n",
            "\n",
            "kwargs = {s[0] + '__sample_weight': sample_weight for s in model.steps}\n",
            "model.fit(X, y, **kwargs)\n",
            "\n",
            "Set parameter alpha to: original_alpha * n_samples. \n",
            "  warnings.warn(\n",
            "/usr/local/lib/python3.8/dist-packages/sklearn/linear_model/_base.py:141: FutureWarning: 'normalize' was deprecated in version 1.0 and will be removed in 1.2.\n",
            "If you wish to scale the data, use Pipeline with a StandardScaler in a preprocessing stage. To reproduce the previous behavior:\n",
            "\n",
            "from sklearn.pipeline import make_pipeline\n",
            "\n",
            "model = make_pipeline(StandardScaler(with_mean=False), Ridge())\n",
            "\n",
            "If you wish to pass a sample_weight parameter, you need to pass it as a fit parameter to each step of the pipeline as follows:\n",
            "\n",
            "kwargs = {s[0] + '__sample_weight': sample_weight for s in model.steps}\n",
            "model.fit(X, y, **kwargs)\n",
            "\n",
            "Set parameter alpha to: original_alpha * n_samples. \n",
            "  warnings.warn(\n",
            "/usr/local/lib/python3.8/dist-packages/sklearn/linear_model/_base.py:141: FutureWarning: 'normalize' was deprecated in version 1.0 and will be removed in 1.2.\n",
            "If you wish to scale the data, use Pipeline with a StandardScaler in a preprocessing stage. To reproduce the previous behavior:\n",
            "\n",
            "from sklearn.pipeline import make_pipeline\n",
            "\n",
            "model = make_pipeline(StandardScaler(with_mean=False), Ridge())\n",
            "\n",
            "If you wish to pass a sample_weight parameter, you need to pass it as a fit parameter to each step of the pipeline as follows:\n",
            "\n",
            "kwargs = {s[0] + '__sample_weight': sample_weight for s in model.steps}\n",
            "model.fit(X, y, **kwargs)\n",
            "\n",
            "Set parameter alpha to: original_alpha * n_samples. \n",
            "  warnings.warn(\n",
            "/usr/local/lib/python3.8/dist-packages/sklearn/linear_model/_base.py:141: FutureWarning: 'normalize' was deprecated in version 1.0 and will be removed in 1.2.\n",
            "If you wish to scale the data, use Pipeline with a StandardScaler in a preprocessing stage. To reproduce the previous behavior:\n",
            "\n",
            "from sklearn.pipeline import make_pipeline\n",
            "\n",
            "model = make_pipeline(StandardScaler(with_mean=False), Ridge())\n",
            "\n",
            "If you wish to pass a sample_weight parameter, you need to pass it as a fit parameter to each step of the pipeline as follows:\n",
            "\n",
            "kwargs = {s[0] + '__sample_weight': sample_weight for s in model.steps}\n",
            "model.fit(X, y, **kwargs)\n",
            "\n",
            "Set parameter alpha to: original_alpha * n_samples. \n",
            "  warnings.warn(\n",
            "/usr/local/lib/python3.8/dist-packages/sklearn/linear_model/_base.py:141: FutureWarning: 'normalize' was deprecated in version 1.0 and will be removed in 1.2.\n",
            "If you wish to scale the data, use Pipeline with a StandardScaler in a preprocessing stage. To reproduce the previous behavior:\n",
            "\n",
            "from sklearn.pipeline import make_pipeline\n",
            "\n",
            "model = make_pipeline(StandardScaler(with_mean=False), Ridge())\n",
            "\n",
            "If you wish to pass a sample_weight parameter, you need to pass it as a fit parameter to each step of the pipeline as follows:\n",
            "\n",
            "kwargs = {s[0] + '__sample_weight': sample_weight for s in model.steps}\n",
            "model.fit(X, y, **kwargs)\n",
            "\n",
            "Set parameter alpha to: original_alpha * n_samples. \n",
            "  warnings.warn(\n",
            "/usr/local/lib/python3.8/dist-packages/sklearn/linear_model/_base.py:141: FutureWarning: 'normalize' was deprecated in version 1.0 and will be removed in 1.2.\n",
            "If you wish to scale the data, use Pipeline with a StandardScaler in a preprocessing stage. To reproduce the previous behavior:\n",
            "\n",
            "from sklearn.pipeline import make_pipeline\n",
            "\n",
            "model = make_pipeline(StandardScaler(with_mean=False), Ridge())\n",
            "\n",
            "If you wish to pass a sample_weight parameter, you need to pass it as a fit parameter to each step of the pipeline as follows:\n",
            "\n",
            "kwargs = {s[0] + '__sample_weight': sample_weight for s in model.steps}\n",
            "model.fit(X, y, **kwargs)\n",
            "\n",
            "Set parameter alpha to: original_alpha * n_samples. \n",
            "  warnings.warn(\n",
            "/usr/local/lib/python3.8/dist-packages/sklearn/linear_model/_base.py:141: FutureWarning: 'normalize' was deprecated in version 1.0 and will be removed in 1.2.\n",
            "If you wish to scale the data, use Pipeline with a StandardScaler in a preprocessing stage. To reproduce the previous behavior:\n",
            "\n",
            "from sklearn.pipeline import make_pipeline\n",
            "\n",
            "model = make_pipeline(StandardScaler(with_mean=False), Ridge())\n",
            "\n",
            "If you wish to pass a sample_weight parameter, you need to pass it as a fit parameter to each step of the pipeline as follows:\n",
            "\n",
            "kwargs = {s[0] + '__sample_weight': sample_weight for s in model.steps}\n",
            "model.fit(X, y, **kwargs)\n",
            "\n",
            "Set parameter alpha to: original_alpha * n_samples. \n",
            "  warnings.warn(\n",
            "/usr/local/lib/python3.8/dist-packages/sklearn/linear_model/_base.py:141: FutureWarning: 'normalize' was deprecated in version 1.0 and will be removed in 1.2.\n",
            "If you wish to scale the data, use Pipeline with a StandardScaler in a preprocessing stage. To reproduce the previous behavior:\n",
            "\n",
            "from sklearn.pipeline import make_pipeline\n",
            "\n",
            "model = make_pipeline(StandardScaler(with_mean=False), Ridge())\n",
            "\n",
            "If you wish to pass a sample_weight parameter, you need to pass it as a fit parameter to each step of the pipeline as follows:\n",
            "\n",
            "kwargs = {s[0] + '__sample_weight': sample_weight for s in model.steps}\n",
            "model.fit(X, y, **kwargs)\n",
            "\n",
            "Set parameter alpha to: original_alpha * n_samples. \n",
            "  warnings.warn(\n",
            "/usr/local/lib/python3.8/dist-packages/sklearn/linear_model/_base.py:141: FutureWarning: 'normalize' was deprecated in version 1.0 and will be removed in 1.2.\n",
            "If you wish to scale the data, use Pipeline with a StandardScaler in a preprocessing stage. To reproduce the previous behavior:\n",
            "\n",
            "from sklearn.pipeline import make_pipeline\n",
            "\n",
            "model = make_pipeline(StandardScaler(with_mean=False), Ridge())\n",
            "\n",
            "If you wish to pass a sample_weight parameter, you need to pass it as a fit parameter to each step of the pipeline as follows:\n",
            "\n",
            "kwargs = {s[0] + '__sample_weight': sample_weight for s in model.steps}\n",
            "model.fit(X, y, **kwargs)\n",
            "\n",
            "Set parameter alpha to: original_alpha * n_samples. \n",
            "  warnings.warn(\n",
            "/usr/local/lib/python3.8/dist-packages/sklearn/linear_model/_base.py:141: FutureWarning: 'normalize' was deprecated in version 1.0 and will be removed in 1.2.\n",
            "If you wish to scale the data, use Pipeline with a StandardScaler in a preprocessing stage. To reproduce the previous behavior:\n",
            "\n",
            "from sklearn.pipeline import make_pipeline\n",
            "\n",
            "model = make_pipeline(StandardScaler(with_mean=False), Ridge())\n",
            "\n",
            "If you wish to pass a sample_weight parameter, you need to pass it as a fit parameter to each step of the pipeline as follows:\n",
            "\n",
            "kwargs = {s[0] + '__sample_weight': sample_weight for s in model.steps}\n",
            "model.fit(X, y, **kwargs)\n",
            "\n",
            "Set parameter alpha to: original_alpha * n_samples. \n",
            "  warnings.warn(\n",
            "/usr/local/lib/python3.8/dist-packages/sklearn/linear_model/_base.py:141: FutureWarning: 'normalize' was deprecated in version 1.0 and will be removed in 1.2.\n",
            "If you wish to scale the data, use Pipeline with a StandardScaler in a preprocessing stage. To reproduce the previous behavior:\n",
            "\n",
            "from sklearn.pipeline import make_pipeline\n",
            "\n",
            "model = make_pipeline(StandardScaler(with_mean=False), Ridge())\n",
            "\n",
            "If you wish to pass a sample_weight parameter, you need to pass it as a fit parameter to each step of the pipeline as follows:\n",
            "\n",
            "kwargs = {s[0] + '__sample_weight': sample_weight for s in model.steps}\n",
            "model.fit(X, y, **kwargs)\n",
            "\n",
            "Set parameter alpha to: original_alpha * n_samples. \n",
            "  warnings.warn(\n",
            "/usr/local/lib/python3.8/dist-packages/sklearn/linear_model/_base.py:141: FutureWarning: 'normalize' was deprecated in version 1.0 and will be removed in 1.2.\n",
            "If you wish to scale the data, use Pipeline with a StandardScaler in a preprocessing stage. To reproduce the previous behavior:\n",
            "\n",
            "from sklearn.pipeline import make_pipeline\n",
            "\n",
            "model = make_pipeline(StandardScaler(with_mean=False), Ridge())\n",
            "\n",
            "If you wish to pass a sample_weight parameter, you need to pass it as a fit parameter to each step of the pipeline as follows:\n",
            "\n",
            "kwargs = {s[0] + '__sample_weight': sample_weight for s in model.steps}\n",
            "model.fit(X, y, **kwargs)\n",
            "\n",
            "Set parameter alpha to: original_alpha * n_samples. \n",
            "  warnings.warn(\n"
          ]
        },
        {
          "output_type": "stream",
          "name": "stdout",
          "text": [
            "Test MAE: $255,264\n",
            "R2 Score: 0.5878\n",
            "\n",
            "alpha: 0.001\n",
            "cv best score: 0.5705823371670962\n"
          ]
        },
        {
          "output_type": "stream",
          "name": "stderr",
          "text": [
            "/usr/local/lib/python3.8/dist-packages/sklearn/linear_model/_base.py:141: FutureWarning: 'normalize' was deprecated in version 1.0 and will be removed in 1.2.\n",
            "If you wish to scale the data, use Pipeline with a StandardScaler in a preprocessing stage. To reproduce the previous behavior:\n",
            "\n",
            "from sklearn.pipeline import make_pipeline\n",
            "\n",
            "model = make_pipeline(StandardScaler(with_mean=False), Ridge())\n",
            "\n",
            "If you wish to pass a sample_weight parameter, you need to pass it as a fit parameter to each step of the pipeline as follows:\n",
            "\n",
            "kwargs = {s[0] + '__sample_weight': sample_weight for s in model.steps}\n",
            "model.fit(X, y, **kwargs)\n",
            "\n",
            "Set parameter alpha to: original_alpha * n_samples. \n",
            "  warnings.warn(\n",
            "/usr/local/lib/python3.8/dist-packages/sklearn/linear_model/_base.py:141: FutureWarning: 'normalize' was deprecated in version 1.0 and will be removed in 1.2.\n",
            "If you wish to scale the data, use Pipeline with a StandardScaler in a preprocessing stage. To reproduce the previous behavior:\n",
            "\n",
            "from sklearn.pipeline import make_pipeline\n",
            "\n",
            "model = make_pipeline(StandardScaler(with_mean=False), Ridge())\n",
            "\n",
            "If you wish to pass a sample_weight parameter, you need to pass it as a fit parameter to each step of the pipeline as follows:\n",
            "\n",
            "kwargs = {s[0] + '__sample_weight': sample_weight for s in model.steps}\n",
            "model.fit(X, y, **kwargs)\n",
            "\n",
            "Set parameter alpha to: original_alpha * n_samples. \n",
            "  warnings.warn(\n",
            "/usr/local/lib/python3.8/dist-packages/sklearn/linear_model/_base.py:141: FutureWarning: 'normalize' was deprecated in version 1.0 and will be removed in 1.2.\n",
            "If you wish to scale the data, use Pipeline with a StandardScaler in a preprocessing stage. To reproduce the previous behavior:\n",
            "\n",
            "from sklearn.pipeline import make_pipeline\n",
            "\n",
            "model = make_pipeline(StandardScaler(with_mean=False), Ridge())\n",
            "\n",
            "If you wish to pass a sample_weight parameter, you need to pass it as a fit parameter to each step of the pipeline as follows:\n",
            "\n",
            "kwargs = {s[0] + '__sample_weight': sample_weight for s in model.steps}\n",
            "model.fit(X, y, **kwargs)\n",
            "\n",
            "Set parameter alpha to: original_alpha * n_samples. \n",
            "  warnings.warn(\n"
          ]
        }
      ]
    }
  ]
}