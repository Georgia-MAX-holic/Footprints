{
  "nbformat": 4,
  "nbformat_minor": 0,
  "metadata": {
    "colab": {
      "provenance": [],
      "authorship_tag": "ABX9TyN4MWK4y8DhS9GOaOfCcFg+",
      "include_colab_link": true
    },
    "kernelspec": {
      "name": "python3",
      "display_name": "Python 3"
    },
    "language_info": {
      "name": "python"
    }
  },
  "cells": [
    {
      "cell_type": "markdown",
      "metadata": {
        "id": "view-in-github",
        "colab_type": "text"
      },
      "source": [
        "<a href=\"https://colab.research.google.com/github/Georgia-MAX-holic/theory/blob/main/%EB%A8%B8%EC%8B%A0%EB%9F%AC%EB%8B%9D/K-%ED%8F%B4%EB%93%9C.ipynb\" target=\"_parent\"><img src=\"https://colab.research.google.com/assets/colab-badge.svg\" alt=\"Open In Colab\"/></a>"
      ]
    },
    {
      "cell_type": "markdown",
      "source": [
        "# **피처 **\n",
        "\n",
        "1. 데이터의 일반 속성 \n",
        "    머신러닝은 2차원 이상의 다차원 데이터에서도 많이 사용되므로 \n",
        "    타겟값을 제외한 나머지 속성을  [피처] \n",
        "\n",
        "2. 레이블, 클래스,타겟(값), 결정(값)\n",
        "    - 타겟값, 결정값 : 지도 학습시, 데이터의 학습을 위해 주어지는 정답 데이터의 학습을 위해 주어지는 정답 데이터 \n",
        "\n",
        "    - 지도 학습 중 분류의 경우에는 이 결정값을 레이블 또는 클래스로 지칭 \n",
        "\n",
        "\n",
        "# **분류** \n",
        "  - 분류 : 대표적인 지도학습(Supervied Learning) 방법 \n",
        "\n",
        "    지도학습은 학습을 위한 다양한 피처와 분류 결정값인 레이블(Label) 데이터로   모델을 학습한 뒤 , 별도 테스트 데이터 셋에서 미지의 레이블 값을 예측 \n",
        "\n",
        "  \n",
        "\n",
        "\n",
        "# **붓꽃 데이터 분류 예측 프로세스 **\n",
        "\n",
        "1. 데이터 분리 : 데이터를 학습 데이터와 테스트 데이터와 분리 \n",
        "\n",
        "2. 모델 분리 : 학습 데이터를 기반으로  ML 알고리즘을 적용해 모델 학습 \n",
        "\n",
        "3. 예측 수행 : 학습된 ML 모델을 이용해 테스트 데이터의 분류 ( 즉, 붓꽃 종류)를 예측\n",
        "\n",
        "4. 평가 : 예측된 결괏값과 테스트 데이터의 실제 결괏값을 비교해 ML 모델 성능을 평가 \n",
        "\n",
        "\n",
        "\n"
      ],
      "metadata": {
        "id": "yThPNUDOKEL1"
      }
    },
    {
      "cell_type": "code",
      "source": [
        "import sklearn\n",
        "print(sklearn\n",
        "      .__version__)"
      ],
      "metadata": {
        "id": "AXxvuTfEmzZa",
        "outputId": "cdde7fa1-81e0-48d8-d2d9-d34a3b0d6da1",
        "colab": {
          "base_uri": "https://localhost:8080/"
        }
      },
      "execution_count": 2,
      "outputs": [
        {
          "output_type": "stream",
          "name": "stdout",
          "text": [
            "1.0.2\n"
          ]
        }
      ]
    },
    {
      "cell_type": "code",
      "source": [
        "from sklearn.datasets import load_iris\n",
        "from sklearn.tree import DecisionTreeClassifier\n",
        "from sklearn.model_selection import train_test_split\n"
      ],
      "metadata": {
        "id": "38WXh2njDLmG"
      },
      "execution_count": 3,
      "outputs": []
    },
    {
      "cell_type": "code",
      "source": [
        "import pandas as pd \n",
        "\n",
        "iris = load_iris()\n",
        "\n",
        "# Feature 만 numpy로  가지고 있음 \n",
        "iris_data = iris.data \n",
        "\n",
        "# 레이블(결정값) 데이터를 numpy로 가지고 있음\n",
        "iris_label = iris.target  \n",
        "print('iris target값:' , iris_label)\n",
        "print('iris target명:' , iris.target_names)\n",
        "\n",
        "#붓꽃 데이터 세트를 확인하기 위해 DataFrame으로 변환 \n",
        "iris_df = pd.DataFrame(data = iris_data, columns=iris.feature_names)\n",
        "iris_df['label'] = iris.target\n",
        "iris_df.head(3)"
      ],
      "metadata": {
        "id": "WcAHsgi-DXCW",
        "outputId": "e85c94cd-331d-4cf8-f677-ca66461145a3",
        "colab": {
          "base_uri": "https://localhost:8080/",
          "height": 258
        }
      },
      "execution_count": 11,
      "outputs": [
        {
          "output_type": "stream",
          "name": "stdout",
          "text": [
            "iris target값: [0 0 0 0 0 0 0 0 0 0 0 0 0 0 0 0 0 0 0 0 0 0 0 0 0 0 0 0 0 0 0 0 0 0 0 0 0\n",
            " 0 0 0 0 0 0 0 0 0 0 0 0 0 1 1 1 1 1 1 1 1 1 1 1 1 1 1 1 1 1 1 1 1 1 1 1 1\n",
            " 1 1 1 1 1 1 1 1 1 1 1 1 1 1 1 1 1 1 1 1 1 1 1 1 1 1 2 2 2 2 2 2 2 2 2 2 2\n",
            " 2 2 2 2 2 2 2 2 2 2 2 2 2 2 2 2 2 2 2 2 2 2 2 2 2 2 2 2 2 2 2 2 2 2 2 2 2\n",
            " 2 2]\n",
            "iris target명: ['setosa' 'versicolor' 'virginica']\n"
          ]
        },
        {
          "output_type": "execute_result",
          "data": {
            "text/plain": [
              "   sepal length (cm)  sepal width (cm)  petal length (cm)  petal width (cm)  \\\n",
              "0                5.1               3.5                1.4               0.2   \n",
              "1                4.9               3.0                1.4               0.2   \n",
              "2                4.7               3.2                1.3               0.2   \n",
              "\n",
              "   label  \n",
              "0      0  \n",
              "1      0  \n",
              "2      0  "
            ],
            "text/html": [
              "\n",
              "  <div id=\"df-e0038343-4316-458e-bd41-540d4f8954ef\">\n",
              "    <div class=\"colab-df-container\">\n",
              "      <div>\n",
              "<style scoped>\n",
              "    .dataframe tbody tr th:only-of-type {\n",
              "        vertical-align: middle;\n",
              "    }\n",
              "\n",
              "    .dataframe tbody tr th {\n",
              "        vertical-align: top;\n",
              "    }\n",
              "\n",
              "    .dataframe thead th {\n",
              "        text-align: right;\n",
              "    }\n",
              "</style>\n",
              "<table border=\"1\" class=\"dataframe\">\n",
              "  <thead>\n",
              "    <tr style=\"text-align: right;\">\n",
              "      <th></th>\n",
              "      <th>sepal length (cm)</th>\n",
              "      <th>sepal width (cm)</th>\n",
              "      <th>petal length (cm)</th>\n",
              "      <th>petal width (cm)</th>\n",
              "      <th>label</th>\n",
              "    </tr>\n",
              "  </thead>\n",
              "  <tbody>\n",
              "    <tr>\n",
              "      <th>0</th>\n",
              "      <td>5.1</td>\n",
              "      <td>3.5</td>\n",
              "      <td>1.4</td>\n",
              "      <td>0.2</td>\n",
              "      <td>0</td>\n",
              "    </tr>\n",
              "    <tr>\n",
              "      <th>1</th>\n",
              "      <td>4.9</td>\n",
              "      <td>3.0</td>\n",
              "      <td>1.4</td>\n",
              "      <td>0.2</td>\n",
              "      <td>0</td>\n",
              "    </tr>\n",
              "    <tr>\n",
              "      <th>2</th>\n",
              "      <td>4.7</td>\n",
              "      <td>3.2</td>\n",
              "      <td>1.3</td>\n",
              "      <td>0.2</td>\n",
              "      <td>0</td>\n",
              "    </tr>\n",
              "  </tbody>\n",
              "</table>\n",
              "</div>\n",
              "      <button class=\"colab-df-convert\" onclick=\"convertToInteractive('df-e0038343-4316-458e-bd41-540d4f8954ef')\"\n",
              "              title=\"Convert this dataframe to an interactive table.\"\n",
              "              style=\"display:none;\">\n",
              "        \n",
              "  <svg xmlns=\"http://www.w3.org/2000/svg\" height=\"24px\"viewBox=\"0 0 24 24\"\n",
              "       width=\"24px\">\n",
              "    <path d=\"M0 0h24v24H0V0z\" fill=\"none\"/>\n",
              "    <path d=\"M18.56 5.44l.94 2.06.94-2.06 2.06-.94-2.06-.94-.94-2.06-.94 2.06-2.06.94zm-11 1L8.5 8.5l.94-2.06 2.06-.94-2.06-.94L8.5 2.5l-.94 2.06-2.06.94zm10 10l.94 2.06.94-2.06 2.06-.94-2.06-.94-.94-2.06-.94 2.06-2.06.94z\"/><path d=\"M17.41 7.96l-1.37-1.37c-.4-.4-.92-.59-1.43-.59-.52 0-1.04.2-1.43.59L10.3 9.45l-7.72 7.72c-.78.78-.78 2.05 0 2.83L4 21.41c.39.39.9.59 1.41.59.51 0 1.02-.2 1.41-.59l7.78-7.78 2.81-2.81c.8-.78.8-2.07 0-2.86zM5.41 20L4 18.59l7.72-7.72 1.47 1.35L5.41 20z\"/>\n",
              "  </svg>\n",
              "      </button>\n",
              "      \n",
              "  <style>\n",
              "    .colab-df-container {\n",
              "      display:flex;\n",
              "      flex-wrap:wrap;\n",
              "      gap: 12px;\n",
              "    }\n",
              "\n",
              "    .colab-df-convert {\n",
              "      background-color: #E8F0FE;\n",
              "      border: none;\n",
              "      border-radius: 50%;\n",
              "      cursor: pointer;\n",
              "      display: none;\n",
              "      fill: #1967D2;\n",
              "      height: 32px;\n",
              "      padding: 0 0 0 0;\n",
              "      width: 32px;\n",
              "    }\n",
              "\n",
              "    .colab-df-convert:hover {\n",
              "      background-color: #E2EBFA;\n",
              "      box-shadow: 0px 1px 2px rgba(60, 64, 67, 0.3), 0px 1px 3px 1px rgba(60, 64, 67, 0.15);\n",
              "      fill: #174EA6;\n",
              "    }\n",
              "\n",
              "    [theme=dark] .colab-df-convert {\n",
              "      background-color: #3B4455;\n",
              "      fill: #D2E3FC;\n",
              "    }\n",
              "\n",
              "    [theme=dark] .colab-df-convert:hover {\n",
              "      background-color: #434B5C;\n",
              "      box-shadow: 0px 1px 3px 1px rgba(0, 0, 0, 0.15);\n",
              "      filter: drop-shadow(0px 1px 2px rgba(0, 0, 0, 0.3));\n",
              "      fill: #FFFFFF;\n",
              "    }\n",
              "  </style>\n",
              "\n",
              "      <script>\n",
              "        const buttonEl =\n",
              "          document.querySelector('#df-e0038343-4316-458e-bd41-540d4f8954ef button.colab-df-convert');\n",
              "        buttonEl.style.display =\n",
              "          google.colab.kernel.accessAllowed ? 'block' : 'none';\n",
              "\n",
              "        async function convertToInteractive(key) {\n",
              "          const element = document.querySelector('#df-e0038343-4316-458e-bd41-540d4f8954ef');\n",
              "          const dataTable =\n",
              "            await google.colab.kernel.invokeFunction('convertToInteractive',\n",
              "                                                     [key], {});\n",
              "          if (!dataTable) return;\n",
              "\n",
              "          const docLinkHtml = 'Like what you see? Visit the ' +\n",
              "            '<a target=\"_blank\" href=https://colab.research.google.com/notebooks/data_table.ipynb>data table notebook</a>'\n",
              "            + ' to learn more about interactive tables.';\n",
              "          element.innerHTML = '';\n",
              "          dataTable['output_type'] = 'display_data';\n",
              "          await google.colab.output.renderOutput(dataTable, element);\n",
              "          const docLink = document.createElement('div');\n",
              "          docLink.innerHTML = docLinkHtml;\n",
              "          element.appendChild(docLink);\n",
              "        }\n",
              "      </script>\n",
              "    </div>\n",
              "  </div>\n",
              "  "
            ]
          },
          "metadata": {},
          "execution_count": 11
        }
      ]
    },
    {
      "cell_type": "code",
      "source": [
        "X_train, X_test , y_train , y_test = train_test_split(iris_data, iris_label , \n",
        "                                                      test_size = 0.2, random_state=11) "
      ],
      "metadata": {
        "id": "u42Uiqg3VnR4"
      },
      "execution_count": 12,
      "outputs": []
    },
    {
      "cell_type": "code",
      "source": [
        "#DecisionTreeClassfier 객체 생성 \n",
        "DTC = DecisionTreeClassifier(random_state=11)\n",
        "\n",
        "DTC.fit(X_train, y_train)"
      ],
      "metadata": {
        "id": "5L1-SZsDWkll",
        "outputId": "021d3366-7775-4d9f-b4bf-dd6c34d72a2c",
        "colab": {
          "base_uri": "https://localhost:8080/"
        }
      },
      "execution_count": 13,
      "outputs": [
        {
          "output_type": "execute_result",
          "data": {
            "text/plain": [
              "DecisionTreeClassifier(random_state=11)"
            ]
          },
          "metadata": {},
          "execution_count": 13
        }
      ]
    },
    {
      "cell_type": "code",
      "source": [
        "# 학습된 DecisionTreeClassifier 객체에서 테스트 데이터 세트로 예측 확인\n",
        "pred = DTC.predict(X_test)"
      ],
      "metadata": {
        "id": "BkqnnTiPYchZ"
      },
      "execution_count": 16,
      "outputs": []
    },
    {
      "cell_type": "code",
      "source": [
        "pred"
      ],
      "metadata": {
        "id": "ehzLuciTYlcp",
        "outputId": "a23d6f8d-beb8-463d-9290-f26b9ee34f75",
        "colab": {
          "base_uri": "https://localhost:8080/"
        }
      },
      "execution_count": 15,
      "outputs": [
        {
          "output_type": "execute_result",
          "data": {
            "text/plain": [
              "array([2, 2, 1, 1, 2, 0, 1, 0, 0, 1, 1, 1, 1, 2, 2, 0, 2, 1, 2, 2, 1, 0,\n",
              "       0, 1, 0, 0, 2, 1, 0, 1])"
            ]
          },
          "metadata": {},
          "execution_count": 15
        }
      ]
    },
    {
      "cell_type": "code",
      "source": [
        "#예측 정확도 평가 \n",
        "\n",
        "from sklearn.metrics import accuracy_score\n",
        "print(\"예측 정확도: {0:4f}\".format(accuracy_score(y_test,pred)))"
      ],
      "metadata": {
        "id": "Lc4I6_dSYucC",
        "outputId": "cc9683a0-244e-433a-abc8-f66d0644cdfd",
        "colab": {
          "base_uri": "https://localhost:8080/"
        }
      },
      "execution_count": 18,
      "outputs": [
        {
          "output_type": "stream",
          "name": "stdout",
          "text": [
            "예측 정확도: 0.933333\n"
          ]
        }
      ]
    },
    {
      "cell_type": "markdown",
      "source": [
        "# **교차 검증 **\n",
        "\n",
        "`학습 데이터 세트`\n",
        "\n",
        "<학습 데이터를 다시 분할하여 학습 데이터와 학습된 모델의 성능을 일차 평가하는 검증 데이터로 나눔> \n",
        "\n",
        "-> 분할 \n",
        "\n",
        "[학습 데이터 세트][검증 데이터 셋] ex) 모의고사들 \n",
        "\n",
        "\n",
        "\n",
        "\n",
        "`테스트 데이터 세트`   \n",
        "\n",
        "\n",
        "모든 학습/ 검증 과정이 완료된 후 최종적으로 성능을 평가하기 위한 세트  ex) 수능 \n",
        "\n",
        "\n"
      ],
      "metadata": {
        "id": "AB4qS7pPhYiE"
      }
    },
    {
      "cell_type": "markdown",
      "source": [
        "K 폴드 교차 검증\n",
        "\n",
        "O  학습 \n",
        "X  검증   \n",
        "\n",
        "\n",
        "<---------><->\n",
        "\n",
        " O  O  O  O  X \n",
        "\n",
        " O  O  O  X  O\n",
        "\n",
        " O  O  X  O  O\n",
        "\n",
        " O  X  O  O  O\n",
        "\n",
        " X  O  O  O  O\n",
        "\n",
        "\n",
        " => 교차 검증 최종 평가  = 평균 ( 평가[ 1,2,3,4,5])\n",
        "\n",
        "\n",
        "\n",
        "K-폴드 교차 검증( 세부)\n",
        "\n",
        "    - 일반 K 폴드 \n",
        "\n",
        "    - Stratified K 폴드 \n",
        "        = 불균형한 (Imbalanced 분포도를 가진 레이블(결정 클래스))\n",
        "            데이터가 집합을 위한 K 폴드 방식 \n",
        "\n",
        "        = 학습 데이터와 검증 데이터 세트가 가지는 레이블 분포도가 유사하도록 검증 데이터 추출\n",
        "\n",
        "\n",
        "\n",
        "\n",
        "K 폴드를 더 간단하게 \n",
        "    \n",
        "  K-Fold 클래스를 이용한 교차 검증 방법 \n",
        "\n",
        "  1. 폴드 세트 설정 \n",
        "\n",
        "  2. For 루프에서 반복적으로 학습/검증 데이터 추출 및 학습 및 예측 수행 \n",
        "\n",
        "  3. 폴드 세트 별로 예측을 평균하여 최종성능 \n",
        "\n",
        "\n",
        "\n",
        "  => cross_val_score()\n",
        "  함수로 폴드 세트 추출하여 학습/예측 평가를 한번에 \n",
        "\n",
        "  \n"
      ],
      "metadata": {
        "id": "hHdtVbL7kEHF"
      }
    },
    {
      "cell_type": "code",
      "execution_count": null,
      "metadata": {
        "id": "mwHH8Dq2JwbY"
      },
      "outputs": [],
      "source": []
    },
    {
      "cell_type": "markdown",
      "source": [],
      "metadata": {
        "id": "Wl_eSOZVkDyX"
      }
    }
  ]
}