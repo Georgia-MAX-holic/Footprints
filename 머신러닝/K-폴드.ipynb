{
  "nbformat": 4,
  "nbformat_minor": 0,
  "metadata": {
    "colab": {
      "provenance": [],
      "authorship_tag": "ABX9TyPlZU0URLVzxrcSUyoZ9oZ9",
      "include_colab_link": true
    },
    "kernelspec": {
      "name": "python3",
      "display_name": "Python 3"
    },
    "language_info": {
      "name": "python"
    }
  },
  "cells": [
    {
      "cell_type": "markdown",
      "metadata": {
        "id": "view-in-github",
        "colab_type": "text"
      },
      "source": [
        "<a href=\"https://colab.research.google.com/github/Georgia-MAX-holic/theory/blob/main/%EB%A8%B8%EC%8B%A0%EB%9F%AC%EB%8B%9D/K-%ED%8F%B4%EB%93%9C.ipynb\" target=\"_parent\"><img src=\"https://colab.research.google.com/assets/colab-badge.svg\" alt=\"Open In Colab\"/></a>"
      ]
    },
    {
      "cell_type": "markdown",
      "source": [
        "# **피처 **\n",
        "\n",
        "1. 데이터의 일반 속성 \n",
        "    머신러닝은 2차원 이상의 다차원 데이터에서도 많이 사용되므로 \n",
        "    타겟값을 제외한 나머지 속성을  [피처] \n",
        "\n",
        "2. 레이블, 클래스,타겟(값), 결정(값)\n",
        "    - 타겟값, 결정값 : 지도 학습시, 데이터의 학습을 위해 주어지는 정답 데이터의 학습을 위해 주어지는 정답 데이터 \n",
        "\n",
        "    - 지도 학습 중 분류의 경우에는 이 결정값을 레이블 또는 클래스로 지칭 \n",
        "\n",
        "\n",
        "# **분류** \n",
        "  - 분류 : 대표적인 지도학습(Supervied Learning) 방법 \n",
        "\n",
        "    지도학습은 학습을 위한 다양한 피처와 분류 결정값인 레이블(Label) 데이터로   모델을 학습한 뒤 , 별도 테스트 데이터 셋에서 미지의 레이블 값을 예측 \n",
        "\n",
        "  \n",
        "\n",
        "\n",
        "# **붓꽃 데이터 분류 예측 프로세스 **\n",
        "\n",
        "1. 데이터 분리 : 데이터를 학습 데이터와 테스트 데이터와 분리 \n",
        "\n",
        "2. 모델 분리 : 학습 데이터를 기반으로  ML 알고리즘을 적용해 모델 학습 \n",
        "\n",
        "3. 예측 수행 : 학습된 ML 모델을 이용해 테스트 데이터의 분류 ( 즉, 붓꽃 종류)를 예측\n",
        "\n",
        "4. 평가 : 예측된 결괏값과 테스트 데이터의 실제 결괏값을 비교해 ML 모델 성능을 평가 \n",
        "\n",
        "\n",
        "\n"
      ],
      "metadata": {
        "id": "yThPNUDOKEL1"
      }
    },
    {
      "cell_type": "code",
      "source": [
        "import sklearn\n",
        "print(sklearn\n",
        "      .__version__)"
      ],
      "metadata": {
        "id": "AXxvuTfEmzZa",
        "outputId": "97acffe8-d2f5-4177-c41c-c771010ac721",
        "colab": {
          "base_uri": "https://localhost:8080/"
        }
      },
      "execution_count": 1,
      "outputs": [
        {
          "output_type": "stream",
          "name": "stdout",
          "text": [
            "1.0.2\n"
          ]
        }
      ]
    },
    {
      "cell_type": "code",
      "source": [
        "from sklearn.datasets import load_iris\n",
        "from sklearn.tree import DecisionTreeClassifier\n",
        "from sklearn.model_selection import train_test_split\n"
      ],
      "metadata": {
        "id": "38WXh2njDLmG"
      },
      "execution_count": 2,
      "outputs": []
    },
    {
      "cell_type": "code",
      "source": [
        "import pandas as pd \n",
        "\n",
        "iris = load_iris()\n",
        "\n",
        "# Feature 만 numpy로  가지고 있음 \n",
        "iris_data = iris.data \n",
        "\n",
        "# 레이블(결정값) 데이터를 numpy로 가지고 있음\n",
        "iris_label = iris.target  \n",
        "print('iris target값:' , iris_label)\n",
        "print('iris target명:' , iris.target_names)\n",
        "\n",
        "#붓꽃 데이터 세트를 확인하기 위해 DataFrame으로 변환 \n",
        "iris_df = pd.DataFrame(data = iris_data, columns=iris.feature_names)\n",
        "iris_df['label'] = iris.target\n",
        "iris_df.head(3)"
      ],
      "metadata": {
        "id": "WcAHsgi-DXCW",
        "outputId": "d8e4a30b-c0fa-4711-d5da-8a044b4513d3",
        "colab": {
          "base_uri": "https://localhost:8080/",
          "height": 258
        }
      },
      "execution_count": 3,
      "outputs": [
        {
          "output_type": "stream",
          "name": "stdout",
          "text": [
            "iris target값: [0 0 0 0 0 0 0 0 0 0 0 0 0 0 0 0 0 0 0 0 0 0 0 0 0 0 0 0 0 0 0 0 0 0 0 0 0\n",
            " 0 0 0 0 0 0 0 0 0 0 0 0 0 1 1 1 1 1 1 1 1 1 1 1 1 1 1 1 1 1 1 1 1 1 1 1 1\n",
            " 1 1 1 1 1 1 1 1 1 1 1 1 1 1 1 1 1 1 1 1 1 1 1 1 1 1 2 2 2 2 2 2 2 2 2 2 2\n",
            " 2 2 2 2 2 2 2 2 2 2 2 2 2 2 2 2 2 2 2 2 2 2 2 2 2 2 2 2 2 2 2 2 2 2 2 2 2\n",
            " 2 2]\n",
            "iris target명: ['setosa' 'versicolor' 'virginica']\n"
          ]
        },
        {
          "output_type": "execute_result",
          "data": {
            "text/plain": [
              "   sepal length (cm)  sepal width (cm)  petal length (cm)  petal width (cm)  \\\n",
              "0                5.1               3.5                1.4               0.2   \n",
              "1                4.9               3.0                1.4               0.2   \n",
              "2                4.7               3.2                1.3               0.2   \n",
              "\n",
              "   label  \n",
              "0      0  \n",
              "1      0  \n",
              "2      0  "
            ],
            "text/html": [
              "\n",
              "  <div id=\"df-ddc77597-0043-41a5-83ce-24c8f76c9efd\">\n",
              "    <div class=\"colab-df-container\">\n",
              "      <div>\n",
              "<style scoped>\n",
              "    .dataframe tbody tr th:only-of-type {\n",
              "        vertical-align: middle;\n",
              "    }\n",
              "\n",
              "    .dataframe tbody tr th {\n",
              "        vertical-align: top;\n",
              "    }\n",
              "\n",
              "    .dataframe thead th {\n",
              "        text-align: right;\n",
              "    }\n",
              "</style>\n",
              "<table border=\"1\" class=\"dataframe\">\n",
              "  <thead>\n",
              "    <tr style=\"text-align: right;\">\n",
              "      <th></th>\n",
              "      <th>sepal length (cm)</th>\n",
              "      <th>sepal width (cm)</th>\n",
              "      <th>petal length (cm)</th>\n",
              "      <th>petal width (cm)</th>\n",
              "      <th>label</th>\n",
              "    </tr>\n",
              "  </thead>\n",
              "  <tbody>\n",
              "    <tr>\n",
              "      <th>0</th>\n",
              "      <td>5.1</td>\n",
              "      <td>3.5</td>\n",
              "      <td>1.4</td>\n",
              "      <td>0.2</td>\n",
              "      <td>0</td>\n",
              "    </tr>\n",
              "    <tr>\n",
              "      <th>1</th>\n",
              "      <td>4.9</td>\n",
              "      <td>3.0</td>\n",
              "      <td>1.4</td>\n",
              "      <td>0.2</td>\n",
              "      <td>0</td>\n",
              "    </tr>\n",
              "    <tr>\n",
              "      <th>2</th>\n",
              "      <td>4.7</td>\n",
              "      <td>3.2</td>\n",
              "      <td>1.3</td>\n",
              "      <td>0.2</td>\n",
              "      <td>0</td>\n",
              "    </tr>\n",
              "  </tbody>\n",
              "</table>\n",
              "</div>\n",
              "      <button class=\"colab-df-convert\" onclick=\"convertToInteractive('df-ddc77597-0043-41a5-83ce-24c8f76c9efd')\"\n",
              "              title=\"Convert this dataframe to an interactive table.\"\n",
              "              style=\"display:none;\">\n",
              "        \n",
              "  <svg xmlns=\"http://www.w3.org/2000/svg\" height=\"24px\"viewBox=\"0 0 24 24\"\n",
              "       width=\"24px\">\n",
              "    <path d=\"M0 0h24v24H0V0z\" fill=\"none\"/>\n",
              "    <path d=\"M18.56 5.44l.94 2.06.94-2.06 2.06-.94-2.06-.94-.94-2.06-.94 2.06-2.06.94zm-11 1L8.5 8.5l.94-2.06 2.06-.94-2.06-.94L8.5 2.5l-.94 2.06-2.06.94zm10 10l.94 2.06.94-2.06 2.06-.94-2.06-.94-.94-2.06-.94 2.06-2.06.94z\"/><path d=\"M17.41 7.96l-1.37-1.37c-.4-.4-.92-.59-1.43-.59-.52 0-1.04.2-1.43.59L10.3 9.45l-7.72 7.72c-.78.78-.78 2.05 0 2.83L4 21.41c.39.39.9.59 1.41.59.51 0 1.02-.2 1.41-.59l7.78-7.78 2.81-2.81c.8-.78.8-2.07 0-2.86zM5.41 20L4 18.59l7.72-7.72 1.47 1.35L5.41 20z\"/>\n",
              "  </svg>\n",
              "      </button>\n",
              "      \n",
              "  <style>\n",
              "    .colab-df-container {\n",
              "      display:flex;\n",
              "      flex-wrap:wrap;\n",
              "      gap: 12px;\n",
              "    }\n",
              "\n",
              "    .colab-df-convert {\n",
              "      background-color: #E8F0FE;\n",
              "      border: none;\n",
              "      border-radius: 50%;\n",
              "      cursor: pointer;\n",
              "      display: none;\n",
              "      fill: #1967D2;\n",
              "      height: 32px;\n",
              "      padding: 0 0 0 0;\n",
              "      width: 32px;\n",
              "    }\n",
              "\n",
              "    .colab-df-convert:hover {\n",
              "      background-color: #E2EBFA;\n",
              "      box-shadow: 0px 1px 2px rgba(60, 64, 67, 0.3), 0px 1px 3px 1px rgba(60, 64, 67, 0.15);\n",
              "      fill: #174EA6;\n",
              "    }\n",
              "\n",
              "    [theme=dark] .colab-df-convert {\n",
              "      background-color: #3B4455;\n",
              "      fill: #D2E3FC;\n",
              "    }\n",
              "\n",
              "    [theme=dark] .colab-df-convert:hover {\n",
              "      background-color: #434B5C;\n",
              "      box-shadow: 0px 1px 3px 1px rgba(0, 0, 0, 0.15);\n",
              "      filter: drop-shadow(0px 1px 2px rgba(0, 0, 0, 0.3));\n",
              "      fill: #FFFFFF;\n",
              "    }\n",
              "  </style>\n",
              "\n",
              "      <script>\n",
              "        const buttonEl =\n",
              "          document.querySelector('#df-ddc77597-0043-41a5-83ce-24c8f76c9efd button.colab-df-convert');\n",
              "        buttonEl.style.display =\n",
              "          google.colab.kernel.accessAllowed ? 'block' : 'none';\n",
              "\n",
              "        async function convertToInteractive(key) {\n",
              "          const element = document.querySelector('#df-ddc77597-0043-41a5-83ce-24c8f76c9efd');\n",
              "          const dataTable =\n",
              "            await google.colab.kernel.invokeFunction('convertToInteractive',\n",
              "                                                     [key], {});\n",
              "          if (!dataTable) return;\n",
              "\n",
              "          const docLinkHtml = 'Like what you see? Visit the ' +\n",
              "            '<a target=\"_blank\" href=https://colab.research.google.com/notebooks/data_table.ipynb>data table notebook</a>'\n",
              "            + ' to learn more about interactive tables.';\n",
              "          element.innerHTML = '';\n",
              "          dataTable['output_type'] = 'display_data';\n",
              "          await google.colab.output.renderOutput(dataTable, element);\n",
              "          const docLink = document.createElement('div');\n",
              "          docLink.innerHTML = docLinkHtml;\n",
              "          element.appendChild(docLink);\n",
              "        }\n",
              "      </script>\n",
              "    </div>\n",
              "  </div>\n",
              "  "
            ]
          },
          "metadata": {},
          "execution_count": 3
        }
      ]
    },
    {
      "cell_type": "markdown",
      "source": [
        "학습 데이터 세트 \n",
        "\n",
        "- 머신러닝 알고리즘의 학습을 위해 사용 \n",
        "\n",
        "- 데이터의 속성들과 결정값(레이블)값 모두를 가지고 있음 \n",
        "\n",
        "- 학습 데이터를 기반으로 머신러닝 알고리즘이 데이터 속성과 결정값의 패턴을 인지하고 학습 \n",
        "\n",
        "\n",
        "테스트 데이터 세트 \n",
        "\n",
        "- 테스트 데이터 세트에서 학습된 머신러닝 알고리즘을 테스트 \n",
        "\n",
        "- 테스트 데이터는 속성 데이터만 머신러닝 알고리즘에 \n",
        "  제공하며, 머신러닝 알고리즘은 제공된 데이터를 기반으로 결정값을 예측 \n",
        "\n",
        "  - 테스트 데이터는 학습 데이터와 별도의 데이터 세트로 제공되어야 함 \n",
        "\n",
        "  "
      ],
      "metadata": {
        "id": "F1xeulHj0JY1"
      }
    },
    {
      "cell_type": "markdown",
      "source": [
        "    X_train, X_test , y_train , y_test = train_test_split(iris_data.data , iris_data.target, test_size = 0.3 , random_state = 121)\n",
        "\n",
        "\n",
        "- test_size : 전체 데이터에서 테스트 데이터 세트 크기를 얼마로 샘플링할 것인가를 결정, 디폴트는 0.25 즉 25% \n",
        "\n",
        "- train_size : 전체 데이터에서 학습용 데이터 세트 크기를 얼마로 샘플링할 것인가를 결정함. test_size parameter를 통상적으로 사용하기 때문에 train_size는 잘 사용되지 않음 \n",
        "\n",
        "- shuffle : 데이터를 분리하기 전에 데이터를 미리 섞을지를 결정함. 디폴트는 True . 데이터를 분산시켜서 좀 더 효율적인 학습 및 테스트 데이터 세트를 만드는데 사용됨 \n",
        "\n",
        "- random_state : random_state는 호출할 때마다 동일한 학습/테스트용 데이터 세트를 생성하기 위해 주어지는 난수 값 .\n",
        "train_test_split()는 호출 시 무작위로 데이터를 분리하므로 random_state를 지정하지 않으면 수행할 때마다 다른 학습/테스트용 데이터를 생성함 \n"
      ],
      "metadata": {
        "id": "BUdsT2Vq0nWj"
      }
    },
    {
      "cell_type": "code",
      "source": [
        "X_train, X_test , y_train , y_test = train_test_split(iris_data, iris_label , \n",
        "                                                      test_size = 0.2, random_state=11) "
      ],
      "metadata": {
        "id": "u42Uiqg3VnR4"
      },
      "execution_count": 4,
      "outputs": []
    },
    {
      "cell_type": "code",
      "source": [
        "#DecisionTreeClassfier 객체 생성 \n",
        "DTC = DecisionTreeClassifier(random_state=11)\n",
        "\n",
        "DTC.fit(X_train, y_train)"
      ],
      "metadata": {
        "id": "5L1-SZsDWkll",
        "outputId": "34dae838-22d5-4092-b143-ac585cb6605d",
        "colab": {
          "base_uri": "https://localhost:8080/"
        }
      },
      "execution_count": 5,
      "outputs": [
        {
          "output_type": "execute_result",
          "data": {
            "text/plain": [
              "DecisionTreeClassifier(random_state=11)"
            ]
          },
          "metadata": {},
          "execution_count": 5
        }
      ]
    },
    {
      "cell_type": "code",
      "source": [
        "# 학습된 DecisionTreeClassifier 객체에서 테스트 데이터 세트로 예측 확인\n",
        "pred = DTC.predict(X_test)"
      ],
      "metadata": {
        "id": "BkqnnTiPYchZ"
      },
      "execution_count": 6,
      "outputs": []
    },
    {
      "cell_type": "code",
      "source": [
        "pred"
      ],
      "metadata": {
        "id": "ehzLuciTYlcp",
        "outputId": "b86b1e81-6f19-4f2b-afb9-6bd3bd853cff",
        "colab": {
          "base_uri": "https://localhost:8080/"
        }
      },
      "execution_count": 7,
      "outputs": [
        {
          "output_type": "execute_result",
          "data": {
            "text/plain": [
              "array([2, 2, 1, 1, 2, 0, 1, 0, 0, 1, 1, 1, 1, 2, 2, 0, 2, 1, 2, 2, 1, 0,\n",
              "       0, 1, 0, 0, 2, 1, 0, 1])"
            ]
          },
          "metadata": {},
          "execution_count": 7
        }
      ]
    },
    {
      "cell_type": "code",
      "source": [
        "#예측 정확도 평가 \n",
        "\n",
        "from sklearn.metrics import accuracy_score\n",
        "print(\"예측 정확도: {0:4f}\".format(accuracy_score(y_test,pred)))"
      ],
      "metadata": {
        "id": "Lc4I6_dSYucC",
        "outputId": "9831f686-9591-44a9-c001-882a2e47095f",
        "colab": {
          "base_uri": "https://localhost:8080/"
        }
      },
      "execution_count": 8,
      "outputs": [
        {
          "output_type": "stream",
          "name": "stdout",
          "text": [
            "예측 정확도: 0.933333\n"
          ]
        }
      ]
    },
    {
      "cell_type": "markdown",
      "source": [
        "# **교차 검증 **\n",
        "\n",
        "`학습 데이터 세트`\n",
        "\n",
        "<학습 데이터를 다시 분할하여 학습 데이터와 학습된 모델의 성능을 일차 평가하는 검증 데이터로 나눔> \n",
        "\n",
        "-> 분할 \n",
        "\n",
        "[학습 데이터 세트][검증 데이터 셋] ex) 모의고사들 \n",
        "\n",
        "\n",
        "\n",
        "\n",
        "`테스트 데이터 세트`   \n",
        "\n",
        "\n",
        "모든 학습/ 검증 과정이 완료된 후 최종적으로 성능을 평가하기 위한 세트  ex) 수능 \n",
        "\n",
        "\n"
      ],
      "metadata": {
        "id": "AB4qS7pPhYiE"
      }
    },
    {
      "cell_type": "markdown",
      "source": [
        "K 폴드 교차 검증\n",
        "\n",
        "O  학습 \n",
        "X  검증   \n",
        "\n",
        "\n",
        "<---------><->\n",
        "\n",
        " O  O  O  O  X \n",
        "\n",
        " O  O  O  X  O\n",
        "\n",
        " O  O  X  O  O\n",
        "\n",
        " O  X  O  O  O\n",
        "\n",
        " X  O  O  O  O\n",
        "\n",
        "\n",
        " => 교차 검증 최종 평가  = 평균 ( 평가[ 1,2,3,4,5])\n",
        "\n",
        "\n",
        "\n",
        "K-폴드 교차 검증( 세부)\n",
        "\n",
        "    - 일반 K 폴드 \n",
        "\n",
        "    - Stratified K 폴드 \n",
        "        = 불균형한 (Imbalanced 분포도를 가진 레이블(결정 클래스))\n",
        "            데이터가 집합을 위한 K 폴드 방식 \n",
        "\n",
        "        = 학습 데이터와 검증 데이터 세트가 가지는 레이블 분포도가 유사하도록 검증 데이터 추출\n",
        "\n",
        "\n",
        "\n",
        "\n",
        "K 폴드를 더 간단하게 \n",
        "    \n",
        "  K-Fold 클래스를 이용한 교차 검증 방법 \n",
        "\n",
        "  1. 폴드 세트 설정 \n",
        "\n",
        "  2. For 루프에서 반복적으로 학습/검증 데이터 추출 및 학습 및 예측 수행 \n",
        "\n",
        "  3. 폴드 세트 별로 예측을 평균하여 최종성능 \n",
        "\n",
        "\n",
        "\n",
        "  => cross_val_score()\n",
        "  함수로 폴드 세트 추출하여 학습/예측 평가를 한번에 \n",
        "\n",
        "  \n"
      ],
      "metadata": {
        "id": "hHdtVbL7kEHF"
      }
    },
    {
      "cell_type": "code",
      "execution_count": 10,
      "metadata": {
        "id": "mwHH8Dq2JwbY",
        "outputId": "a0d18e3b-dc0a-4544-ad5d-393a68a52940",
        "colab": {
          "base_uri": "https://localhost:8080/"
        }
      },
      "outputs": [
        {
          "output_type": "stream",
          "name": "stdout",
          "text": [
            "예측 정확도: 1.0\n"
          ]
        }
      ],
      "source": [
        "from sklearn.datasets import load_iris\n",
        "from sklearn.tree import DecisionTreeClassifier\n",
        "from sklearn.metrics import accuracy_score\n",
        "\n",
        "iris = load_iris()\n",
        "DTC = DecisionTreeClassifier()\n",
        "train_data = iris.data\n",
        "train_label = iris.target\n",
        "DTC.fit(train_data, train_label)\n",
        "\n",
        "# 학습 데이터 셋으로 예측 수행\n",
        "pred = DTC.predict(train_data)\n",
        "print('예측 정확도:',accuracy_score(train_label,pred))"
      ]
    },
    {
      "cell_type": "code",
      "source": [
        "from sklearn.tree import DecisionTreeClassifier \n",
        "from sklearn.metrics import accuracy_score\n",
        "from sklearn.datasets import load_iris\n",
        "from sklearn.model_selection import train_test_split  \n",
        "\n",
        "DTC = DecisionTreeClassifier()\n",
        "iris_data = load_iris()\n",
        "\n",
        "X_train, X_test , y_train, y_test = train_test_split(iris_data.data , iris_data.target,\n",
        "                                                     test_size=0.3 , random_state= 121 )\n",
        "\n"
      ],
      "metadata": {
        "id": "t0gKGd793kcJ"
      },
      "execution_count": 11,
      "outputs": []
    },
    {
      "cell_type": "code",
      "source": [
        "# 넘파이 ndarray에 더해 판다스 df 도 train_test_split() 으로 분할 가능 \n",
        "\n",
        "import pandas as pd \n",
        "\n",
        "iris_df = pd.DataFrame(iris_data.data , columns= iris_data.feature_names)\n",
        "iris_df['target'] = iris_data.target\n",
        "iris_df.head()"
      ],
      "metadata": {
        "id": "kRnK-ZKu4yPz",
        "outputId": "f10cebb0-5a15-4dc9-9fbb-42d7984d9697",
        "colab": {
          "base_uri": "https://localhost:8080/",
          "height": 206
        }
      },
      "execution_count": 12,
      "outputs": [
        {
          "output_type": "execute_result",
          "data": {
            "text/plain": [
              "   sepal length (cm)  sepal width (cm)  petal length (cm)  petal width (cm)  \\\n",
              "0                5.1               3.5                1.4               0.2   \n",
              "1                4.9               3.0                1.4               0.2   \n",
              "2                4.7               3.2                1.3               0.2   \n",
              "3                4.6               3.1                1.5               0.2   \n",
              "4                5.0               3.6                1.4               0.2   \n",
              "\n",
              "   target  \n",
              "0       0  \n",
              "1       0  \n",
              "2       0  \n",
              "3       0  \n",
              "4       0  "
            ],
            "text/html": [
              "\n",
              "  <div id=\"df-dd22d6d9-97e9-4373-8217-12fb7816bd7f\">\n",
              "    <div class=\"colab-df-container\">\n",
              "      <div>\n",
              "<style scoped>\n",
              "    .dataframe tbody tr th:only-of-type {\n",
              "        vertical-align: middle;\n",
              "    }\n",
              "\n",
              "    .dataframe tbody tr th {\n",
              "        vertical-align: top;\n",
              "    }\n",
              "\n",
              "    .dataframe thead th {\n",
              "        text-align: right;\n",
              "    }\n",
              "</style>\n",
              "<table border=\"1\" class=\"dataframe\">\n",
              "  <thead>\n",
              "    <tr style=\"text-align: right;\">\n",
              "      <th></th>\n",
              "      <th>sepal length (cm)</th>\n",
              "      <th>sepal width (cm)</th>\n",
              "      <th>petal length (cm)</th>\n",
              "      <th>petal width (cm)</th>\n",
              "      <th>target</th>\n",
              "    </tr>\n",
              "  </thead>\n",
              "  <tbody>\n",
              "    <tr>\n",
              "      <th>0</th>\n",
              "      <td>5.1</td>\n",
              "      <td>3.5</td>\n",
              "      <td>1.4</td>\n",
              "      <td>0.2</td>\n",
              "      <td>0</td>\n",
              "    </tr>\n",
              "    <tr>\n",
              "      <th>1</th>\n",
              "      <td>4.9</td>\n",
              "      <td>3.0</td>\n",
              "      <td>1.4</td>\n",
              "      <td>0.2</td>\n",
              "      <td>0</td>\n",
              "    </tr>\n",
              "    <tr>\n",
              "      <th>2</th>\n",
              "      <td>4.7</td>\n",
              "      <td>3.2</td>\n",
              "      <td>1.3</td>\n",
              "      <td>0.2</td>\n",
              "      <td>0</td>\n",
              "    </tr>\n",
              "    <tr>\n",
              "      <th>3</th>\n",
              "      <td>4.6</td>\n",
              "      <td>3.1</td>\n",
              "      <td>1.5</td>\n",
              "      <td>0.2</td>\n",
              "      <td>0</td>\n",
              "    </tr>\n",
              "    <tr>\n",
              "      <th>4</th>\n",
              "      <td>5.0</td>\n",
              "      <td>3.6</td>\n",
              "      <td>1.4</td>\n",
              "      <td>0.2</td>\n",
              "      <td>0</td>\n",
              "    </tr>\n",
              "  </tbody>\n",
              "</table>\n",
              "</div>\n",
              "      <button class=\"colab-df-convert\" onclick=\"convertToInteractive('df-dd22d6d9-97e9-4373-8217-12fb7816bd7f')\"\n",
              "              title=\"Convert this dataframe to an interactive table.\"\n",
              "              style=\"display:none;\">\n",
              "        \n",
              "  <svg xmlns=\"http://www.w3.org/2000/svg\" height=\"24px\"viewBox=\"0 0 24 24\"\n",
              "       width=\"24px\">\n",
              "    <path d=\"M0 0h24v24H0V0z\" fill=\"none\"/>\n",
              "    <path d=\"M18.56 5.44l.94 2.06.94-2.06 2.06-.94-2.06-.94-.94-2.06-.94 2.06-2.06.94zm-11 1L8.5 8.5l.94-2.06 2.06-.94-2.06-.94L8.5 2.5l-.94 2.06-2.06.94zm10 10l.94 2.06.94-2.06 2.06-.94-2.06-.94-.94-2.06-.94 2.06-2.06.94z\"/><path d=\"M17.41 7.96l-1.37-1.37c-.4-.4-.92-.59-1.43-.59-.52 0-1.04.2-1.43.59L10.3 9.45l-7.72 7.72c-.78.78-.78 2.05 0 2.83L4 21.41c.39.39.9.59 1.41.59.51 0 1.02-.2 1.41-.59l7.78-7.78 2.81-2.81c.8-.78.8-2.07 0-2.86zM5.41 20L4 18.59l7.72-7.72 1.47 1.35L5.41 20z\"/>\n",
              "  </svg>\n",
              "      </button>\n",
              "      \n",
              "  <style>\n",
              "    .colab-df-container {\n",
              "      display:flex;\n",
              "      flex-wrap:wrap;\n",
              "      gap: 12px;\n",
              "    }\n",
              "\n",
              "    .colab-df-convert {\n",
              "      background-color: #E8F0FE;\n",
              "      border: none;\n",
              "      border-radius: 50%;\n",
              "      cursor: pointer;\n",
              "      display: none;\n",
              "      fill: #1967D2;\n",
              "      height: 32px;\n",
              "      padding: 0 0 0 0;\n",
              "      width: 32px;\n",
              "    }\n",
              "\n",
              "    .colab-df-convert:hover {\n",
              "      background-color: #E2EBFA;\n",
              "      box-shadow: 0px 1px 2px rgba(60, 64, 67, 0.3), 0px 1px 3px 1px rgba(60, 64, 67, 0.15);\n",
              "      fill: #174EA6;\n",
              "    }\n",
              "\n",
              "    [theme=dark] .colab-df-convert {\n",
              "      background-color: #3B4455;\n",
              "      fill: #D2E3FC;\n",
              "    }\n",
              "\n",
              "    [theme=dark] .colab-df-convert:hover {\n",
              "      background-color: #434B5C;\n",
              "      box-shadow: 0px 1px 3px 1px rgba(0, 0, 0, 0.15);\n",
              "      filter: drop-shadow(0px 1px 2px rgba(0, 0, 0, 0.3));\n",
              "      fill: #FFFFFF;\n",
              "    }\n",
              "  </style>\n",
              "\n",
              "      <script>\n",
              "        const buttonEl =\n",
              "          document.querySelector('#df-dd22d6d9-97e9-4373-8217-12fb7816bd7f button.colab-df-convert');\n",
              "        buttonEl.style.display =\n",
              "          google.colab.kernel.accessAllowed ? 'block' : 'none';\n",
              "\n",
              "        async function convertToInteractive(key) {\n",
              "          const element = document.querySelector('#df-dd22d6d9-97e9-4373-8217-12fb7816bd7f');\n",
              "          const dataTable =\n",
              "            await google.colab.kernel.invokeFunction('convertToInteractive',\n",
              "                                                     [key], {});\n",
              "          if (!dataTable) return;\n",
              "\n",
              "          const docLinkHtml = 'Like what you see? Visit the ' +\n",
              "            '<a target=\"_blank\" href=https://colab.research.google.com/notebooks/data_table.ipynb>data table notebook</a>'\n",
              "            + ' to learn more about interactive tables.';\n",
              "          element.innerHTML = '';\n",
              "          dataTable['output_type'] = 'display_data';\n",
              "          await google.colab.output.renderOutput(dataTable, element);\n",
              "          const docLink = document.createElement('div');\n",
              "          docLink.innerHTML = docLinkHtml;\n",
              "          element.appendChild(docLink);\n",
              "        }\n",
              "      </script>\n",
              "    </div>\n",
              "  </div>\n",
              "  "
            ]
          },
          "metadata": {},
          "execution_count": 12
        }
      ]
    },
    {
      "cell_type": "code",
      "source": [
        "ftr_df = iris_df.iloc[:,:-1]\n",
        "tgt_df = iris_df.iloc[:, -1]\n",
        "\n",
        "X_train, X_test, y_train, y_test = train_test_split(ftr_df , tgt_df, \n",
        "                                                    test_size=0.3, random_state=121)"
      ],
      "metadata": {
        "id": "9plP5H3o5ixo"
      },
      "execution_count": 13,
      "outputs": []
    },
    {
      "cell_type": "code",
      "source": [
        "print(type(X_train), type(X_test), type(y_train), type(y_test))"
      ],
      "metadata": {
        "id": "1bZNyoaC6H6E"
      },
      "execution_count": null,
      "outputs": []
    },
    {
      "cell_type": "code",
      "source": [
        "dt_clf = DecisionTreeClassifier( )\n",
        "dt_clf.fit(X_train, y_train)\n",
        "pred = dt_clf.predict(X_test)\n",
        "print('예측 정확도: {0:.4f}'.format(accuracy_score(y_test,pred)))"
      ],
      "metadata": {
        "id": "k4uGm0fy6pwP",
        "outputId": "fb12985e-8ddb-45e6-ce1f-3990bb8fff51",
        "colab": {
          "base_uri": "https://localhost:8080/"
        }
      },
      "execution_count": 15,
      "outputs": [
        {
          "output_type": "stream",
          "name": "stdout",
          "text": [
            "예측 정확도: 0.9556\n"
          ]
        }
      ]
    },
    {
      "cell_type": "code",
      "source": [],
      "metadata": {
        "id": "3PnruI3c7S3E"
      },
      "execution_count": null,
      "outputs": []
    }
  ]
}