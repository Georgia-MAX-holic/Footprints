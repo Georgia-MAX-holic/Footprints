{
  "nbformat": 4,
  "nbformat_minor": 0,
  "metadata": {
    "colab": {
      "provenance": [],
      "authorship_tag": "ABX9TyNbZRrjsRz6WF75B8AunDEx",
      "include_colab_link": true
    },
    "kernelspec": {
      "name": "python3",
      "display_name": "Python 3"
    },
    "language_info": {
      "name": "python"
    }
  },
  "cells": [
    {
      "cell_type": "markdown",
      "metadata": {
        "id": "view-in-github",
        "colab_type": "text"
      },
      "source": [
        "<a href=\"https://colab.research.google.com/github/Georgia-MAX-holic/theory/blob/main/%EB%A8%B8%EC%8B%A0%EB%9F%AC%EB%8B%9D/K-%ED%8F%B4%EB%93%9C.ipynb\" target=\"_parent\"><img src=\"https://colab.research.google.com/assets/colab-badge.svg\" alt=\"Open In Colab\"/></a>"
      ]
    },
    {
      "cell_type": "markdown",
      "source": [
        "# **피처 **\n",
        "\n",
        "1. 데이터의 일반 속성 \n",
        "    머신러닝은 2차원 이상의 다차원 데이터에서도 많이 사용되므로 \n",
        "    타겟값을 제외한 나머지 속성을  [피처] \n",
        "\n",
        "2. 레이블, 클래스,타겟(값), 결정(값)\n",
        "    - 타겟값, 결정값 : 지도 학습시, 데이터의 학습을 위해 주어지는 정답 데이터의 학습을 위해 주어지는 정답 데이터 \n",
        "\n",
        "    - 지도 학습 중 분류의 경우에는 이 결정값을 레이블 또는 클래스로 지칭 \n",
        "\n",
        "\n",
        "# **분류** \n",
        "  - 분류 : 대표적인 지도학습(Supervied Learning) 방법 \n",
        "\n",
        "    지도학습은 학습을 위한 다양한 피처와 분류 결정값인 레이블(Label) 데이터로   모델을 학습한 뒤 , 별도 테스트 데이터 셋에서 미지의 레이블 값을 예측 \n",
        "\n",
        "  \n",
        "\n",
        "\n",
        "# **붓꽃 데이터 분류 예측 프로세스 **\n",
        "\n",
        "1. 데이터 분리 : 데이터를 학습 데이터와 테스트 데이터와 분리 \n",
        "\n",
        "2. 모델 분리 : 학습 데이터를 기반으로  ML 알고리즘을 적용해 모델 학습 \n",
        "\n",
        "3. 예측 수행 : 학습된 ML 모델을 이용해 테스트 데이터의 분류 ( 즉, 붓꽃 종류)를 예측\n",
        "\n",
        "4. 평가 : 예측된 결괏값과 테스트 데이터의 실제 결괏값을 비교해 ML 모델 성능을 평가 \n",
        "\n",
        "\n",
        "\n"
      ],
      "metadata": {
        "id": "yThPNUDOKEL1"
      }
    },
    {
      "cell_type": "markdown",
      "source": [
        "# **교차 검증 **\n",
        "\n",
        "`학습 데이터 세트`\n",
        "\n",
        "<학습 데이터를 다시 분할하여 학습 데이터와 학습된 모델의 성능을 일차 평가하는 검증 데이터로 나눔> \n",
        "\n",
        "-> 분할 \n",
        "\n",
        "[학습 데이터 세트][검증 데이터 셋] ex) 모의고사들 \n",
        "\n",
        "\n",
        "\n",
        "\n",
        "`테스트 데이터 세트`   \n",
        "\n",
        "\n",
        "모든 학습/ 검증 과정이 완료된 후 최종적으로 성능을 평가하기 위한 세트  ex) 수능 \n",
        "\n",
        "\n"
      ],
      "metadata": {
        "id": "AB4qS7pPhYiE"
      }
    },
    {
      "cell_type": "markdown",
      "source": [
        "K 폴드 교차 검증\n",
        "\n",
        "O  학습 \n",
        "X  검증   \n",
        "\n",
        "\n",
        "<---------><->\n",
        "\n",
        " O  O  O  O  X \n",
        "\n",
        " O  O  O  X  O\n",
        "\n",
        " O  O  X  O  O\n",
        "\n",
        " O  X  O  O  O\n",
        "\n",
        " X  O  O  O  O\n",
        "\n",
        "\n",
        " => 교차 검증 최종 평가  = 평균 ( 평가[ 1,2,3,4,5])\n",
        "\n",
        "\n",
        "\n",
        "K-폴드 교차 검증( 세부)\n",
        "\n",
        "    - 일반 K 폴드 \n",
        "\n",
        "    - Stratified K 폴드 \n",
        "        = 불균형한 (Imbalanced 분포도를 가진 레이블(결정 클래스))\n",
        "            데이터가 집합을 위한 K 폴드 방식 \n",
        "\n",
        "        = 학습 데이터와 검증 데이터 세트가 가지는 레이블 분포도가 유사하도록 검증 데이터 추출\n",
        "\n",
        "\n",
        "\n",
        "\n",
        "K 폴드를 더 간단하게 \n",
        "    \n",
        "  K-Fold 클래스를 이용한 교차 검증 방법 \n",
        "\n",
        "  1. 폴드 세트 설정 \n",
        "\n",
        "  2. For 루프에서 반복적으로 학습/검증 데이터 추출 및 학습 및 예측 수행 \n",
        "\n",
        "  3. 폴드 세트 별로 예측을 평균하여 최종성능 \n",
        "\n",
        "\n",
        "\n",
        "  => cross_val_score()\n",
        "  함수로 폴드 세트 추출하여 학습/예측 평가를 한번에 \n",
        "\n",
        "  \n"
      ],
      "metadata": {
        "id": "hHdtVbL7kEHF"
      }
    },
    {
      "cell_type": "code",
      "execution_count": null,
      "metadata": {
        "id": "mwHH8Dq2JwbY"
      },
      "outputs": [],
      "source": []
    },
    {
      "cell_type": "markdown",
      "source": [],
      "metadata": {
        "id": "Wl_eSOZVkDyX"
      }
    }
  ]
}