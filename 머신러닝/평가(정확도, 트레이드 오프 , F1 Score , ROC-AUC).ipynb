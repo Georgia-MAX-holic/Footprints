{
  "nbformat": 4,
  "nbformat_minor": 0,
  "metadata": {
    "colab": {
      "provenance": [],
      "authorship_tag": "ABX9TyNVskwgME8HpD6RZPfH0xCT",
      "include_colab_link": true
    },
    "kernelspec": {
      "name": "python3",
      "display_name": "Python 3"
    },
    "language_info": {
      "name": "python"
    }
  },
  "cells": [
    {
      "cell_type": "markdown",
      "metadata": {
        "id": "view-in-github",
        "colab_type": "text"
      },
      "source": [
        "<a href=\"https://colab.research.google.com/github/Georgia-MAX-holic/theory/blob/main/%EB%A8%B8%EC%8B%A0%EB%9F%AC%EB%8B%9D/%ED%8F%89%EA%B0%80(%EC%A0%95%ED%99%95%EB%8F%84%2C%20%ED%8A%B8%EB%A0%88%EC%9D%B4%EB%93%9C%20%EC%98%A4%ED%94%84%20%2C%20F1%20Score%20%2C%20ROC-AUC).ipynb\" target=\"_parent\"><img src=\"https://colab.research.google.com/assets/colab-badge.svg\" alt=\"Open In Colab\"/></a>"
      ]
    },
    {
      "cell_type": "markdown",
      "source": [
        "#**분류 (Classification) 성능 평가 지표**\n",
        "\n",
        "    - 정확도(Accuracy)\n",
        "\n",
        "    - 오차행렬(Confusion Matrix)\n",
        "\n",
        "    - 정밀도(Precision)\n",
        "\n",
        "    - 재현율(Recall)\n",
        "\n",
        "    - F1 스코어 \n",
        "    \n",
        "    - ROC AUC \n"
      ],
      "metadata": {
        "id": "y7O5ZCwRx2D9"
      }
    },
    {
      "cell_type": "markdown",
      "source": [
        "    정확도(Accuracy) = 예측 결과가 동일한 데이터 건수 / 전체 예측 데이터 건수\n",
        "\n",
        "- 정확도는 직관적으로 모델 예측 성능을 나타내는 평가 지표. \n",
        "하지만 이진 분류의 경우 데이터의 구성에 따라 ML 모델의 성능을 왜곡할 수 있기 때문에 정확도 수치 하나만을 가지고 성능을 평가하지 않음 \n",
        "\n",
        "- 특히 정확도는 불균형한(Imbalanced) 레이블 값 분포에서 ML 모델의 성능을 판단할 경우, 적합한 평가 지표가 아님 \n"
      ],
      "metadata": {
        "id": "810-8jF_zZ_i"
      }
    },
    {
      "cell_type": "code",
      "execution_count": null,
      "metadata": {
        "id": "rciF50yRxGlM"
      },
      "outputs": [],
      "source": []
    },
    {
      "cell_type": "markdown",
      "source": [
        "#오차 행렬(Confusion Matrix) \n",
        "\n",
        "- 오차 행렬은 이진분류의 예측 오류가 얼마인지와 더불어 어떠한 유형의 예측 오류가 발생하고 있는지를 함께 나타내는 지표 \n",
        "\n",
        "\n",
        "예측 클래스(Predicted Class)\n",
        "           \n"
      ],
      "metadata": {
        "id": "2LvQ_CMyGFku"
      }
    },
    {
      "cell_type": "code",
      "source": [
        "import pandas as pd\n",
        "\n",
        "df= pd.DataFrame(\n",
        "    {\"Negative\": [\"TN(True Negative)\", \"FN(False Negative)\"],\n",
        "     \"Positive\": [\"FP(False Positive\", \"TP(True Positive)\"]\n",
        "     \n",
        "     },index=[\"Negative(0)\", \"Positive(1)\"]\n",
        ")\n",
        "\n",
        "\n",
        "print( )\n",
        "print(\"행 : 예측클래스(Predicted Calss)\")\n",
        "print(\"열 : 실제 클래스(Actual Class)\")\n",
        "df"
      ],
      "metadata": {
        "colab": {
          "base_uri": "https://localhost:8080/",
          "height": 169
        },
        "id": "-4FdG3QLBtKK",
        "outputId": "367bfe55-94b5-45e5-9cc1-5a4f2089220a"
      },
      "execution_count": 10,
      "outputs": [
        {
          "output_type": "stream",
          "name": "stdout",
          "text": [
            "\n",
            "행 : 예측클래스(Predicted Calss)\n",
            "열 : 실제 클래스(Actual Class)\n"
          ]
        },
        {
          "output_type": "execute_result",
          "data": {
            "text/plain": [
              "                       Negative           Positive\n",
              "Negative(0)   TN(True Negative)  FP(False Positive\n",
              "Positive(1)  FN(False Negative)  TP(True Positive)"
            ],
            "text/html": [
              "\n",
              "  <div id=\"df-480a6b21-ac9d-432a-bae1-a3fd470d55d6\">\n",
              "    <div class=\"colab-df-container\">\n",
              "      <div>\n",
              "<style scoped>\n",
              "    .dataframe tbody tr th:only-of-type {\n",
              "        vertical-align: middle;\n",
              "    }\n",
              "\n",
              "    .dataframe tbody tr th {\n",
              "        vertical-align: top;\n",
              "    }\n",
              "\n",
              "    .dataframe thead th {\n",
              "        text-align: right;\n",
              "    }\n",
              "</style>\n",
              "<table border=\"1\" class=\"dataframe\">\n",
              "  <thead>\n",
              "    <tr style=\"text-align: right;\">\n",
              "      <th></th>\n",
              "      <th>Negative</th>\n",
              "      <th>Positive</th>\n",
              "    </tr>\n",
              "  </thead>\n",
              "  <tbody>\n",
              "    <tr>\n",
              "      <th>Negative(0)</th>\n",
              "      <td>TN(True Negative)</td>\n",
              "      <td>FP(False Positive</td>\n",
              "    </tr>\n",
              "    <tr>\n",
              "      <th>Positive(1)</th>\n",
              "      <td>FN(False Negative)</td>\n",
              "      <td>TP(True Positive)</td>\n",
              "    </tr>\n",
              "  </tbody>\n",
              "</table>\n",
              "</div>\n",
              "      <button class=\"colab-df-convert\" onclick=\"convertToInteractive('df-480a6b21-ac9d-432a-bae1-a3fd470d55d6')\"\n",
              "              title=\"Convert this dataframe to an interactive table.\"\n",
              "              style=\"display:none;\">\n",
              "        \n",
              "  <svg xmlns=\"http://www.w3.org/2000/svg\" height=\"24px\"viewBox=\"0 0 24 24\"\n",
              "       width=\"24px\">\n",
              "    <path d=\"M0 0h24v24H0V0z\" fill=\"none\"/>\n",
              "    <path d=\"M18.56 5.44l.94 2.06.94-2.06 2.06-.94-2.06-.94-.94-2.06-.94 2.06-2.06.94zm-11 1L8.5 8.5l.94-2.06 2.06-.94-2.06-.94L8.5 2.5l-.94 2.06-2.06.94zm10 10l.94 2.06.94-2.06 2.06-.94-2.06-.94-.94-2.06-.94 2.06-2.06.94z\"/><path d=\"M17.41 7.96l-1.37-1.37c-.4-.4-.92-.59-1.43-.59-.52 0-1.04.2-1.43.59L10.3 9.45l-7.72 7.72c-.78.78-.78 2.05 0 2.83L4 21.41c.39.39.9.59 1.41.59.51 0 1.02-.2 1.41-.59l7.78-7.78 2.81-2.81c.8-.78.8-2.07 0-2.86zM5.41 20L4 18.59l7.72-7.72 1.47 1.35L5.41 20z\"/>\n",
              "  </svg>\n",
              "      </button>\n",
              "      \n",
              "  <style>\n",
              "    .colab-df-container {\n",
              "      display:flex;\n",
              "      flex-wrap:wrap;\n",
              "      gap: 12px;\n",
              "    }\n",
              "\n",
              "    .colab-df-convert {\n",
              "      background-color: #E8F0FE;\n",
              "      border: none;\n",
              "      border-radius: 50%;\n",
              "      cursor: pointer;\n",
              "      display: none;\n",
              "      fill: #1967D2;\n",
              "      height: 32px;\n",
              "      padding: 0 0 0 0;\n",
              "      width: 32px;\n",
              "    }\n",
              "\n",
              "    .colab-df-convert:hover {\n",
              "      background-color: #E2EBFA;\n",
              "      box-shadow: 0px 1px 2px rgba(60, 64, 67, 0.3), 0px 1px 3px 1px rgba(60, 64, 67, 0.15);\n",
              "      fill: #174EA6;\n",
              "    }\n",
              "\n",
              "    [theme=dark] .colab-df-convert {\n",
              "      background-color: #3B4455;\n",
              "      fill: #D2E3FC;\n",
              "    }\n",
              "\n",
              "    [theme=dark] .colab-df-convert:hover {\n",
              "      background-color: #434B5C;\n",
              "      box-shadow: 0px 1px 3px 1px rgba(0, 0, 0, 0.15);\n",
              "      filter: drop-shadow(0px 1px 2px rgba(0, 0, 0, 0.3));\n",
              "      fill: #FFFFFF;\n",
              "    }\n",
              "  </style>\n",
              "\n",
              "      <script>\n",
              "        const buttonEl =\n",
              "          document.querySelector('#df-480a6b21-ac9d-432a-bae1-a3fd470d55d6 button.colab-df-convert');\n",
              "        buttonEl.style.display =\n",
              "          google.colab.kernel.accessAllowed ? 'block' : 'none';\n",
              "\n",
              "        async function convertToInteractive(key) {\n",
              "          const element = document.querySelector('#df-480a6b21-ac9d-432a-bae1-a3fd470d55d6');\n",
              "          const dataTable =\n",
              "            await google.colab.kernel.invokeFunction('convertToInteractive',\n",
              "                                                     [key], {});\n",
              "          if (!dataTable) return;\n",
              "\n",
              "          const docLinkHtml = 'Like what you see? Visit the ' +\n",
              "            '<a target=\"_blank\" href=https://colab.research.google.com/notebooks/data_table.ipynb>data table notebook</a>'\n",
              "            + ' to learn more about interactive tables.';\n",
              "          element.innerHTML = '';\n",
              "          dataTable['output_type'] = 'display_data';\n",
              "          await google.colab.output.renderOutput(dataTable, element);\n",
              "          const docLink = document.createElement('div');\n",
              "          docLink.innerHTML = docLinkHtml;\n",
              "          element.appendChild(docLink);\n",
              "        }\n",
              "      </script>\n",
              "    </div>\n",
              "  </div>\n",
              "  "
            ]
          },
          "metadata": {},
          "execution_count": 10
        }
      ]
    },
    {
      "cell_type": "markdown",
      "source": [
        "- 정밀도 : 예측을 Positive로 한 대상 중에 예측과 실제 값이 Positive로 일치한 데이터의 비율 \n",
        "\n",
        "- 재현율 : 실제 값이 Positive인 대상 중에 예측과 실제 값이 Positive로 일치한 데이터의 비율 \n",
        "\n",
        "\n",
        "- 정밀도 = TP/(FP+TP)\n",
        "- 재현율 = TP/ (FN+TP)"
      ],
      "metadata": {
        "id": "xGjzgb1nDI9F"
      }
    },
    {
      "cell_type": "markdown",
      "source": [
        "# 업무에 따른 재현율과 정밀도의 상대적 중요도 \n",
        "\n",
        "- 재현율이 상대적으로 더 중요한 지표인 경우:\n",
        "  실제 Positive 양성인 데이터 예측을 Negative로 잘못 판단하게 되면 업무상 큰 영향이 발생하는 경우 : \n",
        "  \n",
        "\n",
        "    암 진단, 금융 사기 판별 \n",
        "\n",
        "- 정밀도가 상대적으로 더 중요한 지표인 경우는 실제 Negative 음성인 데이터 예측을 Positive 양성으로 잘못 판단하게 되면 업무상 큰 영향이 발생하는 경우 : \n",
        "\n",
        "\n",
        "    스팸 메일 \n",
        "\n",
        "\n",
        "- 불균형한 레이블 클래스를 가지는 이진 분류 모델에서는 많은 데이터 중에서 중점적으로 찾아야 하는 매우 적은 수의 결괏값에 Positive를 설정해 1값을 부여하고, 그렇지 않은 경우는 Negative로 0값을 일반적으로 부여함 "
      ],
      "metadata": {
        "id": "s0mCzZzKbbfk"
      }
    },
    {
      "cell_type": "code",
      "source": [],
      "metadata": {
        "id": "KeypwR6efoe0"
      },
      "execution_count": null,
      "outputs": []
    },
    {
      "cell_type": "markdown",
      "source": [
        "# 정밀도 /재현율 트레이드 오프 \n",
        "\n",
        "- 분류하려는 업무의 특성상 정밀도 또는 재현율이 특별히 강조되어야 할 경우 분류의 결정 임곗값(Threshold)를 조정해 정밀도 또는 재현율의 수치를 높힐 수 있음 \n",
        "\n",
        "- 하지만 정밀도와 재현율은 상호 보완적인 평가 지표이기 때문에 어느 한쪽을 강제로 높이면 다른 하나의 수치는 떨어지기 쉬움  이를 정밀도/재현율의 트레이드 오프라 부름 "
      ],
      "metadata": {
        "id": "xGqWAm4NfrZr"
      }
    },
    {
      "cell_type": "markdown",
      "source": [
        "# 분류 결정 임곗값에 따른 Positive 예측 확률 변화 \n",
        "- 정밀도 = TP/ (FP+TP)\n",
        "- 재현율 = TP / (FN+TP) \n",
        "\n",
        "\n",
        "\n",
        "---\n",
        "\n",
        "\n",
        "\n",
        "분류 결정 임곗값이 낮아질 수록 Positive로 예측할 확률이 높아짐 = 재현율 증가 \n",
        "\n",
        "- 사이킷런 Esitimator 객체의 predict_proba() 메소드는 분류 결정 예측 확률을 반환 \n",
        "\n",
        "- 이를 이용하면 임의로 분류 결정 임곗값을 조정하면서 예측 확률을 변경 가능 \n",
        "\n",
        "----"
      ],
      "metadata": {
        "id": "Bq9Pb90tgDWL"
      }
    },
    {
      "cell_type": "markdown",
      "source": [
        "# 정밀도와 재현율의 맹점 \n",
        "\n",
        "### - 정밀도를 100%로 만드는 방법 \n",
        "\n",
        "- 확실한 기준이 되는 경우만 Positive로 예측하고 나머지는 모두 Negative로 예측함. 정밀도 = TP/ (TP+FP)\n",
        "전체 환자 1000명 중 확실한 Positive 징후만 가진 환자는 단 1명이라고 하면 이 한 명 만 Positive로 예측하고 나머지는 모두 Negative로 예측하더라도 FP는 0 , TP는 1이 되므로 정밀도는 1/(1+0) 으로 100% 가 됨 \n",
        "\n",
        "\n",
        "### - 재현율을 100%로 만드는 방법 \n",
        "- 모든 환자를 Positive로 예측하면 됨. \n",
        "재현율 = TP(TP+FN) 이므로 전체 환자 1000명을 다 Positive로 예측함 . 이 중 실제 양성인 사람이 30명 정도라고 TN이 수치에 포함되지 않고 FN은 아예 0이므로 30/(30+0)으로 100% 가 됨 "
      ],
      "metadata": {
        "id": "02Vqq6llqASf"
      }
    },
    {
      "cell_type": "markdown",
      "source": [
        "#F1 스코어(Score)\n",
        "\n",
        "F1 스코어 :\n",
        " 정밀도와 재현율 결합한 지표.\n",
        " \n",
        "F1 스코어는 정밀도와 재현율이 어느 한쪽으로 치우치지 않는 수치를 나타낼 때 상대적으로 높은 값을 가짐\n",
        "\n",
        "만일 A 예측 모델의 경우 정밀도가 0.9 , 재현율이 0.1로 극단적인 차이가 나고, B 예측 모델은 정밀도가 0.5, 재현율이 0.5로 정밀도와 재현율이 큰 차이가 없다면 A 예측 모델의 F1 스코어는 0.18이고, B 예측 모델의 F1 스코어는 0.5로  B 모델이 A 모델에 비해 매우 우수한 F1 스코어를 가지게 됨 \n",
        "\n",
        "    f1_score()"
      ],
      "metadata": {
        "id": "n7mSGAywsMJl"
      }
    },
    {
      "cell_type": "markdown",
      "source": [
        "---"
      ],
      "metadata": {
        "id": "BaI3aW4WsMGX"
      }
    },
    {
      "cell_type": "markdown",
      "source": [
        "# ROC 곡선과 AUC \n",
        "\n",
        "- **ROC 곡선 ( Receiver Operation Characteristic Curve) & AUC 스코어**:  이진 분류의 예측 성능 측정에서 중요하게 사용되는 지표 \n",
        "\n",
        "\n",
        "ROC 곡선은 FPR(False Positive Rate)이 변할 때 TPR(True Positive Rate)이 어떻게 변하는지를 나타내는 곡선. FPR을 X 축으로 TPR 을 Y 축으로 잡으면 FPR의 변화에 따른 TPR의 변화가 곡선 형태로 나타남 \n",
        "\n",
        "분류의 성능 지표로 사용되는 것은 ROC 곡선 면적에 기반한 AUC으로 결정함  \n",
        "\n",
        "AUC(Area Under Curve)값은 ROC 곡선 밑의 면적을 구한 것으로 일반적으로 1에 가까울수록 좋은 수치 "
      ],
      "metadata": {
        "id": "DCX_JBc7tadx"
      }
    },
    {
      "cell_type": "markdown",
      "source": [
        "# FPR의 변화에 따른 TPR의 변화 곡선 \n",
        "\n",
        "- TPR은 True Positive Rate의 약자이며, 이는 재현율을 나타냄\n",
        "따라서 TPR은 TP/ (FN + TP) . 즉 재현율은 민감도로도 불림 \n",
        "\n",
        "- FPR 은 실제 Negative(음성)을 잘못 예측한 비율입니다. \n",
        "FPR = FP / (FP+ TN)\n",
        "\n",
        "임계값을 1로 하면 FPR은 0 \n",
        "\n",
        "임곗값을 0 으로 하면 FPR은 1 \n",
        "\n"
      ],
      "metadata": {
        "id": "f-4O0BMrw5F8"
      }
    },
    {
      "cell_type": "markdown",
      "source": [
        "# 사이킷런 ROC 곡선 및 AUC 스코어 \n",
        "\n",
        "- 사이킷런은 임곗값에 따른 ROC 곡선 데이터를 roc_curve()로, AUC 스코어를 roc_auc_socre() 함수로 제공 \n",
        "\n",
        "### roc_curve(y_ture, y_score)\n",
        "\n",
        "- y_ture: 실제 클래스 값 array(array shape=[데이터 건수])\n",
        "- y_score : predict_prob()의 반환 값 array 에서 Positive 컬럼의 예측 확률이 보통 사용됨 .Binary 분류시 shape = [n_sameples]\n",
        "\n",
        "- fpr : fpr 값을 array로 반환 \n",
        "- tpr : tpr 값을 array로 반환 \n",
        "- thresholds : threshold 값 array \n",
        "\n",
        "\n",
        "### roc_auc_score(y_true , y_score) \n",
        "\n",
        "- y_true : 실제 클래스 값 array (array shape =[데이터 건수])\n",
        "- y_score : predict_prob()의 반환 값 array에서 Positive 컬럼의 예측 확률이 보통 사용됨. Binary 분류시 shape= [n_samples]\n",
        "\n",
        "Auc 스코어 값 "
      ],
      "metadata": {
        "id": "Bzl0sbA7zch5"
      }
    }
  ]
}