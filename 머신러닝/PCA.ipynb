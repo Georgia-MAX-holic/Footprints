{
  "nbformat": 4,
  "nbformat_minor": 0,
  "metadata": {
    "colab": {
      "provenance": [],
      "authorship_tag": "ABX9TyN1gCClgRhgzv9nf6nYH2ku",
      "include_colab_link": true
    },
    "kernelspec": {
      "name": "python3",
      "display_name": "Python 3"
    },
    "language_info": {
      "name": "python"
    }
  },
  "cells": [
    {
      "cell_type": "markdown",
      "metadata": {
        "id": "view-in-github",
        "colab_type": "text"
      },
      "source": [
        "<a href=\"https://colab.research.google.com/github/Georgia-MAX-holic/footprints/blob/main/%EB%A8%B8%EC%8B%A0%EB%9F%AC%EB%8B%9D/PCA.ipynb\" target=\"_parent\"><img src=\"https://colab.research.google.com/assets/colab-badge.svg\" alt=\"Open In Colab\"/></a>"
      ]
    },
    {
      "cell_type": "markdown",
      "source": [
        " ### 차원의 저주 \n",
        "\n",
        " - 차원이 커질수록 \n",
        "    - 데이터 포인트들간 거리가 늘어남 \n",
        "    - 데이터가 희소화(Sparse)됨\n",
        "\n",
        "- 수백~수천개 이상의 피처로 구성된 포인트들간 거리에 기반한 ML 알고리즘이 무력화됨\n",
        "\n",
        "- 또한 피처가 많을 경우 피처간 상관관계가 높아 선형 회귀와 같은 모델에서는 다중 공산성 문제로 모델의 예측 성능이 저하될 가능성이 높음 "
      ],
      "metadata": {
        "id": "k82_vJKHl0YD"
      }
    },
    {
      "cell_type": "markdown",
      "source": [
        "### 차원 축소의 장점 \n",
        "- 학습 데이터 크기를 줄여서 학습 시간 절약 \n",
        "\n",
        "- 불필요한 피처들을 줄여서 성능 향상에 기여 (주로 이미지 관련 데이터 )\n",
        "\n",
        "- 다차원의 데이터를 3차원 이하의 차원 축소를 통해서 시각적으로 보다 쉽게 데이터 패턴 인지\n",
        "\n",
        "\n",
        "---\n",
        "\n",
        "# 피처 선택과 피처 추출 \n",
        "\n",
        "- 일반적으로 차원 축소는 피처 선택(Feature Selection)과 피처 추출(feature extraction)으로 나눌 수 있음 \n",
        "\n",
        "- 피처 선택(Feature Selection) :특정 피처에 종속성이 강한 불필요한 피처는 아예 제거 하고 , 데이터의 특징을 잘 나타내는 주요 피처만 선택하는 것 \n",
        "\n",
        "- 피처(특성) 추출은 기존 피처를 저차원의 중요 피처로 압축해서 추출하는 것, 이렇게 새롭게 추출된 중요 특성은 기존의 피처를 반영해 압출된 것이지만, 새로운 피처로 추출하는 것 \n",
        "\n",
        "\n",
        "----\n",
        "\n",
        "### 피처 추출(Feature Extraction) \n",
        "\n",
        "- 피처 추출은 기존 피처를 단순 압출이 아닌, 피처를 함축적으로 더 잘 설명할 수 있는 또 다른 공간으로 매핑해 추출하는 것 \n",
        "\n",
        "\n",
        "    모의고사 성적    종합 내신 성적    수능성적\n",
        "    봉사활동         대외활동           수상경력 \n",
        "\n",
        "    -> 학업 성취도, 커뮤니케이션, 문제해결력 "
      ],
      "metadata": {
        "id": "ewvo-v3toDLY"
      }
    },
    {
      "cell_type": "markdown",
      "source": [
        "----\n",
        "\n",
        "###차원 축소의 의미\n",
        "\n",
        "- 차원 축소는 단순히 데이터의 압축을 의미하는 것이 아님, 더 중요한 의미는 차원 축소를 통해 좀 더 데이터를 잘 설명할 수 있는 잠재적(Latent)인 요소를 추출하는 데에 있음 \n",
        "\n",
        "  - 추천 엔진\n",
        "  - 이미지 분류 및 변환 \n",
        "  - 문서 토픽 모델링 "
      ],
      "metadata": {
        "id": "RAMSau6Nv-DT"
      }
    },
    {
      "cell_type": "markdown",
      "source": [
        "--- \n",
        "\n",
        "### PCA(Principal Component Analysis)의 이해 \n",
        "\n",
        "- 고차원의 원본 데이터를 저 차원의 부분 공간으로 투영하여 데이터를 축소하는 기법 \n",
        "\n",
        "- 예를 들어 10차원의 데이터를 2차원의 부분 공간으로 투영하여 데이터를 축소 \n",
        "\n",
        "- PCA는 원본 데이터가 가지는 데이터 변동성을 가장 중요한 정보로 간주하며 이 변동성에 기반한 원본 데이터 투영으로 차원 축소를 수행 \n",
        "\n",
        "- PCA는 원본 데이터 변동성이 가장 큰 방향으로 순차적으로 축들을 생성하고 , 생성된 축으로 데이터를 투영하는 방식 \n",
        "\n",
        "---\n",
        "\n",
        "### PCA 변환 \n",
        "\n",
        "- PCA 를 선형대수 관점에서 해석해보면 입력 데이터의 공분산 행렬을 고유값 분해하고 이렇게 구한 고유벡터에 입력 데이터를 선형 변환 하는것\n",
        "\n",
        "- 고유벡터는 PCA의 주성분 벡터로서 입력 데이터의 분산이 큰 방향을 나타냄 \n",
        "\n",
        "- 고윳값(Eigenvalue)는 이 고유 벡터의 크기를 나타내며, 동시에 입력 데이터의 분산을 나타냄 "
      ],
      "metadata": {
        "id": "kKHwelftynJC"
      }
    },
    {
      "cell_type": "markdown",
      "source": [
        "\n",
        "\n",
        "---\n",
        "\n",
        "### 공분산 행렬 \n",
        "\n",
        "- 보통 분산은 한 개의 특정한 변수의 데이터 변동을 의미하나, 공분산은 두 변수 간의 변동을 의미함 , 즉, 사람 키 변수를 X, 몸무게 변수를 Y라고 하면 공분산 Cov(X,Y) >0는 X(키) 증가할 때 Y (몸무게)도 증가한다는 의미 \n",
        "\n",
        "- 공분산 행렬은 여러 변수와 관련된 공분산을 포함하는 정방향 행렬이며 대칭 행렬 \n",
        "\n",
        "- 정방행렬은 열과 행이 같은 행렬을 지칭하는데 , 정방형렬 중에서 대각 원소를 중심으로 원소 값이 대칭되는 행렬 즉 A^T = A 행렬을 대칭 행렬이라 부름 \n",
        "\n",
        "---\n",
        "### PCA 변환과 수행 절차\n",
        "- PCA변환 \n",
        "   - 입력 데이터의 공분산 행렬이 고유벡터와 고유값으로 분해될 수 있으며, 이렇게 분해된 고유벡터를 이용해 입력 데이터를 선형 변환하는 방식 \n",
        "\n",
        "- PCA 변환 수행 절차 \n",
        "\n",
        "   1. 입력 데이터 세트의 공분산 행렬을 생성 \n",
        "\n",
        "   2. 공분산 행렬의 고유벡터와 고유값을 계산함 \n",
        "\n",
        "   3. 고유값이 가장 큰 순으로 K개(PCA 변환 차수만큼) 고유벡터를 추출 \n",
        "\n",
        "   4. 고유값이 가장 큰 순으로 추출된 고유벡터를 이용해 새롭게 입력 데이터를 변환"
      ],
      "metadata": {
        "id": "mR4HiMcY1UfT"
      }
    },
    {
      "cell_type": "code",
      "execution_count": null,
      "metadata": {
        "id": "0BQuM-wFlOTn"
      },
      "outputs": [],
      "source": []
    }
  ]
}