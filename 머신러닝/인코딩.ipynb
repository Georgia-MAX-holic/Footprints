{
  "nbformat": 4,
  "nbformat_minor": 0,
  "metadata": {
    "colab": {
      "provenance": [],
      "authorship_tag": "ABX9TyNwI22wJlNB24jl993xnL8J",
      "include_colab_link": true
    },
    "kernelspec": {
      "name": "python3",
      "display_name": "Python 3"
    },
    "language_info": {
      "name": "python"
    }
  },
  "cells": [
    {
      "cell_type": "markdown",
      "metadata": {
        "id": "view-in-github",
        "colab_type": "text"
      },
      "source": [
        "<a href=\"https://colab.research.google.com/github/Georgia-MAX-holic/theory/blob/main/%EB%A8%B8%EC%8B%A0%EB%9F%AC%EB%8B%9D/%EC%9D%B8%EC%BD%94%EB%94%A9.ipynb\" target=\"_parent\"><img src=\"https://colab.research.google.com/assets/colab-badge.svg\" alt=\"Open In Colab\"/></a>"
      ]
    },
    {
      "cell_type": "markdown",
      "source": [
        "데이터 전처리 \n",
        "   - 데이터 클렌징 \n",
        "   - 결측값 처리 (NaN / Null) 처리 \n",
        "   - 데이터 인코딩 ( 레이블, 원 - 핫 - 인코딩 )\n",
        "   - 데이터 스케일링 \n",
        "   - 이상치 제거 \n",
        "   - Feature 선택, 추출 가공 \n",
        "\n",
        "\n",
        "데이터 인코딩 \n",
        "    머신러닝 알고리즘은 문자열 데이터 속성을 입력 받지 않으며\n",
        "    모든 데이터는 숫자형으로 표현되어야 함 \n",
        "    문자열 카테고리형 속성은 모두 숫자값으로 변화 / 인코딩 되어야 함 \n",
        "\n",
        "    - 레이블 ( Label ) 인코딩 \n",
        "    - 원 핫 ( One - Hot) 인코딩 \n",
        "\n",
        "\n",
        " \n",
        "\n",
        "```\n",
        "#  EX) \n",
        "\n",
        "  상 품        가격     =>    상 품       가 격\n",
        "\n",
        "   TV         1,000,000        0            \"\"\n",
        "\n",
        "   냉장고     1,500,000        1            \"\"\n",
        "\n",
        "   전자렌지     200.000        2            \"\"\n",
        "   \n",
        "   .                           3            \"\"\n",
        "   .\n",
        "   .\n",
        "```\n",
        "\n"
      ],
      "metadata": {
        "id": "T3Y-nLDW2qD7"
      }
    },
    {
      "cell_type": "markdown",
      "source": [
        "=> 상품 이름 끼리 상하관계가 생기는 경우 발생 \n",
        "\n",
        "\n",
        "# **원 핫 인코딩**\n",
        "\n",
        "  원 핫 인코딩은 피처의 값의 유형에 따라 새로운 피처를 추가해 고유 값에 해당하는 컬럼에만 1을 표시 나머지에 0 표시\n",
        "\n",
        "    사람 분류 _ TV    상품분류_냉장고    상품분류_믹서\n",
        "\n",
        "    1                     0                   0\n",
        "    0                     1                   0\n",
        "    0                     0                   1\n",
        "\n",
        "레이블 인코더 \n",
        "\n",
        "Label Encoder 클래스 \n",
        "\n",
        "fit() 과 transfor()을 이용해 변환 \n",
        "\n",
        "원 핫 인코딩 \n",
        "\n",
        "One-Hot-Encoding 클래스  \n",
        "\n",
        "fit().과 transform()을 이용해 변환 \n",
        "인자로 2차원 ndaray 입력 필요 \n",
        "space 배열 형태로 변환되므로 \n",
        "toarray()를 적용하여 다시 Dense 형태로 변환되어야 함 \n",
        "\n",
        "\n",
        "pd.get_dummies(DataFrame)을 이용 "
      ],
      "metadata": {
        "id": "6D5zeBrJ4DEB"
      }
    },
    {
      "cell_type": "code",
      "execution_count": null,
      "metadata": {
        "id": "nJZ-uIi52owg"
      },
      "outputs": [],
      "source": []
    }
  ]
}