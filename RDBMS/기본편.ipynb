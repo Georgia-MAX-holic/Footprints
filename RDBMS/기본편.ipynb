{
  "nbformat": 4,
  "nbformat_minor": 0,
  "metadata": {
    "colab": {
      "provenance": [],
      "collapsed_sections": [],
      "authorship_tag": "ABX9TyOKMLiCXXo2EiSQgE+y5M1J",
      "include_colab_link": true
    },
    "kernelspec": {
      "name": "python3",
      "display_name": "Python 3"
    },
    "language_info": {
      "name": "python"
    }
  },
  "cells": [
    {
      "cell_type": "markdown",
      "metadata": {
        "id": "view-in-github",
        "colab_type": "text"
      },
      "source": [
        "<a href=\"https://colab.research.google.com/github/Georgia-MAX-holic/theory/blob/main/RDBMS/%EA%B8%B0%EB%B3%B8%ED%8E%B8.ipynb\" target=\"_parent\"><img src=\"https://colab.research.google.com/assets/colab-badge.svg\" alt=\"Open In Colab\"/></a>"
      ]
    },
    {
      "cell_type": "markdown",
      "source": [
        "# **데이터 베이스 알아보기**\n",
        "\n",
        "- 데이터 베이스 :  데이터의 집합 \n",
        "\n",
        "\n",
        "1. DBMS의 정의\n",
        "\n",
        "    - DBMS :데이터베이스는 데이터의 집합 , 데이터베이스를 관리하고 운영하는 소프트웨어  (여러 명의 사용자나 응용 프로그램과 공유하고 동시에 접근이 가능해야 합니다.)\n",
        "\n",
        "    - 엑셀: 대용량 데이터를 관리하고나 여러 사용자와 공유하는 개념과는 거리가 있어 DBMS라고 부르지 않음 \n",
        "\n",
        "    - 데이터베이스 : 여러 명의 예금 계좌 정보를 모아놓은 것이 데이터베이스 \n",
        "  \n",
        "\n",
        "  \n",
        "    예금계좌 주인, 은행 직원, 인터넷 뱅킹, ATM 기기 등에서 모두 접근이 가능, 이 모든건 DBMS 가 있기 때문"
      ],
      "metadata": {
        "id": "JOm8g29V6z3L"
      }
    },
    {
      "cell_type": "markdown",
      "source": [
        "2. DBMS \n",
        "   - SQL : DBMS에 데이터를 구축, 관리하고 활용하기 위해서 사용되는 언어\n",
        "   \n",
        "   - DBMS 유형 : 계층형, 망형, 관계형, 객체지향형, 객체 관계형 \n",
        "\n",
        "\n",
        "   1. 계층형 DBMS : 트리 형태, 처음 구성을 완료 후 이를 변경하기 상당히 까다로움 ( 지금은 사용 X) \n",
        "\n",
        "   2. 망형 DBMS :  트리+ 서로서로 이동 가능  (그림 검색 후 참조)\n",
        "   \n",
        "   3. 관계형 DBMS : 줄여서 RDBMS  , 테이블이라는 최소 단위로 구성되며, 이 테이블은 하나 이상의 열(Column)과 행(Row)로 이루어짐 \n",
        "\n",
        "\n",
        "정리 \n",
        "\n",
        "- 데이터베이스 : Database , 약자 : DB  , 데이터의 저장소 \n",
        "\n",
        "- 데이터베이스 관리 시스템  : Database Management System , DBMS , 데이터베이스를 운영 /관리하는 소프트웨어 \n",
        "\n",
        "- 구조화된 질의 언어 : Structed Query Language ,  약자 : SQL  , 관계형 DBMS에서 사요되는 언어 \n",
        "\n",
        "- 관계형 데이터베이스 관리 시스템 : Relational Database Management System 약자 :RDBMS , 테이블이라는 최소 단위로 구성된 DBMS \n",
        "\n",
        "- 테이블 : Table , 표 형태로 구성된 2차원 구조, 열과 행으로 이루어져 있으며 RDBMS의 핵심 개체\n",
        "\n",
        "- 표준 SQL : Standard SQL  ,  국제표준화기구에서 지정하는 SQL의 표준, 대부분의 DBMS 회사가 표준 SQL을 준수함 \n",
        "\n"
      ],
      "metadata": {
        "id": "z3NIo3Id6zyK"
      }
    },
    {
      "cell_type": "markdown",
      "source": [
        "\n"
      ],
      "metadata": {
        "id": "gWOXky-m6zps"
      }
    },
    {
      "cell_type": "markdown",
      "source": [
        "# **데이터베이스 모델링 ** #\n",
        "\n",
        "데이터베이스 모델링 : 사물이나 작업을 DBMS의 데이터베이스 개체로 옮기기 위한 과정 \n",
        "\n",
        "\n",
        "- 데이터 : 하나하나의 단편적인 정보, 개별적인 정보 \n",
        "\n",
        "- 테이블 : 회원이나 제품의 데이터를 입력하기 위해 표 형태로 표현한 것을 말함 . \n",
        "\n",
        "- 데이터베이스 : 테이블이 저장되는 장소 \n",
        "\n",
        "- DBMS : 데이터베이스 관리 시스템 또는 소프트웨어를 말함. \n",
        "\n",
        "- 열 : 테이블의 세로. 각 테이블은 여러 개의 열(컬럼, 필드)로 구성됨. 회원 테이블은 3개의 열로, 제품 테이블은 5개의 열로 구성되어 있음 \n",
        "\n",
        "- 데이터 형식: 열에 저장될 데이터의 형식을 말함\n",
        "\n",
        "- 행: 실질적인 진짜 데이터, 행 데이터라고도 부름 \n",
        "\n",
        "- 기본 키 : 기본키열은 각 행을 구분하는 유일한 열. \n",
        "\n",
        "- SQL : DBMS가 소통하기 위한 언어\n",
        "\n",
        "\n",
        "데이터베이스 구축 절차 :\n",
        "데이터베이스 만들기 -> 테이블 만들기 -> 데이터 입력/수정/삭제하기 -> 데이터 조회/활용하기"
      ],
      "metadata": {
        "id": "Xk5Kptqj2LgB"
      }
    },
    {
      "cell_type": "code",
      "source": [
        "# 데이터 조회 # member는 테이블 \n",
        "SELECT * FROM member;\n",
        "\n",
        "# 데이터 선택해서 조회 \n",
        "SELECT member_name , member_addr FROM member;\n",
        "\n",
        "#멤버 테이블의 전체중 멤버 네임이 아이유인 사람만 출력 \n",
        "SELECT * FROM member WHERE member_name = \"아이유\";"
      ],
      "metadata": {
        "id": "2OKzTzxDBh14"
      },
      "execution_count": null,
      "outputs": []
    },
    {
      "cell_type": "markdown",
      "source": [
        "# 주요 용어\n",
        "\n",
        "- 스키마 - Schema - (Null) - 데이터베이스와 동일한 용어\n",
        "\n",
        "- 문자형 - Character - CHAR - 문자를 입력할 데이터 형식 \n",
        "\n",
        "- 정수형 - Integer - INT - 정수를 입력할 데이터 형식 \n",
        "\n",
        "- 널 - Null - (null) - 비어 있는 값 \n",
        "\n",
        "- 널 허용 안함 - Not Null - NN - 빈 값을 허용하지 않음 \n",
        "\n",
        "- 자동 정렬 - (null) - (null) - 기본 키로 설정한 열로 자동 정렬됨 \n",
        "\n",
        "- 입력 - INSERT - (null) - 데이터를 입력하는 SQL \n",
        "\n",
        "- 수정 - UPDATE - (null) - 데이터를 수정하는 SQL\n",
        "\n",
        "- 삭제 - DELETE - (null) - 데이터를 삭제하는 SQL\n",
        "\n",
        "- 조회 - SELECT - (null) - 데이터를 조회하는 SQL \n",
        "\n",
        "- 조건 - WHERE - (null)  - SELECT 문에서 특정 조건을 조회할 때 사용하는 구문 \n",
        "\n",
        "- 예약어 - (null) - (null) - 기존에 약속된 SQL, SELECT , FROM ,WHERE 등 \n",
        "\n",
        "- 세미콜론(;) -(null) - (null) - SQL의 끝을 표시하는 기호 \n",
        "\n",
        "- 인텔리센스 - IntellSense -(nul) - SQL의 글자가 미리 제시되는 워크벤치의 기능 "
      ],
      "metadata": {
        "id": "ru0B27O_eP_t"
      }
    },
    {
      "cell_type": "markdown",
      "source": [
        "# **데이터 베이스 개체 **\n",
        "\n",
        "데이터베이스에서는 테이블 외에 \n",
        "\n",
        "[인덱스] , [뷰], [스토어드 프로시저] , [트리거], [함수], [커서]\n",
        "\n",
        "\n",
        "# 인덱스\n",
        "\n",
        "- 인덱스(index): 책의 제일 뒤에 수록되는 \" 찾아보기\"와 비슷한 개념 "
      ],
      "metadata": {
        "id": "alGVdxR7fkET"
      }
    },
    {
      "cell_type": "code",
      "source": [
        "# member_name = \"아이유\"로 지정, member 테이블 전체 호출\n",
        "SELECT * FROM member WHERE member_name = '아이유'; \n",
        "\n",
        "# 인덱스 생성, idx_member_name 이름으로 , member 테이블의 member_name 열에 인덱스를 지정 \n",
        "CREATE INDEX idx_member_name ON member(member_name);"
      ],
      "metadata": {
        "id": "ewOQ5b_gzgnB"
      },
      "execution_count": null,
      "outputs": []
    },
    {
      "cell_type": "code",
      "source": [
        "SELECT * FROM member WHERE member_name = \"아이유\";"
      ],
      "metadata": {
        "id": "Kvb3Fy7HzmJT"
      },
      "execution_count": null,
      "outputs": []
    },
    {
      "cell_type": "code",
      "source": [],
      "metadata": {
        "id": "MUB_hKJe0Wc7"
      },
      "execution_count": null,
      "outputs": []
    },
    {
      "cell_type": "markdown",
      "source": [
        "# **뷰 ( 가상의 테이블) ** \n",
        "\n",
        "일반 사용자는 테이블과 동일하게 뷰를 취급하면 됨 \n",
        "\n",
        "다만 실제 데이터를 가지고 있지 않으며, 진짜 테이블에 링크된 개념 \n",
        "\n"
      ],
      "metadata": {
        "id": "tm0UmVlRexpt"
      }
    },
    {
      "cell_type": "code",
      "source": [],
      "metadata": {
        "id": "Ox-npcSx1Pcu"
      },
      "execution_count": null,
      "outputs": []
    },
    {
      "cell_type": "markdown",
      "source": [
        "한글 용어 -  영문 용어 - 설명 \n",
        "\n",
        "데이터베이스 개체 -Database Object - 테이블, 뷰, 인덱스, 스토어드 프로시저 등 데이터베이스 안에 저장되는 개체 \n",
        "\n",
        "실행 계획 - Execution Plan - SQL을 실행할 때, 인덱스 사용 여부를 확인할 수 있는 워크벤치의 화면 \n",
        "\n",
        "전체 테이블 검색 - Full Table Scan - 테이블의 모든 데이터를 훑어서 원하는 데이터를 찾아내는 것을 말함 책 전체를 찾아보는 것과 비슷 \n",
        "\n",
        "구분 문자 - DELIMITER - 스토어드 프로시저를 묶어주는 예약어 \n",
        "\n",
        "호출 - CALL - 스토어드 프로시저를 호출하는 예약어 \n",
        "\n",
        "개체 생성문 - CREATE - 데이터베이스 개체를 생성할 때 사용하는 예약어 \n",
        "\n",
        "개체 삭제문 - DROP - 데이터베이스 개체를 삭제할 때 사용하는 예약어 "
      ],
      "metadata": {
        "id": "miT2uGuLhOWw"
      }
    },
    {
      "cell_type": "markdown",
      "source": [
        "# **SELECT - FROM -WHERE**\n",
        "\n",
        "- USE : 데이터베이스를 선택하는 구문으로 한번 지정하면 계속 유지됨 \n",
        "\n",
        "- SELECT ~FROM ~WHERE : SELECT 다음에는 열 이름이, FROM 다음에는 테이블 이름 , WHERE 다음에 조건식 \n",
        "\n",
        "- 관계 연산자는 WHERE 절에서 크다/작다/같다 등을 지정하는 기호, <. <= , >, >=, = 등이 있음 \n",
        "\n",
        "- 논리 연산자는 관계 연산자가 2개 이상 나오면 AND , OR 등으로 참/거짓을 판별함 \n",
        "\n",
        "- LIKE는 문자열 비교 시 모두 허용할 때는  %를 하나로 지정할 때는 _ 를 사용함 \n",
        "\n",
        "\n",
        "# 용어 정리\n",
        "\n",
        "- 용어  - 영문 용어 - 설명\n",
        "\n",
        "- 주석 - remark - 하이판(-) 2개와 설명으로 구성 \n",
        "\n",
        "- VARCHAR - (null) - 문자형으로 CHAR와 거의 비슷함 \n",
        "\n",
        "- AUTO_INCREMENT - (null) - 자동으로 숫자를 입력시켜줌, 테이블을 생성할 때 지정함 \n",
        "- .* -(null) - 모든 열을 지정할 때 사용하는 기호 \n",
        "\n",
        "- 별칭 - alias - SELECT 문에서 실제 열 이름 대신에 출력되도록 설정하는 문자 \n",
        "\n",
        "- % - (null) - 문자열에서 여러 문자에 대응하는 기호 \n",
        "\n",
        "- _ - (null) 문자열에서 한 문자에 대응하는 기호 "
      ],
      "metadata": {
        "id": "mS7M49R3zgJQ"
      }
    },
    {
      "cell_type": "code",
      "source": [
        "# USE 데이터 베이스_이름 ;    => 현재 사용하는 데이터베이스를 지정, 또는 변경 \n",
        "USE market_db;\n",
        "\n",
        "# 예시 \n",
        "\n",
        "SELECT 열_이름 \n",
        "   FROM 테이블_이름 \n",
        "   WHERE 조건식\n",
        "   GROUP BY 열_이름\n",
        "   HAVING 조건식 \n",
        "   ORDER BY 열_이름\n",
        "   LIMIT 숫자 \n",
        "\n",
        "\n",
        "\n",
        "\n",
        "# SELECT 와 FROM \n",
        "\n",
        "USE market_db;    # 마켓 DB 선택 \n",
        "SELECT * FROM member;     # 멤버 테이블의 모두를 선택하겠다 \n",
        "1      2  3     4\n",
        "\n",
        "\n",
        "# 1. 테이블에서 데이터를 가져올 때 사용하는 예약어 , \n",
        "\n",
        "# 2 . 일반적으로 모든 것을 의미함. 그런데 * 가 사용된 위치가 열 이름이 나올 곳이므로 모든 열을 말함. 여기서는 member 테이블의 모두를 의미함 \n",
        "\n",
        "# 3 . FROM 다음에 테이블 이름이 나옵니다. 테이블에서 내용을 가져온다는 의미\n",
        " \n",
        "# 4 조회할 테이블 이름 \n",
        "\n",
        "\n",
        "\n",
        "# 기본적인 WHERE절 \n",
        "\n",
        "#SELECT 열_이름 FROM 테이블_이름 WHERE 조건식 ;\n",
        "\n",
        "\n",
        "# SELECT * FROM member WHERE mem_name = \"블랙핑크\"; \n",
        "\n",
        "# 멤버의 전체를 출력, 그리고 그중 벰버 이름이 블랙 핑크인 데이터만 출력 \n",
        "\n",
        "\n",
        "\n",
        "SELECT * FROM member WHERE mem_number = 4;   # 멤버 테이블의 모두를 출력, 그중 멤버 넘버가 4인 결과만 출력 \n",
        "\n",
        "\n",
        "SELECT * mem_id, mem_name FROM member WHERE height <= 162;   # 멤버 테이블에서 mem_id, mem_name 만 출력 , 그중 height 가 162 이하인것만 출력 \n",
        "\n",
        "SELECT mem_name , height , mem_number FROM member WHERE height >= AND mem_number> 6   # 멤버 테이블에서 이름, 넘버열만 가져옴, 그리고 그중 키 165 숫자 6 이상인것들만 출력 \n",
        "\n",
        "SELECT men_name , height , mem_number FROM member WHERE height >= 165 OR mem_number >6 ;  # 둘중 하나만 만족해도 OK \n",
        "\n",
        "\n",
        "SELECT mem_name, height FROM member WHERE height BETWEEN 163 AND 165;   #앞에서 사용한 AND 와 같이 사용 가능 , 163~ 165 사이에 있는 데이터들 출력 \n",
        "\n",
        "\n",
        "\n",
        "\n",
        "\n",
        "\n",
        "SELECT mem_name , addr FROM member WHERE addr = \"경기\" OR addr = \"전남\" OR addr = \" 경남\"  \n",
        "\n",
        "# 를 In 으로 대체 가능 \n",
        "\n",
        "SELECT mem_name , addr FROM member WHERE addr IN(\"경기\", \" 전남\" , \"경남\"); # 경기, 전남, 경남만 출력 \n",
        "\n",
        "\n",
        "# LIKE \n",
        "\n",
        "SELECT * FROM member WHERE mem_name LIKe \"우%\"; # 제일 앞글자만 \"우\" 그 후는 무엇이든 허용한다는 뜻 \n",
        "\n",
        "\n",
        "# 언더바 \n",
        "핑\n",
        "SELECT * FROM member WHERE mem_name LIKE \"__핑크\";   # __핑크  뒷자리 2개 핑크, 앞 두글자는 어찌되든 좋음  "
      ],
      "metadata": {
        "id": "sH4bQK0J71Di"
      },
      "execution_count": null,
      "outputs": []
    },
    {
      "cell_type": "code",
      "source": [
        "#LIMIT \n",
        "\n",
        "SELECT * FROM member LIMIT 3;  # 출력 갯수 3개로 제한 \n",
        "\n",
        "\n",
        "SELECT mem_name , debut_date FROM member ORDER BY debut_date LIMIT 3 ; \n",
        "\n",
        "# 데뷔잘짜를 기준으로 정렬 , 3개만 출력 \n",
        "\n",
        "SELECT mem_name ,height FROM member ORDER BY height DESC LIMIT 3, 2;  #내림차순으로 정렬 3번째부터 2건만 조회 가능 \n",
        "\n",
        "# DISTINCT = 중복 제거 \n",
        "\n",
        "SELECT DISTINCT addr FROM member;\n",
        "\n",
        "# SUM() 합계 구하기 \n",
        "\n",
        "SELECT mem_id SUM(amount) FROM buy GROUP BY mem_id; ## mem_id 를 키로, SUM (amount)라는 이름으로 합집계  , GROUP BY로 mem_id를 정렬 \n",
        "\n",
        "SELECT mem_id \" 회원 아이디 \", SUM(price*amount) '총 구매 금액' FROM buy GROUP BY mem_id; #mem_id를 키로 회원아이디라는 이름으로, price*amount 를 모두 합친 내용을  총 구매 금액 이라는 열로. FROM buy 테이블. mem_id를 키로 정렬 \n",
        "\n",
        "SELECT AVG(amount) \"평균 구매 개수\" FROM buy;  # amount의 평균"
      ],
      "metadata": {
        "id": "KUzZwGpv-YCO"
      },
      "execution_count": null,
      "outputs": []
    },
    {
      "cell_type": "markdown",
      "source": [
        "# **정리 **\n",
        "\n",
        "ORDER BY : 결과가 출력되는 순서를 조절 , 오름차순인 ASC와 DESC중 선택 가능 \n",
        "\n",
        "LIMIT: 출력하는 개수를 제한, 주로 ORDER BY 와 함께 사용\n",
        "\n",
        "DISTINCT : 조회된 결과에서 중복된 것은 1개만 남기고, 열 이름 앞에 붙혀줌 \n",
        "\n",
        "GROUP BY : 데이터를 그룹으로 묶어줌 \n",
        "\n",
        "HAVING은 집계 함수와 관련된 조건을 제한하며 GROUP BY 다음에 나옴 \n",
        "\n",
        "\n",
        "SUM() : 합계를 구함 \n",
        "AVG() : 평균을 구함 \n",
        "MIN() : 최소값을 구함 \n",
        "MAX() : 최대값을 구함\n",
        "COUNT() : 행의 개수를 셈\n",
        "COUNT(DISTINCT) : 행의 개수를 셈 ( 중복은 하나만)"
      ],
      "metadata": {
        "id": "GvI-E1t_vkVQ"
      }
    }
  ]
}